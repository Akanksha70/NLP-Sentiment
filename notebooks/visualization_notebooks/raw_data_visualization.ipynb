{
 "cells": [
  {
   "cell_type": "code",
   "execution_count": 1,
   "metadata": {},
   "outputs": [],
   "source": [
    "import pandas as pd\n",
    "import glob\n",
    "import matplotlib.pyplot as plt\n",
    "import numpy"
   ]
  },
  {
   "cell_type": "code",
   "execution_count": 2,
   "metadata": {},
   "outputs": [
    {
     "name": "stdout",
     "output_type": "stream",
     "text": [
      "12500\n",
      "12500\n"
     ]
    },
    {
     "data": {
      "text/html": [
       "<div>\n",
       "<style scoped>\n",
       "    .dataframe tbody tr th:only-of-type {\n",
       "        vertical-align: middle;\n",
       "    }\n",
       "\n",
       "    .dataframe tbody tr th {\n",
       "        vertical-align: top;\n",
       "    }\n",
       "\n",
       "    .dataframe thead th {\n",
       "        text-align: right;\n",
       "    }\n",
       "</style>\n",
       "<table border=\"1\" class=\"dataframe\">\n",
       "  <thead>\n",
       "    <tr style=\"text-align: right;\">\n",
       "      <th></th>\n",
       "      <th>MovieId</th>\n",
       "      <th>Rating</th>\n",
       "      <th>LReview</th>\n",
       "      <th>Review</th>\n",
       "    </tr>\n",
       "  </thead>\n",
       "  <tbody>\n",
       "    <tr>\n",
       "      <th>10828</th>\n",
       "      <td>10828</td>\n",
       "      <td>1</td>\n",
       "      <td>552</td>\n",
       "      <td>Right... so you have a dam, tons of water (tha...</td>\n",
       "    </tr>\n",
       "    <tr>\n",
       "      <th>8908</th>\n",
       "      <td>8908</td>\n",
       "      <td>1</td>\n",
       "      <td>700</td>\n",
       "      <td>What a crap that movie is. The script is simpl...</td>\n",
       "    </tr>\n",
       "    <tr>\n",
       "      <th>2150</th>\n",
       "      <td>2150</td>\n",
       "      <td>1</td>\n",
       "      <td>623</td>\n",
       "      <td>This has got to be the worst case of over acti...</td>\n",
       "    </tr>\n",
       "    <tr>\n",
       "      <th>7736</th>\n",
       "      <td>7736</td>\n",
       "      <td>1</td>\n",
       "      <td>984</td>\n",
       "      <td>The message of Hero is quite clear: the idea o...</td>\n",
       "    </tr>\n",
       "    <tr>\n",
       "      <th>636</th>\n",
       "      <td>636</td>\n",
       "      <td>1</td>\n",
       "      <td>662</td>\n",
       "      <td>It is way beyond me how this script was ever s...</td>\n",
       "    </tr>\n",
       "  </tbody>\n",
       "</table>\n",
       "</div>"
      ],
      "text/plain": [
       "       MovieId Rating  LReview  \\\n",
       "10828    10828      1      552   \n",
       "8908      8908      1      700   \n",
       "2150      2150      1      623   \n",
       "7736      7736      1      984   \n",
       "636        636      1      662   \n",
       "\n",
       "                                                  Review  \n",
       "10828  Right... so you have a dam, tons of water (tha...  \n",
       "8908   What a crap that movie is. The script is simpl...  \n",
       "2150   This has got to be the worst case of over acti...  \n",
       "7736   The message of Hero is quite clear: the idea o...  \n",
       "636    It is way beyond me how this script was ever s...  "
      ]
     },
     "execution_count": 2,
     "metadata": {},
     "output_type": "execute_result"
    }
   ],
   "source": [
    "df = pd.DataFrame(columns=[\"MovieId\", \"Rating\" , \"LReview\", \"Review\"])\n",
    "\n",
    "positive_files = glob.glob(\"aclImdb/test/pos/*\")\n",
    "print(len(positive_files))\n",
    "\n",
    "negative_files = glob.glob(\"aclImdb/test/neg/*\")\n",
    "print(len(negative_files))\n",
    "\n",
    "positive_files = positive_files[:200]\n",
    "negative_files = negative_files[:200]\n",
    "\n",
    "for i in positive_files:\n",
    "    part = i[17:]\n",
    "    rating = part[part.index('_')+1: part.index('.')]\n",
    "    df.at[(part[:part.index('_')]), \"Rating\"] = int(rating)\n",
    "    with open(i) as f:\n",
    "        temp = f.read()\n",
    "        df.at[(part[:part.index('_')]), \"Review\"] = temp\n",
    "        df.at[(part[:part.index('_')]), \"LReview\"] = len(temp)\n",
    "    \n",
    "    \n",
    "for i in negative_files:\n",
    "    part = i[17:]\n",
    "    rating = part[part.index('_')+1: part.index('.')]\n",
    "    df.at[(part[:part.index('_')]), \"Rating\"] = int(rating)\n",
    "    with open(i) as f:\n",
    "        temp = f.read()\n",
    "        df.at[(part[:part.index('_')]), \"Review\"] = temp\n",
    "        df.at[(part[:part.index('_')]), \"LReview\"] = len(temp)\n",
    "        \n",
    "df[\"MovieId\"] = df.index.values\n",
    "\n",
    "df.sort_values(by=['Rating'], inplace=True)\n",
    "\n",
    "df[\"MovieId\"] = pd.to_numeric(df['MovieId'])\n",
    "\n",
    "df[\"LReview\"] = pd.to_numeric(df['LReview'])\n",
    "\n",
    "df.head()"
   ]
  },
  {
   "cell_type": "code",
   "execution_count": 3,
   "metadata": {},
   "outputs": [
    {
     "data": {
      "text/plain": [
       "MovieId     int64\n",
       "Rating     object\n",
       "LReview     int64\n",
       "Review     object\n",
       "dtype: object"
      ]
     },
     "execution_count": 3,
     "metadata": {},
     "output_type": "execute_result"
    }
   ],
   "source": [
    "df.dtypes"
   ]
  },
  {
   "cell_type": "code",
   "execution_count": 4,
   "metadata": {},
   "outputs": [
    {
     "data": {
      "text/plain": [
       "Text(0, 0.5, 'Count')"
      ]
     },
     "execution_count": 4,
     "metadata": {},
     "output_type": "execute_result"
    },
    {
     "data": {
      "image/png": "[encoded data removed]",
      "text/plain": [
       "<Figure size 720x576 with 1 Axes>"
      ]
     },
     "metadata": {
      "needs_background": "light"
     },
     "output_type": "display_data"
    }
   ],
   "source": [
    "df[\"Rating\"].plot.hist(grid=True, bins=len(df[\"Rating\"].unique()), figsize=(10, 8), color='#607c8e')\n",
    "plt.title('Movie Ratings')\n",
    "plt.xlabel('Rating')\n",
    "plt.ylabel('Count')"
   ]
  },
  {
   "cell_type": "code",
   "execution_count": 5,
   "metadata": {},
   "outputs": [
    {
     "data": {
      "image/png": "[encoded data removed]",
      "text/plain": [
       "<Figure size 1080x360 with 1 Axes>"
      ]
     },
     "metadata": {
      "needs_background": "light"
     },
     "output_type": "display_data"
    }
   ],
   "source": [
    "plt.figure(figsize=(15,5))\n",
    "dfp = df[df[\"Rating\"]<5]\n",
    "dfn = df[df[\"Rating\"]>5]\n",
    "\n",
    "plt.title('Movie Reviews')\n",
    "plt.xlabel('MovieId')\n",
    "plt.ylabel('Length of Review')\n",
    "plt.scatter(x=dfp[\"MovieId\"], y=dfp[\"LReview\"], c='DarkBlue', label='Positive' )\n",
    "plt.scatter(x=dfn[\"MovieId\"], y=dfn[\"LReview\"], c='Red', label='Negative' )\n",
    "plt.legend(loc=\"best\")\n",
    "plt.show()\n"
   ]
  },
  {
   "cell_type": "code",
   "execution_count": null,
   "metadata": {},
   "outputs": [],
   "source": []
  },
  {
   "cell_type": "code",
   "execution_count": null,
   "metadata": {},
   "outputs": [],
   "source": []
  }
 ],
 "metadata": {
  "kernelspec": {
   "display_name": "Python 3",
   "language": "python",
   "name": "python3"
  },
  "language_info": {
   "codemirror_mode": {
    "name": "ipython",
    "version": 3
   },
   "file_extension": ".py",
   "mimetype": "text/x-python",
   "name": "python",
   "nbconvert_exporter": "python",
   "pygments_lexer": "ipython3",
   "version": "3.7.3"
  }
 },
 "nbformat": 4,
 "nbformat_minor": 2
}
