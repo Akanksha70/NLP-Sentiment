{
 "cells": [
  {
   "cell_type": "markdown",
   "metadata": {},
   "source": [
    "# Movie Recommendation"
   ]
  },
  {
   "cell_type": "markdown",
   "metadata": {},
   "source": [
    "## IMDB movie recommendation notebook"
   ]
  },
  {
   "cell_type": "markdown",
   "metadata": {},
   "source": [
    "#### Author/s: Ruturaj Kiran Vaidya, Brian McClannahan, and Matthew Taylor\n",
    "(Add you name if you edit/improve)"
   ]
  },
  {
   "cell_type": "code",
   "execution_count": 1,
   "metadata": {},
   "outputs": [
    {
     "data": {
      "text/html": [
       "        <script type=\"text/javascript\">\n",
       "        window.PlotlyConfig = {MathJaxConfig: 'local'};\n",
       "        if (window.MathJax) {MathJax.Hub.Config({SVG: {font: \"STIX-Web\"}});}\n",
       "        if (typeof require !== 'undefined') {\n",
       "        require.undef(\"plotly\");\n",
       "        requirejs.config({\n",
       "            paths: {\n",
       "                'plotly': ['https://cdn.plot.ly/plotly-latest.min']\n",
       "            }\n",
       "        });\n",
       "        require(['plotly'], function(Plotly) {\n",
       "            window._Plotly = Plotly;\n",
       "        });\n",
       "        }\n",
       "        </script>\n",
       "        "
      ]
     },
     "metadata": {},
     "output_type": "display_data"
    }
   ],
   "source": [
    "# Imports\n",
    "\n",
    "# General\n",
    "\n",
    "import os\n",
    "import re\n",
    "import pandas as pd\n",
    "import numpy as np\n",
    "import random\n",
    "import pickle\n",
    "\n",
    "# graphs\n",
    "\n",
    "from plotly import graph_objs as go\n",
    "from plotly.offline import download_plotlyjs, init_notebook_mode, plot, iplot\n",
    "init_notebook_mode(connected=True)\n",
    "\n",
    "# Model\n",
    "# sklearn\n",
    "from sklearn.cluster import KMeans, DBSCAN, AgglomerativeClustering\n",
    "from sklearn.feature_extraction import text"
   ]
  },
  {
   "cell_type": "code",
   "execution_count": 2,
   "metadata": {},
   "outputs": [],
   "source": [
    "from matplotlib import pyplot as plt"
   ]
  },
  {
   "cell_type": "code",
   "execution_count": 3,
   "metadata": {},
   "outputs": [],
   "source": [
    "train = pd.read_json(\"MovieDetails.json\")\n",
    "test = pd.read_json(\"TestMovieDetails.json\")"
   ]
  },
  {
   "cell_type": "code",
   "execution_count": 4,
   "metadata": {},
   "outputs": [
    {
     "data": {
      "text/plain": [
       "Index(['Actors', 'Awards', 'BoxOffice', 'Country', 'DVD', 'Director',\n",
       "       'Episode', 'Genre', 'Language', 'Metascore', 'Plot', 'Poster',\n",
       "       'Production', 'Rated', 'Ratings', 'Released', 'Response', 'Runtime',\n",
       "       'Season', 'Title', 'Type', 'Website', 'Writer', 'Year', 'imdbID',\n",
       "       'imdbRating', 'imdbVotes', 'seriesID', 'totalSeasons'],\n",
       "      dtype='object')"
      ]
     },
     "execution_count": 4,
     "metadata": {},
     "output_type": "execute_result"
    }
   ],
   "source": [
    "train.keys()"
   ]
  },
  {
   "cell_type": "code",
   "execution_count": 5,
   "metadata": {},
   "outputs": [
    {
     "data": {
      "text/plain": [
       "Index(['Actors', 'Awards', 'BoxOffice', 'Country', 'DVD', 'Director',\n",
       "       'Episode', 'Error', 'Genre', 'Language', 'Metascore', 'Plot', 'Poster',\n",
       "       'Production', 'Rated', 'Ratings', 'Released', 'Response', 'Runtime',\n",
       "       'Season', 'Title', 'Type', 'Website', 'Writer', 'Year', 'imdbID',\n",
       "       'imdbRating', 'imdbVotes', 'seriesID', 'totalSeasons'],\n",
       "      dtype='object')"
      ]
     },
     "execution_count": 5,
     "metadata": {},
     "output_type": "execute_result"
    }
   ],
   "source": [
    "test.keys()"
   ]
  },
  {
   "cell_type": "code",
   "execution_count": 6,
   "metadata": {},
   "outputs": [],
   "source": [
    "del test[\"Error\"]"
   ]
  },
  {
   "cell_type": "code",
   "execution_count": 7,
   "metadata": {},
   "outputs": [
    {
     "data": {
      "text/html": [
       "<div>\n",
       "<style scoped>\n",
       "    .dataframe tbody tr th:only-of-type {\n",
       "        vertical-align: middle;\n",
       "    }\n",
       "\n",
       "    .dataframe tbody tr th {\n",
       "        vertical-align: top;\n",
       "    }\n",
       "\n",
       "    .dataframe thead th {\n",
       "        text-align: right;\n",
       "    }\n",
       "</style>\n",
       "<table border=\"1\" class=\"dataframe\">\n",
       "  <thead>\n",
       "    <tr style=\"text-align: right;\">\n",
       "      <th></th>\n",
       "      <th>Actors</th>\n",
       "      <th>Awards</th>\n",
       "      <th>BoxOffice</th>\n",
       "      <th>Country</th>\n",
       "      <th>DVD</th>\n",
       "      <th>Director</th>\n",
       "      <th>Episode</th>\n",
       "      <th>Genre</th>\n",
       "      <th>Language</th>\n",
       "      <th>Metascore</th>\n",
       "      <th>...</th>\n",
       "      <th>Title</th>\n",
       "      <th>Type</th>\n",
       "      <th>Website</th>\n",
       "      <th>Writer</th>\n",
       "      <th>Year</th>\n",
       "      <th>imdbID</th>\n",
       "      <th>imdbRating</th>\n",
       "      <th>imdbVotes</th>\n",
       "      <th>seriesID</th>\n",
       "      <th>totalSeasons</th>\n",
       "    </tr>\n",
       "  </thead>\n",
       "  <tbody>\n",
       "    <tr>\n",
       "      <th>0</th>\n",
       "      <td>Kevin Costner, Ashton Kutcher, Sela Ward, Meli...</td>\n",
       "      <td>1 win &amp; 4 nominations.</td>\n",
       "      <td>$54,983,983</td>\n",
       "      <td>USA</td>\n",
       "      <td>23 Jan 2007</td>\n",
       "      <td>Andrew Davis</td>\n",
       "      <td>NaN</td>\n",
       "      <td>Action, Adventure, Drama</td>\n",
       "      <td>English</td>\n",
       "      <td>53</td>\n",
       "      <td>...</td>\n",
       "      <td>The Guardian</td>\n",
       "      <td>movie</td>\n",
       "      <td>N/A</td>\n",
       "      <td>Ron L. Brinkerhoff</td>\n",
       "      <td>2006</td>\n",
       "      <td>tt0406816</td>\n",
       "      <td>6.9</td>\n",
       "      <td>84,017</td>\n",
       "      <td>NaN</td>\n",
       "      <td>NaN</td>\n",
       "    </tr>\n",
       "    <tr>\n",
       "      <th>1</th>\n",
       "      <td>Albert Finney, Tom Courtenay, Edward Fox, Zena...</td>\n",
       "      <td>Nominated for 5 Oscars. Another 5 wins &amp; 12 no...</td>\n",
       "      <td>N/A</td>\n",
       "      <td>UK</td>\n",
       "      <td>06 Apr 2004</td>\n",
       "      <td>Peter Yates</td>\n",
       "      <td>NaN</td>\n",
       "      <td>Drama</td>\n",
       "      <td>English</td>\n",
       "      <td>N/A</td>\n",
       "      <td>...</td>\n",
       "      <td>The Dresser</td>\n",
       "      <td>movie</td>\n",
       "      <td>N/A</td>\n",
       "      <td>Ronald Harwood (screenplay), Ronald Harwood (b...</td>\n",
       "      <td>1983</td>\n",
       "      <td>tt0085461</td>\n",
       "      <td>7.7</td>\n",
       "      <td>4,285</td>\n",
       "      <td>NaN</td>\n",
       "      <td>NaN</td>\n",
       "    </tr>\n",
       "    <tr>\n",
       "      <th>2</th>\n",
       "      <td>S. Epatha Merkerson, Marcus Carl Franklin, Yas...</td>\n",
       "      <td>Won 1 Golden Globe. Another 29 wins &amp; 41 nomin...</td>\n",
       "      <td>N/A</td>\n",
       "      <td>USA</td>\n",
       "      <td>23 Aug 2005</td>\n",
       "      <td>George C. Wolfe</td>\n",
       "      <td>NaN</td>\n",
       "      <td>Drama, Music</td>\n",
       "      <td>English</td>\n",
       "      <td>N/A</td>\n",
       "      <td>...</td>\n",
       "      <td>Lackawanna Blues</td>\n",
       "      <td>movie</td>\n",
       "      <td>N/A</td>\n",
       "      <td>Ruben Santiago-Hudson (play), Ruben Santiago-H...</td>\n",
       "      <td>2005</td>\n",
       "      <td>tt0407936</td>\n",
       "      <td>7.9</td>\n",
       "      <td>2,150</td>\n",
       "      <td>NaN</td>\n",
       "      <td>NaN</td>\n",
       "    </tr>\n",
       "    <tr>\n",
       "      <th>3</th>\n",
       "      <td>Julie Andrews, Rock Hudson, Jeremy Kemp, Lance...</td>\n",
       "      <td>Nominated for 3 Oscars. Another 1 win &amp; 4 nomi...</td>\n",
       "      <td>N/A</td>\n",
       "      <td>USA</td>\n",
       "      <td>25 Oct 2005</td>\n",
       "      <td>Blake Edwards</td>\n",
       "      <td>NaN</td>\n",
       "      <td>Comedy, Drama, Musical, Romance, War</td>\n",
       "      <td>English, German</td>\n",
       "      <td>N/A</td>\n",
       "      <td>...</td>\n",
       "      <td>Darling Lili</td>\n",
       "      <td>movie</td>\n",
       "      <td>N/A</td>\n",
       "      <td>Blake Edwards, William Peter Blatty</td>\n",
       "      <td>1970</td>\n",
       "      <td>tt0065611</td>\n",
       "      <td>6.1</td>\n",
       "      <td>1,826</td>\n",
       "      <td>NaN</td>\n",
       "      <td>NaN</td>\n",
       "    </tr>\n",
       "    <tr>\n",
       "      <th>4</th>\n",
       "      <td>Mel Blanc</td>\n",
       "      <td>N/A</td>\n",
       "      <td>N/A</td>\n",
       "      <td>USA</td>\n",
       "      <td>N/A</td>\n",
       "      <td>Robert McKimson</td>\n",
       "      <td>NaN</td>\n",
       "      <td>Family, Animation, Short</td>\n",
       "      <td>English</td>\n",
       "      <td>N/A</td>\n",
       "      <td>...</td>\n",
       "      <td>Acrobatty Bunny</td>\n",
       "      <td>movie</td>\n",
       "      <td>N/A</td>\n",
       "      <td>Warren Foster (story)</td>\n",
       "      <td>1946</td>\n",
       "      <td>tt0038286</td>\n",
       "      <td>7.3</td>\n",
       "      <td>663</td>\n",
       "      <td>NaN</td>\n",
       "      <td>NaN</td>\n",
       "    </tr>\n",
       "  </tbody>\n",
       "</table>\n",
       "<p>5 rows × 29 columns</p>\n",
       "</div>"
      ],
      "text/plain": [
       "                                              Actors  \\\n",
       "0  Kevin Costner, Ashton Kutcher, Sela Ward, Meli...   \n",
       "1  Albert Finney, Tom Courtenay, Edward Fox, Zena...   \n",
       "2  S. Epatha Merkerson, Marcus Carl Franklin, Yas...   \n",
       "3  Julie Andrews, Rock Hudson, Jeremy Kemp, Lance...   \n",
       "4                                          Mel Blanc   \n",
       "\n",
       "                                              Awards    BoxOffice Country  \\\n",
       "0                             1 win & 4 nominations.  $54,983,983     USA   \n",
       "1  Nominated for 5 Oscars. Another 5 wins & 12 no...          N/A      UK   \n",
       "2  Won 1 Golden Globe. Another 29 wins & 41 nomin...          N/A     USA   \n",
       "3  Nominated for 3 Oscars. Another 1 win & 4 nomi...          N/A     USA   \n",
       "4                                                N/A          N/A     USA   \n",
       "\n",
       "           DVD         Director Episode                                 Genre  \\\n",
       "0  23 Jan 2007     Andrew Davis     NaN              Action, Adventure, Drama   \n",
       "1  06 Apr 2004      Peter Yates     NaN                                 Drama   \n",
       "2  23 Aug 2005  George C. Wolfe     NaN                          Drama, Music   \n",
       "3  25 Oct 2005    Blake Edwards     NaN  Comedy, Drama, Musical, Romance, War   \n",
       "4          N/A  Robert McKimson     NaN              Family, Animation, Short   \n",
       "\n",
       "          Language Metascore  ...             Title   Type Website  \\\n",
       "0          English        53  ...      The Guardian  movie     N/A   \n",
       "1          English       N/A  ...       The Dresser  movie     N/A   \n",
       "2          English       N/A  ...  Lackawanna Blues  movie     N/A   \n",
       "3  English, German       N/A  ...      Darling Lili  movie     N/A   \n",
       "4          English       N/A  ...   Acrobatty Bunny  movie     N/A   \n",
       "\n",
       "                                              Writer  Year     imdbID  \\\n",
       "0                                 Ron L. Brinkerhoff  2006  tt0406816   \n",
       "1  Ronald Harwood (screenplay), Ronald Harwood (b...  1983  tt0085461   \n",
       "2  Ruben Santiago-Hudson (play), Ruben Santiago-H...  2005  tt0407936   \n",
       "3                Blake Edwards, William Peter Blatty  1970  tt0065611   \n",
       "4                              Warren Foster (story)  1946  tt0038286   \n",
       "\n",
       "  imdbRating imdbVotes seriesID totalSeasons  \n",
       "0        6.9    84,017      NaN          NaN  \n",
       "1        7.7     4,285      NaN          NaN  \n",
       "2        7.9     2,150      NaN          NaN  \n",
       "3        6.1     1,826      NaN          NaN  \n",
       "4        7.3       663      NaN          NaN  \n",
       "\n",
       "[5 rows x 29 columns]"
      ]
     },
     "execution_count": 7,
     "metadata": {},
     "output_type": "execute_result"
    }
   ],
   "source": [
    "test.head()"
   ]
  },
  {
   "cell_type": "code",
   "execution_count": 8,
   "metadata": {
    "scrolled": true
   },
   "outputs": [
    {
     "data": {
      "text/html": [
       "<div>\n",
       "<style scoped>\n",
       "    .dataframe tbody tr th:only-of-type {\n",
       "        vertical-align: middle;\n",
       "    }\n",
       "\n",
       "    .dataframe tbody tr th {\n",
       "        vertical-align: top;\n",
       "    }\n",
       "\n",
       "    .dataframe thead th {\n",
       "        text-align: right;\n",
       "    }\n",
       "</style>\n",
       "<table border=\"1\" class=\"dataframe\">\n",
       "  <thead>\n",
       "    <tr style=\"text-align: right;\">\n",
       "      <th></th>\n",
       "      <th>Actors</th>\n",
       "      <th>Awards</th>\n",
       "      <th>BoxOffice</th>\n",
       "      <th>Country</th>\n",
       "      <th>DVD</th>\n",
       "      <th>Director</th>\n",
       "      <th>Episode</th>\n",
       "      <th>Genre</th>\n",
       "      <th>Language</th>\n",
       "      <th>Metascore</th>\n",
       "      <th>...</th>\n",
       "      <th>Title</th>\n",
       "      <th>Type</th>\n",
       "      <th>Website</th>\n",
       "      <th>Writer</th>\n",
       "      <th>Year</th>\n",
       "      <th>imdbID</th>\n",
       "      <th>imdbRating</th>\n",
       "      <th>imdbVotes</th>\n",
       "      <th>seriesID</th>\n",
       "      <th>totalSeasons</th>\n",
       "    </tr>\n",
       "  </thead>\n",
       "  <tbody>\n",
       "    <tr>\n",
       "      <th>0</th>\n",
       "      <td>Seth Allen, John Bakos, Mari-Claire Charba, Pe...</td>\n",
       "      <td>N/A</td>\n",
       "      <td>N/A</td>\n",
       "      <td>USA</td>\n",
       "      <td>N/A</td>\n",
       "      <td>Tom O'Horgan</td>\n",
       "      <td>NaN</td>\n",
       "      <td>Comedy</td>\n",
       "      <td>English</td>\n",
       "      <td>N/A</td>\n",
       "      <td>...</td>\n",
       "      <td>Futz</td>\n",
       "      <td>movie</td>\n",
       "      <td>N/A</td>\n",
       "      <td>Rochelle Owens (play), Joseph Stefano (screenp...</td>\n",
       "      <td>1969</td>\n",
       "      <td>tt0064354</td>\n",
       "      <td>4.8</td>\n",
       "      <td>50</td>\n",
       "      <td>NaN</td>\n",
       "      <td>NaN</td>\n",
       "    </tr>\n",
       "    <tr>\n",
       "      <th>1</th>\n",
       "      <td>Jane Fonda, Robert De Niro, Swoosie Kurtz, Mar...</td>\n",
       "      <td>N/A</td>\n",
       "      <td>N/A</td>\n",
       "      <td>USA, Canada</td>\n",
       "      <td>13 Jan 2004</td>\n",
       "      <td>Martin Ritt</td>\n",
       "      <td>NaN</td>\n",
       "      <td>Drama, Romance</td>\n",
       "      <td>English</td>\n",
       "      <td>N/A</td>\n",
       "      <td>...</td>\n",
       "      <td>Stanley &amp; Iris</td>\n",
       "      <td>movie</td>\n",
       "      <td>N/A</td>\n",
       "      <td>Pat Barker (novel), Harriet Frank Jr. (screenp...</td>\n",
       "      <td>1990</td>\n",
       "      <td>tt0100680</td>\n",
       "      <td>6.3</td>\n",
       "      <td>6,502</td>\n",
       "      <td>NaN</td>\n",
       "      <td>NaN</td>\n",
       "    </tr>\n",
       "    <tr>\n",
       "      <th>2</th>\n",
       "      <td>Christopher Walken, Jason Connery, Carmela Mar...</td>\n",
       "      <td>N/A</td>\n",
       "      <td>N/A</td>\n",
       "      <td>USA</td>\n",
       "      <td>09 Aug 2005</td>\n",
       "      <td>Eugene Marner</td>\n",
       "      <td>NaN</td>\n",
       "      <td>Fantasy, Musical, Family</td>\n",
       "      <td>English</td>\n",
       "      <td>N/A</td>\n",
       "      <td>...</td>\n",
       "      <td>Puss in Boots</td>\n",
       "      <td>movie</td>\n",
       "      <td>N/A</td>\n",
       "      <td>Charles Perrault (fairy tale \"Le chat botté\"),...</td>\n",
       "      <td>1988</td>\n",
       "      <td>tt0177606</td>\n",
       "      <td>6.4</td>\n",
       "      <td>537</td>\n",
       "      <td>NaN</td>\n",
       "      <td>NaN</td>\n",
       "    </tr>\n",
       "    <tr>\n",
       "      <th>3</th>\n",
       "      <td>N/A</td>\n",
       "      <td>N/A</td>\n",
       "      <td>N/A</td>\n",
       "      <td>N/A</td>\n",
       "      <td>N/A</td>\n",
       "      <td>N/A</td>\n",
       "      <td>NaN</td>\n",
       "      <td>N/A</td>\n",
       "      <td>N/A</td>\n",
       "      <td>N/A</td>\n",
       "      <td>...</td>\n",
       "      <td>#DUPE#</td>\n",
       "      <td>movie</td>\n",
       "      <td>N/A</td>\n",
       "      <td>N/A</td>\n",
       "      <td>1972</td>\n",
       "      <td>tt0068444</td>\n",
       "      <td>N/A</td>\n",
       "      <td>N/A</td>\n",
       "      <td>NaN</td>\n",
       "      <td>NaN</td>\n",
       "    </tr>\n",
       "    <tr>\n",
       "      <th>4</th>\n",
       "      <td>Shemp Howard, Larry Fine, Moe Howard, Christin...</td>\n",
       "      <td>N/A</td>\n",
       "      <td>N/A</td>\n",
       "      <td>USA</td>\n",
       "      <td>N/A</td>\n",
       "      <td>Edward Bernds</td>\n",
       "      <td>NaN</td>\n",
       "      <td>Comedy, Short</td>\n",
       "      <td>English</td>\n",
       "      <td>N/A</td>\n",
       "      <td>...</td>\n",
       "      <td>Who Done It?</td>\n",
       "      <td>movie</td>\n",
       "      <td>N/A</td>\n",
       "      <td>Edward Bernds (story), Edward Bernds (screenplay)</td>\n",
       "      <td>1949</td>\n",
       "      <td>tt0042042</td>\n",
       "      <td>8.2</td>\n",
       "      <td>335</td>\n",
       "      <td>NaN</td>\n",
       "      <td>NaN</td>\n",
       "    </tr>\n",
       "  </tbody>\n",
       "</table>\n",
       "<p>5 rows × 29 columns</p>\n",
       "</div>"
      ],
      "text/plain": [
       "                                              Actors Awards BoxOffice  \\\n",
       "0  Seth Allen, John Bakos, Mari-Claire Charba, Pe...    N/A       N/A   \n",
       "1  Jane Fonda, Robert De Niro, Swoosie Kurtz, Mar...    N/A       N/A   \n",
       "2  Christopher Walken, Jason Connery, Carmela Mar...    N/A       N/A   \n",
       "3                                                N/A    N/A       N/A   \n",
       "4  Shemp Howard, Larry Fine, Moe Howard, Christin...    N/A       N/A   \n",
       "\n",
       "       Country          DVD       Director Episode                     Genre  \\\n",
       "0          USA          N/A   Tom O'Horgan     NaN                    Comedy   \n",
       "1  USA, Canada  13 Jan 2004    Martin Ritt     NaN            Drama, Romance   \n",
       "2          USA  09 Aug 2005  Eugene Marner     NaN  Fantasy, Musical, Family   \n",
       "3          N/A          N/A            N/A     NaN                       N/A   \n",
       "4          USA          N/A  Edward Bernds     NaN             Comedy, Short   \n",
       "\n",
       "  Language Metascore  ...           Title   Type Website  \\\n",
       "0  English       N/A  ...            Futz  movie     N/A   \n",
       "1  English       N/A  ...  Stanley & Iris  movie     N/A   \n",
       "2  English       N/A  ...   Puss in Boots  movie     N/A   \n",
       "3      N/A       N/A  ...          #DUPE#  movie     N/A   \n",
       "4  English       N/A  ...    Who Done It?  movie     N/A   \n",
       "\n",
       "                                              Writer  Year     imdbID  \\\n",
       "0  Rochelle Owens (play), Joseph Stefano (screenp...  1969  tt0064354   \n",
       "1  Pat Barker (novel), Harriet Frank Jr. (screenp...  1990  tt0100680   \n",
       "2  Charles Perrault (fairy tale \"Le chat botté\"),...  1988  tt0177606   \n",
       "3                                                N/A  1972  tt0068444   \n",
       "4  Edward Bernds (story), Edward Bernds (screenplay)  1949  tt0042042   \n",
       "\n",
       "  imdbRating imdbVotes seriesID totalSeasons  \n",
       "0        4.8        50      NaN          NaN  \n",
       "1        6.3     6,502      NaN          NaN  \n",
       "2        6.4       537      NaN          NaN  \n",
       "3        N/A       N/A      NaN          NaN  \n",
       "4        8.2       335      NaN          NaN  \n",
       "\n",
       "[5 rows x 29 columns]"
      ]
     },
     "execution_count": 8,
     "metadata": {},
     "output_type": "execute_result"
    }
   ],
   "source": [
    "train.head()"
   ]
  },
  {
   "cell_type": "code",
   "execution_count": 9,
   "metadata": {},
   "outputs": [],
   "source": [
    "combined = pd.concat([train, test], ignore_index=True)\n",
    "movies = combined[[\"imdbID\", \"Title\", \"Ratings\", \"imdbRating\", \"imdbVotes\", \"Language\", \"Genre\"]].dropna()\n",
    "movies.drop_duplicates(subset=['imdbID'], keep=False, inplace=True)"
   ]
  },
  {
   "cell_type": "code",
   "execution_count": 10,
   "metadata": {},
   "outputs": [
    {
     "data": {
      "text/html": [
       "<div>\n",
       "<style scoped>\n",
       "    .dataframe tbody tr th:only-of-type {\n",
       "        vertical-align: middle;\n",
       "    }\n",
       "\n",
       "    .dataframe tbody tr th {\n",
       "        vertical-align: top;\n",
       "    }\n",
       "\n",
       "    .dataframe thead th {\n",
       "        text-align: right;\n",
       "    }\n",
       "</style>\n",
       "<table border=\"1\" class=\"dataframe\">\n",
       "  <thead>\n",
       "    <tr style=\"text-align: right;\">\n",
       "      <th></th>\n",
       "      <th>imdbID</th>\n",
       "      <th>Title</th>\n",
       "      <th>Ratings</th>\n",
       "      <th>imdbRating</th>\n",
       "      <th>imdbVotes</th>\n",
       "      <th>Language</th>\n",
       "      <th>Genre</th>\n",
       "    </tr>\n",
       "  </thead>\n",
       "  <tbody>\n",
       "    <tr>\n",
       "      <th>7029</th>\n",
       "      <td>tt0258760</td>\n",
       "      <td>Lammbock</td>\n",
       "      <td>[{'Source': 'Internet Movie Database', 'Value'...</td>\n",
       "      <td>7.3</td>\n",
       "      <td>10,180</td>\n",
       "      <td>German</td>\n",
       "      <td>Comedy</td>\n",
       "    </tr>\n",
       "    <tr>\n",
       "      <th>7030</th>\n",
       "      <td>tt0146455</td>\n",
       "      <td>Babylon 5: A Call to Arms</td>\n",
       "      <td>[{'Source': 'Internet Movie Database', 'Value'...</td>\n",
       "      <td>7.2</td>\n",
       "      <td>4,976</td>\n",
       "      <td>English</td>\n",
       "      <td>Action, Adventure, Drama, Sci-Fi</td>\n",
       "    </tr>\n",
       "    <tr>\n",
       "      <th>7031</th>\n",
       "      <td>tt0432047</td>\n",
       "      <td>Sarkar</td>\n",
       "      <td>[{'Source': 'Internet Movie Database', 'Value'...</td>\n",
       "      <td>7.7</td>\n",
       "      <td>14,199</td>\n",
       "      <td>Hindi, Marathi</td>\n",
       "      <td>Crime, Drama</td>\n",
       "    </tr>\n",
       "    <tr>\n",
       "      <th>7032</th>\n",
       "      <td>tt0109515</td>\n",
       "      <td>Cyber Tracker</td>\n",
       "      <td>[{'Source': 'Internet Movie Database', 'Value'...</td>\n",
       "      <td>3.5</td>\n",
       "      <td>971</td>\n",
       "      <td>English</td>\n",
       "      <td>Action, Sci-Fi</td>\n",
       "    </tr>\n",
       "    <tr>\n",
       "      <th>7033</th>\n",
       "      <td>tt0485161</td>\n",
       "      <td>Totally Awesome</td>\n",
       "      <td>[{'Source': 'Internet Movie Database', 'Value'...</td>\n",
       "      <td>5.2</td>\n",
       "      <td>1,625</td>\n",
       "      <td>English</td>\n",
       "      <td>Comedy</td>\n",
       "    </tr>\n",
       "  </tbody>\n",
       "</table>\n",
       "</div>"
      ],
      "text/plain": [
       "         imdbID                      Title  \\\n",
       "7029  tt0258760                   Lammbock   \n",
       "7030  tt0146455  Babylon 5: A Call to Arms   \n",
       "7031  tt0432047                     Sarkar   \n",
       "7032  tt0109515              Cyber Tracker   \n",
       "7033  tt0485161            Totally Awesome   \n",
       "\n",
       "                                                Ratings imdbRating imdbVotes  \\\n",
       "7029  [{'Source': 'Internet Movie Database', 'Value'...        7.3    10,180   \n",
       "7030  [{'Source': 'Internet Movie Database', 'Value'...        7.2     4,976   \n",
       "7031  [{'Source': 'Internet Movie Database', 'Value'...        7.7    14,199   \n",
       "7032  [{'Source': 'Internet Movie Database', 'Value'...        3.5       971   \n",
       "7033  [{'Source': 'Internet Movie Database', 'Value'...        5.2     1,625   \n",
       "\n",
       "            Language                             Genre  \n",
       "7029          German                            Comedy  \n",
       "7030         English  Action, Adventure, Drama, Sci-Fi  \n",
       "7031  Hindi, Marathi                      Crime, Drama  \n",
       "7032         English                    Action, Sci-Fi  \n",
       "7033         English                            Comedy  "
      ]
     },
     "execution_count": 10,
     "metadata": {},
     "output_type": "execute_result"
    }
   ],
   "source": [
    "movies.tail()"
   ]
  },
  {
   "cell_type": "code",
   "execution_count": 11,
   "metadata": {},
   "outputs": [
    {
     "data": {
      "text/plain": [
       "(6914, 7)"
      ]
     },
     "execution_count": 11,
     "metadata": {},
     "output_type": "execute_result"
    }
   ],
   "source": [
    "movies.shape"
   ]
  },
  {
   "cell_type": "markdown",
   "metadata": {},
   "source": [
    "### Encoding genres"
   ]
  },
  {
   "cell_type": "code",
   "execution_count": 12,
   "metadata": {},
   "outputs": [
    {
     "name": "stdout",
     "output_type": "stream",
     "text": [
      "{'History', ' History', 'Fantasy', ' Thriller', 'Family', ' Sci-Fi', ' Reality-TV', 'Comedy', 'Thriller', ' Music', 'Short', ' Musical', 'Animation', 'Sport', 'War', 'Game-Show', 'Music', ' Sport', 'Biography', 'Mystery', 'Film-Noir', ' Animation', 'News', ' Horror', ' Film-Noir', 'Action', 'Documentary', 'Sci-Fi', ' Western', ' Short', 'Crime', ' Mystery', ' Drama', 'Adventure', ' Adventure', ' Adult', ' Romance', 'Drama', 'Western', ' War', ' Documentary', 'Reality-TV', 'Adult', 'N/A', ' Game-Show', 'Romance', ' News', ' Crime', 'Horror', ' Comedy', ' Fantasy', ' Family', ' Action', ' Talk-Show', 'Talk-Show', ' Biography', 'Musical'}\n",
      "57\n"
     ]
    }
   ],
   "source": [
    "# split genres and printing\n",
    "genres = set([j for i in [i.split(\",\") for i in movies['Genre']] for j in i])\n",
    "print(genres)\n",
    "print(len(genres))"
   ]
  },
  {
   "cell_type": "code",
   "execution_count": 13,
   "metadata": {},
   "outputs": [
    {
     "data": {
      "application/vnd.plotly.v1+json": {
       "config": {
        "linkText": "Export to plot.ly",
        "plotlyServerURL": "https://plot.ly",
        "showLink": false
       },
       "data": [
        {
         "marker": {
          "color": "rgb(158,202,225)",
          "line": {
           "color": "rgb(8,48,107)",
           "width": 1.5
          }
         },
         "opacity": 0.6,
         "type": "bar",
         "x": [
          "History",
          " History",
          "Fantasy",
          " Thriller",
          "Family",
          " Sci-Fi",
          " Reality-TV",
          "Comedy",
          "Thriller",
          " Music",
          "Short",
          " Musical",
          "Animation",
          "Sport",
          "War",
          "Game-Show",
          "Music",
          " Sport",
          "Biography",
          "Mystery",
          "Film-Noir",
          " Animation",
          "News",
          " Horror",
          " Film-Noir",
          "Action",
          "Documentary",
          "Sci-Fi",
          " Western",
          " Short",
          "Crime",
          " Mystery",
          " Drama",
          "Adventure",
          " Adventure",
          " Adult",
          " Romance",
          "Drama",
          "Western",
          " War",
          " Documentary",
          "Reality-TV",
          "Adult",
          "N/A",
          " Game-Show",
          "Romance",
          " News",
          " Crime",
          "Horror",
          " Comedy",
          " Fantasy",
          " Family",
          " Action",
          " Talk-Show",
          "Talk-Show",
          " Biography",
          "Musical"
         ],
         "y": [
          198,
          195,
          527,
          1182,
          467,
          588,
          29,
          2076,
          1278,
          392,
          269,
          197,
          320,
          135,
          264,
          15,
          444,
          128,
          229,
          580,
          82,
          27,
          8,
          488,
          79,
          1081,
          262,
          641,
          133,
          166,
          901,
          519,
          1649,
          713,
          412,
          3,
          1157,
          3131,
          180,
          257,
          12,
          45,
          16,
          334,
          5,
          1197,
          3,
          430,
          972,
          554,
          460,
          404,
          126,
          11,
          15,
          57,
          235
         ]
        }
       ],
       "layout": {
        "template": {
         "data": {
          "bar": [
           {
            "error_x": {
             "color": "#2a3f5f"
            },
            "error_y": {
             "color": "#2a3f5f"
            },
            "marker": {
             "line": {
              "color": "#E5ECF6",
              "width": 0.5
             }
            },
            "type": "bar"
           }
          ],
          "barpolar": [
           {
            "marker": {
             "line": {
              "color": "#E5ECF6",
              "width": 0.5
             }
            },
            "type": "barpolar"
           }
          ],
          "carpet": [
           {
            "aaxis": {
             "endlinecolor": "#2a3f5f",
             "gridcolor": "white",
             "linecolor": "white",
             "minorgridcolor": "white",
             "startlinecolor": "#2a3f5f"
            },
            "baxis": {
             "endlinecolor": "#2a3f5f",
             "gridcolor": "white",
             "linecolor": "white",
             "minorgridcolor": "white",
             "startlinecolor": "#2a3f5f"
            },
            "type": "carpet"
           }
          ],
          "choropleth": [
           {
            "colorbar": {
             "outlinewidth": 0,
             "ticks": ""
            },
            "type": "choropleth"
           }
          ],
          "contour": [
           {
            "colorbar": {
             "outlinewidth": 0,
             "ticks": ""
            },
            "colorscale": [
             [
              0,
              "#0d0887"
             ],
             [
              0.1111111111111111,
              "#46039f"
             ],
             [
              0.2222222222222222,
              "#7201a8"
             ],
             [
              0.3333333333333333,
              "#9c179e"
             ],
             [
              0.4444444444444444,
              "#bd3786"
             ],
             [
              0.5555555555555556,
              "#d8576b"
             ],
             [
              0.6666666666666666,
              "#ed7953"
             ],
             [
              0.7777777777777778,
              "#fb9f3a"
             ],
             [
              0.8888888888888888,
              "#fdca26"
             ],
             [
              1,
              "#f0f921"
             ]
            ],
            "type": "contour"
           }
          ],
          "contourcarpet": [
           {
            "colorbar": {
             "outlinewidth": 0,
             "ticks": ""
            },
            "type": "contourcarpet"
           }
          ],
          "heatmap": [
           {
            "colorbar": {
             "outlinewidth": 0,
             "ticks": ""
            },
            "colorscale": [
             [
              0,
              "#0d0887"
             ],
             [
              0.1111111111111111,
              "#46039f"
             ],
             [
              0.2222222222222222,
              "#7201a8"
             ],
             [
              0.3333333333333333,
              "#9c179e"
             ],
             [
              0.4444444444444444,
              "#bd3786"
             ],
             [
              0.5555555555555556,
              "#d8576b"
             ],
             [
              0.6666666666666666,
              "#ed7953"
             ],
             [
              0.7777777777777778,
              "#fb9f3a"
             ],
             [
              0.8888888888888888,
              "#fdca26"
             ],
             [
              1,
              "#f0f921"
             ]
            ],
            "type": "heatmap"
           }
          ],
          "heatmapgl": [
           {
            "colorbar": {
             "outlinewidth": 0,
             "ticks": ""
            },
            "colorscale": [
             [
              0,
              "#0d0887"
             ],
             [
              0.1111111111111111,
              "#46039f"
             ],
             [
              0.2222222222222222,
              "#7201a8"
             ],
             [
              0.3333333333333333,
              "#9c179e"
             ],
             [
              0.4444444444444444,
              "#bd3786"
             ],
             [
              0.5555555555555556,
              "#d8576b"
             ],
             [
              0.6666666666666666,
              "#ed7953"
             ],
             [
              0.7777777777777778,
              "#fb9f3a"
             ],
             [
              0.8888888888888888,
              "#fdca26"
             ],
             [
              1,
              "#f0f921"
             ]
            ],
            "type": "heatmapgl"
           }
          ],
          "histogram": [
           {
            "marker": {
             "colorbar": {
              "outlinewidth": 0,
              "ticks": ""
             }
            },
            "type": "histogram"
           }
          ],
          "histogram2d": [
           {
            "colorbar": {
             "outlinewidth": 0,
             "ticks": ""
            },
            "colorscale": [
             [
              0,
              "#0d0887"
             ],
             [
              0.1111111111111111,
              "#46039f"
             ],
             [
              0.2222222222222222,
              "#7201a8"
             ],
             [
              0.3333333333333333,
              "#9c179e"
             ],
             [
              0.4444444444444444,
              "#bd3786"
             ],
             [
              0.5555555555555556,
              "#d8576b"
             ],
             [
              0.6666666666666666,
              "#ed7953"
             ],
             [
              0.7777777777777778,
              "#fb9f3a"
             ],
             [
              0.8888888888888888,
              "#fdca26"
             ],
             [
              1,
              "#f0f921"
             ]
            ],
            "type": "histogram2d"
           }
          ],
          "histogram2dcontour": [
           {
            "colorbar": {
             "outlinewidth": 0,
             "ticks": ""
            },
            "colorscale": [
             [
              0,
              "#0d0887"
             ],
             [
              0.1111111111111111,
              "#46039f"
             ],
             [
              0.2222222222222222,
              "#7201a8"
             ],
             [
              0.3333333333333333,
              "#9c179e"
             ],
             [
              0.4444444444444444,
              "#bd3786"
             ],
             [
              0.5555555555555556,
              "#d8576b"
             ],
             [
              0.6666666666666666,
              "#ed7953"
             ],
             [
              0.7777777777777778,
              "#fb9f3a"
             ],
             [
              0.8888888888888888,
              "#fdca26"
             ],
             [
              1,
              "#f0f921"
             ]
            ],
            "type": "histogram2dcontour"
           }
          ],
          "mesh3d": [
           {
            "colorbar": {
             "outlinewidth": 0,
             "ticks": ""
            },
            "type": "mesh3d"
           }
          ],
          "parcoords": [
           {
            "line": {
             "colorbar": {
              "outlinewidth": 0,
              "ticks": ""
             }
            },
            "type": "parcoords"
           }
          ],
          "scatter": [
           {
            "marker": {
             "colorbar": {
              "outlinewidth": 0,
              "ticks": ""
             }
            },
            "type": "scatter"
           }
          ],
          "scatter3d": [
           {
            "line": {
             "colorbar": {
              "outlinewidth": 0,
              "ticks": ""
             }
            },
            "marker": {
             "colorbar": {
              "outlinewidth": 0,
              "ticks": ""
             }
            },
            "type": "scatter3d"
           }
          ],
          "scattercarpet": [
           {
            "marker": {
             "colorbar": {
              "outlinewidth": 0,
              "ticks": ""
             }
            },
            "type": "scattercarpet"
           }
          ],
          "scattergeo": [
           {
            "marker": {
             "colorbar": {
              "outlinewidth": 0,
              "ticks": ""
             }
            },
            "type": "scattergeo"
           }
          ],
          "scattergl": [
           {
            "marker": {
             "colorbar": {
              "outlinewidth": 0,
              "ticks": ""
             }
            },
            "type": "scattergl"
           }
          ],
          "scattermapbox": [
           {
            "marker": {
             "colorbar": {
              "outlinewidth": 0,
              "ticks": ""
             }
            },
            "type": "scattermapbox"
           }
          ],
          "scatterpolar": [
           {
            "marker": {
             "colorbar": {
              "outlinewidth": 0,
              "ticks": ""
             }
            },
            "type": "scatterpolar"
           }
          ],
          "scatterpolargl": [
           {
            "marker": {
             "colorbar": {
              "outlinewidth": 0,
              "ticks": ""
             }
            },
            "type": "scatterpolargl"
           }
          ],
          "scatterternary": [
           {
            "marker": {
             "colorbar": {
              "outlinewidth": 0,
              "ticks": ""
             }
            },
            "type": "scatterternary"
           }
          ],
          "surface": [
           {
            "colorbar": {
             "outlinewidth": 0,
             "ticks": ""
            },
            "colorscale": [
             [
              0,
              "#0d0887"
             ],
             [
              0.1111111111111111,
              "#46039f"
             ],
             [
              0.2222222222222222,
              "#7201a8"
             ],
             [
              0.3333333333333333,
              "#9c179e"
             ],
             [
              0.4444444444444444,
              "#bd3786"
             ],
             [
              0.5555555555555556,
              "#d8576b"
             ],
             [
              0.6666666666666666,
              "#ed7953"
             ],
             [
              0.7777777777777778,
              "#fb9f3a"
             ],
             [
              0.8888888888888888,
              "#fdca26"
             ],
             [
              1,
              "#f0f921"
             ]
            ],
            "type": "surface"
           }
          ],
          "table": [
           {
            "cells": {
             "fill": {
              "color": "#EBF0F8"
             },
             "line": {
              "color": "white"
             }
            },
            "header": {
             "fill": {
              "color": "#C8D4E3"
             },
             "line": {
              "color": "white"
             }
            },
            "type": "table"
           }
          ]
         },
         "layout": {
          "annotationdefaults": {
           "arrowcolor": "#2a3f5f",
           "arrowhead": 0,
           "arrowwidth": 1
          },
          "colorscale": {
           "diverging": [
            [
             0,
             "#8e0152"
            ],
            [
             0.1,
             "#c51b7d"
            ],
            [
             0.2,
             "#de77ae"
            ],
            [
             0.3,
             "#f1b6da"
            ],
            [
             0.4,
             "#fde0ef"
            ],
            [
             0.5,
             "#f7f7f7"
            ],
            [
             0.6,
             "#e6f5d0"
            ],
            [
             0.7,
             "#b8e186"
            ],
            [
             0.8,
             "#7fbc41"
            ],
            [
             0.9,
             "#4d9221"
            ],
            [
             1,
             "#276419"
            ]
           ],
           "sequential": [
            [
             0,
             "#0d0887"
            ],
            [
             0.1111111111111111,
             "#46039f"
            ],
            [
             0.2222222222222222,
             "#7201a8"
            ],
            [
             0.3333333333333333,
             "#9c179e"
            ],
            [
             0.4444444444444444,
             "#bd3786"
            ],
            [
             0.5555555555555556,
             "#d8576b"
            ],
            [
             0.6666666666666666,
             "#ed7953"
            ],
            [
             0.7777777777777778,
             "#fb9f3a"
            ],
            [
             0.8888888888888888,
             "#fdca26"
            ],
            [
             1,
             "#f0f921"
            ]
           ],
           "sequentialminus": [
            [
             0,
             "#0d0887"
            ],
            [
             0.1111111111111111,
             "#46039f"
            ],
            [
             0.2222222222222222,
             "#7201a8"
            ],
            [
             0.3333333333333333,
             "#9c179e"
            ],
            [
             0.4444444444444444,
             "#bd3786"
            ],
            [
             0.5555555555555556,
             "#d8576b"
            ],
            [
             0.6666666666666666,
             "#ed7953"
            ],
            [
             0.7777777777777778,
             "#fb9f3a"
            ],
            [
             0.8888888888888888,
             "#fdca26"
            ],
            [
             1,
             "#f0f921"
            ]
           ]
          },
          "colorway": [
           "#636efa",
           "#EF553B",
           "#00cc96",
           "#ab63fa",
           "#FFA15A",
           "#19d3f3",
           "#FF6692",
           "#B6E880",
           "#FF97FF",
           "#FECB52"
          ],
          "font": {
           "color": "#2a3f5f"
          },
          "geo": {
           "bgcolor": "white",
           "lakecolor": "white",
           "landcolor": "#E5ECF6",
           "showlakes": true,
           "showland": true,
           "subunitcolor": "white"
          },
          "hoverlabel": {
           "align": "left"
          },
          "hovermode": "closest",
          "mapbox": {
           "style": "light"
          },
          "paper_bgcolor": "white",
          "plot_bgcolor": "#E5ECF6",
          "polar": {
           "angularaxis": {
            "gridcolor": "white",
            "linecolor": "white",
            "ticks": ""
           },
           "bgcolor": "#E5ECF6",
           "radialaxis": {
            "gridcolor": "white",
            "linecolor": "white",
            "ticks": ""
           }
          },
          "scene": {
           "xaxis": {
            "backgroundcolor": "#E5ECF6",
            "gridcolor": "white",
            "gridwidth": 2,
            "linecolor": "white",
            "showbackground": true,
            "ticks": "",
            "zerolinecolor": "white"
           },
           "yaxis": {
            "backgroundcolor": "#E5ECF6",
            "gridcolor": "white",
            "gridwidth": 2,
            "linecolor": "white",
            "showbackground": true,
            "ticks": "",
            "zerolinecolor": "white"
           },
           "zaxis": {
            "backgroundcolor": "#E5ECF6",
            "gridcolor": "white",
            "gridwidth": 2,
            "linecolor": "white",
            "showbackground": true,
            "ticks": "",
            "zerolinecolor": "white"
           }
          },
          "shapedefaults": {
           "line": {
            "color": "#2a3f5f"
           }
          },
          "ternary": {
           "aaxis": {
            "gridcolor": "white",
            "linecolor": "white",
            "ticks": ""
           },
           "baxis": {
            "gridcolor": "white",
            "linecolor": "white",
            "ticks": ""
           },
           "bgcolor": "#E5ECF6",
           "caxis": {
            "gridcolor": "white",
            "linecolor": "white",
            "ticks": ""
           }
          },
          "title": {
           "x": 0.05
          },
          "xaxis": {
           "automargin": true,
           "gridcolor": "white",
           "linecolor": "white",
           "ticks": "",
           "zerolinecolor": "white",
           "zerolinewidth": 2
          },
          "yaxis": {
           "automargin": true,
           "gridcolor": "white",
           "linecolor": "white",
           "ticks": "",
           "zerolinecolor": "white",
           "zerolinewidth": 2
          }
         }
        },
        "title": {
         "text": "Movies per Genre"
        },
        "xaxis": {
         "title": {
          "text": "Genres"
         }
        },
        "yaxis": {
         "title": {
          "text": "Number of Movies"
         }
        }
       }
      },
      "text/html": [
       "<div>\n",
       "        \n",
       "        \n",
       "            <div id=\"b8f1f951-c331-45e9-b312-afdbf471e9de\" class=\"plotly-graph-div\" style=\"height:525px; width:100%;\"></div>\n",
       "            <script type=\"text/javascript\">\n",
       "                require([\"plotly\"], function(Plotly) {\n",
       "                    window.PLOTLYENV=window.PLOTLYENV || {};\n",
       "                    \n",
       "                if (document.getElementById(\"b8f1f951-c331-45e9-b312-afdbf471e9de\")) {\n",
       "                    Plotly.newPlot(\n",
       "                        'b8f1f951-c331-45e9-b312-afdbf471e9de',\n",
       "                        [{\"marker\": {\"color\": \"rgb(158,202,225)\", \"line\": {\"color\": \"rgb(8,48,107)\", \"width\": 1.5}}, \"opacity\": 0.6, \"type\": \"bar\", \"x\": [\"History\", \" History\", \"Fantasy\", \" Thriller\", \"Family\", \" Sci-Fi\", \" Reality-TV\", \"Comedy\", \"Thriller\", \" Music\", \"Short\", \" Musical\", \"Animation\", \"Sport\", \"War\", \"Game-Show\", \"Music\", \" Sport\", \"Biography\", \"Mystery\", \"Film-Noir\", \" Animation\", \"News\", \" Horror\", \" Film-Noir\", \"Action\", \"Documentary\", \"Sci-Fi\", \" Western\", \" Short\", \"Crime\", \" Mystery\", \" Drama\", \"Adventure\", \" Adventure\", \" Adult\", \" Romance\", \"Drama\", \"Western\", \" War\", \" Documentary\", \"Reality-TV\", \"Adult\", \"N/A\", \" Game-Show\", \"Romance\", \" News\", \" Crime\", \"Horror\", \" Comedy\", \" Fantasy\", \" Family\", \" Action\", \" Talk-Show\", \"Talk-Show\", \" Biography\", \"Musical\"], \"y\": [198, 195, 527, 1182, 467, 588, 29, 2076, 1278, 392, 269, 197, 320, 135, 264, 15, 444, 128, 229, 580, 82, 27, 8, 488, 79, 1081, 262, 641, 133, 166, 901, 519, 1649, 713, 412, 3, 1157, 3131, 180, 257, 12, 45, 16, 334, 5, 1197, 3, 430, 972, 554, 460, 404, 126, 11, 15, 57, 235]}],\n",
       "                        {\"template\": {\"data\": {\"bar\": [{\"error_x\": {\"color\": \"#2a3f5f\"}, \"error_y\": {\"color\": \"#2a3f5f\"}, \"marker\": {\"line\": {\"color\": \"#E5ECF6\", \"width\": 0.5}}, \"type\": \"bar\"}], \"barpolar\": [{\"marker\": {\"line\": {\"color\": \"#E5ECF6\", \"width\": 0.5}}, \"type\": \"barpolar\"}], \"carpet\": [{\"aaxis\": {\"endlinecolor\": \"#2a3f5f\", \"gridcolor\": \"white\", \"linecolor\": \"white\", \"minorgridcolor\": \"white\", \"startlinecolor\": \"#2a3f5f\"}, \"baxis\": {\"endlinecolor\": \"#2a3f5f\", \"gridcolor\": \"white\", \"linecolor\": \"white\", \"minorgridcolor\": \"white\", \"startlinecolor\": \"#2a3f5f\"}, \"type\": \"carpet\"}], \"choropleth\": [{\"colorbar\": {\"outlinewidth\": 0, \"ticks\": \"\"}, \"type\": \"choropleth\"}], \"contour\": [{\"colorbar\": {\"outlinewidth\": 0, \"ticks\": \"\"}, \"colorscale\": [[0.0, \"#0d0887\"], [0.1111111111111111, \"#46039f\"], [0.2222222222222222, \"#7201a8\"], [0.3333333333333333, \"#9c179e\"], [0.4444444444444444, \"#bd3786\"], [0.5555555555555556, \"#d8576b\"], [0.6666666666666666, \"#ed7953\"], [0.7777777777777778, \"#fb9f3a\"], [0.8888888888888888, \"#fdca26\"], [1.0, \"#f0f921\"]], \"type\": \"contour\"}], \"contourcarpet\": [{\"colorbar\": {\"outlinewidth\": 0, \"ticks\": \"\"}, \"type\": \"contourcarpet\"}], \"heatmap\": [{\"colorbar\": {\"outlinewidth\": 0, \"ticks\": \"\"}, \"colorscale\": [[0.0, \"#0d0887\"], [0.1111111111111111, \"#46039f\"], [0.2222222222222222, \"#7201a8\"], [0.3333333333333333, \"#9c179e\"], [0.4444444444444444, \"#bd3786\"], [0.5555555555555556, \"#d8576b\"], [0.6666666666666666, \"#ed7953\"], [0.7777777777777778, \"#fb9f3a\"], [0.8888888888888888, \"#fdca26\"], [1.0, \"#f0f921\"]], \"type\": \"heatmap\"}], \"heatmapgl\": [{\"colorbar\": {\"outlinewidth\": 0, \"ticks\": \"\"}, \"colorscale\": [[0.0, \"#0d0887\"], [0.1111111111111111, \"#46039f\"], [0.2222222222222222, \"#7201a8\"], [0.3333333333333333, \"#9c179e\"], [0.4444444444444444, \"#bd3786\"], [0.5555555555555556, \"#d8576b\"], [0.6666666666666666, \"#ed7953\"], [0.7777777777777778, \"#fb9f3a\"], [0.8888888888888888, \"#fdca26\"], [1.0, \"#f0f921\"]], \"type\": \"heatmapgl\"}], \"histogram\": [{\"marker\": {\"colorbar\": {\"outlinewidth\": 0, \"ticks\": \"\"}}, \"type\": \"histogram\"}], \"histogram2d\": [{\"colorbar\": {\"outlinewidth\": 0, \"ticks\": \"\"}, \"colorscale\": [[0.0, \"#0d0887\"], [0.1111111111111111, \"#46039f\"], [0.2222222222222222, \"#7201a8\"], [0.3333333333333333, \"#9c179e\"], [0.4444444444444444, \"#bd3786\"], [0.5555555555555556, \"#d8576b\"], [0.6666666666666666, \"#ed7953\"], [0.7777777777777778, \"#fb9f3a\"], [0.8888888888888888, \"#fdca26\"], [1.0, \"#f0f921\"]], \"type\": \"histogram2d\"}], \"histogram2dcontour\": [{\"colorbar\": {\"outlinewidth\": 0, \"ticks\": \"\"}, \"colorscale\": [[0.0, \"#0d0887\"], [0.1111111111111111, \"#46039f\"], [0.2222222222222222, \"#7201a8\"], [0.3333333333333333, \"#9c179e\"], [0.4444444444444444, \"#bd3786\"], [0.5555555555555556, \"#d8576b\"], [0.6666666666666666, \"#ed7953\"], [0.7777777777777778, \"#fb9f3a\"], [0.8888888888888888, \"#fdca26\"], [1.0, \"#f0f921\"]], \"type\": \"histogram2dcontour\"}], \"mesh3d\": [{\"colorbar\": {\"outlinewidth\": 0, \"ticks\": \"\"}, \"type\": \"mesh3d\"}], \"parcoords\": [{\"line\": {\"colorbar\": {\"outlinewidth\": 0, \"ticks\": \"\"}}, \"type\": \"parcoords\"}], \"scatter\": [{\"marker\": {\"colorbar\": {\"outlinewidth\": 0, \"ticks\": \"\"}}, \"type\": \"scatter\"}], \"scatter3d\": [{\"line\": {\"colorbar\": {\"outlinewidth\": 0, \"ticks\": \"\"}}, \"marker\": {\"colorbar\": {\"outlinewidth\": 0, \"ticks\": \"\"}}, \"type\": \"scatter3d\"}], \"scattercarpet\": [{\"marker\": {\"colorbar\": {\"outlinewidth\": 0, \"ticks\": \"\"}}, \"type\": \"scattercarpet\"}], \"scattergeo\": [{\"marker\": {\"colorbar\": {\"outlinewidth\": 0, \"ticks\": \"\"}}, \"type\": \"scattergeo\"}], \"scattergl\": [{\"marker\": {\"colorbar\": {\"outlinewidth\": 0, \"ticks\": \"\"}}, \"type\": \"scattergl\"}], \"scattermapbox\": [{\"marker\": {\"colorbar\": {\"outlinewidth\": 0, \"ticks\": \"\"}}, \"type\": \"scattermapbox\"}], \"scatterpolar\": [{\"marker\": {\"colorbar\": {\"outlinewidth\": 0, \"ticks\": \"\"}}, \"type\": \"scatterpolar\"}], \"scatterpolargl\": [{\"marker\": {\"colorbar\": {\"outlinewidth\": 0, \"ticks\": \"\"}}, \"type\": \"scatterpolargl\"}], \"scatterternary\": [{\"marker\": {\"colorbar\": {\"outlinewidth\": 0, \"ticks\": \"\"}}, \"type\": \"scatterternary\"}], \"surface\": [{\"colorbar\": {\"outlinewidth\": 0, \"ticks\": \"\"}, \"colorscale\": [[0.0, \"#0d0887\"], [0.1111111111111111, \"#46039f\"], [0.2222222222222222, \"#7201a8\"], [0.3333333333333333, \"#9c179e\"], [0.4444444444444444, \"#bd3786\"], [0.5555555555555556, \"#d8576b\"], [0.6666666666666666, \"#ed7953\"], [0.7777777777777778, \"#fb9f3a\"], [0.8888888888888888, \"#fdca26\"], [1.0, \"#f0f921\"]], \"type\": \"surface\"}], \"table\": [{\"cells\": {\"fill\": {\"color\": \"#EBF0F8\"}, \"line\": {\"color\": \"white\"}}, \"header\": {\"fill\": {\"color\": \"#C8D4E3\"}, \"line\": {\"color\": \"white\"}}, \"type\": \"table\"}]}, \"layout\": {\"annotationdefaults\": {\"arrowcolor\": \"#2a3f5f\", \"arrowhead\": 0, \"arrowwidth\": 1}, \"colorscale\": {\"diverging\": [[0, \"#8e0152\"], [0.1, \"#c51b7d\"], [0.2, \"#de77ae\"], [0.3, \"#f1b6da\"], [0.4, \"#fde0ef\"], [0.5, \"#f7f7f7\"], [0.6, \"#e6f5d0\"], [0.7, \"#b8e186\"], [0.8, \"#7fbc41\"], [0.9, \"#4d9221\"], [1, \"#276419\"]], \"sequential\": [[0.0, \"#0d0887\"], [0.1111111111111111, \"#46039f\"], [0.2222222222222222, \"#7201a8\"], [0.3333333333333333, \"#9c179e\"], [0.4444444444444444, \"#bd3786\"], [0.5555555555555556, \"#d8576b\"], [0.6666666666666666, \"#ed7953\"], [0.7777777777777778, \"#fb9f3a\"], [0.8888888888888888, \"#fdca26\"], [1.0, \"#f0f921\"]], \"sequentialminus\": [[0.0, \"#0d0887\"], [0.1111111111111111, \"#46039f\"], [0.2222222222222222, \"#7201a8\"], [0.3333333333333333, \"#9c179e\"], [0.4444444444444444, \"#bd3786\"], [0.5555555555555556, \"#d8576b\"], [0.6666666666666666, \"#ed7953\"], [0.7777777777777778, \"#fb9f3a\"], [0.8888888888888888, \"#fdca26\"], [1.0, \"#f0f921\"]]}, \"colorway\": [\"#636efa\", \"#EF553B\", \"#00cc96\", \"#ab63fa\", \"#FFA15A\", \"#19d3f3\", \"#FF6692\", \"#B6E880\", \"#FF97FF\", \"#FECB52\"], \"font\": {\"color\": \"#2a3f5f\"}, \"geo\": {\"bgcolor\": \"white\", \"lakecolor\": \"white\", \"landcolor\": \"#E5ECF6\", \"showlakes\": true, \"showland\": true, \"subunitcolor\": \"white\"}, \"hoverlabel\": {\"align\": \"left\"}, \"hovermode\": \"closest\", \"mapbox\": {\"style\": \"light\"}, \"paper_bgcolor\": \"white\", \"plot_bgcolor\": \"#E5ECF6\", \"polar\": {\"angularaxis\": {\"gridcolor\": \"white\", \"linecolor\": \"white\", \"ticks\": \"\"}, \"bgcolor\": \"#E5ECF6\", \"radialaxis\": {\"gridcolor\": \"white\", \"linecolor\": \"white\", \"ticks\": \"\"}}, \"scene\": {\"xaxis\": {\"backgroundcolor\": \"#E5ECF6\", \"gridcolor\": \"white\", \"gridwidth\": 2, \"linecolor\": \"white\", \"showbackground\": true, \"ticks\": \"\", \"zerolinecolor\": \"white\"}, \"yaxis\": {\"backgroundcolor\": \"#E5ECF6\", \"gridcolor\": \"white\", \"gridwidth\": 2, \"linecolor\": \"white\", \"showbackground\": true, \"ticks\": \"\", \"zerolinecolor\": \"white\"}, \"zaxis\": {\"backgroundcolor\": \"#E5ECF6\", \"gridcolor\": \"white\", \"gridwidth\": 2, \"linecolor\": \"white\", \"showbackground\": true, \"ticks\": \"\", \"zerolinecolor\": \"white\"}}, \"shapedefaults\": {\"line\": {\"color\": \"#2a3f5f\"}}, \"ternary\": {\"aaxis\": {\"gridcolor\": \"white\", \"linecolor\": \"white\", \"ticks\": \"\"}, \"baxis\": {\"gridcolor\": \"white\", \"linecolor\": \"white\", \"ticks\": \"\"}, \"bgcolor\": \"#E5ECF6\", \"caxis\": {\"gridcolor\": \"white\", \"linecolor\": \"white\", \"ticks\": \"\"}}, \"title\": {\"x\": 0.05}, \"xaxis\": {\"automargin\": true, \"gridcolor\": \"white\", \"linecolor\": \"white\", \"ticks\": \"\", \"zerolinecolor\": \"white\", \"zerolinewidth\": 2}, \"yaxis\": {\"automargin\": true, \"gridcolor\": \"white\", \"linecolor\": \"white\", \"ticks\": \"\", \"zerolinecolor\": \"white\", \"zerolinewidth\": 2}}}, \"title\": {\"text\": \"Movies per Genre\"}, \"xaxis\": {\"title\": {\"text\": \"Genres\"}}, \"yaxis\": {\"title\": {\"text\": \"Number of Movies\"}}},\n",
       "                        {\"responsive\": true}\n",
       "                    ).then(function(){\n",
       "                            \n",
       "var gd = document.getElementById('b8f1f951-c331-45e9-b312-afdbf471e9de');\n",
       "var x = new MutationObserver(function (mutations, observer) {{\n",
       "        var display = window.getComputedStyle(gd).display;\n",
       "        if (!display || display === 'none') {{\n",
       "            console.log([gd, 'removed!']);\n",
       "            Plotly.purge(gd);\n",
       "            observer.disconnect();\n",
       "        }}\n",
       "}});\n",
       "\n",
       "// Listen for the removal of the full notebook cells\n",
       "var notebookContainer = gd.closest('#notebook-container');\n",
       "if (notebookContainer) {{\n",
       "    x.observe(notebookContainer, {childList: true});\n",
       "}}\n",
       "\n",
       "// Listen for the clearing of the current output cell\n",
       "var outputEl = gd.closest('.output');\n",
       "if (outputEl) {{\n",
       "    x.observe(outputEl, {childList: true});\n",
       "}}\n",
       "\n",
       "                        })\n",
       "                };\n",
       "                });\n",
       "            </script>\n",
       "        </div>"
      ]
     },
     "metadata": {},
     "output_type": "display_data"
    }
   ],
   "source": [
    "# Add columns based on new generes\n",
    "genres_dic = {j:[1 if j in i else 0 for i in movies[\"Genre\"]] for j in genres}\n",
    "# Plotting movies per genre\n",
    "data = [go.Bar(\n",
    "            x=list(genres_dic.keys()),\n",
    "            y=[sum(i) for i in genres_dic.values()]\n",
    "    )]\n",
    "fig = go.Figure(data=data)\n",
    "fig.update_traces(marker_color='rgb(158,202,225)', marker_line_color='rgb(8,48,107)',\n",
    "                  marker_line_width=1.5, opacity=0.6)\n",
    "fig.update_layout(\n",
    "    title=\"Movies per Genre\",\n",
    "    xaxis_title=\"Genres\",\n",
    "    yaxis_title=\"Number of Movies\",\n",
    ")\n",
    "\n",
    "iplot(fig)\n",
    "# There is an N/A genre - removing\n",
    "del genres_dic['N/A']"
   ]
  },
  {
   "cell_type": "markdown",
   "metadata": {},
   "source": [
    "### Similarly encoding languages"
   ]
  },
  {
   "cell_type": "code",
   "execution_count": 14,
   "metadata": {},
   "outputs": [
    {
     "name": "stdout",
     "output_type": "stream",
     "text": [
      "187\n"
     ]
    }
   ],
   "source": [
    "# split genres and printing\n",
    "languages = set([j for i in [i.split(\",\") for i in movies['Language']] for j in i])\n",
    "print(len(languages))"
   ]
  },
  {
   "cell_type": "code",
   "execution_count": 15,
   "metadata": {},
   "outputs": [
    {
     "data": {
      "application/vnd.plotly.v1+json": {
       "config": {
        "linkText": "Export to plot.ly",
        "plotlyServerURL": "https://plot.ly",
        "showLink": false
       },
       "data": [
        {
         "marker": {
          "color": "rgb(158,202,225)",
          "line": {
           "color": "rgb(8,48,107)",
           "width": 1.5
          }
         },
         "opacity": 0.6,
         "type": "bar",
         "x": [
          " Czech",
          "Kannada",
          " Mohawk",
          " Indonesian",
          " Latvian",
          " Bulgarian",
          "Visayan",
          " Irish",
          " Italian",
          "Spanish",
          " Ukrainian",
          " Neapolitan",
          " Polynesian",
          " Marathi",
          "Polish",
          " Wolof",
          " Norwegian",
          " Slovak",
          " Nahuatl",
          " Hindi",
          " Filipino",
          " Swahili",
          "Dutch",
          " Kurdish",
          "Korean",
          " Assyrian Neo-Aramaic",
          "Japanese",
          " Khmer",
          " Lingala",
          "N/A",
          " Danish",
          " Thai",
          " Catalan",
          "Czech",
          "Cantonese",
          " Parsee",
          " Finnish",
          "Romany",
          " Persian",
          "Persian",
          " Rajasthani",
          " Cantonese",
          " English",
          " Punjabi",
          " Sinhalese",
          " Shoshoni",
          " Awadhi",
          " American Sign Language",
          " Syriac",
          " Telugu",
          " Romanian",
          " Japanese",
          "Mandarin",
          "Tamil",
          " Apache languages",
          "Danish",
          " Portuguese",
          "Latin",
          "Slovenian",
          " North American Indian",
          "None",
          "Finnish",
          " Lao",
          "Bengali",
          "Indonesian",
          "Swiss German",
          " Hawaiian",
          "Thai",
          "Filipino",
          " Welsh",
          "Serbian",
          "Tibetan",
          " Bosnian",
          " Zulu",
          " Dari",
          " Tibetan",
          " Tamil",
          " Malay",
          " Assamese",
          "Hindi",
          " Gujarati",
          "Hebrew",
          " Urdu",
          "Vietnamese",
          " Romany",
          " Sioux",
          " Hebrew",
          " Albanian",
          " Gallegan",
          " Russian",
          "Swedish",
          " Aboriginal",
          "Italian",
          " Polish",
          "Russian",
          " Sindarin",
          " Dutch",
          " Swedish",
          " Hungarian",
          " Swiss German",
          " Arabic",
          " Cree",
          " French Sign Language",
          " Bengali",
          " Tagalog",
          " Bambara",
          "Marathi",
          "Arabic",
          " Hokkien",
          " Ryukyuan",
          " Aramaic",
          " Maori",
          "Portuguese",
          " Egyptian (Ancient)",
          "Latvian",
          " Aidoukrou",
          " Sanskrit",
          "Spanish Sign Language",
          " Xhosa",
          " German",
          " Maya",
          " Turkish",
          " Yiddish",
          "Norwegian",
          " Navajo",
          " French",
          " Inuktitut",
          "Malay",
          " Eastern Frisian",
          "Zulu",
          "Rotuman",
          " Spanish",
          "Hopi",
          "English",
          " Hausa",
          "Armenian",
          "Tupi",
          "Romanian",
          " Esperanto",
          " Min Nan",
          "Greek",
          " Klingon",
          " Serbian",
          " Corsican",
          "Urdu",
          "Flemish",
          " Scottish Gaelic",
          " Chinese",
          " Greek",
          " Latin",
          "Turkish",
          " Brazilian Sign Language",
          " Pushto",
          " Croatian",
          " Mandarin",
          " Basque",
          "German",
          " Korean",
          " None",
          "Tswana",
          " Georgian",
          " Ojibwa",
          " Icelandic",
          "Icelandic",
          " Turkmen",
          " Shanxi",
          " British Sign Language",
          "Serbo-Croatian",
          "Mongolian",
          "Estonian",
          "Kazakh",
          " Sicilian",
          "Telugu",
          " Dinka",
          " Vietnamese",
          "Georgian",
          "Hungarian",
          "Catalan",
          " Malayalam",
          "French",
          " Hakka",
          " Serbo-Croatian",
          " Afrikaans",
          " Estonian",
          "Dari",
          " Burmese",
          " Frisian"
         ],
         "y": [
          5,
          1,
          1,
          3,
          1,
          3,
          1,
          4,
          131,
          299,
          4,
          3,
          1,
          2,
          22,
          2,
          9,
          4,
          1,
          15,
          3,
          3,
          28,
          3,
          42,
          1,
          210,
          4,
          1,
          376,
          11,
          12,
          4,
          14,
          89,
          1,
          3,
          2,
          7,
          8,
          1,
          31,
          231,
          7,
          2,
          1,
          1,
          12,
          2,
          2,
          7,
          64,
          91,
          11,
          1,
          26,
          28,
          31,
          1,
          2,
          13,
          9,
          1,
          3,
          8,
          5,
          2,
          17,
          6,
          2,
          10,
          4,
          2,
          2,
          2,
          3,
          1,
          4,
          1,
          101,
          2,
          29,
          7,
          19,
          1,
          2,
          18,
          4,
          2,
          76,
          39,
          2,
          249,
          14,
          111,
          2,
          5,
          12,
          10,
          3,
          39,
          1,
          1,
          2,
          6,
          1,
          5,
          47,
          2,
          1,
          2,
          1,
          49,
          1,
          2,
          1,
          1,
          1,
          2,
          164,
          1,
          10,
          8,
          21,
          2,
          246,
          2,
          5,
          1,
          4,
          1,
          200,
          1,
          5615,
          1,
          1,
          1,
          12,
          2,
          1,
          21,
          5,
          8,
          1,
          9,
          3,
          4,
          8,
          16,
          30,
          26,
          1,
          1,
          1,
          51,
          1,
          248,
          9,
          2,
          1,
          1,
          1,
          4,
          6,
          1,
          1,
          1,
          9,
          1,
          3,
          1,
          2,
          4,
          1,
          15,
          5,
          14,
          9,
          2,
          441,
          1,
          5,
          6,
          2,
          3,
          2,
          2
         ]
        }
       ],
       "layout": {
        "template": {
         "data": {
          "bar": [
           {
            "error_x": {
             "color": "#2a3f5f"
            },
            "error_y": {
             "color": "#2a3f5f"
            },
            "marker": {
             "line": {
              "color": "#E5ECF6",
              "width": 0.5
             }
            },
            "type": "bar"
           }
          ],
          "barpolar": [
           {
            "marker": {
             "line": {
              "color": "#E5ECF6",
              "width": 0.5
             }
            },
            "type": "barpolar"
           }
          ],
          "carpet": [
           {
            "aaxis": {
             "endlinecolor": "#2a3f5f",
             "gridcolor": "white",
             "linecolor": "white",
             "minorgridcolor": "white",
             "startlinecolor": "#2a3f5f"
            },
            "baxis": {
             "endlinecolor": "#2a3f5f",
             "gridcolor": "white",
             "linecolor": "white",
             "minorgridcolor": "white",
             "startlinecolor": "#2a3f5f"
            },
            "type": "carpet"
           }
          ],
          "choropleth": [
           {
            "colorbar": {
             "outlinewidth": 0,
             "ticks": ""
            },
            "type": "choropleth"
           }
          ],
          "contour": [
           {
            "colorbar": {
             "outlinewidth": 0,
             "ticks": ""
            },
            "colorscale": [
             [
              0,
              "#0d0887"
             ],
             [
              0.1111111111111111,
              "#46039f"
             ],
             [
              0.2222222222222222,
              "#7201a8"
             ],
             [
              0.3333333333333333,
              "#9c179e"
             ],
             [
              0.4444444444444444,
              "#bd3786"
             ],
             [
              0.5555555555555556,
              "#d8576b"
             ],
             [
              0.6666666666666666,
              "#ed7953"
             ],
             [
              0.7777777777777778,
              "#fb9f3a"
             ],
             [
              0.8888888888888888,
              "#fdca26"
             ],
             [
              1,
              "#f0f921"
             ]
            ],
            "type": "contour"
           }
          ],
          "contourcarpet": [
           {
            "colorbar": {
             "outlinewidth": 0,
             "ticks": ""
            },
            "type": "contourcarpet"
           }
          ],
          "heatmap": [
           {
            "colorbar": {
             "outlinewidth": 0,
             "ticks": ""
            },
            "colorscale": [
             [
              0,
              "#0d0887"
             ],
             [
              0.1111111111111111,
              "#46039f"
             ],
             [
              0.2222222222222222,
              "#7201a8"
             ],
             [
              0.3333333333333333,
              "#9c179e"
             ],
             [
              0.4444444444444444,
              "#bd3786"
             ],
             [
              0.5555555555555556,
              "#d8576b"
             ],
             [
              0.6666666666666666,
              "#ed7953"
             ],
             [
              0.7777777777777778,
              "#fb9f3a"
             ],
             [
              0.8888888888888888,
              "#fdca26"
             ],
             [
              1,
              "#f0f921"
             ]
            ],
            "type": "heatmap"
           }
          ],
          "heatmapgl": [
           {
            "colorbar": {
             "outlinewidth": 0,
             "ticks": ""
            },
            "colorscale": [
             [
              0,
              "#0d0887"
             ],
             [
              0.1111111111111111,
              "#46039f"
             ],
             [
              0.2222222222222222,
              "#7201a8"
             ],
             [
              0.3333333333333333,
              "#9c179e"
             ],
             [
              0.4444444444444444,
              "#bd3786"
             ],
             [
              0.5555555555555556,
              "#d8576b"
             ],
             [
              0.6666666666666666,
              "#ed7953"
             ],
             [
              0.7777777777777778,
              "#fb9f3a"
             ],
             [
              0.8888888888888888,
              "#fdca26"
             ],
             [
              1,
              "#f0f921"
             ]
            ],
            "type": "heatmapgl"
           }
          ],
          "histogram": [
           {
            "marker": {
             "colorbar": {
              "outlinewidth": 0,
              "ticks": ""
             }
            },
            "type": "histogram"
           }
          ],
          "histogram2d": [
           {
            "colorbar": {
             "outlinewidth": 0,
             "ticks": ""
            },
            "colorscale": [
             [
              0,
              "#0d0887"
             ],
             [
              0.1111111111111111,
              "#46039f"
             ],
             [
              0.2222222222222222,
              "#7201a8"
             ],
             [
              0.3333333333333333,
              "#9c179e"
             ],
             [
              0.4444444444444444,
              "#bd3786"
             ],
             [
              0.5555555555555556,
              "#d8576b"
             ],
             [
              0.6666666666666666,
              "#ed7953"
             ],
             [
              0.7777777777777778,
              "#fb9f3a"
             ],
             [
              0.8888888888888888,
              "#fdca26"
             ],
             [
              1,
              "#f0f921"
             ]
            ],
            "type": "histogram2d"
           }
          ],
          "histogram2dcontour": [
           {
            "colorbar": {
             "outlinewidth": 0,
             "ticks": ""
            },
            "colorscale": [
             [
              0,
              "#0d0887"
             ],
             [
              0.1111111111111111,
              "#46039f"
             ],
             [
              0.2222222222222222,
              "#7201a8"
             ],
             [
              0.3333333333333333,
              "#9c179e"
             ],
             [
              0.4444444444444444,
              "#bd3786"
             ],
             [
              0.5555555555555556,
              "#d8576b"
             ],
             [
              0.6666666666666666,
              "#ed7953"
             ],
             [
              0.7777777777777778,
              "#fb9f3a"
             ],
             [
              0.8888888888888888,
              "#fdca26"
             ],
             [
              1,
              "#f0f921"
             ]
            ],
            "type": "histogram2dcontour"
           }
          ],
          "mesh3d": [
           {
            "colorbar": {
             "outlinewidth": 0,
             "ticks": ""
            },
            "type": "mesh3d"
           }
          ],
          "parcoords": [
           {
            "line": {
             "colorbar": {
              "outlinewidth": 0,
              "ticks": ""
             }
            },
            "type": "parcoords"
           }
          ],
          "scatter": [
           {
            "marker": {
             "colorbar": {
              "outlinewidth": 0,
              "ticks": ""
             }
            },
            "type": "scatter"
           }
          ],
          "scatter3d": [
           {
            "line": {
             "colorbar": {
              "outlinewidth": 0,
              "ticks": ""
             }
            },
            "marker": {
             "colorbar": {
              "outlinewidth": 0,
              "ticks": ""
             }
            },
            "type": "scatter3d"
           }
          ],
          "scattercarpet": [
           {
            "marker": {
             "colorbar": {
              "outlinewidth": 0,
              "ticks": ""
             }
            },
            "type": "scattercarpet"
           }
          ],
          "scattergeo": [
           {
            "marker": {
             "colorbar": {
              "outlinewidth": 0,
              "ticks": ""
             }
            },
            "type": "scattergeo"
           }
          ],
          "scattergl": [
           {
            "marker": {
             "colorbar": {
              "outlinewidth": 0,
              "ticks": ""
             }
            },
            "type": "scattergl"
           }
          ],
          "scattermapbox": [
           {
            "marker": {
             "colorbar": {
              "outlinewidth": 0,
              "ticks": ""
             }
            },
            "type": "scattermapbox"
           }
          ],
          "scatterpolar": [
           {
            "marker": {
             "colorbar": {
              "outlinewidth": 0,
              "ticks": ""
             }
            },
            "type": "scatterpolar"
           }
          ],
          "scatterpolargl": [
           {
            "marker": {
             "colorbar": {
              "outlinewidth": 0,
              "ticks": ""
             }
            },
            "type": "scatterpolargl"
           }
          ],
          "scatterternary": [
           {
            "marker": {
             "colorbar": {
              "outlinewidth": 0,
              "ticks": ""
             }
            },
            "type": "scatterternary"
           }
          ],
          "surface": [
           {
            "colorbar": {
             "outlinewidth": 0,
             "ticks": ""
            },
            "colorscale": [
             [
              0,
              "#0d0887"
             ],
             [
              0.1111111111111111,
              "#46039f"
             ],
             [
              0.2222222222222222,
              "#7201a8"
             ],
             [
              0.3333333333333333,
              "#9c179e"
             ],
             [
              0.4444444444444444,
              "#bd3786"
             ],
             [
              0.5555555555555556,
              "#d8576b"
             ],
             [
              0.6666666666666666,
              "#ed7953"
             ],
             [
              0.7777777777777778,
              "#fb9f3a"
             ],
             [
              0.8888888888888888,
              "#fdca26"
             ],
             [
              1,
              "#f0f921"
             ]
            ],
            "type": "surface"
           }
          ],
          "table": [
           {
            "cells": {
             "fill": {
              "color": "#EBF0F8"
             },
             "line": {
              "color": "white"
             }
            },
            "header": {
             "fill": {
              "color": "#C8D4E3"
             },
             "line": {
              "color": "white"
             }
            },
            "type": "table"
           }
          ]
         },
         "layout": {
          "annotationdefaults": {
           "arrowcolor": "#2a3f5f",
           "arrowhead": 0,
           "arrowwidth": 1
          },
          "colorscale": {
           "diverging": [
            [
             0,
             "#8e0152"
            ],
            [
             0.1,
             "#c51b7d"
            ],
            [
             0.2,
             "#de77ae"
            ],
            [
             0.3,
             "#f1b6da"
            ],
            [
             0.4,
             "#fde0ef"
            ],
            [
             0.5,
             "#f7f7f7"
            ],
            [
             0.6,
             "#e6f5d0"
            ],
            [
             0.7,
             "#b8e186"
            ],
            [
             0.8,
             "#7fbc41"
            ],
            [
             0.9,
             "#4d9221"
            ],
            [
             1,
             "#276419"
            ]
           ],
           "sequential": [
            [
             0,
             "#0d0887"
            ],
            [
             0.1111111111111111,
             "#46039f"
            ],
            [
             0.2222222222222222,
             "#7201a8"
            ],
            [
             0.3333333333333333,
             "#9c179e"
            ],
            [
             0.4444444444444444,
             "#bd3786"
            ],
            [
             0.5555555555555556,
             "#d8576b"
            ],
            [
             0.6666666666666666,
             "#ed7953"
            ],
            [
             0.7777777777777778,
             "#fb9f3a"
            ],
            [
             0.8888888888888888,
             "#fdca26"
            ],
            [
             1,
             "#f0f921"
            ]
           ],
           "sequentialminus": [
            [
             0,
             "#0d0887"
            ],
            [
             0.1111111111111111,
             "#46039f"
            ],
            [
             0.2222222222222222,
             "#7201a8"
            ],
            [
             0.3333333333333333,
             "#9c179e"
            ],
            [
             0.4444444444444444,
             "#bd3786"
            ],
            [
             0.5555555555555556,
             "#d8576b"
            ],
            [
             0.6666666666666666,
             "#ed7953"
            ],
            [
             0.7777777777777778,
             "#fb9f3a"
            ],
            [
             0.8888888888888888,
             "#fdca26"
            ],
            [
             1,
             "#f0f921"
            ]
           ]
          },
          "colorway": [
           "#636efa",
           "#EF553B",
           "#00cc96",
           "#ab63fa",
           "#FFA15A",
           "#19d3f3",
           "#FF6692",
           "#B6E880",
           "#FF97FF",
           "#FECB52"
          ],
          "font": {
           "color": "#2a3f5f"
          },
          "geo": {
           "bgcolor": "white",
           "lakecolor": "white",
           "landcolor": "#E5ECF6",
           "showlakes": true,
           "showland": true,
           "subunitcolor": "white"
          },
          "hoverlabel": {
           "align": "left"
          },
          "hovermode": "closest",
          "mapbox": {
           "style": "light"
          },
          "paper_bgcolor": "white",
          "plot_bgcolor": "#E5ECF6",
          "polar": {
           "angularaxis": {
            "gridcolor": "white",
            "linecolor": "white",
            "ticks": ""
           },
           "bgcolor": "#E5ECF6",
           "radialaxis": {
            "gridcolor": "white",
            "linecolor": "white",
            "ticks": ""
           }
          },
          "scene": {
           "xaxis": {
            "backgroundcolor": "#E5ECF6",
            "gridcolor": "white",
            "gridwidth": 2,
            "linecolor": "white",
            "showbackground": true,
            "ticks": "",
            "zerolinecolor": "white"
           },
           "yaxis": {
            "backgroundcolor": "#E5ECF6",
            "gridcolor": "white",
            "gridwidth": 2,
            "linecolor": "white",
            "showbackground": true,
            "ticks": "",
            "zerolinecolor": "white"
           },
           "zaxis": {
            "backgroundcolor": "#E5ECF6",
            "gridcolor": "white",
            "gridwidth": 2,
            "linecolor": "white",
            "showbackground": true,
            "ticks": "",
            "zerolinecolor": "white"
           }
          },
          "shapedefaults": {
           "line": {
            "color": "#2a3f5f"
           }
          },
          "ternary": {
           "aaxis": {
            "gridcolor": "white",
            "linecolor": "white",
            "ticks": ""
           },
           "baxis": {
            "gridcolor": "white",
            "linecolor": "white",
            "ticks": ""
           },
           "bgcolor": "#E5ECF6",
           "caxis": {
            "gridcolor": "white",
            "linecolor": "white",
            "ticks": ""
           }
          },
          "title": {
           "x": 0.05
          },
          "xaxis": {
           "automargin": true,
           "gridcolor": "white",
           "linecolor": "white",
           "ticks": "",
           "zerolinecolor": "white",
           "zerolinewidth": 2
          },
          "yaxis": {
           "automargin": true,
           "gridcolor": "white",
           "linecolor": "white",
           "ticks": "",
           "zerolinecolor": "white",
           "zerolinewidth": 2
          }
         }
        },
        "title": {
         "text": "Movies per Language"
        },
        "xaxis": {
         "title": {
          "text": "Languages"
         }
        },
        "yaxis": {
         "title": {
          "text": "Number of Movies"
         }
        }
       }
      },
      "text/html": [
       "<div>\n",
       "        \n",
       "        \n",
       "            <div id=\"8f6b4b88-dfd2-4d70-8541-dfc17ca5a77c\" class=\"plotly-graph-div\" style=\"height:525px; width:100%;\"></div>\n",
       "            <script type=\"text/javascript\">\n",
       "                require([\"plotly\"], function(Plotly) {\n",
       "                    window.PLOTLYENV=window.PLOTLYENV || {};\n",
       "                    \n",
       "                if (document.getElementById(\"8f6b4b88-dfd2-4d70-8541-dfc17ca5a77c\")) {\n",
       "                    Plotly.newPlot(\n",
       "                        '8f6b4b88-dfd2-4d70-8541-dfc17ca5a77c',\n",
       "                        [{\"marker\": {\"color\": \"rgb(158,202,225)\", \"line\": {\"color\": \"rgb(8,48,107)\", \"width\": 1.5}}, \"opacity\": 0.6, \"type\": \"bar\", \"x\": [\" Czech\", \"Kannada\", \" Mohawk\", \" Indonesian\", \" Latvian\", \" Bulgarian\", \"Visayan\", \" Irish\", \" Italian\", \"Spanish\", \" Ukrainian\", \" Neapolitan\", \" Polynesian\", \" Marathi\", \"Polish\", \" Wolof\", \" Norwegian\", \" Slovak\", \" Nahuatl\", \" Hindi\", \" Filipino\", \" Swahili\", \"Dutch\", \" Kurdish\", \"Korean\", \" Assyrian Neo-Aramaic\", \"Japanese\", \" Khmer\", \" Lingala\", \"N/A\", \" Danish\", \" Thai\", \" Catalan\", \"Czech\", \"Cantonese\", \" Parsee\", \" Finnish\", \"Romany\", \" Persian\", \"Persian\", \" Rajasthani\", \" Cantonese\", \" English\", \" Punjabi\", \" Sinhalese\", \" Shoshoni\", \" Awadhi\", \" American Sign Language\", \" Syriac\", \" Telugu\", \" Romanian\", \" Japanese\", \"Mandarin\", \"Tamil\", \" Apache languages\", \"Danish\", \" Portuguese\", \"Latin\", \"Slovenian\", \" North American Indian\", \"None\", \"Finnish\", \" Lao\", \"Bengali\", \"Indonesian\", \"Swiss German\", \" Hawaiian\", \"Thai\", \"Filipino\", \" Welsh\", \"Serbian\", \"Tibetan\", \" Bosnian\", \" Zulu\", \" Dari\", \" Tibetan\", \" Tamil\", \" Malay\", \" Assamese\", \"Hindi\", \" Gujarati\", \"Hebrew\", \" Urdu\", \"Vietnamese\", \" Romany\", \" Sioux\", \" Hebrew\", \" Albanian\", \" Gallegan\", \" Russian\", \"Swedish\", \" Aboriginal\", \"Italian\", \" Polish\", \"Russian\", \" Sindarin\", \" Dutch\", \" Swedish\", \" Hungarian\", \" Swiss German\", \" Arabic\", \" Cree\", \" French Sign Language\", \" Bengali\", \" Tagalog\", \" Bambara\", \"Marathi\", \"Arabic\", \" Hokkien\", \" Ryukyuan\", \" Aramaic\", \" Maori\", \"Portuguese\", \" Egyptian (Ancient)\", \"Latvian\", \" Aidoukrou\", \" Sanskrit\", \"Spanish Sign Language\", \" Xhosa\", \" German\", \" Maya\", \" Turkish\", \" Yiddish\", \"Norwegian\", \" Navajo\", \" French\", \" Inuktitut\", \"Malay\", \" Eastern Frisian\", \"Zulu\", \"Rotuman\", \" Spanish\", \"Hopi\", \"English\", \" Hausa\", \"Armenian\", \"Tupi\", \"Romanian\", \" Esperanto\", \" Min Nan\", \"Greek\", \" Klingon\", \" Serbian\", \" Corsican\", \"Urdu\", \"Flemish\", \" Scottish Gaelic\", \" Chinese\", \" Greek\", \" Latin\", \"Turkish\", \" Brazilian Sign Language\", \" Pushto\", \" Croatian\", \" Mandarin\", \" Basque\", \"German\", \" Korean\", \" None\", \"Tswana\", \" Georgian\", \" Ojibwa\", \" Icelandic\", \"Icelandic\", \" Turkmen\", \" Shanxi\", \" British Sign Language\", \"Serbo-Croatian\", \"Mongolian\", \"Estonian\", \"Kazakh\", \" Sicilian\", \"Telugu\", \" Dinka\", \" Vietnamese\", \"Georgian\", \"Hungarian\", \"Catalan\", \" Malayalam\", \"French\", \" Hakka\", \" Serbo-Croatian\", \" Afrikaans\", \" Estonian\", \"Dari\", \" Burmese\", \" Frisian\"], \"y\": [5, 1, 1, 3, 1, 3, 1, 4, 131, 299, 4, 3, 1, 2, 22, 2, 9, 4, 1, 15, 3, 3, 28, 3, 42, 1, 210, 4, 1, 376, 11, 12, 4, 14, 89, 1, 3, 2, 7, 8, 1, 31, 231, 7, 2, 1, 1, 12, 2, 2, 7, 64, 91, 11, 1, 26, 28, 31, 1, 2, 13, 9, 1, 3, 8, 5, 2, 17, 6, 2, 10, 4, 2, 2, 2, 3, 1, 4, 1, 101, 2, 29, 7, 19, 1, 2, 18, 4, 2, 76, 39, 2, 249, 14, 111, 2, 5, 12, 10, 3, 39, 1, 1, 2, 6, 1, 5, 47, 2, 1, 2, 1, 49, 1, 2, 1, 1, 1, 2, 164, 1, 10, 8, 21, 2, 246, 2, 5, 1, 4, 1, 200, 1, 5615, 1, 1, 1, 12, 2, 1, 21, 5, 8, 1, 9, 3, 4, 8, 16, 30, 26, 1, 1, 1, 51, 1, 248, 9, 2, 1, 1, 1, 4, 6, 1, 1, 1, 9, 1, 3, 1, 2, 4, 1, 15, 5, 14, 9, 2, 441, 1, 5, 6, 2, 3, 2, 2]}],\n",
       "                        {\"template\": {\"data\": {\"bar\": [{\"error_x\": {\"color\": \"#2a3f5f\"}, \"error_y\": {\"color\": \"#2a3f5f\"}, \"marker\": {\"line\": {\"color\": \"#E5ECF6\", \"width\": 0.5}}, \"type\": \"bar\"}], \"barpolar\": [{\"marker\": {\"line\": {\"color\": \"#E5ECF6\", \"width\": 0.5}}, \"type\": \"barpolar\"}], \"carpet\": [{\"aaxis\": {\"endlinecolor\": \"#2a3f5f\", \"gridcolor\": \"white\", \"linecolor\": \"white\", \"minorgridcolor\": \"white\", \"startlinecolor\": \"#2a3f5f\"}, \"baxis\": {\"endlinecolor\": \"#2a3f5f\", \"gridcolor\": \"white\", \"linecolor\": \"white\", \"minorgridcolor\": \"white\", \"startlinecolor\": \"#2a3f5f\"}, \"type\": \"carpet\"}], \"choropleth\": [{\"colorbar\": {\"outlinewidth\": 0, \"ticks\": \"\"}, \"type\": \"choropleth\"}], \"contour\": [{\"colorbar\": {\"outlinewidth\": 0, \"ticks\": \"\"}, \"colorscale\": [[0.0, \"#0d0887\"], [0.1111111111111111, \"#46039f\"], [0.2222222222222222, \"#7201a8\"], [0.3333333333333333, \"#9c179e\"], [0.4444444444444444, \"#bd3786\"], [0.5555555555555556, \"#d8576b\"], [0.6666666666666666, \"#ed7953\"], [0.7777777777777778, \"#fb9f3a\"], [0.8888888888888888, \"#fdca26\"], [1.0, \"#f0f921\"]], \"type\": \"contour\"}], \"contourcarpet\": [{\"colorbar\": {\"outlinewidth\": 0, \"ticks\": \"\"}, \"type\": \"contourcarpet\"}], \"heatmap\": [{\"colorbar\": {\"outlinewidth\": 0, \"ticks\": \"\"}, \"colorscale\": [[0.0, \"#0d0887\"], [0.1111111111111111, \"#46039f\"], [0.2222222222222222, \"#7201a8\"], [0.3333333333333333, \"#9c179e\"], [0.4444444444444444, \"#bd3786\"], [0.5555555555555556, \"#d8576b\"], [0.6666666666666666, \"#ed7953\"], [0.7777777777777778, \"#fb9f3a\"], [0.8888888888888888, \"#fdca26\"], [1.0, \"#f0f921\"]], \"type\": \"heatmap\"}], \"heatmapgl\": [{\"colorbar\": {\"outlinewidth\": 0, \"ticks\": \"\"}, \"colorscale\": [[0.0, \"#0d0887\"], [0.1111111111111111, \"#46039f\"], [0.2222222222222222, \"#7201a8\"], [0.3333333333333333, \"#9c179e\"], [0.4444444444444444, \"#bd3786\"], [0.5555555555555556, \"#d8576b\"], [0.6666666666666666, \"#ed7953\"], [0.7777777777777778, \"#fb9f3a\"], [0.8888888888888888, \"#fdca26\"], [1.0, \"#f0f921\"]], \"type\": \"heatmapgl\"}], \"histogram\": [{\"marker\": {\"colorbar\": {\"outlinewidth\": 0, \"ticks\": \"\"}}, \"type\": \"histogram\"}], \"histogram2d\": [{\"colorbar\": {\"outlinewidth\": 0, \"ticks\": \"\"}, \"colorscale\": [[0.0, \"#0d0887\"], [0.1111111111111111, \"#46039f\"], [0.2222222222222222, \"#7201a8\"], [0.3333333333333333, \"#9c179e\"], [0.4444444444444444, \"#bd3786\"], [0.5555555555555556, \"#d8576b\"], [0.6666666666666666, \"#ed7953\"], [0.7777777777777778, \"#fb9f3a\"], [0.8888888888888888, \"#fdca26\"], [1.0, \"#f0f921\"]], \"type\": \"histogram2d\"}], \"histogram2dcontour\": [{\"colorbar\": {\"outlinewidth\": 0, \"ticks\": \"\"}, \"colorscale\": [[0.0, \"#0d0887\"], [0.1111111111111111, \"#46039f\"], [0.2222222222222222, \"#7201a8\"], [0.3333333333333333, \"#9c179e\"], [0.4444444444444444, \"#bd3786\"], [0.5555555555555556, \"#d8576b\"], [0.6666666666666666, \"#ed7953\"], [0.7777777777777778, \"#fb9f3a\"], [0.8888888888888888, \"#fdca26\"], [1.0, \"#f0f921\"]], \"type\": \"histogram2dcontour\"}], \"mesh3d\": [{\"colorbar\": {\"outlinewidth\": 0, \"ticks\": \"\"}, \"type\": \"mesh3d\"}], \"parcoords\": [{\"line\": {\"colorbar\": {\"outlinewidth\": 0, \"ticks\": \"\"}}, \"type\": \"parcoords\"}], \"scatter\": [{\"marker\": {\"colorbar\": {\"outlinewidth\": 0, \"ticks\": \"\"}}, \"type\": \"scatter\"}], \"scatter3d\": [{\"line\": {\"colorbar\": {\"outlinewidth\": 0, \"ticks\": \"\"}}, \"marker\": {\"colorbar\": {\"outlinewidth\": 0, \"ticks\": \"\"}}, \"type\": \"scatter3d\"}], \"scattercarpet\": [{\"marker\": {\"colorbar\": {\"outlinewidth\": 0, \"ticks\": \"\"}}, \"type\": \"scattercarpet\"}], \"scattergeo\": [{\"marker\": {\"colorbar\": {\"outlinewidth\": 0, \"ticks\": \"\"}}, \"type\": \"scattergeo\"}], \"scattergl\": [{\"marker\": {\"colorbar\": {\"outlinewidth\": 0, \"ticks\": \"\"}}, \"type\": \"scattergl\"}], \"scattermapbox\": [{\"marker\": {\"colorbar\": {\"outlinewidth\": 0, \"ticks\": \"\"}}, \"type\": \"scattermapbox\"}], \"scatterpolar\": [{\"marker\": {\"colorbar\": {\"outlinewidth\": 0, \"ticks\": \"\"}}, \"type\": \"scatterpolar\"}], \"scatterpolargl\": [{\"marker\": {\"colorbar\": {\"outlinewidth\": 0, \"ticks\": \"\"}}, \"type\": \"scatterpolargl\"}], \"scatterternary\": [{\"marker\": {\"colorbar\": {\"outlinewidth\": 0, \"ticks\": \"\"}}, \"type\": \"scatterternary\"}], \"surface\": [{\"colorbar\": {\"outlinewidth\": 0, \"ticks\": \"\"}, \"colorscale\": [[0.0, \"#0d0887\"], [0.1111111111111111, \"#46039f\"], [0.2222222222222222, \"#7201a8\"], [0.3333333333333333, \"#9c179e\"], [0.4444444444444444, \"#bd3786\"], [0.5555555555555556, \"#d8576b\"], [0.6666666666666666, \"#ed7953\"], [0.7777777777777778, \"#fb9f3a\"], [0.8888888888888888, \"#fdca26\"], [1.0, \"#f0f921\"]], \"type\": \"surface\"}], \"table\": [{\"cells\": {\"fill\": {\"color\": \"#EBF0F8\"}, \"line\": {\"color\": \"white\"}}, \"header\": {\"fill\": {\"color\": \"#C8D4E3\"}, \"line\": {\"color\": \"white\"}}, \"type\": \"table\"}]}, \"layout\": {\"annotationdefaults\": {\"arrowcolor\": \"#2a3f5f\", \"arrowhead\": 0, \"arrowwidth\": 1}, \"colorscale\": {\"diverging\": [[0, \"#8e0152\"], [0.1, \"#c51b7d\"], [0.2, \"#de77ae\"], [0.3, \"#f1b6da\"], [0.4, \"#fde0ef\"], [0.5, \"#f7f7f7\"], [0.6, \"#e6f5d0\"], [0.7, \"#b8e186\"], [0.8, \"#7fbc41\"], [0.9, \"#4d9221\"], [1, \"#276419\"]], \"sequential\": [[0.0, \"#0d0887\"], [0.1111111111111111, \"#46039f\"], [0.2222222222222222, \"#7201a8\"], [0.3333333333333333, \"#9c179e\"], [0.4444444444444444, \"#bd3786\"], [0.5555555555555556, \"#d8576b\"], [0.6666666666666666, \"#ed7953\"], [0.7777777777777778, \"#fb9f3a\"], [0.8888888888888888, \"#fdca26\"], [1.0, \"#f0f921\"]], \"sequentialminus\": [[0.0, \"#0d0887\"], [0.1111111111111111, \"#46039f\"], [0.2222222222222222, \"#7201a8\"], [0.3333333333333333, \"#9c179e\"], [0.4444444444444444, \"#bd3786\"], [0.5555555555555556, \"#d8576b\"], [0.6666666666666666, \"#ed7953\"], [0.7777777777777778, \"#fb9f3a\"], [0.8888888888888888, \"#fdca26\"], [1.0, \"#f0f921\"]]}, \"colorway\": [\"#636efa\", \"#EF553B\", \"#00cc96\", \"#ab63fa\", \"#FFA15A\", \"#19d3f3\", \"#FF6692\", \"#B6E880\", \"#FF97FF\", \"#FECB52\"], \"font\": {\"color\": \"#2a3f5f\"}, \"geo\": {\"bgcolor\": \"white\", \"lakecolor\": \"white\", \"landcolor\": \"#E5ECF6\", \"showlakes\": true, \"showland\": true, \"subunitcolor\": \"white\"}, \"hoverlabel\": {\"align\": \"left\"}, \"hovermode\": \"closest\", \"mapbox\": {\"style\": \"light\"}, \"paper_bgcolor\": \"white\", \"plot_bgcolor\": \"#E5ECF6\", \"polar\": {\"angularaxis\": {\"gridcolor\": \"white\", \"linecolor\": \"white\", \"ticks\": \"\"}, \"bgcolor\": \"#E5ECF6\", \"radialaxis\": {\"gridcolor\": \"white\", \"linecolor\": \"white\", \"ticks\": \"\"}}, \"scene\": {\"xaxis\": {\"backgroundcolor\": \"#E5ECF6\", \"gridcolor\": \"white\", \"gridwidth\": 2, \"linecolor\": \"white\", \"showbackground\": true, \"ticks\": \"\", \"zerolinecolor\": \"white\"}, \"yaxis\": {\"backgroundcolor\": \"#E5ECF6\", \"gridcolor\": \"white\", \"gridwidth\": 2, \"linecolor\": \"white\", \"showbackground\": true, \"ticks\": \"\", \"zerolinecolor\": \"white\"}, \"zaxis\": {\"backgroundcolor\": \"#E5ECF6\", \"gridcolor\": \"white\", \"gridwidth\": 2, \"linecolor\": \"white\", \"showbackground\": true, \"ticks\": \"\", \"zerolinecolor\": \"white\"}}, \"shapedefaults\": {\"line\": {\"color\": \"#2a3f5f\"}}, \"ternary\": {\"aaxis\": {\"gridcolor\": \"white\", \"linecolor\": \"white\", \"ticks\": \"\"}, \"baxis\": {\"gridcolor\": \"white\", \"linecolor\": \"white\", \"ticks\": \"\"}, \"bgcolor\": \"#E5ECF6\", \"caxis\": {\"gridcolor\": \"white\", \"linecolor\": \"white\", \"ticks\": \"\"}}, \"title\": {\"x\": 0.05}, \"xaxis\": {\"automargin\": true, \"gridcolor\": \"white\", \"linecolor\": \"white\", \"ticks\": \"\", \"zerolinecolor\": \"white\", \"zerolinewidth\": 2}, \"yaxis\": {\"automargin\": true, \"gridcolor\": \"white\", \"linecolor\": \"white\", \"ticks\": \"\", \"zerolinecolor\": \"white\", \"zerolinewidth\": 2}}}, \"title\": {\"text\": \"Movies per Language\"}, \"xaxis\": {\"title\": {\"text\": \"Languages\"}}, \"yaxis\": {\"title\": {\"text\": \"Number of Movies\"}}},\n",
       "                        {\"responsive\": true}\n",
       "                    ).then(function(){\n",
       "                            \n",
       "var gd = document.getElementById('8f6b4b88-dfd2-4d70-8541-dfc17ca5a77c');\n",
       "var x = new MutationObserver(function (mutations, observer) {{\n",
       "        var display = window.getComputedStyle(gd).display;\n",
       "        if (!display || display === 'none') {{\n",
       "            console.log([gd, 'removed!']);\n",
       "            Plotly.purge(gd);\n",
       "            observer.disconnect();\n",
       "        }}\n",
       "}});\n",
       "\n",
       "// Listen for the removal of the full notebook cells\n",
       "var notebookContainer = gd.closest('#notebook-container');\n",
       "if (notebookContainer) {{\n",
       "    x.observe(notebookContainer, {childList: true});\n",
       "}}\n",
       "\n",
       "// Listen for the clearing of the current output cell\n",
       "var outputEl = gd.closest('.output');\n",
       "if (outputEl) {{\n",
       "    x.observe(outputEl, {childList: true});\n",
       "}}\n",
       "\n",
       "                        })\n",
       "                };\n",
       "                });\n",
       "            </script>\n",
       "        </div>"
      ]
     },
     "metadata": {},
     "output_type": "display_data"
    }
   ],
   "source": [
    "# Add columns based on new generes\n",
    "languages_dic = {j:[1 if j in i else 0 for i in movies[\"Language\"]] for j in languages}\n",
    "# Plotting movies per genre\n",
    "data = [go.Bar(\n",
    "            x=list(languages_dic.keys()),\n",
    "            y=[sum(i) for i in languages_dic.values()]\n",
    "    )]\n",
    "fig = go.Figure(data=data)\n",
    "fig.update_traces(marker_color='rgb(158,202,225)', marker_line_color='rgb(8,48,107)',\n",
    "                  marker_line_width=1.5, opacity=0.6)\n",
    "fig.update_layout(\n",
    "    title=\"Movies per Language\",\n",
    "    xaxis_title=\"Languages\",\n",
    "    yaxis_title=\"Number of Movies\",\n",
    ")\n",
    "\n",
    "iplot(fig)"
   ]
  },
  {
   "cell_type": "markdown",
   "metadata": {},
   "source": [
    "### Above graph is interactive - and I know there are so many English movies!\n",
    "### Hence we will not select languages for our analysis"
   ]
  },
  {
   "cell_type": "code",
   "execution_count": 16,
   "metadata": {},
   "outputs": [
    {
     "data": {
      "text/html": [
       "<div>\n",
       "<style scoped>\n",
       "    .dataframe tbody tr th:only-of-type {\n",
       "        vertical-align: middle;\n",
       "    }\n",
       "\n",
       "    .dataframe tbody tr th {\n",
       "        vertical-align: top;\n",
       "    }\n",
       "\n",
       "    .dataframe thead th {\n",
       "        text-align: right;\n",
       "    }\n",
       "</style>\n",
       "<table border=\"1\" class=\"dataframe\">\n",
       "  <thead>\n",
       "    <tr style=\"text-align: right;\">\n",
       "      <th></th>\n",
       "      <th>imdbID</th>\n",
       "      <th>Title</th>\n",
       "      <th>Ratings</th>\n",
       "      <th>imdbRating</th>\n",
       "      <th>imdbVotes</th>\n",
       "      <th>History</th>\n",
       "      <th>History</th>\n",
       "      <th>Fantasy</th>\n",
       "      <th>Thriller</th>\n",
       "      <th>Family</th>\n",
       "      <th>...</th>\n",
       "      <th>Crime</th>\n",
       "      <th>Horror</th>\n",
       "      <th>Comedy</th>\n",
       "      <th>Fantasy</th>\n",
       "      <th>Family</th>\n",
       "      <th>Action</th>\n",
       "      <th>Talk-Show</th>\n",
       "      <th>Talk-Show</th>\n",
       "      <th>Biography</th>\n",
       "      <th>Musical</th>\n",
       "    </tr>\n",
       "  </thead>\n",
       "  <tbody>\n",
       "    <tr>\n",
       "      <th>6575</th>\n",
       "      <td>tt0258760</td>\n",
       "      <td>Lammbock</td>\n",
       "      <td>[{'Source': 'Internet Movie Database', 'Value'...</td>\n",
       "      <td>0.73</td>\n",
       "      <td>10180</td>\n",
       "      <td>0</td>\n",
       "      <td>0</td>\n",
       "      <td>0</td>\n",
       "      <td>0</td>\n",
       "      <td>0</td>\n",
       "      <td>...</td>\n",
       "      <td>0</td>\n",
       "      <td>0</td>\n",
       "      <td>0</td>\n",
       "      <td>0</td>\n",
       "      <td>0</td>\n",
       "      <td>0</td>\n",
       "      <td>0</td>\n",
       "      <td>0</td>\n",
       "      <td>0</td>\n",
       "      <td>0</td>\n",
       "    </tr>\n",
       "    <tr>\n",
       "      <th>6576</th>\n",
       "      <td>tt0146455</td>\n",
       "      <td>Babylon 5: A Call to Arms</td>\n",
       "      <td>[{'Source': 'Internet Movie Database', 'Value'...</td>\n",
       "      <td>0.72</td>\n",
       "      <td>4976</td>\n",
       "      <td>0</td>\n",
       "      <td>0</td>\n",
       "      <td>0</td>\n",
       "      <td>0</td>\n",
       "      <td>0</td>\n",
       "      <td>...</td>\n",
       "      <td>0</td>\n",
       "      <td>0</td>\n",
       "      <td>0</td>\n",
       "      <td>0</td>\n",
       "      <td>0</td>\n",
       "      <td>0</td>\n",
       "      <td>0</td>\n",
       "      <td>0</td>\n",
       "      <td>0</td>\n",
       "      <td>0</td>\n",
       "    </tr>\n",
       "    <tr>\n",
       "      <th>6577</th>\n",
       "      <td>tt0432047</td>\n",
       "      <td>Sarkar</td>\n",
       "      <td>[{'Source': 'Internet Movie Database', 'Value'...</td>\n",
       "      <td>0.77</td>\n",
       "      <td>14199</td>\n",
       "      <td>0</td>\n",
       "      <td>0</td>\n",
       "      <td>0</td>\n",
       "      <td>0</td>\n",
       "      <td>0</td>\n",
       "      <td>...</td>\n",
       "      <td>0</td>\n",
       "      <td>0</td>\n",
       "      <td>0</td>\n",
       "      <td>0</td>\n",
       "      <td>0</td>\n",
       "      <td>0</td>\n",
       "      <td>0</td>\n",
       "      <td>0</td>\n",
       "      <td>0</td>\n",
       "      <td>0</td>\n",
       "    </tr>\n",
       "    <tr>\n",
       "      <th>6578</th>\n",
       "      <td>tt0109515</td>\n",
       "      <td>Cyber Tracker</td>\n",
       "      <td>[{'Source': 'Internet Movie Database', 'Value'...</td>\n",
       "      <td>0.35</td>\n",
       "      <td>971</td>\n",
       "      <td>0</td>\n",
       "      <td>0</td>\n",
       "      <td>0</td>\n",
       "      <td>0</td>\n",
       "      <td>0</td>\n",
       "      <td>...</td>\n",
       "      <td>0</td>\n",
       "      <td>0</td>\n",
       "      <td>0</td>\n",
       "      <td>0</td>\n",
       "      <td>0</td>\n",
       "      <td>0</td>\n",
       "      <td>0</td>\n",
       "      <td>0</td>\n",
       "      <td>0</td>\n",
       "      <td>0</td>\n",
       "    </tr>\n",
       "    <tr>\n",
       "      <th>6579</th>\n",
       "      <td>tt0485161</td>\n",
       "      <td>Totally Awesome</td>\n",
       "      <td>[{'Source': 'Internet Movie Database', 'Value'...</td>\n",
       "      <td>0.52</td>\n",
       "      <td>1625</td>\n",
       "      <td>0</td>\n",
       "      <td>0</td>\n",
       "      <td>0</td>\n",
       "      <td>0</td>\n",
       "      <td>0</td>\n",
       "      <td>...</td>\n",
       "      <td>0</td>\n",
       "      <td>0</td>\n",
       "      <td>0</td>\n",
       "      <td>0</td>\n",
       "      <td>0</td>\n",
       "      <td>0</td>\n",
       "      <td>0</td>\n",
       "      <td>0</td>\n",
       "      <td>0</td>\n",
       "      <td>0</td>\n",
       "    </tr>\n",
       "  </tbody>\n",
       "</table>\n",
       "<p>5 rows × 61 columns</p>\n",
       "</div>"
      ],
      "text/plain": [
       "         imdbID                      Title  \\\n",
       "6575  tt0258760                   Lammbock   \n",
       "6576  tt0146455  Babylon 5: A Call to Arms   \n",
       "6577  tt0432047                     Sarkar   \n",
       "6578  tt0109515              Cyber Tracker   \n",
       "6579  tt0485161            Totally Awesome   \n",
       "\n",
       "                                                Ratings imdbRating  imdbVotes  \\\n",
       "6575  [{'Source': 'Internet Movie Database', 'Value'...       0.73      10180   \n",
       "6576  [{'Source': 'Internet Movie Database', 'Value'...       0.72       4976   \n",
       "6577  [{'Source': 'Internet Movie Database', 'Value'...       0.77      14199   \n",
       "6578  [{'Source': 'Internet Movie Database', 'Value'...       0.35        971   \n",
       "6579  [{'Source': 'Internet Movie Database', 'Value'...       0.52       1625   \n",
       "\n",
       "      History   History  Fantasy   Thriller  Family  ...   Crime  Horror  \\\n",
       "6575        0         0        0          0       0  ...       0       0   \n",
       "6576        0         0        0          0       0  ...       0       0   \n",
       "6577        0         0        0          0       0  ...       0       0   \n",
       "6578        0         0        0          0       0  ...       0       0   \n",
       "6579        0         0        0          0       0  ...       0       0   \n",
       "\n",
       "       Comedy   Fantasy   Family   Action   Talk-Show  Talk-Show   Biography  \\\n",
       "6575        0         0        0        0           0          0           0   \n",
       "6576        0         0        0        0           0          0           0   \n",
       "6577        0         0        0        0           0          0           0   \n",
       "6578        0         0        0        0           0          0           0   \n",
       "6579        0         0        0        0           0          0           0   \n",
       "\n",
       "      Musical  \n",
       "6575        0  \n",
       "6576        0  \n",
       "6577        0  \n",
       "6578        0  \n",
       "6579        0  \n",
       "\n",
       "[5 rows x 61 columns]"
      ]
     },
     "execution_count": 16,
     "metadata": {},
     "output_type": "execute_result"
    }
   ],
   "source": [
    "# Now we will add encoded generes and languages\n",
    "for k,v in genres_dic.items():\n",
    "    movies[k]=v\n",
    "#for k,v in languages_dic.items():\n",
    "#    movies[k]=v\n",
    "# Dropping rows with no genres listed\n",
    "movies = movies[movies.Genre != \"N/A\"]\n",
    "# We don't need genres column anymore\n",
    "del movies[\"Genre\"]\n",
    "del movies[\"Language\"]\n",
    "\n",
    "# Also converting imdb votes to numeric\n",
    "movies[\"imdbVotes\"] = movies['imdbVotes'].str.replace(\",\", \"\").astype(int)\n",
    "\n",
    "# Normalize rating\n",
    "for index, row in movies.iterrows():\n",
    "    movies.loc[index, 'imdbRating'] = float(row['imdbRating']) / 10\n",
    "\n",
    "movies = movies.reset_index(drop=True)\n",
    "    \n",
    "movies.tail()"
   ]
  },
  {
   "cell_type": "markdown",
   "metadata": {},
   "source": [
    "### Text Vectorization"
   ]
  },
  {
   "cell_type": "code",
   "execution_count": 17,
   "metadata": {},
   "outputs": [],
   "source": [
    "# Instantiate vectorizers\n",
    "stop_words = text.ENGLISH_STOP_WORDS.union(['movie', 'film', 'like', 'love', 'just', 'good', 'time', 'really',\n",
    "                                            'story', 'bad', 'movies', 'don', 'people', 'make', 'great',\n",
    "                                            'way', 'characters', 'character', 'watch', 'films', 'acting',\n",
    "                                            'seen', 'think', 'does', 'little', 'plot', 'does', 'did',\n",
    "                                            've' 'doesn', 'know', 'life', 'end', 'scene', 'man', 've',\n",
    "                                            'say', 'thing', 'didn', 'things', 'better', 'best', 'scenes'])\n",
    "count_vectorizer = text.CountVectorizer(stop_words=stop_words)\n",
    "tfidf_vectorizer = text.TfidfVectorizer(stop_words=stop_words)"
   ]
  },
  {
   "cell_type": "code",
   "execution_count": 18,
   "metadata": {},
   "outputs": [],
   "source": [
    "# Get the movie ids of each review\n",
    "# Note: You must place the \"test\" and \"train\" directories from the dataset\n",
    "#       available here: http://ai.stanford.edu/~amaas/data/sentiment/ in \n",
    "#       a directory named data/raw for these cells to work\n",
    "test_neg_movie_ids = [x.split('/')[4] for x in open('../../data/raw/test/urls_neg.txt').readlines()]\n",
    "test_pos_movie_ids = [x.split('/')[4] for x in open('../../data/raw/test/urls_pos.txt').readlines()]\n",
    "train_neg_movie_ids = [x.split('/')[4] for x in open('../../data/raw/train/urls_neg.txt').readlines()]\n",
    "train_pos_movie_ids = [x.split('/')[4] for x in open('../../data/raw/train/urls_pos.txt').readlines()]"
   ]
  },
  {
   "cell_type": "code",
   "execution_count": 19,
   "metadata": {},
   "outputs": [
    {
     "name": "stdout",
     "output_type": "stream",
     "text": [
      "Loading reviews...\n",
      "Done\n"
     ]
    }
   ],
   "source": [
    "# master list of all reviews, to be appended to movies dataframe\n",
    "reviews = [[] for _ in range(len(movies))]\n",
    "\n",
    "# regex to remove html from reviews\n",
    "html_regex = re.compile(r'<[^>]+>')\n",
    "\n",
    "print('Loading reviews...', flush=True)\n",
    "\n",
    "# get the names of files containing reviews\n",
    "test_neg_review_files = os.listdir('../../data/raw/test/neg')\n",
    "test_neg_review_files.sort(key=lambda x: int(x.split('_')[0]))\n",
    "for i in range(len(test_neg_movie_ids)):\n",
    "    \n",
    "    movie_id = test_neg_movie_ids[i]\n",
    "    \n",
    "    # ignore reviews for movies that have removed from the dataframe\n",
    "    if movie_id not in movies.imdbID.values:\n",
    "        continue\n",
    "        \n",
    "    # get the movie's dataframe index\n",
    "    index = movies.loc[movies.imdbID == movie_id].index[0]\n",
    "    \n",
    "    # load review and remove html\n",
    "    review_text = open('../../data/raw/test/neg/{}'.format(test_neg_review_files[i]), encoding='utf8').read()\n",
    "    review_text = html_regex.sub(' ', review_text)\n",
    "    \n",
    "    # assign review to movie\n",
    "    reviews[index].append(review_text)\n",
    "    \n",
    "test_pos_review_files = os.listdir('../../data/raw/test/pos')\n",
    "test_pos_review_files.sort(key=lambda x: int(x.split('_')[0]))\n",
    "for i in range(len(test_pos_movie_ids)):\n",
    "    \n",
    "    movie_id = test_pos_movie_ids[i]\n",
    "    \n",
    "    # ignore reviews for movies that have removed from the dataframe\n",
    "    if movie_id not in movies.imdbID.values:\n",
    "        continue\n",
    "        \n",
    "    # get the movie's dataframe index\n",
    "    index = movies.loc[movies.imdbID == movie_id].index[0]\n",
    "    \n",
    "    # load review and remove html\n",
    "    review_text = open('../../data/raw/test/pos/{}'.format(test_pos_review_files[i]), encoding='utf8').read()\n",
    "    review_text = html_regex.sub(' ', review_text)\n",
    "    \n",
    "    # assign review to movie\n",
    "    reviews[index].append(review_text)\n",
    "    \n",
    "train_neg_review_files = os.listdir('../../data/raw/train/neg')\n",
    "train_neg_review_files.sort(key=lambda x: int(x.split('_')[0]))\n",
    "for i in range(len(train_neg_movie_ids)):\n",
    "    \n",
    "    movie_id = train_neg_movie_ids[i]\n",
    "    \n",
    "    # ignore reviews for movies that have removed from the dataframe\n",
    "    if movie_id not in movies.imdbID.values:\n",
    "        continue\n",
    "        \n",
    "    # get the movie's dataframe index\n",
    "    index = movies.loc[movies.imdbID == movie_id].index[0]\n",
    "    \n",
    "    # load review and remove html\n",
    "    review_text = open('../../data/raw/train/neg/{}'.format(train_neg_review_files[i]), encoding='utf8').read()\n",
    "    review_text = html_regex.sub(' ', review_text)\n",
    "    \n",
    "    # assign review to movie\n",
    "    reviews[index].append(review_text)\n",
    "    \n",
    "train_pos_review_files = os.listdir('../../data/raw/train/pos')\n",
    "train_pos_review_files.sort(key=lambda x: int(x.split('_')[0]))\n",
    "for i in range(len(train_pos_movie_ids)):\n",
    "    \n",
    "    movie_id = train_pos_movie_ids[i]\n",
    "    \n",
    "    # ignore reviews for movies that have removed from the dataframe\n",
    "    if movie_id not in movies.imdbID.values:\n",
    "        continue\n",
    "        \n",
    "    # get the movie's dataframe index\n",
    "    index = movies.loc[movies.imdbID == movie_id].index[0]\n",
    "    \n",
    "    # load review and remove html\n",
    "    review_text = open('../../data/raw/train/pos/{}'.format(train_pos_review_files[i]), encoding='utf8').read()\n",
    "    review_text = html_regex.sub(' ', review_text)\n",
    "    \n",
    "    # assign review to movie\n",
    "    reviews[index].append(review_text)\n",
    "    \n",
    "print('Done', flush=True)"
   ]
  },
  {
   "cell_type": "code",
   "execution_count": 20,
   "metadata": {},
   "outputs": [],
   "source": [
    "# concatenate results, append to dataframe\n",
    "reviews = [' '.join(i) for i in reviews]\n",
    "movies['reviews'] = reviews"
   ]
  },
  {
   "cell_type": "code",
   "execution_count": 21,
   "metadata": {},
   "outputs": [],
   "source": [
    "# vectorize reviews\n",
    "count_vectors = count_vectorizer.fit_transform(reviews)\n",
    "tfidf_vectors = tfidf_vectorizer.fit_transform(reviews)"
   ]
  },
  {
   "cell_type": "markdown",
   "metadata": {},
   "source": [
    "### Using K-means clustering"
   ]
  },
  {
   "cell_type": "code",
   "execution_count": 22,
   "metadata": {},
   "outputs": [],
   "source": [
    "# Here I am selecting ratings, votes, genres and languages to train\n",
    "X = movies.drop(columns=['imdbVotes', 'reviews']).replace([np.inf, -np.inf], np.nan).dropna().iloc[:,3:].to_numpy()\n",
    "# I am selecting 30 clusters based on number of languages, but this can be changed later\n",
    "# I roughly selected the number of clusters, but this can be changed for e.g. based on genres\n",
    "kmeans = KMeans(n_clusters=30, random_state=4).fit(X)\n",
    "\n",
    "# create kmeans models based on reviews\n",
    "if os.path.exists('pickle/kmeans_count'):\n",
    "    kmeans_count = pickle.load(open('pickle/kmeans_count', 'rb'))\n",
    "else:\n",
    "    \n",
    "    if not os.path.exists('pickle'):\n",
    "        os.mkdir('pickle')\n",
    "        \n",
    "    kmeans_count = KMeans(n_clusters=8, random_state=4).fit(count_vectors)\n",
    "    pickle.dump(kmeans_count, open('pickle/kmeans_count', 'wb'))\n",
    "    \n",
    "if os.path.exists('pickle/kmeans_tfidf'):\n",
    "    kmeans_tfidf = pickle.load(open('pickle/kmeans_tfidf', 'rb'))\n",
    "else:\n",
    "    kmeans_tfidf = KMeans(n_clusters=8, random_state=4).fit(tfidf_vectors)\n",
    "    pickle.dump(kmeans_tfidf, open('pickle/kmeans_tfidf', 'wb'))"
   ]
  },
  {
   "cell_type": "markdown",
   "metadata": {},
   "source": [
    "### Using DBSCAN"
   ]
  },
  {
   "cell_type": "code",
   "execution_count": 23,
   "metadata": {},
   "outputs": [],
   "source": [
    "dbscan = DBSCAN(min_samples=10).fit(X)"
   ]
  },
  {
   "cell_type": "code",
   "execution_count": 24,
   "metadata": {},
   "outputs": [
    {
     "name": "stdout",
     "output_type": "stream",
     "text": [
      "[ -1   0   1   2   3   4   5   6   7   8   9  10  11  12  13  14  15  16\n",
      "  17  18  19  20  21  22  23  24  25  26  27  28  29  30  31  32  33  34\n",
      "  35  36  37  38  39  40  41  42  43  44  45  46  47  48  49  50  51  52\n",
      "  53  54  55  56  57  58  59  60  61  62  63  64  65  66  67  68  69  70\n",
      "  71  72  73  74  75  76  77  78  79  80  81  82  83  84  85  86  87  88\n",
      "  89  90  91  92  93  94  95  96  97  98  99 100 101 102 103 104 105 106\n",
      " 107 108 109 110 111 112 113 114]\n",
      "[363, 245, 2127, 32, 96, 51, 21, 42, 36, 81, 22, 89, 36, 573, 16, 156, 23, 48, 30, 71, 10, 216, 16, 14, 23, 16, 34, 16, 20, 137, 33, 13, 15, 18, 64, 43, 10, 94, 12, 17, 14, 14, 15, 175, 22, 15, 19, 10, 33, 16, 14, 37, 20, 18, 19, 15, 12, 33, 11, 20, 22, 23, 22, 58, 10, 12, 38, 15, 19, 27, 19, 23, 17, 35, 10, 13, 40, 10, 16, 17, 10, 16, 10, 16, 16, 28, 20, 10, 33, 16, 47, 15, 10, 16, 12, 32, 12, 49, 12, 26, 18, 14, 15, 13, 12, 16, 10, 15, 16, 14, 12, 18, 11, 13, 10, 10]\n"
     ]
    }
   ],
   "source": [
    "print(np.unique(dbscan.labels_))\n",
    "dbscan_dic = {i:[] for i in dbscan.labels_}\n",
    "[dbscan_dic[i].append(list(movies[\"Title\"])[c]) for c, i in enumerate(dbscan.labels_)]\n",
    "print([len(i) for i in dbscan_dic.values()])"
   ]
  },
  {
   "cell_type": "markdown",
   "metadata": {},
   "source": [
    "Looks like there are too many outlier movies for dbscan to work."
   ]
  },
  {
   "cell_type": "markdown",
   "metadata": {},
   "source": [
    "### Agglomerative Clustering"
   ]
  },
  {
   "cell_type": "code",
   "execution_count": 25,
   "metadata": {},
   "outputs": [],
   "source": [
    "ac = AgglomerativeClustering(n_clusters = 30).fit(X)"
   ]
  },
  {
   "cell_type": "code",
   "execution_count": 26,
   "metadata": {},
   "outputs": [
    {
     "name": "stdout",
     "output_type": "stream",
     "text": [
      "[ 0  1  2  3  4  5  6  7  8  9 10 11 12 13 14 15 16 17 18 19 20 21 22 23\n",
      " 24 25 26 27 28 29]\n",
      "[374, 323, 226, 180, 217, 125, 304, 186, 253, 274, 341, 155, 128, 573, 194, 182, 110, 71, 209, 408, 356, 224, 128, 192, 166, 103, 222, 125, 180, 51]\n"
     ]
    }
   ],
   "source": [
    "print(np.unique(ac.labels_))\n",
    "ac_dic = {i:[] for i in ac.labels_}\n",
    "[ac_dic[i].append(list(movies[\"Title\"])[c]) for c, i in enumerate(ac.labels_)]\n",
    "print([len(i) for i in ac_dic.values()])"
   ]
  },
  {
   "cell_type": "markdown",
   "metadata": {},
   "source": [
    "### Recommendation Function"
   ]
  },
  {
   "cell_type": "code",
   "execution_count": 27,
   "metadata": {},
   "outputs": [
    {
     "name": "stdout",
     "output_type": "stream",
     "text": [
      "[633, 363, 182, 141, 283, 213, 340, 270, 286, 215, 55, 172, 188, 625, 264, 241, 271, 174, 232, 116, 233, 170, 109, 129, 159, 114, 109, 86, 113, 94]\n"
     ]
    }
   ],
   "source": [
    "comb_dic = {i:[] for i in kmeans.labels_}\n",
    "[comb_dic[i].append(list(movies[\"Title\"])[c]) for c, i in enumerate(kmeans.labels_)]\n",
    "print([len(i) for i in comb_dic.values()])"
   ]
  },
  {
   "cell_type": "code",
   "execution_count": 28,
   "metadata": {},
   "outputs": [],
   "source": [
    "# Simplest function - note that it may give same value as recommendation as it randomly selects the movie\n",
    "# This can be changed later\n",
    "def movie_recommendation(x,model,dic,df):\n",
    "    return random.choice(dic[model.labels_[list(df[\"Title\"]).index(x)]])"
   ]
  },
  {
   "cell_type": "code",
   "execution_count": 29,
   "metadata": {},
   "outputs": [],
   "source": [
    "def all_movie_recommendations(x,model,dic,df):\n",
    "    return dic[model.labels_[list(df[\"Title\"]).index(x)]]"
   ]
  },
  {
   "cell_type": "code",
   "execution_count": 30,
   "metadata": {},
   "outputs": [],
   "source": [
    "#Recommends movies based on the intersection of all three clustering methods\n",
    "def combined_approach(k_rec,d_rec,a_rec):\n",
    "    combo_list = [value for value in k_rec if value in d_rec]\n",
    "    combo_list = [value for value in combo_list if value in a_rec]\n",
    "    return combo_list"
   ]
  },
  {
   "cell_type": "code",
   "execution_count": 31,
   "metadata": {},
   "outputs": [],
   "source": [
    "def compare_techniques(movie):\n",
    "    print(\"Comparing techniques on movie\", movie, \"with genres\", combined[combined.Title == movie].Genre.values)\n",
    "    k_list = all_movie_recommendations(movie,kmeans,comb_dic,movies)\n",
    "    d_list = all_movie_recommendations(movie,dbscan,dbscan_dic,movies)\n",
    "    a_list = all_movie_recommendations(movie,ac,ac_dic,movies)\n",
    "    kmeans_rec = random.choice(k_list)\n",
    "    dbscan_rec = random.choice(d_list)\n",
    "    ac_rec = random.choice(a_list)\n",
    "    combo_rec = random.choice(combined_approach(k_list,d_list,a_list))\n",
    "    print(\"Kmeans recommends\", kmeans_rec, \"with genres\", combined[combined.Title == kmeans_rec].Genre.values)\n",
    "    print(\"DBSCAN recommends\", dbscan_rec, \"with genres\", combined[combined.Title == dbscan_rec].Genre.values)\n",
    "    print(\"AC recommends\", ac_rec, \"with genres\", combined[combined.Title == ac_rec].Genre.values)\n",
    "    print(\"Combo recommends\", combo_rec, \"with genres\", combined[combined.Title == combo_rec].Genre.values)"
   ]
  },
  {
   "cell_type": "code",
   "execution_count": 32,
   "metadata": {},
   "outputs": [
    {
     "name": "stdout",
     "output_type": "stream",
     "text": [
      "633 363 374\n",
      "363\n"
     ]
    }
   ],
   "source": [
    "movie = \"Totally Awesome\"\n",
    "kmeans_rec = all_movie_recommendations(movie,kmeans,comb_dic,movies)\n",
    "dbscan_rec = all_movie_recommendations(movie,dbscan,dbscan_dic,movies)\n",
    "ac_rec = all_movie_recommendations(movie,ac,ac_dic,movies)\n",
    "print(len(kmeans_rec), len(dbscan_rec), len(ac_rec))\n",
    "c = combined_approach(kmeans_rec,dbscan_rec,ac_rec)\n",
    "print(len(c))"
   ]
  },
  {
   "cell_type": "code",
   "execution_count": 33,
   "metadata": {},
   "outputs": [
    {
     "name": "stdout",
     "output_type": "stream",
     "text": [
      "Comparing techniques on movie Totally Awesome with genres ['Comedy']\n",
      "Kmeans recommends The Chelsea Handler Show with genres ['Comedy']\n",
      "DBSCAN recommends Down Periscope with genres ['Comedy']\n",
      "AC recommends Freebird with genres ['Comedy']\n",
      "Combo recommends Hot Properties with genres ['Comedy']\n"
     ]
    }
   ],
   "source": [
    "compare_techniques(\"Totally Awesome\")"
   ]
  },
  {
   "cell_type": "code",
   "execution_count": 34,
   "metadata": {},
   "outputs": [
    {
     "name": "stdout",
     "output_type": "stream",
     "text": [
      "Comparing techniques on movie Star Wars: Episode VI - Return of the Jedi with genres ['Action, Adventure, Fantasy, Sci-Fi']\n",
      "Kmeans recommends The Outrageous Okona with genres ['Action, Adventure, Mystery, Sci-Fi']\n",
      "DBSCAN recommends Goin' Down to South Park with genres ['Comedy, Documentary']\n",
      "AC recommends Octopussy with genres ['Action, Adventure, Thriller']\n",
      "Combo recommends Solomon Kane with genres ['Action, Adventure, Crime, Fantasy, Sci-Fi, Thriller']\n"
     ]
    }
   ],
   "source": [
    "compare_techniques(\"Star Wars: Episode VI - Return of the Jedi\")"
   ]
  },
  {
   "cell_type": "code",
   "execution_count": 35,
   "metadata": {},
   "outputs": [
    {
     "name": "stdout",
     "output_type": "stream",
     "text": [
      "Comparing techniques on movie Good Will Hunting with genres ['Drama, Romance']\n",
      "Kmeans recommends Sillunu Oru Kadhal with genres ['Drama, Romance']\n",
      "DBSCAN recommends The Waterdance with genres ['Drama, Romance']\n",
      "AC recommends Pride of the Marines with genres ['Biography, Drama, Romance, War']\n",
      "Combo recommends Sweet Jane with genres ['Drama, Romance']\n"
     ]
    }
   ],
   "source": [
    "compare_techniques(\"Good Will Hunting\")"
   ]
  },
  {
   "cell_type": "code",
   "execution_count": 36,
   "metadata": {},
   "outputs": [],
   "source": [
    "# Record clusters for each movie, to aid recommendation function\n",
    "\n",
    "kmeans_count_clusters = []\n",
    "kmeans_tfidf_clusters = []\n",
    "\n",
    "kmeans_count.predict(count_vectorizer.transform([movies.reviews.values[0]]))\n",
    "\n",
    "for r in movies.reviews.values:\n",
    "    c = count_vectorizer.transform([r])\n",
    "    t = tfidf_vectorizer.transform([r])\n",
    "    \n",
    "    kmeans_count_clusters.append(kmeans_count.predict(c)[0])\n",
    "    kmeans_tfidf_clusters.append(kmeans_tfidf.predict(t)[0])\n",
    "    \n",
    "movies['kmeans_count_cluster'] = kmeans_count_clusters\n",
    "movies['kmeans_tfidf_cluster'] = kmeans_tfidf_clusters"
   ]
  },
  {
   "cell_type": "markdown",
   "metadata": {},
   "source": [
    "Here, we define a function that recommends movies based on reviews on those movies. It works by randomly selecting three other movies from the cluster that the given movie belongs to."
   ]
  },
  {
   "cell_type": "code",
   "execution_count": 37,
   "metadata": {},
   "outputs": [],
   "source": [
    "# Review recommendation function declaration\n",
    "def recommend_by_reviews(movie_title):\n",
    "    \n",
    "    c_cluster = movies.loc[movies.Title == movie_title].kmeans_count_cluster.values[0]\n",
    "    t_cluster = movies.loc[movies.Title == movie_title].kmeans_tfidf_cluster.values[0]\n",
    "    \n",
    "    possible_count_recommendations = list(movies.loc[movies.kmeans_count_cluster == c_cluster].Title.values)\n",
    "    possible_tfidf_recommendations = list(movies.loc[movies.kmeans_tfidf_cluster == t_cluster].Title.values)\n",
    "    \n",
    "    possible_count_recommendations.remove(movie_title)\n",
    "    possible_tfidf_recommendations.remove(movie_title)\n",
    "    \n",
    "    c = random.sample(possible_count_recommendations, 3)\n",
    "    t = random.sample(possible_tfidf_recommendations, 3)\n",
    "    \n",
    "    print('Finding recommendations for \"{}\", (count cluster: {}, tfidf cluster: {})'.format(movie_title, c_cluster, t_cluster))\n",
    "    print('Count vectorizer recommends \"{}\", \"{}\", and \"{}\"'.format(c[0], c[1], c[2]))\n",
    "    print('Tfidf vectorizer recommends \"{}\", \"{}\", and \"{}\"'.format(t[0], t[1], t[2]))"
   ]
  },
  {
   "cell_type": "markdown",
   "metadata": {},
   "source": [
    "Before we check the recommendations, it's worth examining the size/distribution of each of the clusters. Doing this shows that the count vectorizer is highly non-uniform. Over half of the movies are placed in a single cluster. The TFIDF vectorizer, on the other hand, is much more uniform."
   ]
  },
  {
   "cell_type": "code",
   "execution_count": 38,
   "metadata": {},
   "outputs": [
    {
     "name": "stdout",
     "output_type": "stream",
     "text": [
      "Movies per cluster for count vectorizer:\n",
      "[289, 83, 38, 5033, 1, 103, 1032, 1]\n",
      "\n",
      "Movies per cluster for tfidf vectorizer:\n",
      "[196, 258, 737, 284, 2450, 1947, 652, 56]\n"
     ]
    }
   ],
   "source": [
    "c = [0] * 8\n",
    "t = [0] * 8\n",
    "\n",
    "for i in list(movies.kmeans_count_cluster.values):\n",
    "    c[i] += 1\n",
    "    \n",
    "for i in list(movies.kmeans_tfidf_cluster.values):\n",
    "    t[i] += 1\n",
    "\n",
    "print('Movies per cluster for count vectorizer:')\n",
    "print(c)\n",
    "print('\\nMovies per cluster for tfidf vectorizer:')\n",
    "print(t)"
   ]
  },
  {
   "cell_type": "markdown",
   "metadata": {},
   "source": [
    "To further examine the contents of the clusters, we can print the words whose encodings are the closest to each of the cluster centers. This shows that many clusters have their own distinct characteristics, while other cluster centers are rather close to each other."
   ]
  },
  {
   "cell_type": "code",
   "execution_count": 39,
   "metadata": {},
   "outputs": [
    {
     "name": "stdout",
     "output_type": "stream",
     "text": [
      "Top 10 words in each count vectorizer cluster:\n",
      "Cluster 0: world, real, years, director, new, makes, work, 10, young, performance\n",
      "Cluster 1: funny, comedy, jokes, laugh, fun, guy, makes, watching, family, 10\n",
      "Cluster 2: music, musical, rock, songs, dance, kelly, dancing, years, michael, song\n",
      "Cluster 3: actors, watching, real, director, doesn, old, years, funny, work, look\n",
      "Cluster 4: felix, oscar, lemmon, matthau, jack, comedy, simon, couple, walter, odd\n",
      "Cluster 5: horror, actually, house, effects, director, 10, gore, doesn, pretty, going\n",
      "Cluster 6: watching, actually, real, actors, going, doesn, old, look, funny, 10\n",
      "Cluster 7: henry, fay, hartley, fool, grim, posey, hal, parker, goldblum, sequel\n",
      "\n",
      "Top 10 words in each tfidf vectorizer cluster:\n",
      "Cluster 0: western, scott, westerns, stewart, wayne, stanwyck, james, davis, john, cagney\n",
      "Cluster 1: book, novel, read, version, adaptation, match, books, actors, jane, original\n",
      "Cluster 2: horror, effects, gore, budget, killer, worst, zombie, monster, special, pretty\n",
      "Cluster 3: episode, series, episodes, season, tv, shows, columbo, television, trek, new\n",
      "Cluster 4: action, pretty, real, doesn, watching, music, actors, old, director, interesting\n",
      "Cluster 5: director, family, actors, real, young, years, work, watching, war, world\n",
      "Cluster 6: funny, comedy, jokes, humor, laugh, watching, fun, actors, worst, actually\n",
      "Cluster 7: game, games, graphics, play, video, levels, mario, bond, gameplay, fun\n"
     ]
    }
   ],
   "source": [
    "print('Top 10 words in each count vectorizer cluster:')\n",
    "count_centers = kmeans_count.cluster_centers_.argsort()[:, ::-1]\n",
    "word_encodings = count_vectorizer.get_feature_names()\n",
    "\n",
    "for i in range(8):\n",
    "    print('Cluster {}: '.format(i), end='')\n",
    "    for j in count_centers[i, :9]:\n",
    "        print('{}, '.format(word_encodings[j]), end='')\n",
    "    print(word_encodings[count_centers[i, 9]])\n",
    "\n",
    "print('\\nTop 10 words in each tfidf vectorizer cluster:')\n",
    "tfidf_centers = kmeans_tfidf.cluster_centers_.argsort()[:, ::-1]\n",
    "word_encodings = tfidf_vectorizer.get_feature_names()\n",
    "\n",
    "for i in range(8):\n",
    "    print('Cluster {}: '.format(i), end='')\n",
    "    for j in tfidf_centers[i, :9]:\n",
    "        print('{}, '.format(word_encodings[j]), end='')\n",
    "    print(word_encodings[tfidf_centers[i, 9]])\n",
    "    \n",
    "# make room for visualizations\n",
    "del test_neg_movie_ids\n",
    "del test_pos_movie_ids\n",
    "del train_neg_movie_ids\n",
    "del train_pos_movie_ids\n",
    "del kmeans_count\n",
    "del kmeans_tfidf\n",
    "del word_encodings"
   ]
  },
  {
   "cell_type": "markdown",
   "metadata": {},
   "source": [
    "The TFIDF vectorizer has very clear-cut cluster types, as shown by the most relevant words in each cluster. To verify the recommendation system works, we will test it with two different types of movies."
   ]
  },
  {
   "cell_type": "code",
   "execution_count": 112,
   "metadata": {},
   "outputs": [
    {
     "name": "stdout",
     "output_type": "stream",
     "text": [
      "Finding recommendations for \"The 40-Year-Old Virgin\", (count cluster: 1, tfidf cluster: 6)\n",
      "Count vectorizer recommends \"How the Grinch Stole Christmas\", \"Over Her Dead Body\", and \"Showtime\"\n",
      "Tfidf vectorizer recommends \"Envy\", \"Amnesia\", and \"Forgetting Sarah Marshall\"\n"
     ]
    }
   ],
   "source": [
    "recommend_by_reviews('The 40-Year-Old Virgin')"
   ]
  },
  {
   "cell_type": "code",
   "execution_count": 114,
   "metadata": {},
   "outputs": [
    {
     "name": "stdout",
     "output_type": "stream",
     "text": [
      "Finding recommendations for \"The Shining\", (count cluster: 5, tfidf cluster: 2)\n",
      "Count vectorizer recommends \"Freddy's Dead\", \"Zombie Bloodbath\", and \"The Brain That Wouldn't Die\"\n",
      "Tfidf vectorizer recommends \"Studio 666\", \"The Nun\", and \"When a Stranger Calls\"\n"
     ]
    }
   ],
   "source": [
    "recommend_by_reviews('The Shining')"
   ]
  },
  {
   "cell_type": "markdown",
   "metadata": {},
   "source": [
    "The vectorizers do a great job in both cases, recommending comedies for The 40-Year-Old Virgin, a popular comedy, and The Shining, an iconic horror film. This is possible cause the reviews for these movies likely contain similar words, making them the perfect recommendation candidates."
   ]
  },
  {
   "cell_type": "markdown",
   "metadata": {},
   "source": [
    "## Visualizations"
   ]
  },
  {
   "cell_type": "code",
   "execution_count": 42,
   "metadata": {},
   "outputs": [
    {
     "data": {
      "text/html": [
       "<div>\n",
       "<style scoped>\n",
       "    .dataframe tbody tr th:only-of-type {\n",
       "        vertical-align: middle;\n",
       "    }\n",
       "\n",
       "    .dataframe tbody tr th {\n",
       "        vertical-align: top;\n",
       "    }\n",
       "\n",
       "    .dataframe thead th {\n",
       "        text-align: right;\n",
       "    }\n",
       "</style>\n",
       "<table border=\"1\" class=\"dataframe\">\n",
       "  <thead>\n",
       "    <tr style=\"text-align: right;\">\n",
       "      <th></th>\n",
       "      <th>History</th>\n",
       "      <th>History</th>\n",
       "      <th>Fantasy</th>\n",
       "      <th>Thriller</th>\n",
       "      <th>Family</th>\n",
       "      <th>Sci-Fi</th>\n",
       "      <th>Reality-TV</th>\n",
       "      <th>Comedy</th>\n",
       "      <th>Thriller</th>\n",
       "      <th>Music</th>\n",
       "      <th>...</th>\n",
       "      <th>Crime</th>\n",
       "      <th>Horror</th>\n",
       "      <th>Comedy</th>\n",
       "      <th>Fantasy</th>\n",
       "      <th>Family</th>\n",
       "      <th>Action</th>\n",
       "      <th>Talk-Show</th>\n",
       "      <th>Talk-Show</th>\n",
       "      <th>Biography</th>\n",
       "      <th>Musical</th>\n",
       "    </tr>\n",
       "  </thead>\n",
       "  <tbody>\n",
       "    <tr>\n",
       "      <th>0</th>\n",
       "      <td>0</td>\n",
       "      <td>0</td>\n",
       "      <td>0</td>\n",
       "      <td>0</td>\n",
       "      <td>0</td>\n",
       "      <td>0</td>\n",
       "      <td>0</td>\n",
       "      <td>1</td>\n",
       "      <td>0</td>\n",
       "      <td>0</td>\n",
       "      <td>...</td>\n",
       "      <td>0</td>\n",
       "      <td>0</td>\n",
       "      <td>0</td>\n",
       "      <td>0</td>\n",
       "      <td>0</td>\n",
       "      <td>0</td>\n",
       "      <td>0</td>\n",
       "      <td>0</td>\n",
       "      <td>0</td>\n",
       "      <td>0</td>\n",
       "    </tr>\n",
       "    <tr>\n",
       "      <th>1</th>\n",
       "      <td>0</td>\n",
       "      <td>0</td>\n",
       "      <td>0</td>\n",
       "      <td>0</td>\n",
       "      <td>0</td>\n",
       "      <td>0</td>\n",
       "      <td>0</td>\n",
       "      <td>0</td>\n",
       "      <td>0</td>\n",
       "      <td>0</td>\n",
       "      <td>...</td>\n",
       "      <td>0</td>\n",
       "      <td>0</td>\n",
       "      <td>0</td>\n",
       "      <td>0</td>\n",
       "      <td>0</td>\n",
       "      <td>0</td>\n",
       "      <td>0</td>\n",
       "      <td>0</td>\n",
       "      <td>0</td>\n",
       "      <td>0</td>\n",
       "    </tr>\n",
       "    <tr>\n",
       "      <th>2</th>\n",
       "      <td>0</td>\n",
       "      <td>0</td>\n",
       "      <td>1</td>\n",
       "      <td>0</td>\n",
       "      <td>1</td>\n",
       "      <td>0</td>\n",
       "      <td>0</td>\n",
       "      <td>0</td>\n",
       "      <td>0</td>\n",
       "      <td>1</td>\n",
       "      <td>...</td>\n",
       "      <td>0</td>\n",
       "      <td>0</td>\n",
       "      <td>0</td>\n",
       "      <td>0</td>\n",
       "      <td>1</td>\n",
       "      <td>0</td>\n",
       "      <td>0</td>\n",
       "      <td>0</td>\n",
       "      <td>0</td>\n",
       "      <td>1</td>\n",
       "    </tr>\n",
       "    <tr>\n",
       "      <th>3</th>\n",
       "      <td>0</td>\n",
       "      <td>0</td>\n",
       "      <td>0</td>\n",
       "      <td>0</td>\n",
       "      <td>0</td>\n",
       "      <td>0</td>\n",
       "      <td>0</td>\n",
       "      <td>1</td>\n",
       "      <td>0</td>\n",
       "      <td>0</td>\n",
       "      <td>...</td>\n",
       "      <td>0</td>\n",
       "      <td>0</td>\n",
       "      <td>0</td>\n",
       "      <td>0</td>\n",
       "      <td>0</td>\n",
       "      <td>0</td>\n",
       "      <td>0</td>\n",
       "      <td>0</td>\n",
       "      <td>0</td>\n",
       "      <td>0</td>\n",
       "    </tr>\n",
       "    <tr>\n",
       "      <th>4</th>\n",
       "      <td>0</td>\n",
       "      <td>0</td>\n",
       "      <td>0</td>\n",
       "      <td>0</td>\n",
       "      <td>0</td>\n",
       "      <td>0</td>\n",
       "      <td>0</td>\n",
       "      <td>0</td>\n",
       "      <td>0</td>\n",
       "      <td>0</td>\n",
       "      <td>...</td>\n",
       "      <td>0</td>\n",
       "      <td>0</td>\n",
       "      <td>0</td>\n",
       "      <td>0</td>\n",
       "      <td>0</td>\n",
       "      <td>0</td>\n",
       "      <td>0</td>\n",
       "      <td>0</td>\n",
       "      <td>0</td>\n",
       "      <td>0</td>\n",
       "    </tr>\n",
       "    <tr>\n",
       "      <th>5</th>\n",
       "      <td>0</td>\n",
       "      <td>0</td>\n",
       "      <td>0</td>\n",
       "      <td>1</td>\n",
       "      <td>0</td>\n",
       "      <td>0</td>\n",
       "      <td>0</td>\n",
       "      <td>0</td>\n",
       "      <td>1</td>\n",
       "      <td>0</td>\n",
       "      <td>...</td>\n",
       "      <td>0</td>\n",
       "      <td>1</td>\n",
       "      <td>0</td>\n",
       "      <td>0</td>\n",
       "      <td>0</td>\n",
       "      <td>0</td>\n",
       "      <td>0</td>\n",
       "      <td>0</td>\n",
       "      <td>0</td>\n",
       "      <td>0</td>\n",
       "    </tr>\n",
       "    <tr>\n",
       "      <th>6</th>\n",
       "      <td>0</td>\n",
       "      <td>0</td>\n",
       "      <td>0</td>\n",
       "      <td>0</td>\n",
       "      <td>0</td>\n",
       "      <td>0</td>\n",
       "      <td>0</td>\n",
       "      <td>0</td>\n",
       "      <td>0</td>\n",
       "      <td>0</td>\n",
       "      <td>...</td>\n",
       "      <td>0</td>\n",
       "      <td>0</td>\n",
       "      <td>0</td>\n",
       "      <td>0</td>\n",
       "      <td>0</td>\n",
       "      <td>0</td>\n",
       "      <td>0</td>\n",
       "      <td>0</td>\n",
       "      <td>0</td>\n",
       "      <td>0</td>\n",
       "    </tr>\n",
       "    <tr>\n",
       "      <th>7</th>\n",
       "      <td>0</td>\n",
       "      <td>0</td>\n",
       "      <td>0</td>\n",
       "      <td>1</td>\n",
       "      <td>0</td>\n",
       "      <td>0</td>\n",
       "      <td>0</td>\n",
       "      <td>0</td>\n",
       "      <td>1</td>\n",
       "      <td>0</td>\n",
       "      <td>...</td>\n",
       "      <td>1</td>\n",
       "      <td>0</td>\n",
       "      <td>0</td>\n",
       "      <td>0</td>\n",
       "      <td>0</td>\n",
       "      <td>0</td>\n",
       "      <td>0</td>\n",
       "      <td>0</td>\n",
       "      <td>0</td>\n",
       "      <td>0</td>\n",
       "    </tr>\n",
       "    <tr>\n",
       "      <th>8</th>\n",
       "      <td>0</td>\n",
       "      <td>0</td>\n",
       "      <td>0</td>\n",
       "      <td>0</td>\n",
       "      <td>1</td>\n",
       "      <td>0</td>\n",
       "      <td>0</td>\n",
       "      <td>1</td>\n",
       "      <td>0</td>\n",
       "      <td>1</td>\n",
       "      <td>...</td>\n",
       "      <td>0</td>\n",
       "      <td>0</td>\n",
       "      <td>1</td>\n",
       "      <td>0</td>\n",
       "      <td>0</td>\n",
       "      <td>0</td>\n",
       "      <td>0</td>\n",
       "      <td>0</td>\n",
       "      <td>0</td>\n",
       "      <td>0</td>\n",
       "    </tr>\n",
       "    <tr>\n",
       "      <th>9</th>\n",
       "      <td>0</td>\n",
       "      <td>0</td>\n",
       "      <td>0</td>\n",
       "      <td>0</td>\n",
       "      <td>0</td>\n",
       "      <td>0</td>\n",
       "      <td>0</td>\n",
       "      <td>0</td>\n",
       "      <td>0</td>\n",
       "      <td>0</td>\n",
       "      <td>...</td>\n",
       "      <td>0</td>\n",
       "      <td>0</td>\n",
       "      <td>0</td>\n",
       "      <td>0</td>\n",
       "      <td>0</td>\n",
       "      <td>0</td>\n",
       "      <td>0</td>\n",
       "      <td>0</td>\n",
       "      <td>0</td>\n",
       "      <td>0</td>\n",
       "    </tr>\n",
       "    <tr>\n",
       "      <th>10</th>\n",
       "      <td>0</td>\n",
       "      <td>0</td>\n",
       "      <td>0</td>\n",
       "      <td>1</td>\n",
       "      <td>0</td>\n",
       "      <td>0</td>\n",
       "      <td>0</td>\n",
       "      <td>0</td>\n",
       "      <td>1</td>\n",
       "      <td>0</td>\n",
       "      <td>...</td>\n",
       "      <td>1</td>\n",
       "      <td>0</td>\n",
       "      <td>0</td>\n",
       "      <td>0</td>\n",
       "      <td>0</td>\n",
       "      <td>0</td>\n",
       "      <td>0</td>\n",
       "      <td>0</td>\n",
       "      <td>0</td>\n",
       "      <td>0</td>\n",
       "    </tr>\n",
       "    <tr>\n",
       "      <th>11</th>\n",
       "      <td>0</td>\n",
       "      <td>0</td>\n",
       "      <td>0</td>\n",
       "      <td>1</td>\n",
       "      <td>0</td>\n",
       "      <td>0</td>\n",
       "      <td>0</td>\n",
       "      <td>0</td>\n",
       "      <td>1</td>\n",
       "      <td>0</td>\n",
       "      <td>...</td>\n",
       "      <td>0</td>\n",
       "      <td>0</td>\n",
       "      <td>0</td>\n",
       "      <td>0</td>\n",
       "      <td>0</td>\n",
       "      <td>0</td>\n",
       "      <td>0</td>\n",
       "      <td>0</td>\n",
       "      <td>0</td>\n",
       "      <td>0</td>\n",
       "    </tr>\n",
       "    <tr>\n",
       "      <th>12</th>\n",
       "      <td>0</td>\n",
       "      <td>0</td>\n",
       "      <td>1</td>\n",
       "      <td>0</td>\n",
       "      <td>0</td>\n",
       "      <td>1</td>\n",
       "      <td>0</td>\n",
       "      <td>0</td>\n",
       "      <td>0</td>\n",
       "      <td>0</td>\n",
       "      <td>...</td>\n",
       "      <td>0</td>\n",
       "      <td>1</td>\n",
       "      <td>0</td>\n",
       "      <td>0</td>\n",
       "      <td>0</td>\n",
       "      <td>0</td>\n",
       "      <td>0</td>\n",
       "      <td>0</td>\n",
       "      <td>0</td>\n",
       "      <td>0</td>\n",
       "    </tr>\n",
       "    <tr>\n",
       "      <th>13</th>\n",
       "      <td>0</td>\n",
       "      <td>0</td>\n",
       "      <td>0</td>\n",
       "      <td>1</td>\n",
       "      <td>0</td>\n",
       "      <td>0</td>\n",
       "      <td>0</td>\n",
       "      <td>0</td>\n",
       "      <td>1</td>\n",
       "      <td>0</td>\n",
       "      <td>...</td>\n",
       "      <td>0</td>\n",
       "      <td>0</td>\n",
       "      <td>0</td>\n",
       "      <td>0</td>\n",
       "      <td>0</td>\n",
       "      <td>0</td>\n",
       "      <td>0</td>\n",
       "      <td>0</td>\n",
       "      <td>0</td>\n",
       "      <td>0</td>\n",
       "    </tr>\n",
       "    <tr>\n",
       "      <th>14</th>\n",
       "      <td>0</td>\n",
       "      <td>0</td>\n",
       "      <td>1</td>\n",
       "      <td>0</td>\n",
       "      <td>0</td>\n",
       "      <td>0</td>\n",
       "      <td>0</td>\n",
       "      <td>1</td>\n",
       "      <td>0</td>\n",
       "      <td>0</td>\n",
       "      <td>...</td>\n",
       "      <td>0</td>\n",
       "      <td>1</td>\n",
       "      <td>0</td>\n",
       "      <td>1</td>\n",
       "      <td>0</td>\n",
       "      <td>0</td>\n",
       "      <td>0</td>\n",
       "      <td>0</td>\n",
       "      <td>0</td>\n",
       "      <td>0</td>\n",
       "    </tr>\n",
       "    <tr>\n",
       "      <th>15</th>\n",
       "      <td>0</td>\n",
       "      <td>0</td>\n",
       "      <td>0</td>\n",
       "      <td>1</td>\n",
       "      <td>0</td>\n",
       "      <td>0</td>\n",
       "      <td>0</td>\n",
       "      <td>0</td>\n",
       "      <td>1</td>\n",
       "      <td>0</td>\n",
       "      <td>...</td>\n",
       "      <td>0</td>\n",
       "      <td>1</td>\n",
       "      <td>0</td>\n",
       "      <td>0</td>\n",
       "      <td>0</td>\n",
       "      <td>0</td>\n",
       "      <td>0</td>\n",
       "      <td>0</td>\n",
       "      <td>0</td>\n",
       "      <td>0</td>\n",
       "    </tr>\n",
       "    <tr>\n",
       "      <th>16</th>\n",
       "      <td>0</td>\n",
       "      <td>0</td>\n",
       "      <td>0</td>\n",
       "      <td>0</td>\n",
       "      <td>0</td>\n",
       "      <td>0</td>\n",
       "      <td>0</td>\n",
       "      <td>0</td>\n",
       "      <td>0</td>\n",
       "      <td>0</td>\n",
       "      <td>...</td>\n",
       "      <td>0</td>\n",
       "      <td>0</td>\n",
       "      <td>0</td>\n",
       "      <td>0</td>\n",
       "      <td>0</td>\n",
       "      <td>0</td>\n",
       "      <td>0</td>\n",
       "      <td>0</td>\n",
       "      <td>0</td>\n",
       "      <td>0</td>\n",
       "    </tr>\n",
       "    <tr>\n",
       "      <th>17</th>\n",
       "      <td>0</td>\n",
       "      <td>0</td>\n",
       "      <td>0</td>\n",
       "      <td>0</td>\n",
       "      <td>0</td>\n",
       "      <td>0</td>\n",
       "      <td>0</td>\n",
       "      <td>0</td>\n",
       "      <td>0</td>\n",
       "      <td>0</td>\n",
       "      <td>...</td>\n",
       "      <td>0</td>\n",
       "      <td>0</td>\n",
       "      <td>0</td>\n",
       "      <td>0</td>\n",
       "      <td>0</td>\n",
       "      <td>0</td>\n",
       "      <td>0</td>\n",
       "      <td>0</td>\n",
       "      <td>0</td>\n",
       "      <td>0</td>\n",
       "    </tr>\n",
       "    <tr>\n",
       "      <th>18</th>\n",
       "      <td>0</td>\n",
       "      <td>0</td>\n",
       "      <td>0</td>\n",
       "      <td>0</td>\n",
       "      <td>0</td>\n",
       "      <td>0</td>\n",
       "      <td>0</td>\n",
       "      <td>1</td>\n",
       "      <td>0</td>\n",
       "      <td>0</td>\n",
       "      <td>...</td>\n",
       "      <td>0</td>\n",
       "      <td>0</td>\n",
       "      <td>0</td>\n",
       "      <td>0</td>\n",
       "      <td>0</td>\n",
       "      <td>0</td>\n",
       "      <td>0</td>\n",
       "      <td>0</td>\n",
       "      <td>0</td>\n",
       "      <td>0</td>\n",
       "    </tr>\n",
       "    <tr>\n",
       "      <th>19</th>\n",
       "      <td>0</td>\n",
       "      <td>0</td>\n",
       "      <td>0</td>\n",
       "      <td>0</td>\n",
       "      <td>0</td>\n",
       "      <td>0</td>\n",
       "      <td>0</td>\n",
       "      <td>0</td>\n",
       "      <td>0</td>\n",
       "      <td>0</td>\n",
       "      <td>...</td>\n",
       "      <td>0</td>\n",
       "      <td>0</td>\n",
       "      <td>0</td>\n",
       "      <td>0</td>\n",
       "      <td>0</td>\n",
       "      <td>0</td>\n",
       "      <td>0</td>\n",
       "      <td>0</td>\n",
       "      <td>0</td>\n",
       "      <td>0</td>\n",
       "    </tr>\n",
       "    <tr>\n",
       "      <th>20</th>\n",
       "      <td>0</td>\n",
       "      <td>0</td>\n",
       "      <td>0</td>\n",
       "      <td>0</td>\n",
       "      <td>0</td>\n",
       "      <td>0</td>\n",
       "      <td>0</td>\n",
       "      <td>1</td>\n",
       "      <td>0</td>\n",
       "      <td>0</td>\n",
       "      <td>...</td>\n",
       "      <td>0</td>\n",
       "      <td>0</td>\n",
       "      <td>0</td>\n",
       "      <td>0</td>\n",
       "      <td>0</td>\n",
       "      <td>0</td>\n",
       "      <td>0</td>\n",
       "      <td>0</td>\n",
       "      <td>0</td>\n",
       "      <td>0</td>\n",
       "    </tr>\n",
       "    <tr>\n",
       "      <th>21</th>\n",
       "      <td>0</td>\n",
       "      <td>0</td>\n",
       "      <td>0</td>\n",
       "      <td>0</td>\n",
       "      <td>0</td>\n",
       "      <td>0</td>\n",
       "      <td>0</td>\n",
       "      <td>1</td>\n",
       "      <td>0</td>\n",
       "      <td>0</td>\n",
       "      <td>...</td>\n",
       "      <td>0</td>\n",
       "      <td>0</td>\n",
       "      <td>0</td>\n",
       "      <td>0</td>\n",
       "      <td>0</td>\n",
       "      <td>0</td>\n",
       "      <td>0</td>\n",
       "      <td>0</td>\n",
       "      <td>0</td>\n",
       "      <td>0</td>\n",
       "    </tr>\n",
       "    <tr>\n",
       "      <th>22</th>\n",
       "      <td>0</td>\n",
       "      <td>0</td>\n",
       "      <td>0</td>\n",
       "      <td>0</td>\n",
       "      <td>0</td>\n",
       "      <td>0</td>\n",
       "      <td>0</td>\n",
       "      <td>1</td>\n",
       "      <td>0</td>\n",
       "      <td>0</td>\n",
       "      <td>...</td>\n",
       "      <td>0</td>\n",
       "      <td>0</td>\n",
       "      <td>0</td>\n",
       "      <td>0</td>\n",
       "      <td>0</td>\n",
       "      <td>0</td>\n",
       "      <td>0</td>\n",
       "      <td>0</td>\n",
       "      <td>0</td>\n",
       "      <td>0</td>\n",
       "    </tr>\n",
       "    <tr>\n",
       "      <th>23</th>\n",
       "      <td>0</td>\n",
       "      <td>0</td>\n",
       "      <td>0</td>\n",
       "      <td>0</td>\n",
       "      <td>0</td>\n",
       "      <td>0</td>\n",
       "      <td>0</td>\n",
       "      <td>0</td>\n",
       "      <td>0</td>\n",
       "      <td>0</td>\n",
       "      <td>...</td>\n",
       "      <td>0</td>\n",
       "      <td>0</td>\n",
       "      <td>0</td>\n",
       "      <td>0</td>\n",
       "      <td>0</td>\n",
       "      <td>0</td>\n",
       "      <td>0</td>\n",
       "      <td>0</td>\n",
       "      <td>0</td>\n",
       "      <td>1</td>\n",
       "    </tr>\n",
       "    <tr>\n",
       "      <th>24</th>\n",
       "      <td>0</td>\n",
       "      <td>0</td>\n",
       "      <td>0</td>\n",
       "      <td>0</td>\n",
       "      <td>0</td>\n",
       "      <td>0</td>\n",
       "      <td>0</td>\n",
       "      <td>0</td>\n",
       "      <td>0</td>\n",
       "      <td>0</td>\n",
       "      <td>...</td>\n",
       "      <td>0</td>\n",
       "      <td>0</td>\n",
       "      <td>0</td>\n",
       "      <td>0</td>\n",
       "      <td>0</td>\n",
       "      <td>0</td>\n",
       "      <td>0</td>\n",
       "      <td>0</td>\n",
       "      <td>0</td>\n",
       "      <td>0</td>\n",
       "    </tr>\n",
       "    <tr>\n",
       "      <th>25</th>\n",
       "      <td>0</td>\n",
       "      <td>0</td>\n",
       "      <td>0</td>\n",
       "      <td>0</td>\n",
       "      <td>0</td>\n",
       "      <td>0</td>\n",
       "      <td>0</td>\n",
       "      <td>0</td>\n",
       "      <td>0</td>\n",
       "      <td>0</td>\n",
       "      <td>...</td>\n",
       "      <td>0</td>\n",
       "      <td>0</td>\n",
       "      <td>0</td>\n",
       "      <td>0</td>\n",
       "      <td>0</td>\n",
       "      <td>0</td>\n",
       "      <td>0</td>\n",
       "      <td>0</td>\n",
       "      <td>0</td>\n",
       "      <td>0</td>\n",
       "    </tr>\n",
       "    <tr>\n",
       "      <th>26</th>\n",
       "      <td>1</td>\n",
       "      <td>1</td>\n",
       "      <td>0</td>\n",
       "      <td>0</td>\n",
       "      <td>0</td>\n",
       "      <td>0</td>\n",
       "      <td>0</td>\n",
       "      <td>0</td>\n",
       "      <td>0</td>\n",
       "      <td>0</td>\n",
       "      <td>...</td>\n",
       "      <td>1</td>\n",
       "      <td>0</td>\n",
       "      <td>0</td>\n",
       "      <td>0</td>\n",
       "      <td>0</td>\n",
       "      <td>0</td>\n",
       "      <td>0</td>\n",
       "      <td>0</td>\n",
       "      <td>1</td>\n",
       "      <td>0</td>\n",
       "    </tr>\n",
       "    <tr>\n",
       "      <th>27</th>\n",
       "      <td>0</td>\n",
       "      <td>0</td>\n",
       "      <td>0</td>\n",
       "      <td>0</td>\n",
       "      <td>0</td>\n",
       "      <td>0</td>\n",
       "      <td>0</td>\n",
       "      <td>0</td>\n",
       "      <td>0</td>\n",
       "      <td>0</td>\n",
       "      <td>...</td>\n",
       "      <td>0</td>\n",
       "      <td>0</td>\n",
       "      <td>0</td>\n",
       "      <td>0</td>\n",
       "      <td>0</td>\n",
       "      <td>0</td>\n",
       "      <td>0</td>\n",
       "      <td>0</td>\n",
       "      <td>0</td>\n",
       "      <td>0</td>\n",
       "    </tr>\n",
       "    <tr>\n",
       "      <th>28</th>\n",
       "      <td>0</td>\n",
       "      <td>0</td>\n",
       "      <td>0</td>\n",
       "      <td>0</td>\n",
       "      <td>1</td>\n",
       "      <td>1</td>\n",
       "      <td>0</td>\n",
       "      <td>0</td>\n",
       "      <td>0</td>\n",
       "      <td>0</td>\n",
       "      <td>...</td>\n",
       "      <td>0</td>\n",
       "      <td>0</td>\n",
       "      <td>0</td>\n",
       "      <td>0</td>\n",
       "      <td>1</td>\n",
       "      <td>0</td>\n",
       "      <td>0</td>\n",
       "      <td>0</td>\n",
       "      <td>0</td>\n",
       "      <td>0</td>\n",
       "    </tr>\n",
       "    <tr>\n",
       "      <th>29</th>\n",
       "      <td>0</td>\n",
       "      <td>0</td>\n",
       "      <td>0</td>\n",
       "      <td>1</td>\n",
       "      <td>0</td>\n",
       "      <td>0</td>\n",
       "      <td>0</td>\n",
       "      <td>0</td>\n",
       "      <td>1</td>\n",
       "      <td>0</td>\n",
       "      <td>...</td>\n",
       "      <td>0</td>\n",
       "      <td>0</td>\n",
       "      <td>0</td>\n",
       "      <td>0</td>\n",
       "      <td>0</td>\n",
       "      <td>0</td>\n",
       "      <td>0</td>\n",
       "      <td>0</td>\n",
       "      <td>0</td>\n",
       "      <td>0</td>\n",
       "    </tr>\n",
       "    <tr>\n",
       "      <th>...</th>\n",
       "      <td>...</td>\n",
       "      <td>...</td>\n",
       "      <td>...</td>\n",
       "      <td>...</td>\n",
       "      <td>...</td>\n",
       "      <td>...</td>\n",
       "      <td>...</td>\n",
       "      <td>...</td>\n",
       "      <td>...</td>\n",
       "      <td>...</td>\n",
       "      <td>...</td>\n",
       "      <td>...</td>\n",
       "      <td>...</td>\n",
       "      <td>...</td>\n",
       "      <td>...</td>\n",
       "      <td>...</td>\n",
       "      <td>...</td>\n",
       "      <td>...</td>\n",
       "      <td>...</td>\n",
       "      <td>...</td>\n",
       "      <td>...</td>\n",
       "    </tr>\n",
       "    <tr>\n",
       "      <th>6550</th>\n",
       "      <td>0</td>\n",
       "      <td>0</td>\n",
       "      <td>0</td>\n",
       "      <td>0</td>\n",
       "      <td>0</td>\n",
       "      <td>0</td>\n",
       "      <td>0</td>\n",
       "      <td>1</td>\n",
       "      <td>0</td>\n",
       "      <td>0</td>\n",
       "      <td>...</td>\n",
       "      <td>0</td>\n",
       "      <td>0</td>\n",
       "      <td>1</td>\n",
       "      <td>0</td>\n",
       "      <td>0</td>\n",
       "      <td>0</td>\n",
       "      <td>0</td>\n",
       "      <td>0</td>\n",
       "      <td>0</td>\n",
       "      <td>0</td>\n",
       "    </tr>\n",
       "    <tr>\n",
       "      <th>6551</th>\n",
       "      <td>0</td>\n",
       "      <td>0</td>\n",
       "      <td>0</td>\n",
       "      <td>1</td>\n",
       "      <td>0</td>\n",
       "      <td>0</td>\n",
       "      <td>0</td>\n",
       "      <td>0</td>\n",
       "      <td>1</td>\n",
       "      <td>0</td>\n",
       "      <td>...</td>\n",
       "      <td>0</td>\n",
       "      <td>0</td>\n",
       "      <td>0</td>\n",
       "      <td>0</td>\n",
       "      <td>0</td>\n",
       "      <td>0</td>\n",
       "      <td>0</td>\n",
       "      <td>0</td>\n",
       "      <td>0</td>\n",
       "      <td>0</td>\n",
       "    </tr>\n",
       "    <tr>\n",
       "      <th>6552</th>\n",
       "      <td>0</td>\n",
       "      <td>0</td>\n",
       "      <td>0</td>\n",
       "      <td>1</td>\n",
       "      <td>0</td>\n",
       "      <td>1</td>\n",
       "      <td>0</td>\n",
       "      <td>1</td>\n",
       "      <td>1</td>\n",
       "      <td>0</td>\n",
       "      <td>...</td>\n",
       "      <td>0</td>\n",
       "      <td>1</td>\n",
       "      <td>1</td>\n",
       "      <td>0</td>\n",
       "      <td>0</td>\n",
       "      <td>0</td>\n",
       "      <td>0</td>\n",
       "      <td>0</td>\n",
       "      <td>0</td>\n",
       "      <td>0</td>\n",
       "    </tr>\n",
       "    <tr>\n",
       "      <th>6553</th>\n",
       "      <td>0</td>\n",
       "      <td>0</td>\n",
       "      <td>0</td>\n",
       "      <td>1</td>\n",
       "      <td>0</td>\n",
       "      <td>0</td>\n",
       "      <td>0</td>\n",
       "      <td>0</td>\n",
       "      <td>1</td>\n",
       "      <td>0</td>\n",
       "      <td>...</td>\n",
       "      <td>0</td>\n",
       "      <td>1</td>\n",
       "      <td>0</td>\n",
       "      <td>0</td>\n",
       "      <td>0</td>\n",
       "      <td>0</td>\n",
       "      <td>0</td>\n",
       "      <td>0</td>\n",
       "      <td>0</td>\n",
       "      <td>0</td>\n",
       "    </tr>\n",
       "    <tr>\n",
       "      <th>6554</th>\n",
       "      <td>0</td>\n",
       "      <td>0</td>\n",
       "      <td>1</td>\n",
       "      <td>1</td>\n",
       "      <td>0</td>\n",
       "      <td>1</td>\n",
       "      <td>0</td>\n",
       "      <td>0</td>\n",
       "      <td>1</td>\n",
       "      <td>0</td>\n",
       "      <td>...</td>\n",
       "      <td>0</td>\n",
       "      <td>1</td>\n",
       "      <td>0</td>\n",
       "      <td>0</td>\n",
       "      <td>0</td>\n",
       "      <td>0</td>\n",
       "      <td>0</td>\n",
       "      <td>0</td>\n",
       "      <td>0</td>\n",
       "      <td>0</td>\n",
       "    </tr>\n",
       "    <tr>\n",
       "      <th>6555</th>\n",
       "      <td>0</td>\n",
       "      <td>0</td>\n",
       "      <td>0</td>\n",
       "      <td>1</td>\n",
       "      <td>0</td>\n",
       "      <td>0</td>\n",
       "      <td>0</td>\n",
       "      <td>0</td>\n",
       "      <td>1</td>\n",
       "      <td>0</td>\n",
       "      <td>...</td>\n",
       "      <td>0</td>\n",
       "      <td>0</td>\n",
       "      <td>0</td>\n",
       "      <td>0</td>\n",
       "      <td>0</td>\n",
       "      <td>0</td>\n",
       "      <td>0</td>\n",
       "      <td>0</td>\n",
       "      <td>0</td>\n",
       "      <td>0</td>\n",
       "    </tr>\n",
       "    <tr>\n",
       "      <th>6556</th>\n",
       "      <td>0</td>\n",
       "      <td>0</td>\n",
       "      <td>0</td>\n",
       "      <td>0</td>\n",
       "      <td>0</td>\n",
       "      <td>0</td>\n",
       "      <td>0</td>\n",
       "      <td>0</td>\n",
       "      <td>0</td>\n",
       "      <td>0</td>\n",
       "      <td>...</td>\n",
       "      <td>0</td>\n",
       "      <td>0</td>\n",
       "      <td>0</td>\n",
       "      <td>0</td>\n",
       "      <td>0</td>\n",
       "      <td>0</td>\n",
       "      <td>0</td>\n",
       "      <td>0</td>\n",
       "      <td>0</td>\n",
       "      <td>0</td>\n",
       "    </tr>\n",
       "    <tr>\n",
       "      <th>6557</th>\n",
       "      <td>0</td>\n",
       "      <td>0</td>\n",
       "      <td>0</td>\n",
       "      <td>1</td>\n",
       "      <td>0</td>\n",
       "      <td>0</td>\n",
       "      <td>0</td>\n",
       "      <td>0</td>\n",
       "      <td>1</td>\n",
       "      <td>0</td>\n",
       "      <td>...</td>\n",
       "      <td>0</td>\n",
       "      <td>1</td>\n",
       "      <td>0</td>\n",
       "      <td>0</td>\n",
       "      <td>0</td>\n",
       "      <td>0</td>\n",
       "      <td>0</td>\n",
       "      <td>0</td>\n",
       "      <td>0</td>\n",
       "      <td>0</td>\n",
       "    </tr>\n",
       "    <tr>\n",
       "      <th>6558</th>\n",
       "      <td>0</td>\n",
       "      <td>0</td>\n",
       "      <td>0</td>\n",
       "      <td>1</td>\n",
       "      <td>0</td>\n",
       "      <td>0</td>\n",
       "      <td>0</td>\n",
       "      <td>1</td>\n",
       "      <td>1</td>\n",
       "      <td>0</td>\n",
       "      <td>...</td>\n",
       "      <td>1</td>\n",
       "      <td>0</td>\n",
       "      <td>1</td>\n",
       "      <td>0</td>\n",
       "      <td>0</td>\n",
       "      <td>0</td>\n",
       "      <td>0</td>\n",
       "      <td>0</td>\n",
       "      <td>0</td>\n",
       "      <td>0</td>\n",
       "    </tr>\n",
       "    <tr>\n",
       "      <th>6559</th>\n",
       "      <td>0</td>\n",
       "      <td>0</td>\n",
       "      <td>0</td>\n",
       "      <td>0</td>\n",
       "      <td>0</td>\n",
       "      <td>1</td>\n",
       "      <td>0</td>\n",
       "      <td>0</td>\n",
       "      <td>0</td>\n",
       "      <td>0</td>\n",
       "      <td>...</td>\n",
       "      <td>0</td>\n",
       "      <td>1</td>\n",
       "      <td>0</td>\n",
       "      <td>0</td>\n",
       "      <td>0</td>\n",
       "      <td>0</td>\n",
       "      <td>0</td>\n",
       "      <td>0</td>\n",
       "      <td>0</td>\n",
       "      <td>0</td>\n",
       "    </tr>\n",
       "    <tr>\n",
       "      <th>6560</th>\n",
       "      <td>0</td>\n",
       "      <td>0</td>\n",
       "      <td>0</td>\n",
       "      <td>0</td>\n",
       "      <td>0</td>\n",
       "      <td>0</td>\n",
       "      <td>0</td>\n",
       "      <td>0</td>\n",
       "      <td>0</td>\n",
       "      <td>0</td>\n",
       "      <td>...</td>\n",
       "      <td>0</td>\n",
       "      <td>0</td>\n",
       "      <td>0</td>\n",
       "      <td>0</td>\n",
       "      <td>0</td>\n",
       "      <td>0</td>\n",
       "      <td>0</td>\n",
       "      <td>0</td>\n",
       "      <td>0</td>\n",
       "      <td>0</td>\n",
       "    </tr>\n",
       "    <tr>\n",
       "      <th>6561</th>\n",
       "      <td>0</td>\n",
       "      <td>0</td>\n",
       "      <td>0</td>\n",
       "      <td>0</td>\n",
       "      <td>0</td>\n",
       "      <td>0</td>\n",
       "      <td>0</td>\n",
       "      <td>0</td>\n",
       "      <td>0</td>\n",
       "      <td>0</td>\n",
       "      <td>...</td>\n",
       "      <td>0</td>\n",
       "      <td>0</td>\n",
       "      <td>0</td>\n",
       "      <td>0</td>\n",
       "      <td>0</td>\n",
       "      <td>0</td>\n",
       "      <td>0</td>\n",
       "      <td>0</td>\n",
       "      <td>0</td>\n",
       "      <td>0</td>\n",
       "    </tr>\n",
       "    <tr>\n",
       "      <th>6562</th>\n",
       "      <td>0</td>\n",
       "      <td>0</td>\n",
       "      <td>0</td>\n",
       "      <td>0</td>\n",
       "      <td>0</td>\n",
       "      <td>0</td>\n",
       "      <td>0</td>\n",
       "      <td>1</td>\n",
       "      <td>0</td>\n",
       "      <td>0</td>\n",
       "      <td>...</td>\n",
       "      <td>1</td>\n",
       "      <td>0</td>\n",
       "      <td>0</td>\n",
       "      <td>0</td>\n",
       "      <td>0</td>\n",
       "      <td>0</td>\n",
       "      <td>0</td>\n",
       "      <td>0</td>\n",
       "      <td>0</td>\n",
       "      <td>0</td>\n",
       "    </tr>\n",
       "    <tr>\n",
       "      <th>6563</th>\n",
       "      <td>0</td>\n",
       "      <td>0</td>\n",
       "      <td>0</td>\n",
       "      <td>0</td>\n",
       "      <td>0</td>\n",
       "      <td>0</td>\n",
       "      <td>0</td>\n",
       "      <td>0</td>\n",
       "      <td>0</td>\n",
       "      <td>0</td>\n",
       "      <td>...</td>\n",
       "      <td>0</td>\n",
       "      <td>1</td>\n",
       "      <td>0</td>\n",
       "      <td>0</td>\n",
       "      <td>0</td>\n",
       "      <td>0</td>\n",
       "      <td>0</td>\n",
       "      <td>0</td>\n",
       "      <td>0</td>\n",
       "      <td>0</td>\n",
       "    </tr>\n",
       "    <tr>\n",
       "      <th>6564</th>\n",
       "      <td>0</td>\n",
       "      <td>0</td>\n",
       "      <td>0</td>\n",
       "      <td>0</td>\n",
       "      <td>0</td>\n",
       "      <td>0</td>\n",
       "      <td>0</td>\n",
       "      <td>1</td>\n",
       "      <td>0</td>\n",
       "      <td>0</td>\n",
       "      <td>...</td>\n",
       "      <td>0</td>\n",
       "      <td>0</td>\n",
       "      <td>0</td>\n",
       "      <td>0</td>\n",
       "      <td>0</td>\n",
       "      <td>0</td>\n",
       "      <td>0</td>\n",
       "      <td>0</td>\n",
       "      <td>0</td>\n",
       "      <td>0</td>\n",
       "    </tr>\n",
       "    <tr>\n",
       "      <th>6565</th>\n",
       "      <td>0</td>\n",
       "      <td>0</td>\n",
       "      <td>0</td>\n",
       "      <td>0</td>\n",
       "      <td>0</td>\n",
       "      <td>0</td>\n",
       "      <td>0</td>\n",
       "      <td>1</td>\n",
       "      <td>0</td>\n",
       "      <td>0</td>\n",
       "      <td>...</td>\n",
       "      <td>0</td>\n",
       "      <td>0</td>\n",
       "      <td>0</td>\n",
       "      <td>0</td>\n",
       "      <td>0</td>\n",
       "      <td>0</td>\n",
       "      <td>0</td>\n",
       "      <td>0</td>\n",
       "      <td>0</td>\n",
       "      <td>0</td>\n",
       "    </tr>\n",
       "    <tr>\n",
       "      <th>6566</th>\n",
       "      <td>0</td>\n",
       "      <td>0</td>\n",
       "      <td>0</td>\n",
       "      <td>0</td>\n",
       "      <td>0</td>\n",
       "      <td>0</td>\n",
       "      <td>0</td>\n",
       "      <td>0</td>\n",
       "      <td>0</td>\n",
       "      <td>0</td>\n",
       "      <td>...</td>\n",
       "      <td>0</td>\n",
       "      <td>0</td>\n",
       "      <td>0</td>\n",
       "      <td>0</td>\n",
       "      <td>0</td>\n",
       "      <td>0</td>\n",
       "      <td>0</td>\n",
       "      <td>0</td>\n",
       "      <td>0</td>\n",
       "      <td>0</td>\n",
       "    </tr>\n",
       "    <tr>\n",
       "      <th>6567</th>\n",
       "      <td>0</td>\n",
       "      <td>0</td>\n",
       "      <td>0</td>\n",
       "      <td>1</td>\n",
       "      <td>0</td>\n",
       "      <td>0</td>\n",
       "      <td>0</td>\n",
       "      <td>0</td>\n",
       "      <td>1</td>\n",
       "      <td>0</td>\n",
       "      <td>...</td>\n",
       "      <td>0</td>\n",
       "      <td>0</td>\n",
       "      <td>0</td>\n",
       "      <td>0</td>\n",
       "      <td>0</td>\n",
       "      <td>0</td>\n",
       "      <td>0</td>\n",
       "      <td>0</td>\n",
       "      <td>0</td>\n",
       "      <td>0</td>\n",
       "    </tr>\n",
       "    <tr>\n",
       "      <th>6568</th>\n",
       "      <td>0</td>\n",
       "      <td>0</td>\n",
       "      <td>0</td>\n",
       "      <td>0</td>\n",
       "      <td>0</td>\n",
       "      <td>0</td>\n",
       "      <td>0</td>\n",
       "      <td>0</td>\n",
       "      <td>0</td>\n",
       "      <td>0</td>\n",
       "      <td>...</td>\n",
       "      <td>0</td>\n",
       "      <td>0</td>\n",
       "      <td>0</td>\n",
       "      <td>0</td>\n",
       "      <td>0</td>\n",
       "      <td>0</td>\n",
       "      <td>0</td>\n",
       "      <td>0</td>\n",
       "      <td>0</td>\n",
       "      <td>0</td>\n",
       "    </tr>\n",
       "    <tr>\n",
       "      <th>6569</th>\n",
       "      <td>0</td>\n",
       "      <td>0</td>\n",
       "      <td>0</td>\n",
       "      <td>1</td>\n",
       "      <td>1</td>\n",
       "      <td>0</td>\n",
       "      <td>0</td>\n",
       "      <td>0</td>\n",
       "      <td>1</td>\n",
       "      <td>0</td>\n",
       "      <td>...</td>\n",
       "      <td>0</td>\n",
       "      <td>0</td>\n",
       "      <td>0</td>\n",
       "      <td>0</td>\n",
       "      <td>1</td>\n",
       "      <td>0</td>\n",
       "      <td>0</td>\n",
       "      <td>0</td>\n",
       "      <td>0</td>\n",
       "      <td>0</td>\n",
       "    </tr>\n",
       "    <tr>\n",
       "      <th>6570</th>\n",
       "      <td>0</td>\n",
       "      <td>0</td>\n",
       "      <td>0</td>\n",
       "      <td>0</td>\n",
       "      <td>0</td>\n",
       "      <td>0</td>\n",
       "      <td>0</td>\n",
       "      <td>1</td>\n",
       "      <td>0</td>\n",
       "      <td>1</td>\n",
       "      <td>...</td>\n",
       "      <td>0</td>\n",
       "      <td>0</td>\n",
       "      <td>0</td>\n",
       "      <td>0</td>\n",
       "      <td>0</td>\n",
       "      <td>0</td>\n",
       "      <td>0</td>\n",
       "      <td>0</td>\n",
       "      <td>0</td>\n",
       "      <td>1</td>\n",
       "    </tr>\n",
       "    <tr>\n",
       "      <th>6571</th>\n",
       "      <td>0</td>\n",
       "      <td>0</td>\n",
       "      <td>0</td>\n",
       "      <td>0</td>\n",
       "      <td>0</td>\n",
       "      <td>0</td>\n",
       "      <td>0</td>\n",
       "      <td>0</td>\n",
       "      <td>0</td>\n",
       "      <td>0</td>\n",
       "      <td>...</td>\n",
       "      <td>0</td>\n",
       "      <td>0</td>\n",
       "      <td>0</td>\n",
       "      <td>0</td>\n",
       "      <td>0</td>\n",
       "      <td>0</td>\n",
       "      <td>0</td>\n",
       "      <td>0</td>\n",
       "      <td>0</td>\n",
       "      <td>0</td>\n",
       "    </tr>\n",
       "    <tr>\n",
       "      <th>6572</th>\n",
       "      <td>0</td>\n",
       "      <td>0</td>\n",
       "      <td>0</td>\n",
       "      <td>0</td>\n",
       "      <td>0</td>\n",
       "      <td>0</td>\n",
       "      <td>0</td>\n",
       "      <td>1</td>\n",
       "      <td>0</td>\n",
       "      <td>0</td>\n",
       "      <td>...</td>\n",
       "      <td>0</td>\n",
       "      <td>0</td>\n",
       "      <td>0</td>\n",
       "      <td>0</td>\n",
       "      <td>0</td>\n",
       "      <td>0</td>\n",
       "      <td>0</td>\n",
       "      <td>0</td>\n",
       "      <td>0</td>\n",
       "      <td>0</td>\n",
       "    </tr>\n",
       "    <tr>\n",
       "      <th>6573</th>\n",
       "      <td>0</td>\n",
       "      <td>0</td>\n",
       "      <td>0</td>\n",
       "      <td>0</td>\n",
       "      <td>0</td>\n",
       "      <td>0</td>\n",
       "      <td>0</td>\n",
       "      <td>0</td>\n",
       "      <td>0</td>\n",
       "      <td>0</td>\n",
       "      <td>...</td>\n",
       "      <td>0</td>\n",
       "      <td>0</td>\n",
       "      <td>0</td>\n",
       "      <td>0</td>\n",
       "      <td>0</td>\n",
       "      <td>0</td>\n",
       "      <td>0</td>\n",
       "      <td>0</td>\n",
       "      <td>0</td>\n",
       "      <td>0</td>\n",
       "    </tr>\n",
       "    <tr>\n",
       "      <th>6574</th>\n",
       "      <td>0</td>\n",
       "      <td>0</td>\n",
       "      <td>0</td>\n",
       "      <td>0</td>\n",
       "      <td>0</td>\n",
       "      <td>0</td>\n",
       "      <td>0</td>\n",
       "      <td>0</td>\n",
       "      <td>0</td>\n",
       "      <td>0</td>\n",
       "      <td>...</td>\n",
       "      <td>0</td>\n",
       "      <td>1</td>\n",
       "      <td>0</td>\n",
       "      <td>0</td>\n",
       "      <td>0</td>\n",
       "      <td>0</td>\n",
       "      <td>0</td>\n",
       "      <td>0</td>\n",
       "      <td>0</td>\n",
       "      <td>0</td>\n",
       "    </tr>\n",
       "    <tr>\n",
       "      <th>6575</th>\n",
       "      <td>0</td>\n",
       "      <td>0</td>\n",
       "      <td>0</td>\n",
       "      <td>0</td>\n",
       "      <td>0</td>\n",
       "      <td>0</td>\n",
       "      <td>0</td>\n",
       "      <td>1</td>\n",
       "      <td>0</td>\n",
       "      <td>0</td>\n",
       "      <td>...</td>\n",
       "      <td>0</td>\n",
       "      <td>0</td>\n",
       "      <td>0</td>\n",
       "      <td>0</td>\n",
       "      <td>0</td>\n",
       "      <td>0</td>\n",
       "      <td>0</td>\n",
       "      <td>0</td>\n",
       "      <td>0</td>\n",
       "      <td>0</td>\n",
       "    </tr>\n",
       "    <tr>\n",
       "      <th>6576</th>\n",
       "      <td>0</td>\n",
       "      <td>0</td>\n",
       "      <td>0</td>\n",
       "      <td>0</td>\n",
       "      <td>0</td>\n",
       "      <td>1</td>\n",
       "      <td>0</td>\n",
       "      <td>0</td>\n",
       "      <td>0</td>\n",
       "      <td>0</td>\n",
       "      <td>...</td>\n",
       "      <td>0</td>\n",
       "      <td>0</td>\n",
       "      <td>0</td>\n",
       "      <td>0</td>\n",
       "      <td>0</td>\n",
       "      <td>0</td>\n",
       "      <td>0</td>\n",
       "      <td>0</td>\n",
       "      <td>0</td>\n",
       "      <td>0</td>\n",
       "    </tr>\n",
       "    <tr>\n",
       "      <th>6577</th>\n",
       "      <td>0</td>\n",
       "      <td>0</td>\n",
       "      <td>0</td>\n",
       "      <td>0</td>\n",
       "      <td>0</td>\n",
       "      <td>0</td>\n",
       "      <td>0</td>\n",
       "      <td>0</td>\n",
       "      <td>0</td>\n",
       "      <td>0</td>\n",
       "      <td>...</td>\n",
       "      <td>0</td>\n",
       "      <td>0</td>\n",
       "      <td>0</td>\n",
       "      <td>0</td>\n",
       "      <td>0</td>\n",
       "      <td>0</td>\n",
       "      <td>0</td>\n",
       "      <td>0</td>\n",
       "      <td>0</td>\n",
       "      <td>0</td>\n",
       "    </tr>\n",
       "    <tr>\n",
       "      <th>6578</th>\n",
       "      <td>0</td>\n",
       "      <td>0</td>\n",
       "      <td>0</td>\n",
       "      <td>0</td>\n",
       "      <td>0</td>\n",
       "      <td>1</td>\n",
       "      <td>0</td>\n",
       "      <td>0</td>\n",
       "      <td>0</td>\n",
       "      <td>0</td>\n",
       "      <td>...</td>\n",
       "      <td>0</td>\n",
       "      <td>0</td>\n",
       "      <td>0</td>\n",
       "      <td>0</td>\n",
       "      <td>0</td>\n",
       "      <td>0</td>\n",
       "      <td>0</td>\n",
       "      <td>0</td>\n",
       "      <td>0</td>\n",
       "      <td>0</td>\n",
       "    </tr>\n",
       "    <tr>\n",
       "      <th>6579</th>\n",
       "      <td>0</td>\n",
       "      <td>0</td>\n",
       "      <td>0</td>\n",
       "      <td>0</td>\n",
       "      <td>0</td>\n",
       "      <td>0</td>\n",
       "      <td>0</td>\n",
       "      <td>1</td>\n",
       "      <td>0</td>\n",
       "      <td>0</td>\n",
       "      <td>...</td>\n",
       "      <td>0</td>\n",
       "      <td>0</td>\n",
       "      <td>0</td>\n",
       "      <td>0</td>\n",
       "      <td>0</td>\n",
       "      <td>0</td>\n",
       "      <td>0</td>\n",
       "      <td>0</td>\n",
       "      <td>0</td>\n",
       "      <td>0</td>\n",
       "    </tr>\n",
       "  </tbody>\n",
       "</table>\n",
       "<p>6580 rows × 56 columns</p>\n",
       "</div>"
      ],
      "text/plain": [
       "      History   History  Fantasy   Thriller  Family   Sci-Fi   Reality-TV  \\\n",
       "0           0         0        0          0       0        0            0   \n",
       "1           0         0        0          0       0        0            0   \n",
       "2           0         0        1          0       1        0            0   \n",
       "3           0         0        0          0       0        0            0   \n",
       "4           0         0        0          0       0        0            0   \n",
       "5           0         0        0          1       0        0            0   \n",
       "6           0         0        0          0       0        0            0   \n",
       "7           0         0        0          1       0        0            0   \n",
       "8           0         0        0          0       1        0            0   \n",
       "9           0         0        0          0       0        0            0   \n",
       "10          0         0        0          1       0        0            0   \n",
       "11          0         0        0          1       0        0            0   \n",
       "12          0         0        1          0       0        1            0   \n",
       "13          0         0        0          1       0        0            0   \n",
       "14          0         0        1          0       0        0            0   \n",
       "15          0         0        0          1       0        0            0   \n",
       "16          0         0        0          0       0        0            0   \n",
       "17          0         0        0          0       0        0            0   \n",
       "18          0         0        0          0       0        0            0   \n",
       "19          0         0        0          0       0        0            0   \n",
       "20          0         0        0          0       0        0            0   \n",
       "21          0         0        0          0       0        0            0   \n",
       "22          0         0        0          0       0        0            0   \n",
       "23          0         0        0          0       0        0            0   \n",
       "24          0         0        0          0       0        0            0   \n",
       "25          0         0        0          0       0        0            0   \n",
       "26          1         1        0          0       0        0            0   \n",
       "27          0         0        0          0       0        0            0   \n",
       "28          0         0        0          0       1        1            0   \n",
       "29          0         0        0          1       0        0            0   \n",
       "...       ...       ...      ...        ...     ...      ...          ...   \n",
       "6550        0         0        0          0       0        0            0   \n",
       "6551        0         0        0          1       0        0            0   \n",
       "6552        0         0        0          1       0        1            0   \n",
       "6553        0         0        0          1       0        0            0   \n",
       "6554        0         0        1          1       0        1            0   \n",
       "6555        0         0        0          1       0        0            0   \n",
       "6556        0         0        0          0       0        0            0   \n",
       "6557        0         0        0          1       0        0            0   \n",
       "6558        0         0        0          1       0        0            0   \n",
       "6559        0         0        0          0       0        1            0   \n",
       "6560        0         0        0          0       0        0            0   \n",
       "6561        0         0        0          0       0        0            0   \n",
       "6562        0         0        0          0       0        0            0   \n",
       "6563        0         0        0          0       0        0            0   \n",
       "6564        0         0        0          0       0        0            0   \n",
       "6565        0         0        0          0       0        0            0   \n",
       "6566        0         0        0          0       0        0            0   \n",
       "6567        0         0        0          1       0        0            0   \n",
       "6568        0         0        0          0       0        0            0   \n",
       "6569        0         0        0          1       1        0            0   \n",
       "6570        0         0        0          0       0        0            0   \n",
       "6571        0         0        0          0       0        0            0   \n",
       "6572        0         0        0          0       0        0            0   \n",
       "6573        0         0        0          0       0        0            0   \n",
       "6574        0         0        0          0       0        0            0   \n",
       "6575        0         0        0          0       0        0            0   \n",
       "6576        0         0        0          0       0        1            0   \n",
       "6577        0         0        0          0       0        0            0   \n",
       "6578        0         0        0          0       0        1            0   \n",
       "6579        0         0        0          0       0        0            0   \n",
       "\n",
       "      Comedy  Thriller   Music  ...   Crime  Horror   Comedy   Fantasy  \\\n",
       "0          1         0       0  ...       0       0        0         0   \n",
       "1          0         0       0  ...       0       0        0         0   \n",
       "2          0         0       1  ...       0       0        0         0   \n",
       "3          1         0       0  ...       0       0        0         0   \n",
       "4          0         0       0  ...       0       0        0         0   \n",
       "5          0         1       0  ...       0       1        0         0   \n",
       "6          0         0       0  ...       0       0        0         0   \n",
       "7          0         1       0  ...       1       0        0         0   \n",
       "8          1         0       1  ...       0       0        1         0   \n",
       "9          0         0       0  ...       0       0        0         0   \n",
       "10         0         1       0  ...       1       0        0         0   \n",
       "11         0         1       0  ...       0       0        0         0   \n",
       "12         0         0       0  ...       0       1        0         0   \n",
       "13         0         1       0  ...       0       0        0         0   \n",
       "14         1         0       0  ...       0       1        0         1   \n",
       "15         0         1       0  ...       0       1        0         0   \n",
       "16         0         0       0  ...       0       0        0         0   \n",
       "17         0         0       0  ...       0       0        0         0   \n",
       "18         1         0       0  ...       0       0        0         0   \n",
       "19         0         0       0  ...       0       0        0         0   \n",
       "20         1         0       0  ...       0       0        0         0   \n",
       "21         1         0       0  ...       0       0        0         0   \n",
       "22         1         0       0  ...       0       0        0         0   \n",
       "23         0         0       0  ...       0       0        0         0   \n",
       "24         0         0       0  ...       0       0        0         0   \n",
       "25         0         0       0  ...       0       0        0         0   \n",
       "26         0         0       0  ...       1       0        0         0   \n",
       "27         0         0       0  ...       0       0        0         0   \n",
       "28         0         0       0  ...       0       0        0         0   \n",
       "29         0         1       0  ...       0       0        0         0   \n",
       "...      ...       ...     ...  ...     ...     ...      ...       ...   \n",
       "6550       1         0       0  ...       0       0        1         0   \n",
       "6551       0         1       0  ...       0       0        0         0   \n",
       "6552       1         1       0  ...       0       1        1         0   \n",
       "6553       0         1       0  ...       0       1        0         0   \n",
       "6554       0         1       0  ...       0       1        0         0   \n",
       "6555       0         1       0  ...       0       0        0         0   \n",
       "6556       0         0       0  ...       0       0        0         0   \n",
       "6557       0         1       0  ...       0       1        0         0   \n",
       "6558       1         1       0  ...       1       0        1         0   \n",
       "6559       0         0       0  ...       0       1        0         0   \n",
       "6560       0         0       0  ...       0       0        0         0   \n",
       "6561       0         0       0  ...       0       0        0         0   \n",
       "6562       1         0       0  ...       1       0        0         0   \n",
       "6563       0         0       0  ...       0       1        0         0   \n",
       "6564       1         0       0  ...       0       0        0         0   \n",
       "6565       1         0       0  ...       0       0        0         0   \n",
       "6566       0         0       0  ...       0       0        0         0   \n",
       "6567       0         1       0  ...       0       0        0         0   \n",
       "6568       0         0       0  ...       0       0        0         0   \n",
       "6569       0         1       0  ...       0       0        0         0   \n",
       "6570       1         0       1  ...       0       0        0         0   \n",
       "6571       0         0       0  ...       0       0        0         0   \n",
       "6572       1         0       0  ...       0       0        0         0   \n",
       "6573       0         0       0  ...       0       0        0         0   \n",
       "6574       0         0       0  ...       0       1        0         0   \n",
       "6575       1         0       0  ...       0       0        0         0   \n",
       "6576       0         0       0  ...       0       0        0         0   \n",
       "6577       0         0       0  ...       0       0        0         0   \n",
       "6578       0         0       0  ...       0       0        0         0   \n",
       "6579       1         0       0  ...       0       0        0         0   \n",
       "\n",
       "       Family   Action   Talk-Show  Talk-Show   Biography  Musical  \n",
       "0           0        0           0          0           0        0  \n",
       "1           0        0           0          0           0        0  \n",
       "2           1        0           0          0           0        1  \n",
       "3           0        0           0          0           0        0  \n",
       "4           0        0           0          0           0        0  \n",
       "5           0        0           0          0           0        0  \n",
       "6           0        0           0          0           0        0  \n",
       "7           0        0           0          0           0        0  \n",
       "8           0        0           0          0           0        0  \n",
       "9           0        0           0          0           0        0  \n",
       "10          0        0           0          0           0        0  \n",
       "11          0        0           0          0           0        0  \n",
       "12          0        0           0          0           0        0  \n",
       "13          0        0           0          0           0        0  \n",
       "14          0        0           0          0           0        0  \n",
       "15          0        0           0          0           0        0  \n",
       "16          0        0           0          0           0        0  \n",
       "17          0        0           0          0           0        0  \n",
       "18          0        0           0          0           0        0  \n",
       "19          0        0           0          0           0        0  \n",
       "20          0        0           0          0           0        0  \n",
       "21          0        0           0          0           0        0  \n",
       "22          0        0           0          0           0        0  \n",
       "23          0        0           0          0           0        1  \n",
       "24          0        0           0          0           0        0  \n",
       "25          0        0           0          0           0        0  \n",
       "26          0        0           0          0           1        0  \n",
       "27          0        0           0          0           0        0  \n",
       "28          1        0           0          0           0        0  \n",
       "29          0        0           0          0           0        0  \n",
       "...       ...      ...         ...        ...         ...      ...  \n",
       "6550        0        0           0          0           0        0  \n",
       "6551        0        0           0          0           0        0  \n",
       "6552        0        0           0          0           0        0  \n",
       "6553        0        0           0          0           0        0  \n",
       "6554        0        0           0          0           0        0  \n",
       "6555        0        0           0          0           0        0  \n",
       "6556        0        0           0          0           0        0  \n",
       "6557        0        0           0          0           0        0  \n",
       "6558        0        0           0          0           0        0  \n",
       "6559        0        0           0          0           0        0  \n",
       "6560        0        0           0          0           0        0  \n",
       "6561        0        0           0          0           0        0  \n",
       "6562        0        0           0          0           0        0  \n",
       "6563        0        0           0          0           0        0  \n",
       "6564        0        0           0          0           0        0  \n",
       "6565        0        0           0          0           0        0  \n",
       "6566        0        0           0          0           0        0  \n",
       "6567        0        0           0          0           0        0  \n",
       "6568        0        0           0          0           0        0  \n",
       "6569        1        0           0          0           0        0  \n",
       "6570        0        0           0          0           0        1  \n",
       "6571        0        0           0          0           0        0  \n",
       "6572        0        0           0          0           0        0  \n",
       "6573        0        0           0          0           0        0  \n",
       "6574        0        0           0          0           0        0  \n",
       "6575        0        0           0          0           0        0  \n",
       "6576        0        0           0          0           0        0  \n",
       "6577        0        0           0          0           0        0  \n",
       "6578        0        0           0          0           0        0  \n",
       "6579        0        0           0          0           0        0  \n",
       "\n",
       "[6580 rows x 56 columns]"
      ]
     },
     "execution_count": 42,
     "metadata": {},
     "output_type": "execute_result"
    }
   ],
   "source": [
    "df_pie_visualization = movies.drop(columns=[\"Title\",\"imdbID\",\"Ratings\",\"imdbRating\",\"imdbVotes\", \"reviews\", \"kmeans_count_cluster\", \"kmeans_tfidf_cluster\"])\n",
    "df_pie_visualization"
   ]
  },
  {
   "cell_type": "code",
   "execution_count": 43,
   "metadata": {},
   "outputs": [],
   "source": [
    "dict_genres = dict()\n",
    "total = 0\n",
    "for column in df_pie_visualization.columns:\n",
    "    count = df_pie_visualization[column].sum()\n",
    "    total += count\n",
    "    dict_genres[column] = count"
   ]
  },
  {
   "cell_type": "code",
   "execution_count": 44,
   "metadata": {},
   "outputs": [],
   "source": [
    "data = []\n",
    "labels = []\n",
    "for key in dict_genres.keys():\n",
    "    labels.append(key)\n",
    "    data.append(dict_genres[key]/total)\n",
    "label_count = len(labels)\n",
    "other = 0\n",
    "i = 0\n",
    "while i < len(data):\n",
    "    if data[i] < .02:\n",
    "        other += data[i]\n",
    "        del data[i]\n",
    "        del labels[i]\n",
    "    else:\n",
    "        i += 1\n",
    "data_sum = sum(data)\n",
    "for i in range(len(data)):\n",
    "    data[i] = data[i]/data_sum"
   ]
  },
  {
   "cell_type": "code",
   "execution_count": 45,
   "metadata": {},
   "outputs": [
    {
     "data": {
      "image/png": "[encoded data removed]",
      "text/plain": [
       "<Figure size 792x576 with 1 Axes>"
      ]
     },
     "metadata": {},
     "output_type": "display_data"
    }
   ],
   "source": [
    "fig_pie,ax_pie = plt.subplots(figsize=(11,8))\n",
    "plt.pie(data,radius=4.0,labels=labels)\n",
    "plt.axis('equal')\n",
    "plt.tight_layout()\n",
    "plt.show()"
   ]
  },
  {
   "cell_type": "code",
   "execution_count": 46,
   "metadata": {},
   "outputs": [
    {
     "ename": "SyntaxError",
     "evalue": "invalid syntax (<ipython-input-46-89da17285995>, line 2)",
     "output_type": "error",
     "traceback": [
      "\u001b[1;36m  File \u001b[1;32m\"<ipython-input-46-89da17285995>\"\u001b[1;36m, line \u001b[1;32m2\u001b[0m\n\u001b[1;33m    genre_list = [('Action',0),('Comedy',1),('Drama',2),('Romance'3),('Thriller',4),('Horror',5)]\u001b[0m\n\u001b[1;37m                                                                  ^\u001b[0m\n\u001b[1;31mSyntaxError\u001b[0m\u001b[1;31m:\u001b[0m invalid syntax\n"
     ]
    }
   ],
   "source": [
    "#Genres = Action, Comedy, Drama, Romance, Thriller, Horror\n",
    "genre_list = [('Action',0),('Comedy',1),('Drama',2),('Romance'3),('Thriller',4),('Horror',5)]\n",
    "bar_data = []"
   ]
  }
 ],
 "metadata": {
  "kernelspec": {
   "display_name": "Python 3",
   "language": "python",
   "name": "python3"
  },
  "language_info": {
   "codemirror_mode": {
    "name": "ipython",
    "version": 3
   },
   "file_extension": ".py",
   "mimetype": "text/x-python",
   "name": "python",
   "nbconvert_exporter": "python",
   "pygments_lexer": "ipython3",
   "version": "3.7.2"
  }
 },
 "nbformat": 4,
 "nbformat_minor": 2
}
