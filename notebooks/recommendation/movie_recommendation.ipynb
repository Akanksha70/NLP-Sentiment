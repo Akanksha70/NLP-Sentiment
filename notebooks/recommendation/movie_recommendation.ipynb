{
 "cells": [
  {
   "cell_type": "markdown",
   "metadata": {},
   "source": [
    "# Movie Recommendation"
   ]
  },
  {
   "cell_type": "markdown",
   "metadata": {},
   "source": [
    "## IMDB movie recommendation notebook"
   ]
  },
  {
   "cell_type": "markdown",
   "metadata": {},
   "source": [
    "#### Author/s: Ruturaj Kiran Vaidya\n",
    "(Add you name if you edit/improve)"
   ]
  },
  {
   "cell_type": "code",
   "execution_count": 1,
   "metadata": {},
   "outputs": [
    {
     "data": {
      "text/html": [
       "        <script type=\"text/javascript\">\n",
       "        window.PlotlyConfig = {MathJaxConfig: 'local'};\n",
       "        if (window.MathJax) {MathJax.Hub.Config({SVG: {font: \"STIX-Web\"}});}\n",
       "        if (typeof require !== 'undefined') {\n",
       "        require.undef(\"plotly\");\n",
       "        requirejs.config({\n",
       "            paths: {\n",
       "                'plotly': ['https://cdn.plot.ly/plotly-latest.min']\n",
       "            }\n",
       "        });\n",
       "        require(['plotly'], function(Plotly) {\n",
       "            window._Plotly = Plotly;\n",
       "        });\n",
       "        }\n",
       "        </script>\n",
       "        "
      ]
     },
     "metadata": {},
     "output_type": "display_data"
    }
   ],
   "source": [
    "# Imports\n",
    "\n",
    "# Genral\n",
    "\n",
    "import pandas as pd\n",
    "import numpy as np\n",
    "import random\n",
    "\n",
    "# graphs\n",
    "\n",
    "from plotly import graph_objs as go\n",
    "from plotly.offline import download_plotlyjs, init_notebook_mode, plot, iplot\n",
    "init_notebook_mode(connected=True)\n",
    "\n",
    "# Model\n",
    "# sklearn\n",
    "from sklearn.cluster import KMeans"
   ]
  },
  {
   "cell_type": "code",
   "execution_count": 2,
   "metadata": {},
   "outputs": [],
   "source": [
    "train = pd.read_json(\"TrainMovieDetails.json\")\n",
    "test = pd.read_json(\"TestMovieDetails.json\")"
   ]
  },
  {
   "cell_type": "code",
   "execution_count": 3,
   "metadata": {},
   "outputs": [
    {
     "data": {
      "text/plain": [
       "Index(['Actors', 'Awards', 'BoxOffice', 'Country', 'DVD', 'Director',\n",
       "       'Episode', 'Genre', 'Language', 'Metascore', 'Plot', 'Poster',\n",
       "       'Production', 'Rated', 'Ratings', 'Released', 'Response', 'Runtime',\n",
       "       'Season', 'Title', 'Type', 'Website', 'Writer', 'Year', 'imdbID',\n",
       "       'imdbRating', 'imdbVotes', 'seriesID', 'totalSeasons'],\n",
       "      dtype='object')"
      ]
     },
     "execution_count": 3,
     "metadata": {},
     "output_type": "execute_result"
    }
   ],
   "source": [
    "train.keys()"
   ]
  },
  {
   "cell_type": "code",
   "execution_count": 4,
   "metadata": {},
   "outputs": [
    {
     "data": {
      "text/plain": [
       "Index(['Actors', 'Awards', 'BoxOffice', 'Country', 'DVD', 'Director',\n",
       "       'Episode', 'Error', 'Genre', 'Language', 'Metascore', 'Plot', 'Poster',\n",
       "       'Production', 'Rated', 'Ratings', 'Released', 'Response', 'Runtime',\n",
       "       'Season', 'Title', 'Type', 'Website', 'Writer', 'Year', 'imdbID',\n",
       "       'imdbRating', 'imdbVotes', 'seriesID', 'totalSeasons'],\n",
       "      dtype='object')"
      ]
     },
     "execution_count": 4,
     "metadata": {},
     "output_type": "execute_result"
    }
   ],
   "source": [
    "test.keys()"
   ]
  },
  {
   "cell_type": "code",
   "execution_count": 5,
   "metadata": {},
   "outputs": [],
   "source": [
    "del test[\"Error\"]"
   ]
  },
  {
   "cell_type": "code",
   "execution_count": 6,
   "metadata": {},
   "outputs": [
    {
     "data": {
      "text/html": [
       "<div>\n",
       "<style scoped>\n",
       "    .dataframe tbody tr th:only-of-type {\n",
       "        vertical-align: middle;\n",
       "    }\n",
       "\n",
       "    .dataframe tbody tr th {\n",
       "        vertical-align: top;\n",
       "    }\n",
       "\n",
       "    .dataframe thead th {\n",
       "        text-align: right;\n",
       "    }\n",
       "</style>\n",
       "<table border=\"1\" class=\"dataframe\">\n",
       "  <thead>\n",
       "    <tr style=\"text-align: right;\">\n",
       "      <th></th>\n",
       "      <th>Actors</th>\n",
       "      <th>Awards</th>\n",
       "      <th>BoxOffice</th>\n",
       "      <th>Country</th>\n",
       "      <th>DVD</th>\n",
       "      <th>Director</th>\n",
       "      <th>Episode</th>\n",
       "      <th>Genre</th>\n",
       "      <th>Language</th>\n",
       "      <th>Metascore</th>\n",
       "      <th>...</th>\n",
       "      <th>Title</th>\n",
       "      <th>Type</th>\n",
       "      <th>Website</th>\n",
       "      <th>Writer</th>\n",
       "      <th>Year</th>\n",
       "      <th>imdbID</th>\n",
       "      <th>imdbRating</th>\n",
       "      <th>imdbVotes</th>\n",
       "      <th>seriesID</th>\n",
       "      <th>totalSeasons</th>\n",
       "    </tr>\n",
       "  </thead>\n",
       "  <tbody>\n",
       "    <tr>\n",
       "      <th>0</th>\n",
       "      <td>Kevin Costner, Ashton Kutcher, Sela Ward, Meli...</td>\n",
       "      <td>1 win &amp; 4 nominations.</td>\n",
       "      <td>$54,983,983</td>\n",
       "      <td>USA</td>\n",
       "      <td>23 Jan 2007</td>\n",
       "      <td>Andrew Davis</td>\n",
       "      <td>NaN</td>\n",
       "      <td>Action, Adventure, Drama</td>\n",
       "      <td>English</td>\n",
       "      <td>53</td>\n",
       "      <td>...</td>\n",
       "      <td>The Guardian</td>\n",
       "      <td>movie</td>\n",
       "      <td>N/A</td>\n",
       "      <td>Ron L. Brinkerhoff</td>\n",
       "      <td>2006</td>\n",
       "      <td>tt0406816</td>\n",
       "      <td>6.9</td>\n",
       "      <td>84,017</td>\n",
       "      <td>NaN</td>\n",
       "      <td>NaN</td>\n",
       "    </tr>\n",
       "    <tr>\n",
       "      <th>1</th>\n",
       "      <td>Albert Finney, Tom Courtenay, Edward Fox, Zena...</td>\n",
       "      <td>Nominated for 5 Oscars. Another 5 wins &amp; 12 no...</td>\n",
       "      <td>N/A</td>\n",
       "      <td>UK</td>\n",
       "      <td>06 Apr 2004</td>\n",
       "      <td>Peter Yates</td>\n",
       "      <td>NaN</td>\n",
       "      <td>Drama</td>\n",
       "      <td>English</td>\n",
       "      <td>N/A</td>\n",
       "      <td>...</td>\n",
       "      <td>The Dresser</td>\n",
       "      <td>movie</td>\n",
       "      <td>N/A</td>\n",
       "      <td>Ronald Harwood (screenplay), Ronald Harwood (b...</td>\n",
       "      <td>1983</td>\n",
       "      <td>tt0085461</td>\n",
       "      <td>7.7</td>\n",
       "      <td>4,285</td>\n",
       "      <td>NaN</td>\n",
       "      <td>NaN</td>\n",
       "    </tr>\n",
       "    <tr>\n",
       "      <th>2</th>\n",
       "      <td>S. Epatha Merkerson, Marcus Carl Franklin, Yas...</td>\n",
       "      <td>Won 1 Golden Globe. Another 29 wins &amp; 41 nomin...</td>\n",
       "      <td>N/A</td>\n",
       "      <td>USA</td>\n",
       "      <td>23 Aug 2005</td>\n",
       "      <td>George C. Wolfe</td>\n",
       "      <td>NaN</td>\n",
       "      <td>Drama, Music</td>\n",
       "      <td>English</td>\n",
       "      <td>N/A</td>\n",
       "      <td>...</td>\n",
       "      <td>Lackawanna Blues</td>\n",
       "      <td>movie</td>\n",
       "      <td>N/A</td>\n",
       "      <td>Ruben Santiago-Hudson (play), Ruben Santiago-H...</td>\n",
       "      <td>2005</td>\n",
       "      <td>tt0407936</td>\n",
       "      <td>7.9</td>\n",
       "      <td>2,150</td>\n",
       "      <td>NaN</td>\n",
       "      <td>NaN</td>\n",
       "    </tr>\n",
       "    <tr>\n",
       "      <th>3</th>\n",
       "      <td>Julie Andrews, Rock Hudson, Jeremy Kemp, Lance...</td>\n",
       "      <td>Nominated for 3 Oscars. Another 1 win &amp; 4 nomi...</td>\n",
       "      <td>N/A</td>\n",
       "      <td>USA</td>\n",
       "      <td>25 Oct 2005</td>\n",
       "      <td>Blake Edwards</td>\n",
       "      <td>NaN</td>\n",
       "      <td>Comedy, Drama, Musical, Romance, War</td>\n",
       "      <td>English, German</td>\n",
       "      <td>N/A</td>\n",
       "      <td>...</td>\n",
       "      <td>Darling Lili</td>\n",
       "      <td>movie</td>\n",
       "      <td>N/A</td>\n",
       "      <td>Blake Edwards, William Peter Blatty</td>\n",
       "      <td>1970</td>\n",
       "      <td>tt0065611</td>\n",
       "      <td>6.1</td>\n",
       "      <td>1,826</td>\n",
       "      <td>NaN</td>\n",
       "      <td>NaN</td>\n",
       "    </tr>\n",
       "    <tr>\n",
       "      <th>4</th>\n",
       "      <td>Mel Blanc</td>\n",
       "      <td>N/A</td>\n",
       "      <td>N/A</td>\n",
       "      <td>USA</td>\n",
       "      <td>N/A</td>\n",
       "      <td>Robert McKimson</td>\n",
       "      <td>NaN</td>\n",
       "      <td>Family, Animation, Short</td>\n",
       "      <td>English</td>\n",
       "      <td>N/A</td>\n",
       "      <td>...</td>\n",
       "      <td>Acrobatty Bunny</td>\n",
       "      <td>movie</td>\n",
       "      <td>N/A</td>\n",
       "      <td>Warren Foster (story)</td>\n",
       "      <td>1946</td>\n",
       "      <td>tt0038286</td>\n",
       "      <td>7.3</td>\n",
       "      <td>663</td>\n",
       "      <td>NaN</td>\n",
       "      <td>NaN</td>\n",
       "    </tr>\n",
       "  </tbody>\n",
       "</table>\n",
       "<p>5 rows × 29 columns</p>\n",
       "</div>"
      ],
      "text/plain": [
       "                                              Actors  \\\n",
       "0  Kevin Costner, Ashton Kutcher, Sela Ward, Meli...   \n",
       "1  Albert Finney, Tom Courtenay, Edward Fox, Zena...   \n",
       "2  S. Epatha Merkerson, Marcus Carl Franklin, Yas...   \n",
       "3  Julie Andrews, Rock Hudson, Jeremy Kemp, Lance...   \n",
       "4                                          Mel Blanc   \n",
       "\n",
       "                                              Awards    BoxOffice Country  \\\n",
       "0                             1 win & 4 nominations.  $54,983,983     USA   \n",
       "1  Nominated for 5 Oscars. Another 5 wins & 12 no...          N/A      UK   \n",
       "2  Won 1 Golden Globe. Another 29 wins & 41 nomin...          N/A     USA   \n",
       "3  Nominated for 3 Oscars. Another 1 win & 4 nomi...          N/A     USA   \n",
       "4                                                N/A          N/A     USA   \n",
       "\n",
       "           DVD         Director Episode                                 Genre  \\\n",
       "0  23 Jan 2007     Andrew Davis     NaN              Action, Adventure, Drama   \n",
       "1  06 Apr 2004      Peter Yates     NaN                                 Drama   \n",
       "2  23 Aug 2005  George C. Wolfe     NaN                          Drama, Music   \n",
       "3  25 Oct 2005    Blake Edwards     NaN  Comedy, Drama, Musical, Romance, War   \n",
       "4          N/A  Robert McKimson     NaN              Family, Animation, Short   \n",
       "\n",
       "          Language Metascore  ...             Title   Type Website  \\\n",
       "0          English        53  ...      The Guardian  movie     N/A   \n",
       "1          English       N/A  ...       The Dresser  movie     N/A   \n",
       "2          English       N/A  ...  Lackawanna Blues  movie     N/A   \n",
       "3  English, German       N/A  ...      Darling Lili  movie     N/A   \n",
       "4          English       N/A  ...   Acrobatty Bunny  movie     N/A   \n",
       "\n",
       "                                              Writer  Year     imdbID  \\\n",
       "0                                 Ron L. Brinkerhoff  2006  tt0406816   \n",
       "1  Ronald Harwood (screenplay), Ronald Harwood (b...  1983  tt0085461   \n",
       "2  Ruben Santiago-Hudson (play), Ruben Santiago-H...  2005  tt0407936   \n",
       "3                Blake Edwards, William Peter Blatty  1970  tt0065611   \n",
       "4                              Warren Foster (story)  1946  tt0038286   \n",
       "\n",
       "  imdbRating imdbVotes seriesID totalSeasons  \n",
       "0        6.9    84,017      NaN          NaN  \n",
       "1        7.7     4,285      NaN          NaN  \n",
       "2        7.9     2,150      NaN          NaN  \n",
       "3        6.1     1,826      NaN          NaN  \n",
       "4        7.3       663      NaN          NaN  \n",
       "\n",
       "[5 rows x 29 columns]"
      ]
     },
     "execution_count": 6,
     "metadata": {},
     "output_type": "execute_result"
    }
   ],
   "source": [
    "test.head()"
   ]
  },
  {
   "cell_type": "code",
   "execution_count": 7,
   "metadata": {},
   "outputs": [
    {
     "data": {
      "text/html": [
       "<div>\n",
       "<style scoped>\n",
       "    .dataframe tbody tr th:only-of-type {\n",
       "        vertical-align: middle;\n",
       "    }\n",
       "\n",
       "    .dataframe tbody tr th {\n",
       "        vertical-align: top;\n",
       "    }\n",
       "\n",
       "    .dataframe thead th {\n",
       "        text-align: right;\n",
       "    }\n",
       "</style>\n",
       "<table border=\"1\" class=\"dataframe\">\n",
       "  <thead>\n",
       "    <tr style=\"text-align: right;\">\n",
       "      <th></th>\n",
       "      <th>Actors</th>\n",
       "      <th>Awards</th>\n",
       "      <th>BoxOffice</th>\n",
       "      <th>Country</th>\n",
       "      <th>DVD</th>\n",
       "      <th>Director</th>\n",
       "      <th>Episode</th>\n",
       "      <th>Genre</th>\n",
       "      <th>Language</th>\n",
       "      <th>Metascore</th>\n",
       "      <th>...</th>\n",
       "      <th>Title</th>\n",
       "      <th>Type</th>\n",
       "      <th>Website</th>\n",
       "      <th>Writer</th>\n",
       "      <th>Year</th>\n",
       "      <th>imdbID</th>\n",
       "      <th>imdbRating</th>\n",
       "      <th>imdbVotes</th>\n",
       "      <th>seriesID</th>\n",
       "      <th>totalSeasons</th>\n",
       "    </tr>\n",
       "  </thead>\n",
       "  <tbody>\n",
       "    <tr>\n",
       "      <th>0</th>\n",
       "      <td>Seth Allen, John Bakos, Mari-Claire Charba, Pe...</td>\n",
       "      <td>N/A</td>\n",
       "      <td>N/A</td>\n",
       "      <td>USA</td>\n",
       "      <td>N/A</td>\n",
       "      <td>Tom O'Horgan</td>\n",
       "      <td>NaN</td>\n",
       "      <td>Comedy</td>\n",
       "      <td>English</td>\n",
       "      <td>N/A</td>\n",
       "      <td>...</td>\n",
       "      <td>Futz</td>\n",
       "      <td>movie</td>\n",
       "      <td>N/A</td>\n",
       "      <td>Rochelle Owens (play), Joseph Stefano (screenp...</td>\n",
       "      <td>1969</td>\n",
       "      <td>tt0064354</td>\n",
       "      <td>4.8</td>\n",
       "      <td>50</td>\n",
       "      <td>NaN</td>\n",
       "      <td>NaN</td>\n",
       "    </tr>\n",
       "    <tr>\n",
       "      <th>1</th>\n",
       "      <td>Jane Fonda, Robert De Niro, Swoosie Kurtz, Mar...</td>\n",
       "      <td>N/A</td>\n",
       "      <td>N/A</td>\n",
       "      <td>USA, Canada</td>\n",
       "      <td>13 Jan 2004</td>\n",
       "      <td>Martin Ritt</td>\n",
       "      <td>NaN</td>\n",
       "      <td>Drama, Romance</td>\n",
       "      <td>English</td>\n",
       "      <td>N/A</td>\n",
       "      <td>...</td>\n",
       "      <td>Stanley &amp; Iris</td>\n",
       "      <td>movie</td>\n",
       "      <td>N/A</td>\n",
       "      <td>Pat Barker (novel), Harriet Frank Jr. (screenp...</td>\n",
       "      <td>1990</td>\n",
       "      <td>tt0100680</td>\n",
       "      <td>6.3</td>\n",
       "      <td>6,502</td>\n",
       "      <td>NaN</td>\n",
       "      <td>NaN</td>\n",
       "    </tr>\n",
       "    <tr>\n",
       "      <th>2</th>\n",
       "      <td>Christopher Walken, Jason Connery, Carmela Mar...</td>\n",
       "      <td>N/A</td>\n",
       "      <td>N/A</td>\n",
       "      <td>USA</td>\n",
       "      <td>09 Aug 2005</td>\n",
       "      <td>Eugene Marner</td>\n",
       "      <td>NaN</td>\n",
       "      <td>Fantasy, Musical, Family</td>\n",
       "      <td>English</td>\n",
       "      <td>N/A</td>\n",
       "      <td>...</td>\n",
       "      <td>Puss in Boots</td>\n",
       "      <td>movie</td>\n",
       "      <td>N/A</td>\n",
       "      <td>Charles Perrault (fairy tale \"Le chat botté\"),...</td>\n",
       "      <td>1988</td>\n",
       "      <td>tt0177606</td>\n",
       "      <td>6.4</td>\n",
       "      <td>537</td>\n",
       "      <td>NaN</td>\n",
       "      <td>NaN</td>\n",
       "    </tr>\n",
       "    <tr>\n",
       "      <th>3</th>\n",
       "      <td>N/A</td>\n",
       "      <td>N/A</td>\n",
       "      <td>N/A</td>\n",
       "      <td>N/A</td>\n",
       "      <td>N/A</td>\n",
       "      <td>N/A</td>\n",
       "      <td>NaN</td>\n",
       "      <td>N/A</td>\n",
       "      <td>N/A</td>\n",
       "      <td>N/A</td>\n",
       "      <td>...</td>\n",
       "      <td>#DUPE#</td>\n",
       "      <td>movie</td>\n",
       "      <td>N/A</td>\n",
       "      <td>N/A</td>\n",
       "      <td>1972</td>\n",
       "      <td>tt0068444</td>\n",
       "      <td>N/A</td>\n",
       "      <td>N/A</td>\n",
       "      <td>NaN</td>\n",
       "      <td>NaN</td>\n",
       "    </tr>\n",
       "    <tr>\n",
       "      <th>4</th>\n",
       "      <td>Shemp Howard, Larry Fine, Moe Howard, Christin...</td>\n",
       "      <td>N/A</td>\n",
       "      <td>N/A</td>\n",
       "      <td>USA</td>\n",
       "      <td>N/A</td>\n",
       "      <td>Edward Bernds</td>\n",
       "      <td>NaN</td>\n",
       "      <td>Comedy, Short</td>\n",
       "      <td>English</td>\n",
       "      <td>N/A</td>\n",
       "      <td>...</td>\n",
       "      <td>Who Done It?</td>\n",
       "      <td>movie</td>\n",
       "      <td>N/A</td>\n",
       "      <td>Edward Bernds (story), Edward Bernds (screenplay)</td>\n",
       "      <td>1949</td>\n",
       "      <td>tt0042042</td>\n",
       "      <td>8.2</td>\n",
       "      <td>335</td>\n",
       "      <td>NaN</td>\n",
       "      <td>NaN</td>\n",
       "    </tr>\n",
       "  </tbody>\n",
       "</table>\n",
       "<p>5 rows × 29 columns</p>\n",
       "</div>"
      ],
      "text/plain": [
       "                                              Actors Awards BoxOffice  \\\n",
       "0  Seth Allen, John Bakos, Mari-Claire Charba, Pe...    N/A       N/A   \n",
       "1  Jane Fonda, Robert De Niro, Swoosie Kurtz, Mar...    N/A       N/A   \n",
       "2  Christopher Walken, Jason Connery, Carmela Mar...    N/A       N/A   \n",
       "3                                                N/A    N/A       N/A   \n",
       "4  Shemp Howard, Larry Fine, Moe Howard, Christin...    N/A       N/A   \n",
       "\n",
       "       Country          DVD       Director Episode                     Genre  \\\n",
       "0          USA          N/A   Tom O'Horgan     NaN                    Comedy   \n",
       "1  USA, Canada  13 Jan 2004    Martin Ritt     NaN            Drama, Romance   \n",
       "2          USA  09 Aug 2005  Eugene Marner     NaN  Fantasy, Musical, Family   \n",
       "3          N/A          N/A            N/A     NaN                       N/A   \n",
       "4          USA          N/A  Edward Bernds     NaN             Comedy, Short   \n",
       "\n",
       "  Language Metascore  ...           Title   Type Website  \\\n",
       "0  English       N/A  ...            Futz  movie     N/A   \n",
       "1  English       N/A  ...  Stanley & Iris  movie     N/A   \n",
       "2  English       N/A  ...   Puss in Boots  movie     N/A   \n",
       "3      N/A       N/A  ...          #DUPE#  movie     N/A   \n",
       "4  English       N/A  ...    Who Done It?  movie     N/A   \n",
       "\n",
       "                                              Writer  Year     imdbID  \\\n",
       "0  Rochelle Owens (play), Joseph Stefano (screenp...  1969  tt0064354   \n",
       "1  Pat Barker (novel), Harriet Frank Jr. (screenp...  1990  tt0100680   \n",
       "2  Charles Perrault (fairy tale \"Le chat botté\"),...  1988  tt0177606   \n",
       "3                                                N/A  1972  tt0068444   \n",
       "4  Edward Bernds (story), Edward Bernds (screenplay)  1949  tt0042042   \n",
       "\n",
       "  imdbRating imdbVotes seriesID totalSeasons  \n",
       "0        4.8        50      NaN          NaN  \n",
       "1        6.3     6,502      NaN          NaN  \n",
       "2        6.4       537      NaN          NaN  \n",
       "3        N/A       N/A      NaN          NaN  \n",
       "4        8.2       335      NaN          NaN  \n",
       "\n",
       "[5 rows x 29 columns]"
      ]
     },
     "execution_count": 7,
     "metadata": {},
     "output_type": "execute_result"
    }
   ],
   "source": [
    "train.head()"
   ]
  },
  {
   "cell_type": "code",
   "execution_count": 8,
   "metadata": {},
   "outputs": [],
   "source": [
    "combined = pd.concat([train, test], ignore_index=True)\n",
    "movies = combined[[\"imdbID\", \"Title\", \"Ratings\", \"imdbRating\", \"imdbVotes\", \"Language\", \"Genre\"]].dropna()\n",
    "movies.drop_duplicates(subset=['imdbID'], keep=False, inplace=True)"
   ]
  },
  {
   "cell_type": "code",
   "execution_count": 9,
   "metadata": {},
   "outputs": [
    {
     "data": {
      "text/html": [
       "<div>\n",
       "<style scoped>\n",
       "    .dataframe tbody tr th:only-of-type {\n",
       "        vertical-align: middle;\n",
       "    }\n",
       "\n",
       "    .dataframe tbody tr th {\n",
       "        vertical-align: top;\n",
       "    }\n",
       "\n",
       "    .dataframe thead th {\n",
       "        text-align: right;\n",
       "    }\n",
       "</style>\n",
       "<table border=\"1\" class=\"dataframe\">\n",
       "  <thead>\n",
       "    <tr style=\"text-align: right;\">\n",
       "      <th></th>\n",
       "      <th>imdbID</th>\n",
       "      <th>Title</th>\n",
       "      <th>Ratings</th>\n",
       "      <th>imdbRating</th>\n",
       "      <th>imdbVotes</th>\n",
       "      <th>Language</th>\n",
       "      <th>Genre</th>\n",
       "    </tr>\n",
       "  </thead>\n",
       "  <tbody>\n",
       "    <tr>\n",
       "      <th>7029</th>\n",
       "      <td>tt0258760</td>\n",
       "      <td>Lammbock</td>\n",
       "      <td>[{'Source': 'Internet Movie Database', 'Value'...</td>\n",
       "      <td>7.3</td>\n",
       "      <td>10,180</td>\n",
       "      <td>German</td>\n",
       "      <td>Comedy</td>\n",
       "    </tr>\n",
       "    <tr>\n",
       "      <th>7030</th>\n",
       "      <td>tt0146455</td>\n",
       "      <td>Babylon 5: A Call to Arms</td>\n",
       "      <td>[{'Source': 'Internet Movie Database', 'Value'...</td>\n",
       "      <td>7.2</td>\n",
       "      <td>4,976</td>\n",
       "      <td>English</td>\n",
       "      <td>Action, Adventure, Drama, Sci-Fi</td>\n",
       "    </tr>\n",
       "    <tr>\n",
       "      <th>7031</th>\n",
       "      <td>tt0432047</td>\n",
       "      <td>Sarkar</td>\n",
       "      <td>[{'Source': 'Internet Movie Database', 'Value'...</td>\n",
       "      <td>7.7</td>\n",
       "      <td>14,199</td>\n",
       "      <td>Hindi, Marathi</td>\n",
       "      <td>Crime, Drama</td>\n",
       "    </tr>\n",
       "    <tr>\n",
       "      <th>7032</th>\n",
       "      <td>tt0109515</td>\n",
       "      <td>Cyber Tracker</td>\n",
       "      <td>[{'Source': 'Internet Movie Database', 'Value'...</td>\n",
       "      <td>3.5</td>\n",
       "      <td>971</td>\n",
       "      <td>English</td>\n",
       "      <td>Action, Sci-Fi</td>\n",
       "    </tr>\n",
       "    <tr>\n",
       "      <th>7033</th>\n",
       "      <td>tt0485161</td>\n",
       "      <td>Totally Awesome</td>\n",
       "      <td>[{'Source': 'Internet Movie Database', 'Value'...</td>\n",
       "      <td>5.2</td>\n",
       "      <td>1,625</td>\n",
       "      <td>English</td>\n",
       "      <td>Comedy</td>\n",
       "    </tr>\n",
       "  </tbody>\n",
       "</table>\n",
       "</div>"
      ],
      "text/plain": [
       "         imdbID                      Title  \\\n",
       "7029  tt0258760                   Lammbock   \n",
       "7030  tt0146455  Babylon 5: A Call to Arms   \n",
       "7031  tt0432047                     Sarkar   \n",
       "7032  tt0109515              Cyber Tracker   \n",
       "7033  tt0485161            Totally Awesome   \n",
       "\n",
       "                                                Ratings imdbRating imdbVotes  \\\n",
       "7029  [{'Source': 'Internet Movie Database', 'Value'...        7.3    10,180   \n",
       "7030  [{'Source': 'Internet Movie Database', 'Value'...        7.2     4,976   \n",
       "7031  [{'Source': 'Internet Movie Database', 'Value'...        7.7    14,199   \n",
       "7032  [{'Source': 'Internet Movie Database', 'Value'...        3.5       971   \n",
       "7033  [{'Source': 'Internet Movie Database', 'Value'...        5.2     1,625   \n",
       "\n",
       "            Language                             Genre  \n",
       "7029          German                            Comedy  \n",
       "7030         English  Action, Adventure, Drama, Sci-Fi  \n",
       "7031  Hindi, Marathi                      Crime, Drama  \n",
       "7032         English                    Action, Sci-Fi  \n",
       "7033         English                            Comedy  "
      ]
     },
     "execution_count": 9,
     "metadata": {},
     "output_type": "execute_result"
    }
   ],
   "source": [
    "movies.tail()"
   ]
  },
  {
   "cell_type": "code",
   "execution_count": 10,
   "metadata": {},
   "outputs": [
    {
     "data": {
      "text/plain": [
       "(6914, 7)"
      ]
     },
     "execution_count": 10,
     "metadata": {},
     "output_type": "execute_result"
    }
   ],
   "source": [
    "movies.shape"
   ]
  },
  {
   "cell_type": "markdown",
   "metadata": {},
   "source": [
    "### Encoding genres"
   ]
  },
  {
   "cell_type": "code",
   "execution_count": 11,
   "metadata": {},
   "outputs": [
    {
     "name": "stdout",
     "output_type": "stream",
     "text": [
      "{' Sci-Fi', ' Short', ' Biography', 'Horror', ' Mystery', ' Musical', ' Drama', ' Game-Show', 'Sci-Fi', ' Family', 'Family', 'Biography', 'Documentary', 'Sport', 'War', ' Adventure', ' Adult', ' History', ' Film-Noir', 'Game-Show', ' Crime', ' Reality-TV', ' Action', 'History', 'Adventure', ' Documentary', 'Musical', ' Romance', 'Short', 'Romance', 'Music', 'Fantasy', ' Fantasy', ' Music', ' Horror', ' Sport', 'Action', ' Talk-Show', 'Crime', 'Thriller', ' Thriller', ' War', 'Reality-TV', 'News', 'Talk-Show', 'Mystery', 'Adult', 'Animation', ' Western', 'Drama', 'N/A', 'Film-Noir', 'Western', ' News', ' Animation', 'Comedy', ' Comedy'}\n",
      "57\n"
     ]
    }
   ],
   "source": [
    "# split genres and printing\n",
    "genres = set([j for i in [i.split(\",\") for i in movies['Genre']] for j in i])\n",
    "print(genres)\n",
    "print(len(genres))"
   ]
  },
  {
   "cell_type": "code",
   "execution_count": 12,
   "metadata": {},
   "outputs": [
    {
     "data": {
      "application/vnd.plotly.v1+json": {
       "config": {
        "linkText": "Export to plot.ly",
        "plotlyServerURL": "https://plot.ly",
        "showLink": false
       },
       "data": [
        {
         "marker": {
          "color": "rgb(158,202,225)",
          "line": {
           "color": "rgb(8,48,107)",
           "width": 1.5
          }
         },
         "opacity": 0.6,
         "type": "bar",
         "x": [
          " Sci-Fi",
          " Short",
          " Biography",
          "Horror",
          " Mystery",
          " Musical",
          " Drama",
          " Game-Show",
          "Sci-Fi",
          " Family",
          "Family",
          "Biography",
          "Documentary",
          "Sport",
          "War",
          " Adventure",
          " Adult",
          " History",
          " Film-Noir",
          "Game-Show",
          " Crime",
          " Reality-TV",
          " Action",
          "History",
          "Adventure",
          " Documentary",
          "Musical",
          " Romance",
          "Short",
          "Romance",
          "Music",
          "Fantasy",
          " Fantasy",
          " Music",
          " Horror",
          " Sport",
          "Action",
          " Talk-Show",
          "Crime",
          "Thriller",
          " Thriller",
          " War",
          "Reality-TV",
          "News",
          "Talk-Show",
          "Mystery",
          "Adult",
          "Animation",
          " Western",
          "Drama",
          "N/A",
          "Film-Noir",
          "Western",
          " News",
          " Animation",
          "Comedy",
          " Comedy"
         ],
         "y": [
          588,
          166,
          57,
          972,
          519,
          197,
          1649,
          5,
          641,
          404,
          467,
          229,
          262,
          135,
          264,
          412,
          3,
          195,
          79,
          15,
          430,
          29,
          126,
          198,
          713,
          12,
          235,
          1157,
          269,
          1197,
          444,
          527,
          460,
          392,
          488,
          128,
          1081,
          11,
          901,
          1278,
          1182,
          257,
          45,
          8,
          15,
          580,
          16,
          320,
          133,
          3131,
          334,
          82,
          180,
          3,
          27,
          2076,
          554
         ]
        }
       ],
       "layout": {
        "template": {
         "data": {
          "bar": [
           {
            "error_x": {
             "color": "#2a3f5f"
            },
            "error_y": {
             "color": "#2a3f5f"
            },
            "marker": {
             "line": {
              "color": "#E5ECF6",
              "width": 0.5
             }
            },
            "type": "bar"
           }
          ],
          "barpolar": [
           {
            "marker": {
             "line": {
              "color": "#E5ECF6",
              "width": 0.5
             }
            },
            "type": "barpolar"
           }
          ],
          "carpet": [
           {
            "aaxis": {
             "endlinecolor": "#2a3f5f",
             "gridcolor": "white",
             "linecolor": "white",
             "minorgridcolor": "white",
             "startlinecolor": "#2a3f5f"
            },
            "baxis": {
             "endlinecolor": "#2a3f5f",
             "gridcolor": "white",
             "linecolor": "white",
             "minorgridcolor": "white",
             "startlinecolor": "#2a3f5f"
            },
            "type": "carpet"
           }
          ],
          "choropleth": [
           {
            "colorbar": {
             "outlinewidth": 0,
             "ticks": ""
            },
            "type": "choropleth"
           }
          ],
          "contour": [
           {
            "colorbar": {
             "outlinewidth": 0,
             "ticks": ""
            },
            "colorscale": [
             [
              0,
              "#0d0887"
             ],
             [
              0.1111111111111111,
              "#46039f"
             ],
             [
              0.2222222222222222,
              "#7201a8"
             ],
             [
              0.3333333333333333,
              "#9c179e"
             ],
             [
              0.4444444444444444,
              "#bd3786"
             ],
             [
              0.5555555555555556,
              "#d8576b"
             ],
             [
              0.6666666666666666,
              "#ed7953"
             ],
             [
              0.7777777777777778,
              "#fb9f3a"
             ],
             [
              0.8888888888888888,
              "#fdca26"
             ],
             [
              1,
              "#f0f921"
             ]
            ],
            "type": "contour"
           }
          ],
          "contourcarpet": [
           {
            "colorbar": {
             "outlinewidth": 0,
             "ticks": ""
            },
            "type": "contourcarpet"
           }
          ],
          "heatmap": [
           {
            "colorbar": {
             "outlinewidth": 0,
             "ticks": ""
            },
            "colorscale": [
             [
              0,
              "#0d0887"
             ],
             [
              0.1111111111111111,
              "#46039f"
             ],
             [
              0.2222222222222222,
              "#7201a8"
             ],
             [
              0.3333333333333333,
              "#9c179e"
             ],
             [
              0.4444444444444444,
              "#bd3786"
             ],
             [
              0.5555555555555556,
              "#d8576b"
             ],
             [
              0.6666666666666666,
              "#ed7953"
             ],
             [
              0.7777777777777778,
              "#fb9f3a"
             ],
             [
              0.8888888888888888,
              "#fdca26"
             ],
             [
              1,
              "#f0f921"
             ]
            ],
            "type": "heatmap"
           }
          ],
          "heatmapgl": [
           {
            "colorbar": {
             "outlinewidth": 0,
             "ticks": ""
            },
            "colorscale": [
             [
              0,
              "#0d0887"
             ],
             [
              0.1111111111111111,
              "#46039f"
             ],
             [
              0.2222222222222222,
              "#7201a8"
             ],
             [
              0.3333333333333333,
              "#9c179e"
             ],
             [
              0.4444444444444444,
              "#bd3786"
             ],
             [
              0.5555555555555556,
              "#d8576b"
             ],
             [
              0.6666666666666666,
              "#ed7953"
             ],
             [
              0.7777777777777778,
              "#fb9f3a"
             ],
             [
              0.8888888888888888,
              "#fdca26"
             ],
             [
              1,
              "#f0f921"
             ]
            ],
            "type": "heatmapgl"
           }
          ],
          "histogram": [
           {
            "marker": {
             "colorbar": {
              "outlinewidth": 0,
              "ticks": ""
             }
            },
            "type": "histogram"
           }
          ],
          "histogram2d": [
           {
            "colorbar": {
             "outlinewidth": 0,
             "ticks": ""
            },
            "colorscale": [
             [
              0,
              "#0d0887"
             ],
             [
              0.1111111111111111,
              "#46039f"
             ],
             [
              0.2222222222222222,
              "#7201a8"
             ],
             [
              0.3333333333333333,
              "#9c179e"
             ],
             [
              0.4444444444444444,
              "#bd3786"
             ],
             [
              0.5555555555555556,
              "#d8576b"
             ],
             [
              0.6666666666666666,
              "#ed7953"
             ],
             [
              0.7777777777777778,
              "#fb9f3a"
             ],
             [
              0.8888888888888888,
              "#fdca26"
             ],
             [
              1,
              "#f0f921"
             ]
            ],
            "type": "histogram2d"
           }
          ],
          "histogram2dcontour": [
           {
            "colorbar": {
             "outlinewidth": 0,
             "ticks": ""
            },
            "colorscale": [
             [
              0,
              "#0d0887"
             ],
             [
              0.1111111111111111,
              "#46039f"
             ],
             [
              0.2222222222222222,
              "#7201a8"
             ],
             [
              0.3333333333333333,
              "#9c179e"
             ],
             [
              0.4444444444444444,
              "#bd3786"
             ],
             [
              0.5555555555555556,
              "#d8576b"
             ],
             [
              0.6666666666666666,
              "#ed7953"
             ],
             [
              0.7777777777777778,
              "#fb9f3a"
             ],
             [
              0.8888888888888888,
              "#fdca26"
             ],
             [
              1,
              "#f0f921"
             ]
            ],
            "type": "histogram2dcontour"
           }
          ],
          "mesh3d": [
           {
            "colorbar": {
             "outlinewidth": 0,
             "ticks": ""
            },
            "type": "mesh3d"
           }
          ],
          "parcoords": [
           {
            "line": {
             "colorbar": {
              "outlinewidth": 0,
              "ticks": ""
             }
            },
            "type": "parcoords"
           }
          ],
          "scatter": [
           {
            "marker": {
             "colorbar": {
              "outlinewidth": 0,
              "ticks": ""
             }
            },
            "type": "scatter"
           }
          ],
          "scatter3d": [
           {
            "line": {
             "colorbar": {
              "outlinewidth": 0,
              "ticks": ""
             }
            },
            "marker": {
             "colorbar": {
              "outlinewidth": 0,
              "ticks": ""
             }
            },
            "type": "scatter3d"
           }
          ],
          "scattercarpet": [
           {
            "marker": {
             "colorbar": {
              "outlinewidth": 0,
              "ticks": ""
             }
            },
            "type": "scattercarpet"
           }
          ],
          "scattergeo": [
           {
            "marker": {
             "colorbar": {
              "outlinewidth": 0,
              "ticks": ""
             }
            },
            "type": "scattergeo"
           }
          ],
          "scattergl": [
           {
            "marker": {
             "colorbar": {
              "outlinewidth": 0,
              "ticks": ""
             }
            },
            "type": "scattergl"
           }
          ],
          "scattermapbox": [
           {
            "marker": {
             "colorbar": {
              "outlinewidth": 0,
              "ticks": ""
             }
            },
            "type": "scattermapbox"
           }
          ],
          "scatterpolar": [
           {
            "marker": {
             "colorbar": {
              "outlinewidth": 0,
              "ticks": ""
             }
            },
            "type": "scatterpolar"
           }
          ],
          "scatterpolargl": [
           {
            "marker": {
             "colorbar": {
              "outlinewidth": 0,
              "ticks": ""
             }
            },
            "type": "scatterpolargl"
           }
          ],
          "scatterternary": [
           {
            "marker": {
             "colorbar": {
              "outlinewidth": 0,
              "ticks": ""
             }
            },
            "type": "scatterternary"
           }
          ],
          "surface": [
           {
            "colorbar": {
             "outlinewidth": 0,
             "ticks": ""
            },
            "colorscale": [
             [
              0,
              "#0d0887"
             ],
             [
              0.1111111111111111,
              "#46039f"
             ],
             [
              0.2222222222222222,
              "#7201a8"
             ],
             [
              0.3333333333333333,
              "#9c179e"
             ],
             [
              0.4444444444444444,
              "#bd3786"
             ],
             [
              0.5555555555555556,
              "#d8576b"
             ],
             [
              0.6666666666666666,
              "#ed7953"
             ],
             [
              0.7777777777777778,
              "#fb9f3a"
             ],
             [
              0.8888888888888888,
              "#fdca26"
             ],
             [
              1,
              "#f0f921"
             ]
            ],
            "type": "surface"
           }
          ],
          "table": [
           {
            "cells": {
             "fill": {
              "color": "#EBF0F8"
             },
             "line": {
              "color": "white"
             }
            },
            "header": {
             "fill": {
              "color": "#C8D4E3"
             },
             "line": {
              "color": "white"
             }
            },
            "type": "table"
           }
          ]
         },
         "layout": {
          "annotationdefaults": {
           "arrowcolor": "#2a3f5f",
           "arrowhead": 0,
           "arrowwidth": 1
          },
          "colorscale": {
           "diverging": [
            [
             0,
             "#8e0152"
            ],
            [
             0.1,
             "#c51b7d"
            ],
            [
             0.2,
             "#de77ae"
            ],
            [
             0.3,
             "#f1b6da"
            ],
            [
             0.4,
             "#fde0ef"
            ],
            [
             0.5,
             "#f7f7f7"
            ],
            [
             0.6,
             "#e6f5d0"
            ],
            [
             0.7,
             "#b8e186"
            ],
            [
             0.8,
             "#7fbc41"
            ],
            [
             0.9,
             "#4d9221"
            ],
            [
             1,
             "#276419"
            ]
           ],
           "sequential": [
            [
             0,
             "#0d0887"
            ],
            [
             0.1111111111111111,
             "#46039f"
            ],
            [
             0.2222222222222222,
             "#7201a8"
            ],
            [
             0.3333333333333333,
             "#9c179e"
            ],
            [
             0.4444444444444444,
             "#bd3786"
            ],
            [
             0.5555555555555556,
             "#d8576b"
            ],
            [
             0.6666666666666666,
             "#ed7953"
            ],
            [
             0.7777777777777778,
             "#fb9f3a"
            ],
            [
             0.8888888888888888,
             "#fdca26"
            ],
            [
             1,
             "#f0f921"
            ]
           ],
           "sequentialminus": [
            [
             0,
             "#0d0887"
            ],
            [
             0.1111111111111111,
             "#46039f"
            ],
            [
             0.2222222222222222,
             "#7201a8"
            ],
            [
             0.3333333333333333,
             "#9c179e"
            ],
            [
             0.4444444444444444,
             "#bd3786"
            ],
            [
             0.5555555555555556,
             "#d8576b"
            ],
            [
             0.6666666666666666,
             "#ed7953"
            ],
            [
             0.7777777777777778,
             "#fb9f3a"
            ],
            [
             0.8888888888888888,
             "#fdca26"
            ],
            [
             1,
             "#f0f921"
            ]
           ]
          },
          "colorway": [
           "#636efa",
           "#EF553B",
           "#00cc96",
           "#ab63fa",
           "#FFA15A",
           "#19d3f3",
           "#FF6692",
           "#B6E880",
           "#FF97FF",
           "#FECB52"
          ],
          "font": {
           "color": "#2a3f5f"
          },
          "geo": {
           "bgcolor": "white",
           "lakecolor": "white",
           "landcolor": "#E5ECF6",
           "showlakes": true,
           "showland": true,
           "subunitcolor": "white"
          },
          "hoverlabel": {
           "align": "left"
          },
          "hovermode": "closest",
          "mapbox": {
           "style": "light"
          },
          "paper_bgcolor": "white",
          "plot_bgcolor": "#E5ECF6",
          "polar": {
           "angularaxis": {
            "gridcolor": "white",
            "linecolor": "white",
            "ticks": ""
           },
           "bgcolor": "#E5ECF6",
           "radialaxis": {
            "gridcolor": "white",
            "linecolor": "white",
            "ticks": ""
           }
          },
          "scene": {
           "xaxis": {
            "backgroundcolor": "#E5ECF6",
            "gridcolor": "white",
            "gridwidth": 2,
            "linecolor": "white",
            "showbackground": true,
            "ticks": "",
            "zerolinecolor": "white"
           },
           "yaxis": {
            "backgroundcolor": "#E5ECF6",
            "gridcolor": "white",
            "gridwidth": 2,
            "linecolor": "white",
            "showbackground": true,
            "ticks": "",
            "zerolinecolor": "white"
           },
           "zaxis": {
            "backgroundcolor": "#E5ECF6",
            "gridcolor": "white",
            "gridwidth": 2,
            "linecolor": "white",
            "showbackground": true,
            "ticks": "",
            "zerolinecolor": "white"
           }
          },
          "shapedefaults": {
           "line": {
            "color": "#2a3f5f"
           }
          },
          "ternary": {
           "aaxis": {
            "gridcolor": "white",
            "linecolor": "white",
            "ticks": ""
           },
           "baxis": {
            "gridcolor": "white",
            "linecolor": "white",
            "ticks": ""
           },
           "bgcolor": "#E5ECF6",
           "caxis": {
            "gridcolor": "white",
            "linecolor": "white",
            "ticks": ""
           }
          },
          "title": {
           "x": 0.05
          },
          "xaxis": {
           "automargin": true,
           "gridcolor": "white",
           "linecolor": "white",
           "ticks": "",
           "zerolinecolor": "white",
           "zerolinewidth": 2
          },
          "yaxis": {
           "automargin": true,
           "gridcolor": "white",
           "linecolor": "white",
           "ticks": "",
           "zerolinecolor": "white",
           "zerolinewidth": 2
          }
         }
        },
        "title": {
         "text": "Movies per Genre"
        },
        "xaxis": {
         "title": {
          "text": "Genres"
         }
        },
        "yaxis": {
         "title": {
          "text": "Number of Movies"
         }
        }
       }
      },
      "text/html": [
       "<div>\n",
       "        \n",
       "        \n",
       "            <div id=\"ac513231-1d9f-44d0-a4cc-f4c4528e181f\" class=\"plotly-graph-div\" style=\"height:525px; width:100%;\"></div>\n",
       "            <script type=\"text/javascript\">\n",
       "                require([\"plotly\"], function(Plotly) {\n",
       "                    window.PLOTLYENV=window.PLOTLYENV || {};\n",
       "                    \n",
       "                if (document.getElementById(\"ac513231-1d9f-44d0-a4cc-f4c4528e181f\")) {\n",
       "                    Plotly.newPlot(\n",
       "                        'ac513231-1d9f-44d0-a4cc-f4c4528e181f',\n",
       "                        [{\"marker\": {\"color\": \"rgb(158,202,225)\", \"line\": {\"color\": \"rgb(8,48,107)\", \"width\": 1.5}}, \"opacity\": 0.6, \"type\": \"bar\", \"x\": [\" Sci-Fi\", \" Short\", \" Biography\", \"Horror\", \" Mystery\", \" Musical\", \" Drama\", \" Game-Show\", \"Sci-Fi\", \" Family\", \"Family\", \"Biography\", \"Documentary\", \"Sport\", \"War\", \" Adventure\", \" Adult\", \" History\", \" Film-Noir\", \"Game-Show\", \" Crime\", \" Reality-TV\", \" Action\", \"History\", \"Adventure\", \" Documentary\", \"Musical\", \" Romance\", \"Short\", \"Romance\", \"Music\", \"Fantasy\", \" Fantasy\", \" Music\", \" Horror\", \" Sport\", \"Action\", \" Talk-Show\", \"Crime\", \"Thriller\", \" Thriller\", \" War\", \"Reality-TV\", \"News\", \"Talk-Show\", \"Mystery\", \"Adult\", \"Animation\", \" Western\", \"Drama\", \"N/A\", \"Film-Noir\", \"Western\", \" News\", \" Animation\", \"Comedy\", \" Comedy\"], \"y\": [588, 166, 57, 972, 519, 197, 1649, 5, 641, 404, 467, 229, 262, 135, 264, 412, 3, 195, 79, 15, 430, 29, 126, 198, 713, 12, 235, 1157, 269, 1197, 444, 527, 460, 392, 488, 128, 1081, 11, 901, 1278, 1182, 257, 45, 8, 15, 580, 16, 320, 133, 3131, 334, 82, 180, 3, 27, 2076, 554]}],\n",
       "                        {\"template\": {\"data\": {\"bar\": [{\"error_x\": {\"color\": \"#2a3f5f\"}, \"error_y\": {\"color\": \"#2a3f5f\"}, \"marker\": {\"line\": {\"color\": \"#E5ECF6\", \"width\": 0.5}}, \"type\": \"bar\"}], \"barpolar\": [{\"marker\": {\"line\": {\"color\": \"#E5ECF6\", \"width\": 0.5}}, \"type\": \"barpolar\"}], \"carpet\": [{\"aaxis\": {\"endlinecolor\": \"#2a3f5f\", \"gridcolor\": \"white\", \"linecolor\": \"white\", \"minorgridcolor\": \"white\", \"startlinecolor\": \"#2a3f5f\"}, \"baxis\": {\"endlinecolor\": \"#2a3f5f\", \"gridcolor\": \"white\", \"linecolor\": \"white\", \"minorgridcolor\": \"white\", \"startlinecolor\": \"#2a3f5f\"}, \"type\": \"carpet\"}], \"choropleth\": [{\"colorbar\": {\"outlinewidth\": 0, \"ticks\": \"\"}, \"type\": \"choropleth\"}], \"contour\": [{\"colorbar\": {\"outlinewidth\": 0, \"ticks\": \"\"}, \"colorscale\": [[0.0, \"#0d0887\"], [0.1111111111111111, \"#46039f\"], [0.2222222222222222, \"#7201a8\"], [0.3333333333333333, \"#9c179e\"], [0.4444444444444444, \"#bd3786\"], [0.5555555555555556, \"#d8576b\"], [0.6666666666666666, \"#ed7953\"], [0.7777777777777778, \"#fb9f3a\"], [0.8888888888888888, \"#fdca26\"], [1.0, \"#f0f921\"]], \"type\": \"contour\"}], \"contourcarpet\": [{\"colorbar\": {\"outlinewidth\": 0, \"ticks\": \"\"}, \"type\": \"contourcarpet\"}], \"heatmap\": [{\"colorbar\": {\"outlinewidth\": 0, \"ticks\": \"\"}, \"colorscale\": [[0.0, \"#0d0887\"], [0.1111111111111111, \"#46039f\"], [0.2222222222222222, \"#7201a8\"], [0.3333333333333333, \"#9c179e\"], [0.4444444444444444, \"#bd3786\"], [0.5555555555555556, \"#d8576b\"], [0.6666666666666666, \"#ed7953\"], [0.7777777777777778, \"#fb9f3a\"], [0.8888888888888888, \"#fdca26\"], [1.0, \"#f0f921\"]], \"type\": \"heatmap\"}], \"heatmapgl\": [{\"colorbar\": {\"outlinewidth\": 0, \"ticks\": \"\"}, \"colorscale\": [[0.0, \"#0d0887\"], [0.1111111111111111, \"#46039f\"], [0.2222222222222222, \"#7201a8\"], [0.3333333333333333, \"#9c179e\"], [0.4444444444444444, \"#bd3786\"], [0.5555555555555556, \"#d8576b\"], [0.6666666666666666, \"#ed7953\"], [0.7777777777777778, \"#fb9f3a\"], [0.8888888888888888, \"#fdca26\"], [1.0, \"#f0f921\"]], \"type\": \"heatmapgl\"}], \"histogram\": [{\"marker\": {\"colorbar\": {\"outlinewidth\": 0, \"ticks\": \"\"}}, \"type\": \"histogram\"}], \"histogram2d\": [{\"colorbar\": {\"outlinewidth\": 0, \"ticks\": \"\"}, \"colorscale\": [[0.0, \"#0d0887\"], [0.1111111111111111, \"#46039f\"], [0.2222222222222222, \"#7201a8\"], [0.3333333333333333, \"#9c179e\"], [0.4444444444444444, \"#bd3786\"], [0.5555555555555556, \"#d8576b\"], [0.6666666666666666, \"#ed7953\"], [0.7777777777777778, \"#fb9f3a\"], [0.8888888888888888, \"#fdca26\"], [1.0, \"#f0f921\"]], \"type\": \"histogram2d\"}], \"histogram2dcontour\": [{\"colorbar\": {\"outlinewidth\": 0, \"ticks\": \"\"}, \"colorscale\": [[0.0, \"#0d0887\"], [0.1111111111111111, \"#46039f\"], [0.2222222222222222, \"#7201a8\"], [0.3333333333333333, \"#9c179e\"], [0.4444444444444444, \"#bd3786\"], [0.5555555555555556, \"#d8576b\"], [0.6666666666666666, \"#ed7953\"], [0.7777777777777778, \"#fb9f3a\"], [0.8888888888888888, \"#fdca26\"], [1.0, \"#f0f921\"]], \"type\": \"histogram2dcontour\"}], \"mesh3d\": [{\"colorbar\": {\"outlinewidth\": 0, \"ticks\": \"\"}, \"type\": \"mesh3d\"}], \"parcoords\": [{\"line\": {\"colorbar\": {\"outlinewidth\": 0, \"ticks\": \"\"}}, \"type\": \"parcoords\"}], \"scatter\": [{\"marker\": {\"colorbar\": {\"outlinewidth\": 0, \"ticks\": \"\"}}, \"type\": \"scatter\"}], \"scatter3d\": [{\"line\": {\"colorbar\": {\"outlinewidth\": 0, \"ticks\": \"\"}}, \"marker\": {\"colorbar\": {\"outlinewidth\": 0, \"ticks\": \"\"}}, \"type\": \"scatter3d\"}], \"scattercarpet\": [{\"marker\": {\"colorbar\": {\"outlinewidth\": 0, \"ticks\": \"\"}}, \"type\": \"scattercarpet\"}], \"scattergeo\": [{\"marker\": {\"colorbar\": {\"outlinewidth\": 0, \"ticks\": \"\"}}, \"type\": \"scattergeo\"}], \"scattergl\": [{\"marker\": {\"colorbar\": {\"outlinewidth\": 0, \"ticks\": \"\"}}, \"type\": \"scattergl\"}], \"scattermapbox\": [{\"marker\": {\"colorbar\": {\"outlinewidth\": 0, \"ticks\": \"\"}}, \"type\": \"scattermapbox\"}], \"scatterpolar\": [{\"marker\": {\"colorbar\": {\"outlinewidth\": 0, \"ticks\": \"\"}}, \"type\": \"scatterpolar\"}], \"scatterpolargl\": [{\"marker\": {\"colorbar\": {\"outlinewidth\": 0, \"ticks\": \"\"}}, \"type\": \"scatterpolargl\"}], \"scatterternary\": [{\"marker\": {\"colorbar\": {\"outlinewidth\": 0, \"ticks\": \"\"}}, \"type\": \"scatterternary\"}], \"surface\": [{\"colorbar\": {\"outlinewidth\": 0, \"ticks\": \"\"}, \"colorscale\": [[0.0, \"#0d0887\"], [0.1111111111111111, \"#46039f\"], [0.2222222222222222, \"#7201a8\"], [0.3333333333333333, \"#9c179e\"], [0.4444444444444444, \"#bd3786\"], [0.5555555555555556, \"#d8576b\"], [0.6666666666666666, \"#ed7953\"], [0.7777777777777778, \"#fb9f3a\"], [0.8888888888888888, \"#fdca26\"], [1.0, \"#f0f921\"]], \"type\": \"surface\"}], \"table\": [{\"cells\": {\"fill\": {\"color\": \"#EBF0F8\"}, \"line\": {\"color\": \"white\"}}, \"header\": {\"fill\": {\"color\": \"#C8D4E3\"}, \"line\": {\"color\": \"white\"}}, \"type\": \"table\"}]}, \"layout\": {\"annotationdefaults\": {\"arrowcolor\": \"#2a3f5f\", \"arrowhead\": 0, \"arrowwidth\": 1}, \"colorscale\": {\"diverging\": [[0, \"#8e0152\"], [0.1, \"#c51b7d\"], [0.2, \"#de77ae\"], [0.3, \"#f1b6da\"], [0.4, \"#fde0ef\"], [0.5, \"#f7f7f7\"], [0.6, \"#e6f5d0\"], [0.7, \"#b8e186\"], [0.8, \"#7fbc41\"], [0.9, \"#4d9221\"], [1, \"#276419\"]], \"sequential\": [[0.0, \"#0d0887\"], [0.1111111111111111, \"#46039f\"], [0.2222222222222222, \"#7201a8\"], [0.3333333333333333, \"#9c179e\"], [0.4444444444444444, \"#bd3786\"], [0.5555555555555556, \"#d8576b\"], [0.6666666666666666, \"#ed7953\"], [0.7777777777777778, \"#fb9f3a\"], [0.8888888888888888, \"#fdca26\"], [1.0, \"#f0f921\"]], \"sequentialminus\": [[0.0, \"#0d0887\"], [0.1111111111111111, \"#46039f\"], [0.2222222222222222, \"#7201a8\"], [0.3333333333333333, \"#9c179e\"], [0.4444444444444444, \"#bd3786\"], [0.5555555555555556, \"#d8576b\"], [0.6666666666666666, \"#ed7953\"], [0.7777777777777778, \"#fb9f3a\"], [0.8888888888888888, \"#fdca26\"], [1.0, \"#f0f921\"]]}, \"colorway\": [\"#636efa\", \"#EF553B\", \"#00cc96\", \"#ab63fa\", \"#FFA15A\", \"#19d3f3\", \"#FF6692\", \"#B6E880\", \"#FF97FF\", \"#FECB52\"], \"font\": {\"color\": \"#2a3f5f\"}, \"geo\": {\"bgcolor\": \"white\", \"lakecolor\": \"white\", \"landcolor\": \"#E5ECF6\", \"showlakes\": true, \"showland\": true, \"subunitcolor\": \"white\"}, \"hoverlabel\": {\"align\": \"left\"}, \"hovermode\": \"closest\", \"mapbox\": {\"style\": \"light\"}, \"paper_bgcolor\": \"white\", \"plot_bgcolor\": \"#E5ECF6\", \"polar\": {\"angularaxis\": {\"gridcolor\": \"white\", \"linecolor\": \"white\", \"ticks\": \"\"}, \"bgcolor\": \"#E5ECF6\", \"radialaxis\": {\"gridcolor\": \"white\", \"linecolor\": \"white\", \"ticks\": \"\"}}, \"scene\": {\"xaxis\": {\"backgroundcolor\": \"#E5ECF6\", \"gridcolor\": \"white\", \"gridwidth\": 2, \"linecolor\": \"white\", \"showbackground\": true, \"ticks\": \"\", \"zerolinecolor\": \"white\"}, \"yaxis\": {\"backgroundcolor\": \"#E5ECF6\", \"gridcolor\": \"white\", \"gridwidth\": 2, \"linecolor\": \"white\", \"showbackground\": true, \"ticks\": \"\", \"zerolinecolor\": \"white\"}, \"zaxis\": {\"backgroundcolor\": \"#E5ECF6\", \"gridcolor\": \"white\", \"gridwidth\": 2, \"linecolor\": \"white\", \"showbackground\": true, \"ticks\": \"\", \"zerolinecolor\": \"white\"}}, \"shapedefaults\": {\"line\": {\"color\": \"#2a3f5f\"}}, \"ternary\": {\"aaxis\": {\"gridcolor\": \"white\", \"linecolor\": \"white\", \"ticks\": \"\"}, \"baxis\": {\"gridcolor\": \"white\", \"linecolor\": \"white\", \"ticks\": \"\"}, \"bgcolor\": \"#E5ECF6\", \"caxis\": {\"gridcolor\": \"white\", \"linecolor\": \"white\", \"ticks\": \"\"}}, \"title\": {\"x\": 0.05}, \"xaxis\": {\"automargin\": true, \"gridcolor\": \"white\", \"linecolor\": \"white\", \"ticks\": \"\", \"zerolinecolor\": \"white\", \"zerolinewidth\": 2}, \"yaxis\": {\"automargin\": true, \"gridcolor\": \"white\", \"linecolor\": \"white\", \"ticks\": \"\", \"zerolinecolor\": \"white\", \"zerolinewidth\": 2}}}, \"title\": {\"text\": \"Movies per Genre\"}, \"xaxis\": {\"title\": {\"text\": \"Genres\"}}, \"yaxis\": {\"title\": {\"text\": \"Number of Movies\"}}},\n",
       "                        {\"responsive\": true}\n",
       "                    ).then(function(){\n",
       "                            \n",
       "var gd = document.getElementById('ac513231-1d9f-44d0-a4cc-f4c4528e181f');\n",
       "var x = new MutationObserver(function (mutations, observer) {{\n",
       "        var display = window.getComputedStyle(gd).display;\n",
       "        if (!display || display === 'none') {{\n",
       "            console.log([gd, 'removed!']);\n",
       "            Plotly.purge(gd);\n",
       "            observer.disconnect();\n",
       "        }}\n",
       "}});\n",
       "\n",
       "// Listen for the removal of the full notebook cells\n",
       "var notebookContainer = gd.closest('#notebook-container');\n",
       "if (notebookContainer) {{\n",
       "    x.observe(notebookContainer, {childList: true});\n",
       "}}\n",
       "\n",
       "// Listen for the clearing of the current output cell\n",
       "var outputEl = gd.closest('.output');\n",
       "if (outputEl) {{\n",
       "    x.observe(outputEl, {childList: true});\n",
       "}}\n",
       "\n",
       "                        })\n",
       "                };\n",
       "                });\n",
       "            </script>\n",
       "        </div>"
      ]
     },
     "metadata": {},
     "output_type": "display_data"
    }
   ],
   "source": [
    "# Add columns based on new generes\n",
    "genres_dic = {j:[1 if j in i else 0 for i in movies[\"Genre\"]] for j in genres}\n",
    "# Plotting movies per genre\n",
    "data = [go.Bar(\n",
    "            x=list(genres_dic.keys()),\n",
    "            y=[sum(i) for i in genres_dic.values()]\n",
    "    )]\n",
    "fig = go.Figure(data=data)\n",
    "fig.update_traces(marker_color='rgb(158,202,225)', marker_line_color='rgb(8,48,107)',\n",
    "                  marker_line_width=1.5, opacity=0.6)\n",
    "fig.update_layout(\n",
    "    title=\"Movies per Genre\",\n",
    "    xaxis_title=\"Genres\",\n",
    "    yaxis_title=\"Number of Movies\",\n",
    ")\n",
    "\n",
    "iplot(fig)\n",
    "# There is an N/A genre - removing\n",
    "del genres_dic['N/A']"
   ]
  },
  {
   "cell_type": "markdown",
   "metadata": {},
   "source": [
    "### Similarly encoding languages"
   ]
  },
  {
   "cell_type": "code",
   "execution_count": 13,
   "metadata": {},
   "outputs": [
    {
     "name": "stdout",
     "output_type": "stream",
     "text": [
      "187\n"
     ]
    }
   ],
   "source": [
    "# split genres and printing\n",
    "languages = set([j for i in [i.split(\",\") for i in movies['Language']] for j in i])\n",
    "print(len(languages))"
   ]
  },
  {
   "cell_type": "code",
   "execution_count": 14,
   "metadata": {},
   "outputs": [
    {
     "data": {
      "application/vnd.plotly.v1+json": {
       "config": {
        "linkText": "Export to plot.ly",
        "plotlyServerURL": "https://plot.ly",
        "showLink": false
       },
       "data": [
        {
         "marker": {
          "color": "rgb(158,202,225)",
          "line": {
           "color": "rgb(8,48,107)",
           "width": 1.5
          }
         },
         "opacity": 0.6,
         "type": "bar",
         "x": [
          " American Sign Language",
          " Brazilian Sign Language",
          "Kazakh",
          "Greek",
          " Albanian",
          " Maori",
          " Norwegian",
          "Finnish",
          " Sinhalese",
          " Greek",
          " Sanskrit",
          " Welsh",
          " Gujarati",
          " Assamese",
          " Bambara",
          "Norwegian",
          " Tagalog",
          " Croatian",
          " Inuktitut",
          "Hebrew",
          " Dinka",
          " Esperanto",
          "Dutch",
          " Ryukyuan",
          " French Sign Language",
          " Xhosa",
          " Hindi",
          " Navajo",
          " Catalan",
          " Icelandic",
          "Thai",
          "Russian",
          " Frisian",
          " Swedish",
          " Wolof",
          " Nahuatl",
          " Corsican",
          " French",
          "Hopi",
          " Hungarian",
          " Hokkien",
          "Polish",
          " Eastern Frisian",
          "Romany",
          " Dutch",
          " Apache languages",
          " German",
          "Icelandic",
          " Ukrainian",
          " Urdu",
          "Tswana",
          " Serbian",
          " Mohawk",
          " Tamil",
          " Dari",
          "Catalan",
          " Kurdish",
          "Spanish",
          "Flemish",
          "Czech",
          "Bengali",
          " Estonian",
          "Telugu",
          " Bulgarian",
          "Indonesian",
          "Marathi",
          " Thai",
          "Georgian",
          "Tamil",
          " Khmer",
          " Czech",
          "Persian",
          " Tibetan",
          "Cantonese",
          "German",
          " Burmese",
          " Serbo-Croatian",
          "Estonian",
          "Armenian",
          " Chinese",
          " Rajasthani",
          "Hindi",
          "Italian",
          " Danish",
          "Hungarian",
          "Kannada",
          "Zulu",
          "Serbian",
          "Vietnamese",
          "English",
          "Korean",
          " Turkish",
          "Mandarin",
          " Aramaic",
          " Maya",
          " Gallegan",
          " Georgian",
          "Portuguese",
          "Malay",
          " British Sign Language",
          " Russian",
          " Latvian",
          " Hebrew",
          "Tibetan",
          "Tupi",
          " Finnish",
          " Romany",
          "Serbo-Croatian",
          " Latin",
          " Awadhi",
          " Hausa",
          "Dari",
          "Mongolian",
          "Japanese",
          " Romanian",
          "Swiss German",
          " Hakka",
          " Vietnamese",
          " Italian",
          " Pushto",
          " Parsee",
          " Afrikaans",
          " Mandarin",
          " Lingala",
          "Arabic",
          " Min Nan",
          " Swahili",
          " None",
          " Sindarin",
          " Egyptian (Ancient)",
          " Aboriginal",
          " English",
          " Lao",
          "Filipino",
          " Turkmen",
          " Swiss German",
          " Cantonese",
          " Shanxi",
          " Malayalam",
          " Marathi",
          " Aidoukrou",
          "French",
          "Latin",
          " Malay",
          " Polish",
          " Cree",
          " Sicilian",
          " Indonesian",
          " Zulu",
          " Neapolitan",
          " Arabic",
          " Bengali",
          "Turkish",
          " Polynesian",
          " Shoshoni",
          "Latvian",
          "Visayan",
          "Spanish Sign Language",
          " Slovak",
          "Urdu",
          " Persian",
          " Telugu",
          " Yiddish",
          " Bosnian",
          " Irish",
          " Syriac",
          " Ojibwa",
          " Portuguese",
          " Scottish Gaelic",
          " Sioux",
          " Japanese",
          " Assyrian Neo-Aramaic",
          " North American Indian",
          "None",
          " Punjabi",
          " Klingon",
          "Swedish",
          "Romanian",
          " Filipino",
          "N/A",
          "Danish",
          " Korean",
          "Rotuman",
          " Basque",
          "Slovenian",
          " Hawaiian",
          " Spanish"
         ],
         "y": [
          12,
          1,
          1,
          21,
          4,
          1,
          9,
          9,
          2,
          16,
          1,
          2,
          2,
          1,
          1,
          21,
          6,
          1,
          2,
          29,
          1,
          2,
          28,
          1,
          1,
          2,
          15,
          2,
          4,
          4,
          17,
          111,
          2,
          12,
          2,
          1,
          1,
          246,
          1,
          10,
          2,
          22,
          1,
          2,
          5,
          1,
          164,
          6,
          4,
          7,
          1,
          8,
          1,
          1,
          2,
          9,
          3,
          299,
          3,
          14,
          3,
          2,
          4,
          3,
          8,
          5,
          12,
          5,
          11,
          4,
          5,
          8,
          3,
          89,
          248,
          2,
          5,
          3,
          1,
          8,
          1,
          101,
          249,
          11,
          14,
          1,
          4,
          10,
          19,
          5615,
          42,
          10,
          91,
          2,
          1,
          2,
          1,
          49,
          5,
          1,
          76,
          1,
          18,
          4,
          1,
          3,
          1,
          9,
          30,
          1,
          1,
          3,
          1,
          210,
          7,
          5,
          1,
          15,
          131,
          1,
          1,
          6,
          51,
          1,
          47,
          1,
          3,
          2,
          2,
          1,
          2,
          231,
          1,
          6,
          1,
          3,
          31,
          1,
          2,
          2,
          1,
          441,
          31,
          4,
          14,
          1,
          2,
          3,
          2,
          3,
          39,
          2,
          26,
          1,
          1,
          2,
          1,
          1,
          4,
          9,
          7,
          2,
          8,
          2,
          4,
          2,
          1,
          28,
          4,
          2,
          64,
          1,
          2,
          13,
          7,
          5,
          39,
          12,
          3,
          376,
          26,
          9,
          1,
          1,
          1,
          2,
          200
         ]
        }
       ],
       "layout": {
        "template": {
         "data": {
          "bar": [
           {
            "error_x": {
             "color": "#2a3f5f"
            },
            "error_y": {
             "color": "#2a3f5f"
            },
            "marker": {
             "line": {
              "color": "#E5ECF6",
              "width": 0.5
             }
            },
            "type": "bar"
           }
          ],
          "barpolar": [
           {
            "marker": {
             "line": {
              "color": "#E5ECF6",
              "width": 0.5
             }
            },
            "type": "barpolar"
           }
          ],
          "carpet": [
           {
            "aaxis": {
             "endlinecolor": "#2a3f5f",
             "gridcolor": "white",
             "linecolor": "white",
             "minorgridcolor": "white",
             "startlinecolor": "#2a3f5f"
            },
            "baxis": {
             "endlinecolor": "#2a3f5f",
             "gridcolor": "white",
             "linecolor": "white",
             "minorgridcolor": "white",
             "startlinecolor": "#2a3f5f"
            },
            "type": "carpet"
           }
          ],
          "choropleth": [
           {
            "colorbar": {
             "outlinewidth": 0,
             "ticks": ""
            },
            "type": "choropleth"
           }
          ],
          "contour": [
           {
            "colorbar": {
             "outlinewidth": 0,
             "ticks": ""
            },
            "colorscale": [
             [
              0,
              "#0d0887"
             ],
             [
              0.1111111111111111,
              "#46039f"
             ],
             [
              0.2222222222222222,
              "#7201a8"
             ],
             [
              0.3333333333333333,
              "#9c179e"
             ],
             [
              0.4444444444444444,
              "#bd3786"
             ],
             [
              0.5555555555555556,
              "#d8576b"
             ],
             [
              0.6666666666666666,
              "#ed7953"
             ],
             [
              0.7777777777777778,
              "#fb9f3a"
             ],
             [
              0.8888888888888888,
              "#fdca26"
             ],
             [
              1,
              "#f0f921"
             ]
            ],
            "type": "contour"
           }
          ],
          "contourcarpet": [
           {
            "colorbar": {
             "outlinewidth": 0,
             "ticks": ""
            },
            "type": "contourcarpet"
           }
          ],
          "heatmap": [
           {
            "colorbar": {
             "outlinewidth": 0,
             "ticks": ""
            },
            "colorscale": [
             [
              0,
              "#0d0887"
             ],
             [
              0.1111111111111111,
              "#46039f"
             ],
             [
              0.2222222222222222,
              "#7201a8"
             ],
             [
              0.3333333333333333,
              "#9c179e"
             ],
             [
              0.4444444444444444,
              "#bd3786"
             ],
             [
              0.5555555555555556,
              "#d8576b"
             ],
             [
              0.6666666666666666,
              "#ed7953"
             ],
             [
              0.7777777777777778,
              "#fb9f3a"
             ],
             [
              0.8888888888888888,
              "#fdca26"
             ],
             [
              1,
              "#f0f921"
             ]
            ],
            "type": "heatmap"
           }
          ],
          "heatmapgl": [
           {
            "colorbar": {
             "outlinewidth": 0,
             "ticks": ""
            },
            "colorscale": [
             [
              0,
              "#0d0887"
             ],
             [
              0.1111111111111111,
              "#46039f"
             ],
             [
              0.2222222222222222,
              "#7201a8"
             ],
             [
              0.3333333333333333,
              "#9c179e"
             ],
             [
              0.4444444444444444,
              "#bd3786"
             ],
             [
              0.5555555555555556,
              "#d8576b"
             ],
             [
              0.6666666666666666,
              "#ed7953"
             ],
             [
              0.7777777777777778,
              "#fb9f3a"
             ],
             [
              0.8888888888888888,
              "#fdca26"
             ],
             [
              1,
              "#f0f921"
             ]
            ],
            "type": "heatmapgl"
           }
          ],
          "histogram": [
           {
            "marker": {
             "colorbar": {
              "outlinewidth": 0,
              "ticks": ""
             }
            },
            "type": "histogram"
           }
          ],
          "histogram2d": [
           {
            "colorbar": {
             "outlinewidth": 0,
             "ticks": ""
            },
            "colorscale": [
             [
              0,
              "#0d0887"
             ],
             [
              0.1111111111111111,
              "#46039f"
             ],
             [
              0.2222222222222222,
              "#7201a8"
             ],
             [
              0.3333333333333333,
              "#9c179e"
             ],
             [
              0.4444444444444444,
              "#bd3786"
             ],
             [
              0.5555555555555556,
              "#d8576b"
             ],
             [
              0.6666666666666666,
              "#ed7953"
             ],
             [
              0.7777777777777778,
              "#fb9f3a"
             ],
             [
              0.8888888888888888,
              "#fdca26"
             ],
             [
              1,
              "#f0f921"
             ]
            ],
            "type": "histogram2d"
           }
          ],
          "histogram2dcontour": [
           {
            "colorbar": {
             "outlinewidth": 0,
             "ticks": ""
            },
            "colorscale": [
             [
              0,
              "#0d0887"
             ],
             [
              0.1111111111111111,
              "#46039f"
             ],
             [
              0.2222222222222222,
              "#7201a8"
             ],
             [
              0.3333333333333333,
              "#9c179e"
             ],
             [
              0.4444444444444444,
              "#bd3786"
             ],
             [
              0.5555555555555556,
              "#d8576b"
             ],
             [
              0.6666666666666666,
              "#ed7953"
             ],
             [
              0.7777777777777778,
              "#fb9f3a"
             ],
             [
              0.8888888888888888,
              "#fdca26"
             ],
             [
              1,
              "#f0f921"
             ]
            ],
            "type": "histogram2dcontour"
           }
          ],
          "mesh3d": [
           {
            "colorbar": {
             "outlinewidth": 0,
             "ticks": ""
            },
            "type": "mesh3d"
           }
          ],
          "parcoords": [
           {
            "line": {
             "colorbar": {
              "outlinewidth": 0,
              "ticks": ""
             }
            },
            "type": "parcoords"
           }
          ],
          "scatter": [
           {
            "marker": {
             "colorbar": {
              "outlinewidth": 0,
              "ticks": ""
             }
            },
            "type": "scatter"
           }
          ],
          "scatter3d": [
           {
            "line": {
             "colorbar": {
              "outlinewidth": 0,
              "ticks": ""
             }
            },
            "marker": {
             "colorbar": {
              "outlinewidth": 0,
              "ticks": ""
             }
            },
            "type": "scatter3d"
           }
          ],
          "scattercarpet": [
           {
            "marker": {
             "colorbar": {
              "outlinewidth": 0,
              "ticks": ""
             }
            },
            "type": "scattercarpet"
           }
          ],
          "scattergeo": [
           {
            "marker": {
             "colorbar": {
              "outlinewidth": 0,
              "ticks": ""
             }
            },
            "type": "scattergeo"
           }
          ],
          "scattergl": [
           {
            "marker": {
             "colorbar": {
              "outlinewidth": 0,
              "ticks": ""
             }
            },
            "type": "scattergl"
           }
          ],
          "scattermapbox": [
           {
            "marker": {
             "colorbar": {
              "outlinewidth": 0,
              "ticks": ""
             }
            },
            "type": "scattermapbox"
           }
          ],
          "scatterpolar": [
           {
            "marker": {
             "colorbar": {
              "outlinewidth": 0,
              "ticks": ""
             }
            },
            "type": "scatterpolar"
           }
          ],
          "scatterpolargl": [
           {
            "marker": {
             "colorbar": {
              "outlinewidth": 0,
              "ticks": ""
             }
            },
            "type": "scatterpolargl"
           }
          ],
          "scatterternary": [
           {
            "marker": {
             "colorbar": {
              "outlinewidth": 0,
              "ticks": ""
             }
            },
            "type": "scatterternary"
           }
          ],
          "surface": [
           {
            "colorbar": {
             "outlinewidth": 0,
             "ticks": ""
            },
            "colorscale": [
             [
              0,
              "#0d0887"
             ],
             [
              0.1111111111111111,
              "#46039f"
             ],
             [
              0.2222222222222222,
              "#7201a8"
             ],
             [
              0.3333333333333333,
              "#9c179e"
             ],
             [
              0.4444444444444444,
              "#bd3786"
             ],
             [
              0.5555555555555556,
              "#d8576b"
             ],
             [
              0.6666666666666666,
              "#ed7953"
             ],
             [
              0.7777777777777778,
              "#fb9f3a"
             ],
             [
              0.8888888888888888,
              "#fdca26"
             ],
             [
              1,
              "#f0f921"
             ]
            ],
            "type": "surface"
           }
          ],
          "table": [
           {
            "cells": {
             "fill": {
              "color": "#EBF0F8"
             },
             "line": {
              "color": "white"
             }
            },
            "header": {
             "fill": {
              "color": "#C8D4E3"
             },
             "line": {
              "color": "white"
             }
            },
            "type": "table"
           }
          ]
         },
         "layout": {
          "annotationdefaults": {
           "arrowcolor": "#2a3f5f",
           "arrowhead": 0,
           "arrowwidth": 1
          },
          "colorscale": {
           "diverging": [
            [
             0,
             "#8e0152"
            ],
            [
             0.1,
             "#c51b7d"
            ],
            [
             0.2,
             "#de77ae"
            ],
            [
             0.3,
             "#f1b6da"
            ],
            [
             0.4,
             "#fde0ef"
            ],
            [
             0.5,
             "#f7f7f7"
            ],
            [
             0.6,
             "#e6f5d0"
            ],
            [
             0.7,
             "#b8e186"
            ],
            [
             0.8,
             "#7fbc41"
            ],
            [
             0.9,
             "#4d9221"
            ],
            [
             1,
             "#276419"
            ]
           ],
           "sequential": [
            [
             0,
             "#0d0887"
            ],
            [
             0.1111111111111111,
             "#46039f"
            ],
            [
             0.2222222222222222,
             "#7201a8"
            ],
            [
             0.3333333333333333,
             "#9c179e"
            ],
            [
             0.4444444444444444,
             "#bd3786"
            ],
            [
             0.5555555555555556,
             "#d8576b"
            ],
            [
             0.6666666666666666,
             "#ed7953"
            ],
            [
             0.7777777777777778,
             "#fb9f3a"
            ],
            [
             0.8888888888888888,
             "#fdca26"
            ],
            [
             1,
             "#f0f921"
            ]
           ],
           "sequentialminus": [
            [
             0,
             "#0d0887"
            ],
            [
             0.1111111111111111,
             "#46039f"
            ],
            [
             0.2222222222222222,
             "#7201a8"
            ],
            [
             0.3333333333333333,
             "#9c179e"
            ],
            [
             0.4444444444444444,
             "#bd3786"
            ],
            [
             0.5555555555555556,
             "#d8576b"
            ],
            [
             0.6666666666666666,
             "#ed7953"
            ],
            [
             0.7777777777777778,
             "#fb9f3a"
            ],
            [
             0.8888888888888888,
             "#fdca26"
            ],
            [
             1,
             "#f0f921"
            ]
           ]
          },
          "colorway": [
           "#636efa",
           "#EF553B",
           "#00cc96",
           "#ab63fa",
           "#FFA15A",
           "#19d3f3",
           "#FF6692",
           "#B6E880",
           "#FF97FF",
           "#FECB52"
          ],
          "font": {
           "color": "#2a3f5f"
          },
          "geo": {
           "bgcolor": "white",
           "lakecolor": "white",
           "landcolor": "#E5ECF6",
           "showlakes": true,
           "showland": true,
           "subunitcolor": "white"
          },
          "hoverlabel": {
           "align": "left"
          },
          "hovermode": "closest",
          "mapbox": {
           "style": "light"
          },
          "paper_bgcolor": "white",
          "plot_bgcolor": "#E5ECF6",
          "polar": {
           "angularaxis": {
            "gridcolor": "white",
            "linecolor": "white",
            "ticks": ""
           },
           "bgcolor": "#E5ECF6",
           "radialaxis": {
            "gridcolor": "white",
            "linecolor": "white",
            "ticks": ""
           }
          },
          "scene": {
           "xaxis": {
            "backgroundcolor": "#E5ECF6",
            "gridcolor": "white",
            "gridwidth": 2,
            "linecolor": "white",
            "showbackground": true,
            "ticks": "",
            "zerolinecolor": "white"
           },
           "yaxis": {
            "backgroundcolor": "#E5ECF6",
            "gridcolor": "white",
            "gridwidth": 2,
            "linecolor": "white",
            "showbackground": true,
            "ticks": "",
            "zerolinecolor": "white"
           },
           "zaxis": {
            "backgroundcolor": "#E5ECF6",
            "gridcolor": "white",
            "gridwidth": 2,
            "linecolor": "white",
            "showbackground": true,
            "ticks": "",
            "zerolinecolor": "white"
           }
          },
          "shapedefaults": {
           "line": {
            "color": "#2a3f5f"
           }
          },
          "ternary": {
           "aaxis": {
            "gridcolor": "white",
            "linecolor": "white",
            "ticks": ""
           },
           "baxis": {
            "gridcolor": "white",
            "linecolor": "white",
            "ticks": ""
           },
           "bgcolor": "#E5ECF6",
           "caxis": {
            "gridcolor": "white",
            "linecolor": "white",
            "ticks": ""
           }
          },
          "title": {
           "x": 0.05
          },
          "xaxis": {
           "automargin": true,
           "gridcolor": "white",
           "linecolor": "white",
           "ticks": "",
           "zerolinecolor": "white",
           "zerolinewidth": 2
          },
          "yaxis": {
           "automargin": true,
           "gridcolor": "white",
           "linecolor": "white",
           "ticks": "",
           "zerolinecolor": "white",
           "zerolinewidth": 2
          }
         }
        },
        "title": {
         "text": "Movies per Language"
        },
        "xaxis": {
         "title": {
          "text": "Languages"
         }
        },
        "yaxis": {
         "title": {
          "text": "Number of Movies"
         }
        }
       }
      },
      "text/html": [
       "<div>\n",
       "        \n",
       "        \n",
       "            <div id=\"a08116c0-caaa-4642-93d7-f4defb3e1c91\" class=\"plotly-graph-div\" style=\"height:525px; width:100%;\"></div>\n",
       "            <script type=\"text/javascript\">\n",
       "                require([\"plotly\"], function(Plotly) {\n",
       "                    window.PLOTLYENV=window.PLOTLYENV || {};\n",
       "                    \n",
       "                if (document.getElementById(\"a08116c0-caaa-4642-93d7-f4defb3e1c91\")) {\n",
       "                    Plotly.newPlot(\n",
       "                        'a08116c0-caaa-4642-93d7-f4defb3e1c91',\n",
       "                        [{\"marker\": {\"color\": \"rgb(158,202,225)\", \"line\": {\"color\": \"rgb(8,48,107)\", \"width\": 1.5}}, \"opacity\": 0.6, \"type\": \"bar\", \"x\": [\" American Sign Language\", \" Brazilian Sign Language\", \"Kazakh\", \"Greek\", \" Albanian\", \" Maori\", \" Norwegian\", \"Finnish\", \" Sinhalese\", \" Greek\", \" Sanskrit\", \" Welsh\", \" Gujarati\", \" Assamese\", \" Bambara\", \"Norwegian\", \" Tagalog\", \" Croatian\", \" Inuktitut\", \"Hebrew\", \" Dinka\", \" Esperanto\", \"Dutch\", \" Ryukyuan\", \" French Sign Language\", \" Xhosa\", \" Hindi\", \" Navajo\", \" Catalan\", \" Icelandic\", \"Thai\", \"Russian\", \" Frisian\", \" Swedish\", \" Wolof\", \" Nahuatl\", \" Corsican\", \" French\", \"Hopi\", \" Hungarian\", \" Hokkien\", \"Polish\", \" Eastern Frisian\", \"Romany\", \" Dutch\", \" Apache languages\", \" German\", \"Icelandic\", \" Ukrainian\", \" Urdu\", \"Tswana\", \" Serbian\", \" Mohawk\", \" Tamil\", \" Dari\", \"Catalan\", \" Kurdish\", \"Spanish\", \"Flemish\", \"Czech\", \"Bengali\", \" Estonian\", \"Telugu\", \" Bulgarian\", \"Indonesian\", \"Marathi\", \" Thai\", \"Georgian\", \"Tamil\", \" Khmer\", \" Czech\", \"Persian\", \" Tibetan\", \"Cantonese\", \"German\", \" Burmese\", \" Serbo-Croatian\", \"Estonian\", \"Armenian\", \" Chinese\", \" Rajasthani\", \"Hindi\", \"Italian\", \" Danish\", \"Hungarian\", \"Kannada\", \"Zulu\", \"Serbian\", \"Vietnamese\", \"English\", \"Korean\", \" Turkish\", \"Mandarin\", \" Aramaic\", \" Maya\", \" Gallegan\", \" Georgian\", \"Portuguese\", \"Malay\", \" British Sign Language\", \" Russian\", \" Latvian\", \" Hebrew\", \"Tibetan\", \"Tupi\", \" Finnish\", \" Romany\", \"Serbo-Croatian\", \" Latin\", \" Awadhi\", \" Hausa\", \"Dari\", \"Mongolian\", \"Japanese\", \" Romanian\", \"Swiss German\", \" Hakka\", \" Vietnamese\", \" Italian\", \" Pushto\", \" Parsee\", \" Afrikaans\", \" Mandarin\", \" Lingala\", \"Arabic\", \" Min Nan\", \" Swahili\", \" None\", \" Sindarin\", \" Egyptian (Ancient)\", \" Aboriginal\", \" English\", \" Lao\", \"Filipino\", \" Turkmen\", \" Swiss German\", \" Cantonese\", \" Shanxi\", \" Malayalam\", \" Marathi\", \" Aidoukrou\", \"French\", \"Latin\", \" Malay\", \" Polish\", \" Cree\", \" Sicilian\", \" Indonesian\", \" Zulu\", \" Neapolitan\", \" Arabic\", \" Bengali\", \"Turkish\", \" Polynesian\", \" Shoshoni\", \"Latvian\", \"Visayan\", \"Spanish Sign Language\", \" Slovak\", \"Urdu\", \" Persian\", \" Telugu\", \" Yiddish\", \" Bosnian\", \" Irish\", \" Syriac\", \" Ojibwa\", \" Portuguese\", \" Scottish Gaelic\", \" Sioux\", \" Japanese\", \" Assyrian Neo-Aramaic\", \" North American Indian\", \"None\", \" Punjabi\", \" Klingon\", \"Swedish\", \"Romanian\", \" Filipino\", \"N/A\", \"Danish\", \" Korean\", \"Rotuman\", \" Basque\", \"Slovenian\", \" Hawaiian\", \" Spanish\"], \"y\": [12, 1, 1, 21, 4, 1, 9, 9, 2, 16, 1, 2, 2, 1, 1, 21, 6, 1, 2, 29, 1, 2, 28, 1, 1, 2, 15, 2, 4, 4, 17, 111, 2, 12, 2, 1, 1, 246, 1, 10, 2, 22, 1, 2, 5, 1, 164, 6, 4, 7, 1, 8, 1, 1, 2, 9, 3, 299, 3, 14, 3, 2, 4, 3, 8, 5, 12, 5, 11, 4, 5, 8, 3, 89, 248, 2, 5, 3, 1, 8, 1, 101, 249, 11, 14, 1, 4, 10, 19, 5615, 42, 10, 91, 2, 1, 2, 1, 49, 5, 1, 76, 1, 18, 4, 1, 3, 1, 9, 30, 1, 1, 3, 1, 210, 7, 5, 1, 15, 131, 1, 1, 6, 51, 1, 47, 1, 3, 2, 2, 1, 2, 231, 1, 6, 1, 3, 31, 1, 2, 2, 1, 441, 31, 4, 14, 1, 2, 3, 2, 3, 39, 2, 26, 1, 1, 2, 1, 1, 4, 9, 7, 2, 8, 2, 4, 2, 1, 28, 4, 2, 64, 1, 2, 13, 7, 5, 39, 12, 3, 376, 26, 9, 1, 1, 1, 2, 200]}],\n",
       "                        {\"template\": {\"data\": {\"bar\": [{\"error_x\": {\"color\": \"#2a3f5f\"}, \"error_y\": {\"color\": \"#2a3f5f\"}, \"marker\": {\"line\": {\"color\": \"#E5ECF6\", \"width\": 0.5}}, \"type\": \"bar\"}], \"barpolar\": [{\"marker\": {\"line\": {\"color\": \"#E5ECF6\", \"width\": 0.5}}, \"type\": \"barpolar\"}], \"carpet\": [{\"aaxis\": {\"endlinecolor\": \"#2a3f5f\", \"gridcolor\": \"white\", \"linecolor\": \"white\", \"minorgridcolor\": \"white\", \"startlinecolor\": \"#2a3f5f\"}, \"baxis\": {\"endlinecolor\": \"#2a3f5f\", \"gridcolor\": \"white\", \"linecolor\": \"white\", \"minorgridcolor\": \"white\", \"startlinecolor\": \"#2a3f5f\"}, \"type\": \"carpet\"}], \"choropleth\": [{\"colorbar\": {\"outlinewidth\": 0, \"ticks\": \"\"}, \"type\": \"choropleth\"}], \"contour\": [{\"colorbar\": {\"outlinewidth\": 0, \"ticks\": \"\"}, \"colorscale\": [[0.0, \"#0d0887\"], [0.1111111111111111, \"#46039f\"], [0.2222222222222222, \"#7201a8\"], [0.3333333333333333, \"#9c179e\"], [0.4444444444444444, \"#bd3786\"], [0.5555555555555556, \"#d8576b\"], [0.6666666666666666, \"#ed7953\"], [0.7777777777777778, \"#fb9f3a\"], [0.8888888888888888, \"#fdca26\"], [1.0, \"#f0f921\"]], \"type\": \"contour\"}], \"contourcarpet\": [{\"colorbar\": {\"outlinewidth\": 0, \"ticks\": \"\"}, \"type\": \"contourcarpet\"}], \"heatmap\": [{\"colorbar\": {\"outlinewidth\": 0, \"ticks\": \"\"}, \"colorscale\": [[0.0, \"#0d0887\"], [0.1111111111111111, \"#46039f\"], [0.2222222222222222, \"#7201a8\"], [0.3333333333333333, \"#9c179e\"], [0.4444444444444444, \"#bd3786\"], [0.5555555555555556, \"#d8576b\"], [0.6666666666666666, \"#ed7953\"], [0.7777777777777778, \"#fb9f3a\"], [0.8888888888888888, \"#fdca26\"], [1.0, \"#f0f921\"]], \"type\": \"heatmap\"}], \"heatmapgl\": [{\"colorbar\": {\"outlinewidth\": 0, \"ticks\": \"\"}, \"colorscale\": [[0.0, \"#0d0887\"], [0.1111111111111111, \"#46039f\"], [0.2222222222222222, \"#7201a8\"], [0.3333333333333333, \"#9c179e\"], [0.4444444444444444, \"#bd3786\"], [0.5555555555555556, \"#d8576b\"], [0.6666666666666666, \"#ed7953\"], [0.7777777777777778, \"#fb9f3a\"], [0.8888888888888888, \"#fdca26\"], [1.0, \"#f0f921\"]], \"type\": \"heatmapgl\"}], \"histogram\": [{\"marker\": {\"colorbar\": {\"outlinewidth\": 0, \"ticks\": \"\"}}, \"type\": \"histogram\"}], \"histogram2d\": [{\"colorbar\": {\"outlinewidth\": 0, \"ticks\": \"\"}, \"colorscale\": [[0.0, \"#0d0887\"], [0.1111111111111111, \"#46039f\"], [0.2222222222222222, \"#7201a8\"], [0.3333333333333333, \"#9c179e\"], [0.4444444444444444, \"#bd3786\"], [0.5555555555555556, \"#d8576b\"], [0.6666666666666666, \"#ed7953\"], [0.7777777777777778, \"#fb9f3a\"], [0.8888888888888888, \"#fdca26\"], [1.0, \"#f0f921\"]], \"type\": \"histogram2d\"}], \"histogram2dcontour\": [{\"colorbar\": {\"outlinewidth\": 0, \"ticks\": \"\"}, \"colorscale\": [[0.0, \"#0d0887\"], [0.1111111111111111, \"#46039f\"], [0.2222222222222222, \"#7201a8\"], [0.3333333333333333, \"#9c179e\"], [0.4444444444444444, \"#bd3786\"], [0.5555555555555556, \"#d8576b\"], [0.6666666666666666, \"#ed7953\"], [0.7777777777777778, \"#fb9f3a\"], [0.8888888888888888, \"#fdca26\"], [1.0, \"#f0f921\"]], \"type\": \"histogram2dcontour\"}], \"mesh3d\": [{\"colorbar\": {\"outlinewidth\": 0, \"ticks\": \"\"}, \"type\": \"mesh3d\"}], \"parcoords\": [{\"line\": {\"colorbar\": {\"outlinewidth\": 0, \"ticks\": \"\"}}, \"type\": \"parcoords\"}], \"scatter\": [{\"marker\": {\"colorbar\": {\"outlinewidth\": 0, \"ticks\": \"\"}}, \"type\": \"scatter\"}], \"scatter3d\": [{\"line\": {\"colorbar\": {\"outlinewidth\": 0, \"ticks\": \"\"}}, \"marker\": {\"colorbar\": {\"outlinewidth\": 0, \"ticks\": \"\"}}, \"type\": \"scatter3d\"}], \"scattercarpet\": [{\"marker\": {\"colorbar\": {\"outlinewidth\": 0, \"ticks\": \"\"}}, \"type\": \"scattercarpet\"}], \"scattergeo\": [{\"marker\": {\"colorbar\": {\"outlinewidth\": 0, \"ticks\": \"\"}}, \"type\": \"scattergeo\"}], \"scattergl\": [{\"marker\": {\"colorbar\": {\"outlinewidth\": 0, \"ticks\": \"\"}}, \"type\": \"scattergl\"}], \"scattermapbox\": [{\"marker\": {\"colorbar\": {\"outlinewidth\": 0, \"ticks\": \"\"}}, \"type\": \"scattermapbox\"}], \"scatterpolar\": [{\"marker\": {\"colorbar\": {\"outlinewidth\": 0, \"ticks\": \"\"}}, \"type\": \"scatterpolar\"}], \"scatterpolargl\": [{\"marker\": {\"colorbar\": {\"outlinewidth\": 0, \"ticks\": \"\"}}, \"type\": \"scatterpolargl\"}], \"scatterternary\": [{\"marker\": {\"colorbar\": {\"outlinewidth\": 0, \"ticks\": \"\"}}, \"type\": \"scatterternary\"}], \"surface\": [{\"colorbar\": {\"outlinewidth\": 0, \"ticks\": \"\"}, \"colorscale\": [[0.0, \"#0d0887\"], [0.1111111111111111, \"#46039f\"], [0.2222222222222222, \"#7201a8\"], [0.3333333333333333, \"#9c179e\"], [0.4444444444444444, \"#bd3786\"], [0.5555555555555556, \"#d8576b\"], [0.6666666666666666, \"#ed7953\"], [0.7777777777777778, \"#fb9f3a\"], [0.8888888888888888, \"#fdca26\"], [1.0, \"#f0f921\"]], \"type\": \"surface\"}], \"table\": [{\"cells\": {\"fill\": {\"color\": \"#EBF0F8\"}, \"line\": {\"color\": \"white\"}}, \"header\": {\"fill\": {\"color\": \"#C8D4E3\"}, \"line\": {\"color\": \"white\"}}, \"type\": \"table\"}]}, \"layout\": {\"annotationdefaults\": {\"arrowcolor\": \"#2a3f5f\", \"arrowhead\": 0, \"arrowwidth\": 1}, \"colorscale\": {\"diverging\": [[0, \"#8e0152\"], [0.1, \"#c51b7d\"], [0.2, \"#de77ae\"], [0.3, \"#f1b6da\"], [0.4, \"#fde0ef\"], [0.5, \"#f7f7f7\"], [0.6, \"#e6f5d0\"], [0.7, \"#b8e186\"], [0.8, \"#7fbc41\"], [0.9, \"#4d9221\"], [1, \"#276419\"]], \"sequential\": [[0.0, \"#0d0887\"], [0.1111111111111111, \"#46039f\"], [0.2222222222222222, \"#7201a8\"], [0.3333333333333333, \"#9c179e\"], [0.4444444444444444, \"#bd3786\"], [0.5555555555555556, \"#d8576b\"], [0.6666666666666666, \"#ed7953\"], [0.7777777777777778, \"#fb9f3a\"], [0.8888888888888888, \"#fdca26\"], [1.0, \"#f0f921\"]], \"sequentialminus\": [[0.0, \"#0d0887\"], [0.1111111111111111, \"#46039f\"], [0.2222222222222222, \"#7201a8\"], [0.3333333333333333, \"#9c179e\"], [0.4444444444444444, \"#bd3786\"], [0.5555555555555556, \"#d8576b\"], [0.6666666666666666, \"#ed7953\"], [0.7777777777777778, \"#fb9f3a\"], [0.8888888888888888, \"#fdca26\"], [1.0, \"#f0f921\"]]}, \"colorway\": [\"#636efa\", \"#EF553B\", \"#00cc96\", \"#ab63fa\", \"#FFA15A\", \"#19d3f3\", \"#FF6692\", \"#B6E880\", \"#FF97FF\", \"#FECB52\"], \"font\": {\"color\": \"#2a3f5f\"}, \"geo\": {\"bgcolor\": \"white\", \"lakecolor\": \"white\", \"landcolor\": \"#E5ECF6\", \"showlakes\": true, \"showland\": true, \"subunitcolor\": \"white\"}, \"hoverlabel\": {\"align\": \"left\"}, \"hovermode\": \"closest\", \"mapbox\": {\"style\": \"light\"}, \"paper_bgcolor\": \"white\", \"plot_bgcolor\": \"#E5ECF6\", \"polar\": {\"angularaxis\": {\"gridcolor\": \"white\", \"linecolor\": \"white\", \"ticks\": \"\"}, \"bgcolor\": \"#E5ECF6\", \"radialaxis\": {\"gridcolor\": \"white\", \"linecolor\": \"white\", \"ticks\": \"\"}}, \"scene\": {\"xaxis\": {\"backgroundcolor\": \"#E5ECF6\", \"gridcolor\": \"white\", \"gridwidth\": 2, \"linecolor\": \"white\", \"showbackground\": true, \"ticks\": \"\", \"zerolinecolor\": \"white\"}, \"yaxis\": {\"backgroundcolor\": \"#E5ECF6\", \"gridcolor\": \"white\", \"gridwidth\": 2, \"linecolor\": \"white\", \"showbackground\": true, \"ticks\": \"\", \"zerolinecolor\": \"white\"}, \"zaxis\": {\"backgroundcolor\": \"#E5ECF6\", \"gridcolor\": \"white\", \"gridwidth\": 2, \"linecolor\": \"white\", \"showbackground\": true, \"ticks\": \"\", \"zerolinecolor\": \"white\"}}, \"shapedefaults\": {\"line\": {\"color\": \"#2a3f5f\"}}, \"ternary\": {\"aaxis\": {\"gridcolor\": \"white\", \"linecolor\": \"white\", \"ticks\": \"\"}, \"baxis\": {\"gridcolor\": \"white\", \"linecolor\": \"white\", \"ticks\": \"\"}, \"bgcolor\": \"#E5ECF6\", \"caxis\": {\"gridcolor\": \"white\", \"linecolor\": \"white\", \"ticks\": \"\"}}, \"title\": {\"x\": 0.05}, \"xaxis\": {\"automargin\": true, \"gridcolor\": \"white\", \"linecolor\": \"white\", \"ticks\": \"\", \"zerolinecolor\": \"white\", \"zerolinewidth\": 2}, \"yaxis\": {\"automargin\": true, \"gridcolor\": \"white\", \"linecolor\": \"white\", \"ticks\": \"\", \"zerolinecolor\": \"white\", \"zerolinewidth\": 2}}}, \"title\": {\"text\": \"Movies per Language\"}, \"xaxis\": {\"title\": {\"text\": \"Languages\"}}, \"yaxis\": {\"title\": {\"text\": \"Number of Movies\"}}},\n",
       "                        {\"responsive\": true}\n",
       "                    ).then(function(){\n",
       "                            \n",
       "var gd = document.getElementById('a08116c0-caaa-4642-93d7-f4defb3e1c91');\n",
       "var x = new MutationObserver(function (mutations, observer) {{\n",
       "        var display = window.getComputedStyle(gd).display;\n",
       "        if (!display || display === 'none') {{\n",
       "            console.log([gd, 'removed!']);\n",
       "            Plotly.purge(gd);\n",
       "            observer.disconnect();\n",
       "        }}\n",
       "}});\n",
       "\n",
       "// Listen for the removal of the full notebook cells\n",
       "var notebookContainer = gd.closest('#notebook-container');\n",
       "if (notebookContainer) {{\n",
       "    x.observe(notebookContainer, {childList: true});\n",
       "}}\n",
       "\n",
       "// Listen for the clearing of the current output cell\n",
       "var outputEl = gd.closest('.output');\n",
       "if (outputEl) {{\n",
       "    x.observe(outputEl, {childList: true});\n",
       "}}\n",
       "\n",
       "                        })\n",
       "                };\n",
       "                });\n",
       "            </script>\n",
       "        </div>"
      ]
     },
     "metadata": {},
     "output_type": "display_data"
    }
   ],
   "source": [
    "# Add columns based on new generes\n",
    "languages_dic = {j:[1 if j in i else 0 for i in movies[\"Language\"]] for j in languages}\n",
    "# Plotting movies per genre\n",
    "data = [go.Bar(\n",
    "            x=list(languages_dic.keys()),\n",
    "            y=[sum(i) for i in languages_dic.values()]\n",
    "    )]\n",
    "fig = go.Figure(data=data)\n",
    "fig.update_traces(marker_color='rgb(158,202,225)', marker_line_color='rgb(8,48,107)',\n",
    "                  marker_line_width=1.5, opacity=0.6)\n",
    "fig.update_layout(\n",
    "    title=\"Movies per Language\",\n",
    "    xaxis_title=\"Languages\",\n",
    "    yaxis_title=\"Number of Movies\",\n",
    ")\n",
    "\n",
    "iplot(fig)"
   ]
  },
  {
   "cell_type": "markdown",
   "metadata": {},
   "source": [
    "### Above graph is interactive - and I know there are so many English movies!\n",
    "### Hence we will not select languages for our analysis"
   ]
  },
  {
   "cell_type": "code",
   "execution_count": 15,
   "metadata": {},
   "outputs": [
    {
     "data": {
      "text/html": [
       "<div>\n",
       "<style scoped>\n",
       "    .dataframe tbody tr th:only-of-type {\n",
       "        vertical-align: middle;\n",
       "    }\n",
       "\n",
       "    .dataframe tbody tr th {\n",
       "        vertical-align: top;\n",
       "    }\n",
       "\n",
       "    .dataframe thead th {\n",
       "        text-align: right;\n",
       "    }\n",
       "</style>\n",
       "<table border=\"1\" class=\"dataframe\">\n",
       "  <thead>\n",
       "    <tr style=\"text-align: right;\">\n",
       "      <th></th>\n",
       "      <th>imdbID</th>\n",
       "      <th>Title</th>\n",
       "      <th>Ratings</th>\n",
       "      <th>imdbRating</th>\n",
       "      <th>imdbVotes</th>\n",
       "      <th>Sci-Fi</th>\n",
       "      <th>Short</th>\n",
       "      <th>Biography</th>\n",
       "      <th>Horror</th>\n",
       "      <th>Mystery</th>\n",
       "      <th>...</th>\n",
       "      <th>Adult</th>\n",
       "      <th>Animation</th>\n",
       "      <th>Western</th>\n",
       "      <th>Drama</th>\n",
       "      <th>Film-Noir</th>\n",
       "      <th>Western</th>\n",
       "      <th>News</th>\n",
       "      <th>Animation</th>\n",
       "      <th>Comedy</th>\n",
       "      <th>Comedy</th>\n",
       "    </tr>\n",
       "  </thead>\n",
       "  <tbody>\n",
       "    <tr>\n",
       "      <th>7029</th>\n",
       "      <td>tt0258760</td>\n",
       "      <td>Lammbock</td>\n",
       "      <td>[{'Source': 'Internet Movie Database', 'Value'...</td>\n",
       "      <td>7.3</td>\n",
       "      <td>10180</td>\n",
       "      <td>0</td>\n",
       "      <td>0</td>\n",
       "      <td>0</td>\n",
       "      <td>0</td>\n",
       "      <td>0</td>\n",
       "      <td>...</td>\n",
       "      <td>0</td>\n",
       "      <td>0</td>\n",
       "      <td>0</td>\n",
       "      <td>0</td>\n",
       "      <td>0</td>\n",
       "      <td>0</td>\n",
       "      <td>0</td>\n",
       "      <td>0</td>\n",
       "      <td>1</td>\n",
       "      <td>0</td>\n",
       "    </tr>\n",
       "    <tr>\n",
       "      <th>7030</th>\n",
       "      <td>tt0146455</td>\n",
       "      <td>Babylon 5: A Call to Arms</td>\n",
       "      <td>[{'Source': 'Internet Movie Database', 'Value'...</td>\n",
       "      <td>7.2</td>\n",
       "      <td>4976</td>\n",
       "      <td>1</td>\n",
       "      <td>0</td>\n",
       "      <td>0</td>\n",
       "      <td>0</td>\n",
       "      <td>0</td>\n",
       "      <td>...</td>\n",
       "      <td>0</td>\n",
       "      <td>0</td>\n",
       "      <td>0</td>\n",
       "      <td>1</td>\n",
       "      <td>0</td>\n",
       "      <td>0</td>\n",
       "      <td>0</td>\n",
       "      <td>0</td>\n",
       "      <td>0</td>\n",
       "      <td>0</td>\n",
       "    </tr>\n",
       "    <tr>\n",
       "      <th>7031</th>\n",
       "      <td>tt0432047</td>\n",
       "      <td>Sarkar</td>\n",
       "      <td>[{'Source': 'Internet Movie Database', 'Value'...</td>\n",
       "      <td>7.7</td>\n",
       "      <td>14199</td>\n",
       "      <td>0</td>\n",
       "      <td>0</td>\n",
       "      <td>0</td>\n",
       "      <td>0</td>\n",
       "      <td>0</td>\n",
       "      <td>...</td>\n",
       "      <td>0</td>\n",
       "      <td>0</td>\n",
       "      <td>0</td>\n",
       "      <td>1</td>\n",
       "      <td>0</td>\n",
       "      <td>0</td>\n",
       "      <td>0</td>\n",
       "      <td>0</td>\n",
       "      <td>0</td>\n",
       "      <td>0</td>\n",
       "    </tr>\n",
       "    <tr>\n",
       "      <th>7032</th>\n",
       "      <td>tt0109515</td>\n",
       "      <td>Cyber Tracker</td>\n",
       "      <td>[{'Source': 'Internet Movie Database', 'Value'...</td>\n",
       "      <td>3.5</td>\n",
       "      <td>971</td>\n",
       "      <td>1</td>\n",
       "      <td>0</td>\n",
       "      <td>0</td>\n",
       "      <td>0</td>\n",
       "      <td>0</td>\n",
       "      <td>...</td>\n",
       "      <td>0</td>\n",
       "      <td>0</td>\n",
       "      <td>0</td>\n",
       "      <td>0</td>\n",
       "      <td>0</td>\n",
       "      <td>0</td>\n",
       "      <td>0</td>\n",
       "      <td>0</td>\n",
       "      <td>0</td>\n",
       "      <td>0</td>\n",
       "    </tr>\n",
       "    <tr>\n",
       "      <th>7033</th>\n",
       "      <td>tt0485161</td>\n",
       "      <td>Totally Awesome</td>\n",
       "      <td>[{'Source': 'Internet Movie Database', 'Value'...</td>\n",
       "      <td>5.2</td>\n",
       "      <td>1625</td>\n",
       "      <td>0</td>\n",
       "      <td>0</td>\n",
       "      <td>0</td>\n",
       "      <td>0</td>\n",
       "      <td>0</td>\n",
       "      <td>...</td>\n",
       "      <td>0</td>\n",
       "      <td>0</td>\n",
       "      <td>0</td>\n",
       "      <td>0</td>\n",
       "      <td>0</td>\n",
       "      <td>0</td>\n",
       "      <td>0</td>\n",
       "      <td>0</td>\n",
       "      <td>1</td>\n",
       "      <td>0</td>\n",
       "    </tr>\n",
       "  </tbody>\n",
       "</table>\n",
       "<p>5 rows × 61 columns</p>\n",
       "</div>"
      ],
      "text/plain": [
       "         imdbID                      Title  \\\n",
       "7029  tt0258760                   Lammbock   \n",
       "7030  tt0146455  Babylon 5: A Call to Arms   \n",
       "7031  tt0432047                     Sarkar   \n",
       "7032  tt0109515              Cyber Tracker   \n",
       "7033  tt0485161            Totally Awesome   \n",
       "\n",
       "                                                Ratings imdbRating  imdbVotes  \\\n",
       "7029  [{'Source': 'Internet Movie Database', 'Value'...        7.3      10180   \n",
       "7030  [{'Source': 'Internet Movie Database', 'Value'...        7.2       4976   \n",
       "7031  [{'Source': 'Internet Movie Database', 'Value'...        7.7      14199   \n",
       "7032  [{'Source': 'Internet Movie Database', 'Value'...        3.5        971   \n",
       "7033  [{'Source': 'Internet Movie Database', 'Value'...        5.2       1625   \n",
       "\n",
       "       Sci-Fi   Short   Biography  Horror   Mystery  ...  Adult  Animation  \\\n",
       "7029        0       0           0       0         0  ...      0          0   \n",
       "7030        1       0           0       0         0  ...      0          0   \n",
       "7031        0       0           0       0         0  ...      0          0   \n",
       "7032        1       0           0       0         0  ...      0          0   \n",
       "7033        0       0           0       0         0  ...      0          0   \n",
       "\n",
       "       Western  Drama  Film-Noir  Western   News   Animation  Comedy   Comedy  \n",
       "7029         0      0          0        0      0           0       1        0  \n",
       "7030         0      1          0        0      0           0       0        0  \n",
       "7031         0      1          0        0      0           0       0        0  \n",
       "7032         0      0          0        0      0           0       0        0  \n",
       "7033         0      0          0        0      0           0       1        0  \n",
       "\n",
       "[5 rows x 61 columns]"
      ]
     },
     "execution_count": 15,
     "metadata": {},
     "output_type": "execute_result"
    }
   ],
   "source": [
    "# Now we will add encoded generes and languages\n",
    "for k,v in genres_dic.items():\n",
    "    movies[k]=v\n",
    "#for k,v in languages_dic.items():\n",
    "#    movies[k]=v\n",
    "# Dropping rows with no genres listed\n",
    "movies = movies[movies.Genre != \"N/A\"]\n",
    "# We don't need genres column anymore\n",
    "del movies[\"Genre\"]\n",
    "del movies[\"Language\"]\n",
    "\n",
    "# Also converting imdb votes to numeric\n",
    "movies[\"imdbVotes\"] = movies['imdbVotes'].str.replace(\",\", \"\").astype(int)\n",
    "\n",
    "movies.tail()"
   ]
  },
  {
   "cell_type": "markdown",
   "metadata": {},
   "source": [
    "### Using K-means clustering"
   ]
  },
  {
   "cell_type": "code",
   "execution_count": 16,
   "metadata": {},
   "outputs": [],
   "source": [
    "# Here I am selecting ratings, votes, genres and languages to train\n",
    "X = movies.replace([np.inf, -np.inf], np.nan).dropna().iloc[:,3:].to_numpy()\n",
    "# I am selecting 50 clusters based on number of languages, but this can be changed later\n",
    "# I roughly selected the number of clusters, but this can be changed for e.g. based on genres\n",
    "kmeans = KMeans(n_clusters=15, random_state=4).fit(X)"
   ]
  },
  {
   "cell_type": "markdown",
   "metadata": {},
   "source": [
    "### Recommendation Function"
   ]
  },
  {
   "cell_type": "code",
   "execution_count": 17,
   "metadata": {},
   "outputs": [
    {
     "name": "stdout",
     "output_type": "stream",
     "text": [
      "[5439, 581, 219, 118, 26, 4, 86, 15, 40, 4, 28, 11, 2, 5, 2]\n"
     ]
    }
   ],
   "source": [
    "comb_dic = {i:[] for i in kmeans.labels_}\n",
    "[comb_dic[i].append(list(movies[\"Title\"])[c]) for c, i in enumerate(kmeans.labels_)]\n",
    "print([len(i) for i in comb_dic.values()])"
   ]
  },
  {
   "cell_type": "code",
   "execution_count": 18,
   "metadata": {},
   "outputs": [
    {
     "data": {
      "text/plain": [
       "'Galaxies Are Colliding'"
      ]
     },
     "execution_count": 18,
     "metadata": {},
     "output_type": "execute_result"
    }
   ],
   "source": [
    "# Simplest function - note that it may give same value as recommendation as it randomly selects the movie\n",
    "# This can be changed later\n",
    "def movie_recommendation(x):\n",
    "    return random.choice(comb_dic[kmeans.labels_[list(movies[\"Title\"]).index(x)]])\n",
    "\n",
    "movie_recommendation(\"Totally Awesome\")"
   ]
  }
 ],
 "metadata": {
  "kernelspec": {
   "display_name": "Python 3",
   "language": "python",
   "name": "python3"
  },
  "language_info": {
   "codemirror_mode": {
    "name": "ipython",
    "version": 3
   },
   "file_extension": ".py",
   "mimetype": "text/x-python",
   "name": "python",
   "nbconvert_exporter": "python",
   "pygments_lexer": "ipython3",
   "version": "3.7.2"
  }
 },
 "nbformat": 4,
 "nbformat_minor": 2
}
