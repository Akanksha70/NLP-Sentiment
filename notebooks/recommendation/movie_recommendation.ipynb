{
 "cells": [
  {
   "cell_type": "markdown",
   "metadata": {},
   "source": [
    "# Movie Recommendation"
   ]
  },
  {
   "cell_type": "markdown",
   "metadata": {},
   "source": [
    "## IMDB movie recommendation notebook"
   ]
  },
  {
   "cell_type": "markdown",
   "metadata": {},
   "source": [
    "#### Author/s: Ruturaj Kiran Vaidya, Brian McClannahan\n",
    "(Add you name if you edit/improve)"
   ]
  },
  {
   "cell_type": "code",
   "execution_count": 1,
   "metadata": {},
   "outputs": [
    {
     "data": {
      "text/html": [
       "        <script type=\"text/javascript\">\n",
       "        window.PlotlyConfig = {MathJaxConfig: 'local'};\n",
       "        if (window.MathJax) {MathJax.Hub.Config({SVG: {font: \"STIX-Web\"}});}\n",
       "        if (typeof require !== 'undefined') {\n",
       "        require.undef(\"plotly\");\n",
       "        requirejs.config({\n",
       "            paths: {\n",
       "                'plotly': ['https://cdn.plot.ly/plotly-latest.min']\n",
       "            }\n",
       "        });\n",
       "        require(['plotly'], function(Plotly) {\n",
       "            window._Plotly = Plotly;\n",
       "        });\n",
       "        }\n",
       "        </script>\n",
       "        "
      ]
     },
     "metadata": {},
     "output_type": "display_data"
    }
   ],
   "source": [
    "# Imports\n",
    "\n",
    "# Genral\n",
    "\n",
    "import pandas as pd\n",
    "import numpy as np\n",
    "import random\n",
    "\n",
    "# graphs\n",
    "\n",
    "from plotly import graph_objs as go\n",
    "from plotly.offline import download_plotlyjs, init_notebook_mode, plot, iplot\n",
    "init_notebook_mode(connected=True)\n",
    "\n",
    "# Model\n",
    "# sklearn\n",
    "from sklearn.cluster import KMeans, DBSCAN, AgglomerativeClustering"
   ]
  },
  {
   "cell_type": "code",
   "execution_count": 2,
   "metadata": {},
   "outputs": [],
   "source": [
    "from matplotlib import pyplot as plt"
   ]
  },
  {
   "cell_type": "code",
   "execution_count": 3,
   "metadata": {},
   "outputs": [],
   "source": [
    "train = pd.read_json(\"MovieDetails.json\")\n",
    "test = pd.read_json(\"TestMovieDetails.json\")"
   ]
  },
  {
   "cell_type": "code",
   "execution_count": 4,
   "metadata": {},
   "outputs": [
    {
     "data": {
      "text/plain": [
       "Index(['Title', 'Year', 'Rated', 'Released', 'Runtime', 'Genre', 'Director',\n",
       "       'Writer', 'Actors', 'Plot', 'Language', 'Country', 'Awards', 'Poster',\n",
       "       'Ratings', 'Metascore', 'imdbRating', 'imdbVotes', 'imdbID', 'Type',\n",
       "       'DVD', 'BoxOffice', 'Production', 'Website', 'Response', 'totalSeasons',\n",
       "       'Season', 'Episode', 'seriesID'],\n",
       "      dtype='object')"
      ]
     },
     "execution_count": 4,
     "metadata": {},
     "output_type": "execute_result"
    }
   ],
   "source": [
    "train.keys()"
   ]
  },
  {
   "cell_type": "code",
   "execution_count": 5,
   "metadata": {},
   "outputs": [
    {
     "data": {
      "text/plain": [
       "Index(['Title', 'Year', 'Rated', 'Released', 'Runtime', 'Genre', 'Director',\n",
       "       'Writer', 'Actors', 'Plot', 'Language', 'Country', 'Awards', 'Poster',\n",
       "       'Ratings', 'Metascore', 'imdbRating', 'imdbVotes', 'imdbID', 'Type',\n",
       "       'DVD', 'BoxOffice', 'Production', 'Website', 'Response', 'totalSeasons',\n",
       "       'Error', 'Season', 'Episode', 'seriesID'],\n",
       "      dtype='object')"
      ]
     },
     "execution_count": 5,
     "metadata": {},
     "output_type": "execute_result"
    }
   ],
   "source": [
    "test.keys()"
   ]
  },
  {
   "cell_type": "code",
   "execution_count": 6,
   "metadata": {},
   "outputs": [],
   "source": [
    "del test[\"Error\"]"
   ]
  },
  {
   "cell_type": "code",
   "execution_count": 7,
   "metadata": {},
   "outputs": [
    {
     "data": {
      "text/html": [
       "<div>\n",
       "<style scoped>\n",
       "    .dataframe tbody tr th:only-of-type {\n",
       "        vertical-align: middle;\n",
       "    }\n",
       "\n",
       "    .dataframe tbody tr th {\n",
       "        vertical-align: top;\n",
       "    }\n",
       "\n",
       "    .dataframe thead th {\n",
       "        text-align: right;\n",
       "    }\n",
       "</style>\n",
       "<table border=\"1\" class=\"dataframe\">\n",
       "  <thead>\n",
       "    <tr style=\"text-align: right;\">\n",
       "      <th></th>\n",
       "      <th>Title</th>\n",
       "      <th>Year</th>\n",
       "      <th>Rated</th>\n",
       "      <th>Released</th>\n",
       "      <th>Runtime</th>\n",
       "      <th>Genre</th>\n",
       "      <th>Director</th>\n",
       "      <th>Writer</th>\n",
       "      <th>Actors</th>\n",
       "      <th>Plot</th>\n",
       "      <th>...</th>\n",
       "      <th>Type</th>\n",
       "      <th>DVD</th>\n",
       "      <th>BoxOffice</th>\n",
       "      <th>Production</th>\n",
       "      <th>Website</th>\n",
       "      <th>Response</th>\n",
       "      <th>totalSeasons</th>\n",
       "      <th>Season</th>\n",
       "      <th>Episode</th>\n",
       "      <th>seriesID</th>\n",
       "    </tr>\n",
       "  </thead>\n",
       "  <tbody>\n",
       "    <tr>\n",
       "      <td>0</td>\n",
       "      <td>The Guardian</td>\n",
       "      <td>2006</td>\n",
       "      <td>PG-13</td>\n",
       "      <td>29 Sep 2006</td>\n",
       "      <td>139 min</td>\n",
       "      <td>Action, Adventure, Drama</td>\n",
       "      <td>Andrew Davis</td>\n",
       "      <td>Ron L. Brinkerhoff</td>\n",
       "      <td>Kevin Costner, Ashton Kutcher, Sela Ward, Meli...</td>\n",
       "      <td>A high school swim champion with a troubled pa...</td>\n",
       "      <td>...</td>\n",
       "      <td>movie</td>\n",
       "      <td>23 Jan 2007</td>\n",
       "      <td>$54,983,983</td>\n",
       "      <td>Buena Vista Pictures</td>\n",
       "      <td>N/A</td>\n",
       "      <td>True</td>\n",
       "      <td>NaN</td>\n",
       "      <td>NaN</td>\n",
       "      <td>NaN</td>\n",
       "      <td>NaN</td>\n",
       "    </tr>\n",
       "    <tr>\n",
       "      <td>1</td>\n",
       "      <td>The Dresser</td>\n",
       "      <td>1983</td>\n",
       "      <td>PG</td>\n",
       "      <td>06 Dec 1983</td>\n",
       "      <td>118 min</td>\n",
       "      <td>Drama</td>\n",
       "      <td>Peter Yates</td>\n",
       "      <td>Ronald Harwood (screenplay), Ronald Harwood (b...</td>\n",
       "      <td>Albert Finney, Tom Courtenay, Edward Fox, Zena...</td>\n",
       "      <td>An effeminate personal assistant of a deterior...</td>\n",
       "      <td>...</td>\n",
       "      <td>movie</td>\n",
       "      <td>06 Apr 2004</td>\n",
       "      <td>N/A</td>\n",
       "      <td>Sony Pictures Entertainment</td>\n",
       "      <td>N/A</td>\n",
       "      <td>True</td>\n",
       "      <td>NaN</td>\n",
       "      <td>NaN</td>\n",
       "      <td>NaN</td>\n",
       "      <td>NaN</td>\n",
       "    </tr>\n",
       "    <tr>\n",
       "      <td>2</td>\n",
       "      <td>Lackawanna Blues</td>\n",
       "      <td>2005</td>\n",
       "      <td>PG-13</td>\n",
       "      <td>12 Feb 2005</td>\n",
       "      <td>95 min</td>\n",
       "      <td>Drama, Music</td>\n",
       "      <td>George C. Wolfe</td>\n",
       "      <td>Ruben Santiago-Hudson (play), Ruben Santiago-H...</td>\n",
       "      <td>S. Epatha Merkerson, Marcus Carl Franklin, Yas...</td>\n",
       "      <td>In a story fueled by rhythm and blues, a young...</td>\n",
       "      <td>...</td>\n",
       "      <td>movie</td>\n",
       "      <td>23 Aug 2005</td>\n",
       "      <td>N/A</td>\n",
       "      <td>HBO Films</td>\n",
       "      <td>N/A</td>\n",
       "      <td>True</td>\n",
       "      <td>NaN</td>\n",
       "      <td>NaN</td>\n",
       "      <td>NaN</td>\n",
       "      <td>NaN</td>\n",
       "    </tr>\n",
       "    <tr>\n",
       "      <td>3</td>\n",
       "      <td>Darling Lili</td>\n",
       "      <td>1970</td>\n",
       "      <td>G</td>\n",
       "      <td>24 Jun 1970</td>\n",
       "      <td>136 min</td>\n",
       "      <td>Comedy, Drama, Musical, Romance, War</td>\n",
       "      <td>Blake Edwards</td>\n",
       "      <td>Blake Edwards, William Peter Blatty</td>\n",
       "      <td>Julie Andrews, Rock Hudson, Jeremy Kemp, Lance...</td>\n",
       "      <td>Set during World War I, this movie is a cute s...</td>\n",
       "      <td>...</td>\n",
       "      <td>movie</td>\n",
       "      <td>25 Oct 2005</td>\n",
       "      <td>N/A</td>\n",
       "      <td>Paramount</td>\n",
       "      <td>N/A</td>\n",
       "      <td>True</td>\n",
       "      <td>NaN</td>\n",
       "      <td>NaN</td>\n",
       "      <td>NaN</td>\n",
       "      <td>NaN</td>\n",
       "    </tr>\n",
       "    <tr>\n",
       "      <td>4</td>\n",
       "      <td>Acrobatty Bunny</td>\n",
       "      <td>1946</td>\n",
       "      <td>APPROVED</td>\n",
       "      <td>29 Jun 1946</td>\n",
       "      <td>8 min</td>\n",
       "      <td>Family, Animation, Short</td>\n",
       "      <td>Robert McKimson</td>\n",
       "      <td>Warren Foster (story)</td>\n",
       "      <td>Mel Blanc</td>\n",
       "      <td>When the circus arrives they put the lion's ca...</td>\n",
       "      <td>...</td>\n",
       "      <td>movie</td>\n",
       "      <td>N/A</td>\n",
       "      <td>N/A</td>\n",
       "      <td>N/A</td>\n",
       "      <td>N/A</td>\n",
       "      <td>True</td>\n",
       "      <td>NaN</td>\n",
       "      <td>NaN</td>\n",
       "      <td>NaN</td>\n",
       "      <td>NaN</td>\n",
       "    </tr>\n",
       "  </tbody>\n",
       "</table>\n",
       "<p>5 rows × 29 columns</p>\n",
       "</div>"
      ],
      "text/plain": [
       "              Title  Year     Rated     Released  Runtime  \\\n",
       "0      The Guardian  2006     PG-13  29 Sep 2006  139 min   \n",
       "1       The Dresser  1983        PG  06 Dec 1983  118 min   \n",
       "2  Lackawanna Blues  2005     PG-13  12 Feb 2005   95 min   \n",
       "3      Darling Lili  1970         G  24 Jun 1970  136 min   \n",
       "4   Acrobatty Bunny  1946  APPROVED  29 Jun 1946    8 min   \n",
       "\n",
       "                                  Genre         Director  \\\n",
       "0              Action, Adventure, Drama     Andrew Davis   \n",
       "1                                 Drama      Peter Yates   \n",
       "2                          Drama, Music  George C. Wolfe   \n",
       "3  Comedy, Drama, Musical, Romance, War    Blake Edwards   \n",
       "4              Family, Animation, Short  Robert McKimson   \n",
       "\n",
       "                                              Writer  \\\n",
       "0                                 Ron L. Brinkerhoff   \n",
       "1  Ronald Harwood (screenplay), Ronald Harwood (b...   \n",
       "2  Ruben Santiago-Hudson (play), Ruben Santiago-H...   \n",
       "3                Blake Edwards, William Peter Blatty   \n",
       "4                              Warren Foster (story)   \n",
       "\n",
       "                                              Actors  \\\n",
       "0  Kevin Costner, Ashton Kutcher, Sela Ward, Meli...   \n",
       "1  Albert Finney, Tom Courtenay, Edward Fox, Zena...   \n",
       "2  S. Epatha Merkerson, Marcus Carl Franklin, Yas...   \n",
       "3  Julie Andrews, Rock Hudson, Jeremy Kemp, Lance...   \n",
       "4                                          Mel Blanc   \n",
       "\n",
       "                                                Plot  ...   Type          DVD  \\\n",
       "0  A high school swim champion with a troubled pa...  ...  movie  23 Jan 2007   \n",
       "1  An effeminate personal assistant of a deterior...  ...  movie  06 Apr 2004   \n",
       "2  In a story fueled by rhythm and blues, a young...  ...  movie  23 Aug 2005   \n",
       "3  Set during World War I, this movie is a cute s...  ...  movie  25 Oct 2005   \n",
       "4  When the circus arrives they put the lion's ca...  ...  movie          N/A   \n",
       "\n",
       "     BoxOffice                   Production Website Response totalSeasons  \\\n",
       "0  $54,983,983         Buena Vista Pictures     N/A     True          NaN   \n",
       "1          N/A  Sony Pictures Entertainment     N/A     True          NaN   \n",
       "2          N/A                    HBO Films     N/A     True          NaN   \n",
       "3          N/A                    Paramount     N/A     True          NaN   \n",
       "4          N/A                          N/A     N/A     True          NaN   \n",
       "\n",
       "  Season Episode seriesID  \n",
       "0    NaN     NaN      NaN  \n",
       "1    NaN     NaN      NaN  \n",
       "2    NaN     NaN      NaN  \n",
       "3    NaN     NaN      NaN  \n",
       "4    NaN     NaN      NaN  \n",
       "\n",
       "[5 rows x 29 columns]"
      ]
     },
     "execution_count": 7,
     "metadata": {},
     "output_type": "execute_result"
    }
   ],
   "source": [
    "test.head()"
   ]
  },
  {
   "cell_type": "code",
   "execution_count": 8,
   "metadata": {
    "scrolled": true
   },
   "outputs": [
    {
     "data": {
      "text/html": [
       "<div>\n",
       "<style scoped>\n",
       "    .dataframe tbody tr th:only-of-type {\n",
       "        vertical-align: middle;\n",
       "    }\n",
       "\n",
       "    .dataframe tbody tr th {\n",
       "        vertical-align: top;\n",
       "    }\n",
       "\n",
       "    .dataframe thead th {\n",
       "        text-align: right;\n",
       "    }\n",
       "</style>\n",
       "<table border=\"1\" class=\"dataframe\">\n",
       "  <thead>\n",
       "    <tr style=\"text-align: right;\">\n",
       "      <th></th>\n",
       "      <th>Title</th>\n",
       "      <th>Year</th>\n",
       "      <th>Rated</th>\n",
       "      <th>Released</th>\n",
       "      <th>Runtime</th>\n",
       "      <th>Genre</th>\n",
       "      <th>Director</th>\n",
       "      <th>Writer</th>\n",
       "      <th>Actors</th>\n",
       "      <th>Plot</th>\n",
       "      <th>...</th>\n",
       "      <th>Type</th>\n",
       "      <th>DVD</th>\n",
       "      <th>BoxOffice</th>\n",
       "      <th>Production</th>\n",
       "      <th>Website</th>\n",
       "      <th>Response</th>\n",
       "      <th>totalSeasons</th>\n",
       "      <th>Season</th>\n",
       "      <th>Episode</th>\n",
       "      <th>seriesID</th>\n",
       "    </tr>\n",
       "  </thead>\n",
       "  <tbody>\n",
       "    <tr>\n",
       "      <td>0</td>\n",
       "      <td>Futz</td>\n",
       "      <td>1969</td>\n",
       "      <td>NOT RATED</td>\n",
       "      <td>16 Nov 1969</td>\n",
       "      <td>92 min</td>\n",
       "      <td>Comedy</td>\n",
       "      <td>Tom O'Horgan</td>\n",
       "      <td>Rochelle Owens (play), Joseph Stefano (screenp...</td>\n",
       "      <td>Seth Allen, John Bakos, Mari-Claire Charba, Pe...</td>\n",
       "      <td>Sexual satire about a young farmer who has had...</td>\n",
       "      <td>...</td>\n",
       "      <td>movie</td>\n",
       "      <td>N/A</td>\n",
       "      <td>N/A</td>\n",
       "      <td>N/A</td>\n",
       "      <td>N/A</td>\n",
       "      <td>True</td>\n",
       "      <td>NaN</td>\n",
       "      <td>NaN</td>\n",
       "      <td>NaN</td>\n",
       "      <td>NaN</td>\n",
       "    </tr>\n",
       "    <tr>\n",
       "      <td>1</td>\n",
       "      <td>Stanley &amp; Iris</td>\n",
       "      <td>1990</td>\n",
       "      <td>PG-13</td>\n",
       "      <td>09 Feb 1990</td>\n",
       "      <td>104 min</td>\n",
       "      <td>Drama, Romance</td>\n",
       "      <td>Martin Ritt</td>\n",
       "      <td>Pat Barker (novel), Harriet Frank Jr. (screenp...</td>\n",
       "      <td>Jane Fonda, Robert De Niro, Swoosie Kurtz, Mar...</td>\n",
       "      <td>A struggling widow falls in love with an illit...</td>\n",
       "      <td>...</td>\n",
       "      <td>movie</td>\n",
       "      <td>13 Jan 2004</td>\n",
       "      <td>N/A</td>\n",
       "      <td>MGM Home Entertainment</td>\n",
       "      <td>N/A</td>\n",
       "      <td>True</td>\n",
       "      <td>NaN</td>\n",
       "      <td>NaN</td>\n",
       "      <td>NaN</td>\n",
       "      <td>NaN</td>\n",
       "    </tr>\n",
       "    <tr>\n",
       "      <td>2</td>\n",
       "      <td>Puss in Boots</td>\n",
       "      <td>1988</td>\n",
       "      <td>G</td>\n",
       "      <td>10 Jun 1988</td>\n",
       "      <td>96 min</td>\n",
       "      <td>Fantasy, Musical, Family</td>\n",
       "      <td>Eugene Marner</td>\n",
       "      <td>Charles Perrault (fairy tale \"Le chat botté\"),...</td>\n",
       "      <td>Christopher Walken, Jason Connery, Carmela Mar...</td>\n",
       "      <td>A cat belonging to a poor miller's son thinks ...</td>\n",
       "      <td>...</td>\n",
       "      <td>movie</td>\n",
       "      <td>09 Aug 2005</td>\n",
       "      <td>N/A</td>\n",
       "      <td>MGM</td>\n",
       "      <td>N/A</td>\n",
       "      <td>True</td>\n",
       "      <td>NaN</td>\n",
       "      <td>NaN</td>\n",
       "      <td>NaN</td>\n",
       "      <td>NaN</td>\n",
       "    </tr>\n",
       "    <tr>\n",
       "      <td>3</td>\n",
       "      <td>#DUPE#</td>\n",
       "      <td>1972</td>\n",
       "      <td>N/A</td>\n",
       "      <td>N/A</td>\n",
       "      <td>N/A</td>\n",
       "      <td>N/A</td>\n",
       "      <td>N/A</td>\n",
       "      <td>N/A</td>\n",
       "      <td>N/A</td>\n",
       "      <td>N/A</td>\n",
       "      <td>...</td>\n",
       "      <td>movie</td>\n",
       "      <td>N/A</td>\n",
       "      <td>N/A</td>\n",
       "      <td>N/A</td>\n",
       "      <td>N/A</td>\n",
       "      <td>True</td>\n",
       "      <td>NaN</td>\n",
       "      <td>NaN</td>\n",
       "      <td>NaN</td>\n",
       "      <td>NaN</td>\n",
       "    </tr>\n",
       "    <tr>\n",
       "      <td>4</td>\n",
       "      <td>Who Done It?</td>\n",
       "      <td>1949</td>\n",
       "      <td>N/A</td>\n",
       "      <td>03 Mar 1949</td>\n",
       "      <td>16 min</td>\n",
       "      <td>Comedy, Short</td>\n",
       "      <td>Edward Bernds</td>\n",
       "      <td>Edward Bernds (story), Edward Bernds (screenplay)</td>\n",
       "      <td>Shemp Howard, Larry Fine, Moe Howard, Christin...</td>\n",
       "      <td>The stooges are private detectives looking for...</td>\n",
       "      <td>...</td>\n",
       "      <td>movie</td>\n",
       "      <td>N/A</td>\n",
       "      <td>N/A</td>\n",
       "      <td>N/A</td>\n",
       "      <td>N/A</td>\n",
       "      <td>True</td>\n",
       "      <td>NaN</td>\n",
       "      <td>NaN</td>\n",
       "      <td>NaN</td>\n",
       "      <td>NaN</td>\n",
       "    </tr>\n",
       "  </tbody>\n",
       "</table>\n",
       "<p>5 rows × 29 columns</p>\n",
       "</div>"
      ],
      "text/plain": [
       "            Title  Year      Rated     Released  Runtime  \\\n",
       "0            Futz  1969  NOT RATED  16 Nov 1969   92 min   \n",
       "1  Stanley & Iris  1990      PG-13  09 Feb 1990  104 min   \n",
       "2   Puss in Boots  1988          G  10 Jun 1988   96 min   \n",
       "3          #DUPE#  1972        N/A          N/A      N/A   \n",
       "4    Who Done It?  1949        N/A  03 Mar 1949   16 min   \n",
       "\n",
       "                      Genre       Director  \\\n",
       "0                    Comedy   Tom O'Horgan   \n",
       "1            Drama, Romance    Martin Ritt   \n",
       "2  Fantasy, Musical, Family  Eugene Marner   \n",
       "3                       N/A            N/A   \n",
       "4             Comedy, Short  Edward Bernds   \n",
       "\n",
       "                                              Writer  \\\n",
       "0  Rochelle Owens (play), Joseph Stefano (screenp...   \n",
       "1  Pat Barker (novel), Harriet Frank Jr. (screenp...   \n",
       "2  Charles Perrault (fairy tale \"Le chat botté\"),...   \n",
       "3                                                N/A   \n",
       "4  Edward Bernds (story), Edward Bernds (screenplay)   \n",
       "\n",
       "                                              Actors  \\\n",
       "0  Seth Allen, John Bakos, Mari-Claire Charba, Pe...   \n",
       "1  Jane Fonda, Robert De Niro, Swoosie Kurtz, Mar...   \n",
       "2  Christopher Walken, Jason Connery, Carmela Mar...   \n",
       "3                                                N/A   \n",
       "4  Shemp Howard, Larry Fine, Moe Howard, Christin...   \n",
       "\n",
       "                                                Plot  ...   Type          DVD  \\\n",
       "0  Sexual satire about a young farmer who has had...  ...  movie          N/A   \n",
       "1  A struggling widow falls in love with an illit...  ...  movie  13 Jan 2004   \n",
       "2  A cat belonging to a poor miller's son thinks ...  ...  movie  09 Aug 2005   \n",
       "3                                                N/A  ...  movie          N/A   \n",
       "4  The stooges are private detectives looking for...  ...  movie          N/A   \n",
       "\n",
       "  BoxOffice              Production Website Response totalSeasons Season  \\\n",
       "0       N/A                     N/A     N/A     True          NaN    NaN   \n",
       "1       N/A  MGM Home Entertainment     N/A     True          NaN    NaN   \n",
       "2       N/A                     MGM     N/A     True          NaN    NaN   \n",
       "3       N/A                     N/A     N/A     True          NaN    NaN   \n",
       "4       N/A                     N/A     N/A     True          NaN    NaN   \n",
       "\n",
       "  Episode seriesID  \n",
       "0     NaN      NaN  \n",
       "1     NaN      NaN  \n",
       "2     NaN      NaN  \n",
       "3     NaN      NaN  \n",
       "4     NaN      NaN  \n",
       "\n",
       "[5 rows x 29 columns]"
      ]
     },
     "execution_count": 8,
     "metadata": {},
     "output_type": "execute_result"
    }
   ],
   "source": [
    "train.head()"
   ]
  },
  {
   "cell_type": "code",
   "execution_count": 9,
   "metadata": {},
   "outputs": [],
   "source": [
    "combined = pd.concat([train, test], ignore_index=True)\n",
    "movies = combined[[\"imdbID\", \"Title\", \"Ratings\", \"imdbRating\", \"imdbVotes\", \"Language\", \"Genre\"]].dropna()\n",
    "movies.drop_duplicates(subset=['imdbID'], keep=False, inplace=True)"
   ]
  },
  {
   "cell_type": "code",
   "execution_count": 10,
   "metadata": {},
   "outputs": [
    {
     "data": {
      "text/html": [
       "<div>\n",
       "<style scoped>\n",
       "    .dataframe tbody tr th:only-of-type {\n",
       "        vertical-align: middle;\n",
       "    }\n",
       "\n",
       "    .dataframe tbody tr th {\n",
       "        vertical-align: top;\n",
       "    }\n",
       "\n",
       "    .dataframe thead th {\n",
       "        text-align: right;\n",
       "    }\n",
       "</style>\n",
       "<table border=\"1\" class=\"dataframe\">\n",
       "  <thead>\n",
       "    <tr style=\"text-align: right;\">\n",
       "      <th></th>\n",
       "      <th>imdbID</th>\n",
       "      <th>Title</th>\n",
       "      <th>Ratings</th>\n",
       "      <th>imdbRating</th>\n",
       "      <th>imdbVotes</th>\n",
       "      <th>Language</th>\n",
       "      <th>Genre</th>\n",
       "    </tr>\n",
       "  </thead>\n",
       "  <tbody>\n",
       "    <tr>\n",
       "      <td>7029</td>\n",
       "      <td>tt0258760</td>\n",
       "      <td>Lammbock</td>\n",
       "      <td>[{'Source': 'Internet Movie Database', 'Value'...</td>\n",
       "      <td>7.3</td>\n",
       "      <td>10,180</td>\n",
       "      <td>German</td>\n",
       "      <td>Comedy</td>\n",
       "    </tr>\n",
       "    <tr>\n",
       "      <td>7030</td>\n",
       "      <td>tt0146455</td>\n",
       "      <td>Babylon 5: A Call to Arms</td>\n",
       "      <td>[{'Source': 'Internet Movie Database', 'Value'...</td>\n",
       "      <td>7.2</td>\n",
       "      <td>4,976</td>\n",
       "      <td>English</td>\n",
       "      <td>Action, Adventure, Drama, Sci-Fi</td>\n",
       "    </tr>\n",
       "    <tr>\n",
       "      <td>7031</td>\n",
       "      <td>tt0432047</td>\n",
       "      <td>Sarkar</td>\n",
       "      <td>[{'Source': 'Internet Movie Database', 'Value'...</td>\n",
       "      <td>7.7</td>\n",
       "      <td>14,199</td>\n",
       "      <td>Hindi, Marathi</td>\n",
       "      <td>Crime, Drama</td>\n",
       "    </tr>\n",
       "    <tr>\n",
       "      <td>7032</td>\n",
       "      <td>tt0109515</td>\n",
       "      <td>Cyber Tracker</td>\n",
       "      <td>[{'Source': 'Internet Movie Database', 'Value'...</td>\n",
       "      <td>3.5</td>\n",
       "      <td>971</td>\n",
       "      <td>English</td>\n",
       "      <td>Action, Sci-Fi</td>\n",
       "    </tr>\n",
       "    <tr>\n",
       "      <td>7033</td>\n",
       "      <td>tt0485161</td>\n",
       "      <td>Totally Awesome</td>\n",
       "      <td>[{'Source': 'Internet Movie Database', 'Value'...</td>\n",
       "      <td>5.2</td>\n",
       "      <td>1,625</td>\n",
       "      <td>English</td>\n",
       "      <td>Comedy</td>\n",
       "    </tr>\n",
       "  </tbody>\n",
       "</table>\n",
       "</div>"
      ],
      "text/plain": [
       "         imdbID                      Title  \\\n",
       "7029  tt0258760                   Lammbock   \n",
       "7030  tt0146455  Babylon 5: A Call to Arms   \n",
       "7031  tt0432047                     Sarkar   \n",
       "7032  tt0109515              Cyber Tracker   \n",
       "7033  tt0485161            Totally Awesome   \n",
       "\n",
       "                                                Ratings imdbRating imdbVotes  \\\n",
       "7029  [{'Source': 'Internet Movie Database', 'Value'...        7.3    10,180   \n",
       "7030  [{'Source': 'Internet Movie Database', 'Value'...        7.2     4,976   \n",
       "7031  [{'Source': 'Internet Movie Database', 'Value'...        7.7    14,199   \n",
       "7032  [{'Source': 'Internet Movie Database', 'Value'...        3.5       971   \n",
       "7033  [{'Source': 'Internet Movie Database', 'Value'...        5.2     1,625   \n",
       "\n",
       "            Language                             Genre  \n",
       "7029          German                            Comedy  \n",
       "7030         English  Action, Adventure, Drama, Sci-Fi  \n",
       "7031  Hindi, Marathi                      Crime, Drama  \n",
       "7032         English                    Action, Sci-Fi  \n",
       "7033         English                            Comedy  "
      ]
     },
     "execution_count": 10,
     "metadata": {},
     "output_type": "execute_result"
    }
   ],
   "source": [
    "movies.tail()"
   ]
  },
  {
   "cell_type": "code",
   "execution_count": 11,
   "metadata": {},
   "outputs": [
    {
     "data": {
      "text/plain": [
       "(6914, 7)"
      ]
     },
     "execution_count": 11,
     "metadata": {},
     "output_type": "execute_result"
    }
   ],
   "source": [
    "movies.shape"
   ]
  },
  {
   "cell_type": "markdown",
   "metadata": {},
   "source": [
    "### Encoding genres"
   ]
  },
  {
   "cell_type": "code",
   "execution_count": 12,
   "metadata": {},
   "outputs": [
    {
     "name": "stdout",
     "output_type": "stream",
     "text": [
      "{' News', ' Music', ' Sci-Fi', 'Musical', 'Music', ' Film-Noir', 'Adult', ' Family', ' Drama', 'Documentary', 'Comedy', 'Drama', 'Fantasy', 'Talk-Show', 'Short', 'Biography', 'Game-Show', ' Comedy', ' Romance', ' Sport', ' Talk-Show', 'Sci-Fi', ' Fantasy', 'Western', ' Biography', 'Thriller', ' Documentary', 'War', ' Horror', ' Crime', 'Family', ' Adult', 'Action', 'Animation', ' Animation', ' War', 'Romance', ' Short', ' Adventure', 'Crime', 'Mystery', ' Action', 'Film-Noir', ' Musical', ' Mystery', ' Thriller', 'Horror', 'Adventure', 'Sport', 'News', 'Reality-TV', ' Reality-TV', ' Western', ' Game-Show', 'History', 'N/A', ' History'}\n",
      "57\n"
     ]
    }
   ],
   "source": [
    "# split genres and printing\n",
    "genres = set([j for i in [i.split(\",\") for i in movies['Genre']] for j in i])\n",
    "print(genres)\n",
    "print(len(genres))"
   ]
  },
  {
   "cell_type": "code",
   "execution_count": 13,
   "metadata": {},
   "outputs": [
    {
     "data": {
      "application/vnd.plotly.v1+json": {
       "config": {
        "linkText": "Export to plot.ly",
        "plotlyServerURL": "https://plot.ly",
        "showLink": false
       },
       "data": [
        {
         "marker": {
          "color": "rgb(158,202,225)",
          "line": {
           "color": "rgb(8,48,107)",
           "width": 1.5
          }
         },
         "opacity": 0.6,
         "type": "bar",
         "x": [
          " News",
          " Music",
          " Sci-Fi",
          "Musical",
          "Music",
          " Film-Noir",
          "Adult",
          " Family",
          " Drama",
          "Documentary",
          "Comedy",
          "Drama",
          "Fantasy",
          "Talk-Show",
          "Short",
          "Biography",
          "Game-Show",
          " Comedy",
          " Romance",
          " Sport",
          " Talk-Show",
          "Sci-Fi",
          " Fantasy",
          "Western",
          " Biography",
          "Thriller",
          " Documentary",
          "War",
          " Horror",
          " Crime",
          "Family",
          " Adult",
          "Action",
          "Animation",
          " Animation",
          " War",
          "Romance",
          " Short",
          " Adventure",
          "Crime",
          "Mystery",
          " Action",
          "Film-Noir",
          " Musical",
          " Mystery",
          " Thriller",
          "Horror",
          "Adventure",
          "Sport",
          "News",
          "Reality-TV",
          " Reality-TV",
          " Western",
          " Game-Show",
          "History",
          "N/A",
          " History"
         ],
         "y": [
          3,
          392,
          588,
          235,
          444,
          79,
          16,
          404,
          1649,
          262,
          2076,
          3131,
          527,
          15,
          269,
          229,
          15,
          554,
          1157,
          128,
          11,
          641,
          460,
          180,
          57,
          1278,
          12,
          264,
          488,
          430,
          467,
          3,
          1081,
          320,
          27,
          257,
          1197,
          166,
          412,
          901,
          580,
          126,
          82,
          197,
          519,
          1182,
          972,
          713,
          135,
          8,
          45,
          29,
          133,
          5,
          198,
          334,
          195
         ]
        }
       ],
       "layout": {
        "template": {
         "data": {
          "bar": [
           {
            "error_x": {
             "color": "#2a3f5f"
            },
            "error_y": {
             "color": "#2a3f5f"
            },
            "marker": {
             "line": {
              "color": "#E5ECF6",
              "width": 0.5
             }
            },
            "type": "bar"
           }
          ],
          "barpolar": [
           {
            "marker": {
             "line": {
              "color": "#E5ECF6",
              "width": 0.5
             }
            },
            "type": "barpolar"
           }
          ],
          "carpet": [
           {
            "aaxis": {
             "endlinecolor": "#2a3f5f",
             "gridcolor": "white",
             "linecolor": "white",
             "minorgridcolor": "white",
             "startlinecolor": "#2a3f5f"
            },
            "baxis": {
             "endlinecolor": "#2a3f5f",
             "gridcolor": "white",
             "linecolor": "white",
             "minorgridcolor": "white",
             "startlinecolor": "#2a3f5f"
            },
            "type": "carpet"
           }
          ],
          "choropleth": [
           {
            "colorbar": {
             "outlinewidth": 0,
             "ticks": ""
            },
            "type": "choropleth"
           }
          ],
          "contour": [
           {
            "colorbar": {
             "outlinewidth": 0,
             "ticks": ""
            },
            "colorscale": [
             [
              0,
              "#0d0887"
             ],
             [
              0.1111111111111111,
              "#46039f"
             ],
             [
              0.2222222222222222,
              "#7201a8"
             ],
             [
              0.3333333333333333,
              "#9c179e"
             ],
             [
              0.4444444444444444,
              "#bd3786"
             ],
             [
              0.5555555555555556,
              "#d8576b"
             ],
             [
              0.6666666666666666,
              "#ed7953"
             ],
             [
              0.7777777777777778,
              "#fb9f3a"
             ],
             [
              0.8888888888888888,
              "#fdca26"
             ],
             [
              1,
              "#f0f921"
             ]
            ],
            "type": "contour"
           }
          ],
          "contourcarpet": [
           {
            "colorbar": {
             "outlinewidth": 0,
             "ticks": ""
            },
            "type": "contourcarpet"
           }
          ],
          "heatmap": [
           {
            "colorbar": {
             "outlinewidth": 0,
             "ticks": ""
            },
            "colorscale": [
             [
              0,
              "#0d0887"
             ],
             [
              0.1111111111111111,
              "#46039f"
             ],
             [
              0.2222222222222222,
              "#7201a8"
             ],
             [
              0.3333333333333333,
              "#9c179e"
             ],
             [
              0.4444444444444444,
              "#bd3786"
             ],
             [
              0.5555555555555556,
              "#d8576b"
             ],
             [
              0.6666666666666666,
              "#ed7953"
             ],
             [
              0.7777777777777778,
              "#fb9f3a"
             ],
             [
              0.8888888888888888,
              "#fdca26"
             ],
             [
              1,
              "#f0f921"
             ]
            ],
            "type": "heatmap"
           }
          ],
          "heatmapgl": [
           {
            "colorbar": {
             "outlinewidth": 0,
             "ticks": ""
            },
            "colorscale": [
             [
              0,
              "#0d0887"
             ],
             [
              0.1111111111111111,
              "#46039f"
             ],
             [
              0.2222222222222222,
              "#7201a8"
             ],
             [
              0.3333333333333333,
              "#9c179e"
             ],
             [
              0.4444444444444444,
              "#bd3786"
             ],
             [
              0.5555555555555556,
              "#d8576b"
             ],
             [
              0.6666666666666666,
              "#ed7953"
             ],
             [
              0.7777777777777778,
              "#fb9f3a"
             ],
             [
              0.8888888888888888,
              "#fdca26"
             ],
             [
              1,
              "#f0f921"
             ]
            ],
            "type": "heatmapgl"
           }
          ],
          "histogram": [
           {
            "marker": {
             "colorbar": {
              "outlinewidth": 0,
              "ticks": ""
             }
            },
            "type": "histogram"
           }
          ],
          "histogram2d": [
           {
            "colorbar": {
             "outlinewidth": 0,
             "ticks": ""
            },
            "colorscale": [
             [
              0,
              "#0d0887"
             ],
             [
              0.1111111111111111,
              "#46039f"
             ],
             [
              0.2222222222222222,
              "#7201a8"
             ],
             [
              0.3333333333333333,
              "#9c179e"
             ],
             [
              0.4444444444444444,
              "#bd3786"
             ],
             [
              0.5555555555555556,
              "#d8576b"
             ],
             [
              0.6666666666666666,
              "#ed7953"
             ],
             [
              0.7777777777777778,
              "#fb9f3a"
             ],
             [
              0.8888888888888888,
              "#fdca26"
             ],
             [
              1,
              "#f0f921"
             ]
            ],
            "type": "histogram2d"
           }
          ],
          "histogram2dcontour": [
           {
            "colorbar": {
             "outlinewidth": 0,
             "ticks": ""
            },
            "colorscale": [
             [
              0,
              "#0d0887"
             ],
             [
              0.1111111111111111,
              "#46039f"
             ],
             [
              0.2222222222222222,
              "#7201a8"
             ],
             [
              0.3333333333333333,
              "#9c179e"
             ],
             [
              0.4444444444444444,
              "#bd3786"
             ],
             [
              0.5555555555555556,
              "#d8576b"
             ],
             [
              0.6666666666666666,
              "#ed7953"
             ],
             [
              0.7777777777777778,
              "#fb9f3a"
             ],
             [
              0.8888888888888888,
              "#fdca26"
             ],
             [
              1,
              "#f0f921"
             ]
            ],
            "type": "histogram2dcontour"
           }
          ],
          "mesh3d": [
           {
            "colorbar": {
             "outlinewidth": 0,
             "ticks": ""
            },
            "type": "mesh3d"
           }
          ],
          "parcoords": [
           {
            "line": {
             "colorbar": {
              "outlinewidth": 0,
              "ticks": ""
             }
            },
            "type": "parcoords"
           }
          ],
          "pie": [
           {
            "automargin": true,
            "type": "pie"
           }
          ],
          "scatter": [
           {
            "marker": {
             "colorbar": {
              "outlinewidth": 0,
              "ticks": ""
             }
            },
            "type": "scatter"
           }
          ],
          "scatter3d": [
           {
            "line": {
             "colorbar": {
              "outlinewidth": 0,
              "ticks": ""
             }
            },
            "marker": {
             "colorbar": {
              "outlinewidth": 0,
              "ticks": ""
             }
            },
            "type": "scatter3d"
           }
          ],
          "scattercarpet": [
           {
            "marker": {
             "colorbar": {
              "outlinewidth": 0,
              "ticks": ""
             }
            },
            "type": "scattercarpet"
           }
          ],
          "scattergeo": [
           {
            "marker": {
             "colorbar": {
              "outlinewidth": 0,
              "ticks": ""
             }
            },
            "type": "scattergeo"
           }
          ],
          "scattergl": [
           {
            "marker": {
             "colorbar": {
              "outlinewidth": 0,
              "ticks": ""
             }
            },
            "type": "scattergl"
           }
          ],
          "scattermapbox": [
           {
            "marker": {
             "colorbar": {
              "outlinewidth": 0,
              "ticks": ""
             }
            },
            "type": "scattermapbox"
           }
          ],
          "scatterpolar": [
           {
            "marker": {
             "colorbar": {
              "outlinewidth": 0,
              "ticks": ""
             }
            },
            "type": "scatterpolar"
           }
          ],
          "scatterpolargl": [
           {
            "marker": {
             "colorbar": {
              "outlinewidth": 0,
              "ticks": ""
             }
            },
            "type": "scatterpolargl"
           }
          ],
          "scatterternary": [
           {
            "marker": {
             "colorbar": {
              "outlinewidth": 0,
              "ticks": ""
             }
            },
            "type": "scatterternary"
           }
          ],
          "surface": [
           {
            "colorbar": {
             "outlinewidth": 0,
             "ticks": ""
            },
            "colorscale": [
             [
              0,
              "#0d0887"
             ],
             [
              0.1111111111111111,
              "#46039f"
             ],
             [
              0.2222222222222222,
              "#7201a8"
             ],
             [
              0.3333333333333333,
              "#9c179e"
             ],
             [
              0.4444444444444444,
              "#bd3786"
             ],
             [
              0.5555555555555556,
              "#d8576b"
             ],
             [
              0.6666666666666666,
              "#ed7953"
             ],
             [
              0.7777777777777778,
              "#fb9f3a"
             ],
             [
              0.8888888888888888,
              "#fdca26"
             ],
             [
              1,
              "#f0f921"
             ]
            ],
            "type": "surface"
           }
          ],
          "table": [
           {
            "cells": {
             "fill": {
              "color": "#EBF0F8"
             },
             "line": {
              "color": "white"
             }
            },
            "header": {
             "fill": {
              "color": "#C8D4E3"
             },
             "line": {
              "color": "white"
             }
            },
            "type": "table"
           }
          ]
         },
         "layout": {
          "annotationdefaults": {
           "arrowcolor": "#2a3f5f",
           "arrowhead": 0,
           "arrowwidth": 1
          },
          "coloraxis": {
           "colorbar": {
            "outlinewidth": 0,
            "ticks": ""
           }
          },
          "colorscale": {
           "diverging": [
            [
             0,
             "#8e0152"
            ],
            [
             0.1,
             "#c51b7d"
            ],
            [
             0.2,
             "#de77ae"
            ],
            [
             0.3,
             "#f1b6da"
            ],
            [
             0.4,
             "#fde0ef"
            ],
            [
             0.5,
             "#f7f7f7"
            ],
            [
             0.6,
             "#e6f5d0"
            ],
            [
             0.7,
             "#b8e186"
            ],
            [
             0.8,
             "#7fbc41"
            ],
            [
             0.9,
             "#4d9221"
            ],
            [
             1,
             "#276419"
            ]
           ],
           "sequential": [
            [
             0,
             "#0d0887"
            ],
            [
             0.1111111111111111,
             "#46039f"
            ],
            [
             0.2222222222222222,
             "#7201a8"
            ],
            [
             0.3333333333333333,
             "#9c179e"
            ],
            [
             0.4444444444444444,
             "#bd3786"
            ],
            [
             0.5555555555555556,
             "#d8576b"
            ],
            [
             0.6666666666666666,
             "#ed7953"
            ],
            [
             0.7777777777777778,
             "#fb9f3a"
            ],
            [
             0.8888888888888888,
             "#fdca26"
            ],
            [
             1,
             "#f0f921"
            ]
           ],
           "sequentialminus": [
            [
             0,
             "#0d0887"
            ],
            [
             0.1111111111111111,
             "#46039f"
            ],
            [
             0.2222222222222222,
             "#7201a8"
            ],
            [
             0.3333333333333333,
             "#9c179e"
            ],
            [
             0.4444444444444444,
             "#bd3786"
            ],
            [
             0.5555555555555556,
             "#d8576b"
            ],
            [
             0.6666666666666666,
             "#ed7953"
            ],
            [
             0.7777777777777778,
             "#fb9f3a"
            ],
            [
             0.8888888888888888,
             "#fdca26"
            ],
            [
             1,
             "#f0f921"
            ]
           ]
          },
          "colorway": [
           "#636efa",
           "#EF553B",
           "#00cc96",
           "#ab63fa",
           "#FFA15A",
           "#19d3f3",
           "#FF6692",
           "#B6E880",
           "#FF97FF",
           "#FECB52"
          ],
          "font": {
           "color": "#2a3f5f"
          },
          "geo": {
           "bgcolor": "white",
           "lakecolor": "white",
           "landcolor": "#E5ECF6",
           "showlakes": true,
           "showland": true,
           "subunitcolor": "white"
          },
          "hoverlabel": {
           "align": "left"
          },
          "hovermode": "closest",
          "mapbox": {
           "style": "light"
          },
          "paper_bgcolor": "white",
          "plot_bgcolor": "#E5ECF6",
          "polar": {
           "angularaxis": {
            "gridcolor": "white",
            "linecolor": "white",
            "ticks": ""
           },
           "bgcolor": "#E5ECF6",
           "radialaxis": {
            "gridcolor": "white",
            "linecolor": "white",
            "ticks": ""
           }
          },
          "scene": {
           "xaxis": {
            "backgroundcolor": "#E5ECF6",
            "gridcolor": "white",
            "gridwidth": 2,
            "linecolor": "white",
            "showbackground": true,
            "ticks": "",
            "zerolinecolor": "white"
           },
           "yaxis": {
            "backgroundcolor": "#E5ECF6",
            "gridcolor": "white",
            "gridwidth": 2,
            "linecolor": "white",
            "showbackground": true,
            "ticks": "",
            "zerolinecolor": "white"
           },
           "zaxis": {
            "backgroundcolor": "#E5ECF6",
            "gridcolor": "white",
            "gridwidth": 2,
            "linecolor": "white",
            "showbackground": true,
            "ticks": "",
            "zerolinecolor": "white"
           }
          },
          "shapedefaults": {
           "line": {
            "color": "#2a3f5f"
           }
          },
          "ternary": {
           "aaxis": {
            "gridcolor": "white",
            "linecolor": "white",
            "ticks": ""
           },
           "baxis": {
            "gridcolor": "white",
            "linecolor": "white",
            "ticks": ""
           },
           "bgcolor": "#E5ECF6",
           "caxis": {
            "gridcolor": "white",
            "linecolor": "white",
            "ticks": ""
           }
          },
          "title": {
           "x": 0.05
          },
          "xaxis": {
           "automargin": true,
           "gridcolor": "white",
           "linecolor": "white",
           "ticks": "",
           "title": {
            "standoff": 15
           },
           "zerolinecolor": "white",
           "zerolinewidth": 2
          },
          "yaxis": {
           "automargin": true,
           "gridcolor": "white",
           "linecolor": "white",
           "ticks": "",
           "title": {
            "standoff": 15
           },
           "zerolinecolor": "white",
           "zerolinewidth": 2
          }
         }
        },
        "title": {
         "text": "Movies per Genre"
        },
        "xaxis": {
         "title": {
          "text": "Genres"
         }
        },
        "yaxis": {
         "title": {
          "text": "Number of Movies"
         }
        }
       }
      },
      "text/html": [
       "<div>\n",
       "        \n",
       "        \n",
       "            <div id=\"2e80f276-8868-4373-a362-015fdc85f494\" class=\"plotly-graph-div\" style=\"height:525px; width:100%;\"></div>\n",
       "            <script type=\"text/javascript\">\n",
       "                require([\"plotly\"], function(Plotly) {\n",
       "                    window.PLOTLYENV=window.PLOTLYENV || {};\n",
       "                    \n",
       "                if (document.getElementById(\"2e80f276-8868-4373-a362-015fdc85f494\")) {\n",
       "                    Plotly.newPlot(\n",
       "                        '2e80f276-8868-4373-a362-015fdc85f494',\n",
       "                        [{\"marker\": {\"color\": \"rgb(158,202,225)\", \"line\": {\"color\": \"rgb(8,48,107)\", \"width\": 1.5}}, \"opacity\": 0.6, \"type\": \"bar\", \"x\": [\" News\", \" Music\", \" Sci-Fi\", \"Musical\", \"Music\", \" Film-Noir\", \"Adult\", \" Family\", \" Drama\", \"Documentary\", \"Comedy\", \"Drama\", \"Fantasy\", \"Talk-Show\", \"Short\", \"Biography\", \"Game-Show\", \" Comedy\", \" Romance\", \" Sport\", \" Talk-Show\", \"Sci-Fi\", \" Fantasy\", \"Western\", \" Biography\", \"Thriller\", \" Documentary\", \"War\", \" Horror\", \" Crime\", \"Family\", \" Adult\", \"Action\", \"Animation\", \" Animation\", \" War\", \"Romance\", \" Short\", \" Adventure\", \"Crime\", \"Mystery\", \" Action\", \"Film-Noir\", \" Musical\", \" Mystery\", \" Thriller\", \"Horror\", \"Adventure\", \"Sport\", \"News\", \"Reality-TV\", \" Reality-TV\", \" Western\", \" Game-Show\", \"History\", \"N/A\", \" History\"], \"y\": [3, 392, 588, 235, 444, 79, 16, 404, 1649, 262, 2076, 3131, 527, 15, 269, 229, 15, 554, 1157, 128, 11, 641, 460, 180, 57, 1278, 12, 264, 488, 430, 467, 3, 1081, 320, 27, 257, 1197, 166, 412, 901, 580, 126, 82, 197, 519, 1182, 972, 713, 135, 8, 45, 29, 133, 5, 198, 334, 195]}],\n",
       "                        {\"template\": {\"data\": {\"bar\": [{\"error_x\": {\"color\": \"#2a3f5f\"}, \"error_y\": {\"color\": \"#2a3f5f\"}, \"marker\": {\"line\": {\"color\": \"#E5ECF6\", \"width\": 0.5}}, \"type\": \"bar\"}], \"barpolar\": [{\"marker\": {\"line\": {\"color\": \"#E5ECF6\", \"width\": 0.5}}, \"type\": \"barpolar\"}], \"carpet\": [{\"aaxis\": {\"endlinecolor\": \"#2a3f5f\", \"gridcolor\": \"white\", \"linecolor\": \"white\", \"minorgridcolor\": \"white\", \"startlinecolor\": \"#2a3f5f\"}, \"baxis\": {\"endlinecolor\": \"#2a3f5f\", \"gridcolor\": \"white\", \"linecolor\": \"white\", \"minorgridcolor\": \"white\", \"startlinecolor\": \"#2a3f5f\"}, \"type\": \"carpet\"}], \"choropleth\": [{\"colorbar\": {\"outlinewidth\": 0, \"ticks\": \"\"}, \"type\": \"choropleth\"}], \"contour\": [{\"colorbar\": {\"outlinewidth\": 0, \"ticks\": \"\"}, \"colorscale\": [[0.0, \"#0d0887\"], [0.1111111111111111, \"#46039f\"], [0.2222222222222222, \"#7201a8\"], [0.3333333333333333, \"#9c179e\"], [0.4444444444444444, \"#bd3786\"], [0.5555555555555556, \"#d8576b\"], [0.6666666666666666, \"#ed7953\"], [0.7777777777777778, \"#fb9f3a\"], [0.8888888888888888, \"#fdca26\"], [1.0, \"#f0f921\"]], \"type\": \"contour\"}], \"contourcarpet\": [{\"colorbar\": {\"outlinewidth\": 0, \"ticks\": \"\"}, \"type\": \"contourcarpet\"}], \"heatmap\": [{\"colorbar\": {\"outlinewidth\": 0, \"ticks\": \"\"}, \"colorscale\": [[0.0, \"#0d0887\"], [0.1111111111111111, \"#46039f\"], [0.2222222222222222, \"#7201a8\"], [0.3333333333333333, \"#9c179e\"], [0.4444444444444444, \"#bd3786\"], [0.5555555555555556, \"#d8576b\"], [0.6666666666666666, \"#ed7953\"], [0.7777777777777778, \"#fb9f3a\"], [0.8888888888888888, \"#fdca26\"], [1.0, \"#f0f921\"]], \"type\": \"heatmap\"}], \"heatmapgl\": [{\"colorbar\": {\"outlinewidth\": 0, \"ticks\": \"\"}, \"colorscale\": [[0.0, \"#0d0887\"], [0.1111111111111111, \"#46039f\"], [0.2222222222222222, \"#7201a8\"], [0.3333333333333333, \"#9c179e\"], [0.4444444444444444, \"#bd3786\"], [0.5555555555555556, \"#d8576b\"], [0.6666666666666666, \"#ed7953\"], [0.7777777777777778, \"#fb9f3a\"], [0.8888888888888888, \"#fdca26\"], [1.0, \"#f0f921\"]], \"type\": \"heatmapgl\"}], \"histogram\": [{\"marker\": {\"colorbar\": {\"outlinewidth\": 0, \"ticks\": \"\"}}, \"type\": \"histogram\"}], \"histogram2d\": [{\"colorbar\": {\"outlinewidth\": 0, \"ticks\": \"\"}, \"colorscale\": [[0.0, \"#0d0887\"], [0.1111111111111111, \"#46039f\"], [0.2222222222222222, \"#7201a8\"], [0.3333333333333333, \"#9c179e\"], [0.4444444444444444, \"#bd3786\"], [0.5555555555555556, \"#d8576b\"], [0.6666666666666666, \"#ed7953\"], [0.7777777777777778, \"#fb9f3a\"], [0.8888888888888888, \"#fdca26\"], [1.0, \"#f0f921\"]], \"type\": \"histogram2d\"}], \"histogram2dcontour\": [{\"colorbar\": {\"outlinewidth\": 0, \"ticks\": \"\"}, \"colorscale\": [[0.0, \"#0d0887\"], [0.1111111111111111, \"#46039f\"], [0.2222222222222222, \"#7201a8\"], [0.3333333333333333, \"#9c179e\"], [0.4444444444444444, \"#bd3786\"], [0.5555555555555556, \"#d8576b\"], [0.6666666666666666, \"#ed7953\"], [0.7777777777777778, \"#fb9f3a\"], [0.8888888888888888, \"#fdca26\"], [1.0, \"#f0f921\"]], \"type\": \"histogram2dcontour\"}], \"mesh3d\": [{\"colorbar\": {\"outlinewidth\": 0, \"ticks\": \"\"}, \"type\": \"mesh3d\"}], \"parcoords\": [{\"line\": {\"colorbar\": {\"outlinewidth\": 0, \"ticks\": \"\"}}, \"type\": \"parcoords\"}], \"pie\": [{\"automargin\": true, \"type\": \"pie\"}], \"scatter\": [{\"marker\": {\"colorbar\": {\"outlinewidth\": 0, \"ticks\": \"\"}}, \"type\": \"scatter\"}], \"scatter3d\": [{\"line\": {\"colorbar\": {\"outlinewidth\": 0, \"ticks\": \"\"}}, \"marker\": {\"colorbar\": {\"outlinewidth\": 0, \"ticks\": \"\"}}, \"type\": \"scatter3d\"}], \"scattercarpet\": [{\"marker\": {\"colorbar\": {\"outlinewidth\": 0, \"ticks\": \"\"}}, \"type\": \"scattercarpet\"}], \"scattergeo\": [{\"marker\": {\"colorbar\": {\"outlinewidth\": 0, \"ticks\": \"\"}}, \"type\": \"scattergeo\"}], \"scattergl\": [{\"marker\": {\"colorbar\": {\"outlinewidth\": 0, \"ticks\": \"\"}}, \"type\": \"scattergl\"}], \"scattermapbox\": [{\"marker\": {\"colorbar\": {\"outlinewidth\": 0, \"ticks\": \"\"}}, \"type\": \"scattermapbox\"}], \"scatterpolar\": [{\"marker\": {\"colorbar\": {\"outlinewidth\": 0, \"ticks\": \"\"}}, \"type\": \"scatterpolar\"}], \"scatterpolargl\": [{\"marker\": {\"colorbar\": {\"outlinewidth\": 0, \"ticks\": \"\"}}, \"type\": \"scatterpolargl\"}], \"scatterternary\": [{\"marker\": {\"colorbar\": {\"outlinewidth\": 0, \"ticks\": \"\"}}, \"type\": \"scatterternary\"}], \"surface\": [{\"colorbar\": {\"outlinewidth\": 0, \"ticks\": \"\"}, \"colorscale\": [[0.0, \"#0d0887\"], [0.1111111111111111, \"#46039f\"], [0.2222222222222222, \"#7201a8\"], [0.3333333333333333, \"#9c179e\"], [0.4444444444444444, \"#bd3786\"], [0.5555555555555556, \"#d8576b\"], [0.6666666666666666, \"#ed7953\"], [0.7777777777777778, \"#fb9f3a\"], [0.8888888888888888, \"#fdca26\"], [1.0, \"#f0f921\"]], \"type\": \"surface\"}], \"table\": [{\"cells\": {\"fill\": {\"color\": \"#EBF0F8\"}, \"line\": {\"color\": \"white\"}}, \"header\": {\"fill\": {\"color\": \"#C8D4E3\"}, \"line\": {\"color\": \"white\"}}, \"type\": \"table\"}]}, \"layout\": {\"annotationdefaults\": {\"arrowcolor\": \"#2a3f5f\", \"arrowhead\": 0, \"arrowwidth\": 1}, \"coloraxis\": {\"colorbar\": {\"outlinewidth\": 0, \"ticks\": \"\"}}, \"colorscale\": {\"diverging\": [[0, \"#8e0152\"], [0.1, \"#c51b7d\"], [0.2, \"#de77ae\"], [0.3, \"#f1b6da\"], [0.4, \"#fde0ef\"], [0.5, \"#f7f7f7\"], [0.6, \"#e6f5d0\"], [0.7, \"#b8e186\"], [0.8, \"#7fbc41\"], [0.9, \"#4d9221\"], [1, \"#276419\"]], \"sequential\": [[0.0, \"#0d0887\"], [0.1111111111111111, \"#46039f\"], [0.2222222222222222, \"#7201a8\"], [0.3333333333333333, \"#9c179e\"], [0.4444444444444444, \"#bd3786\"], [0.5555555555555556, \"#d8576b\"], [0.6666666666666666, \"#ed7953\"], [0.7777777777777778, \"#fb9f3a\"], [0.8888888888888888, \"#fdca26\"], [1.0, \"#f0f921\"]], \"sequentialminus\": [[0.0, \"#0d0887\"], [0.1111111111111111, \"#46039f\"], [0.2222222222222222, \"#7201a8\"], [0.3333333333333333, \"#9c179e\"], [0.4444444444444444, \"#bd3786\"], [0.5555555555555556, \"#d8576b\"], [0.6666666666666666, \"#ed7953\"], [0.7777777777777778, \"#fb9f3a\"], [0.8888888888888888, \"#fdca26\"], [1.0, \"#f0f921\"]]}, \"colorway\": [\"#636efa\", \"#EF553B\", \"#00cc96\", \"#ab63fa\", \"#FFA15A\", \"#19d3f3\", \"#FF6692\", \"#B6E880\", \"#FF97FF\", \"#FECB52\"], \"font\": {\"color\": \"#2a3f5f\"}, \"geo\": {\"bgcolor\": \"white\", \"lakecolor\": \"white\", \"landcolor\": \"#E5ECF6\", \"showlakes\": true, \"showland\": true, \"subunitcolor\": \"white\"}, \"hoverlabel\": {\"align\": \"left\"}, \"hovermode\": \"closest\", \"mapbox\": {\"style\": \"light\"}, \"paper_bgcolor\": \"white\", \"plot_bgcolor\": \"#E5ECF6\", \"polar\": {\"angularaxis\": {\"gridcolor\": \"white\", \"linecolor\": \"white\", \"ticks\": \"\"}, \"bgcolor\": \"#E5ECF6\", \"radialaxis\": {\"gridcolor\": \"white\", \"linecolor\": \"white\", \"ticks\": \"\"}}, \"scene\": {\"xaxis\": {\"backgroundcolor\": \"#E5ECF6\", \"gridcolor\": \"white\", \"gridwidth\": 2, \"linecolor\": \"white\", \"showbackground\": true, \"ticks\": \"\", \"zerolinecolor\": \"white\"}, \"yaxis\": {\"backgroundcolor\": \"#E5ECF6\", \"gridcolor\": \"white\", \"gridwidth\": 2, \"linecolor\": \"white\", \"showbackground\": true, \"ticks\": \"\", \"zerolinecolor\": \"white\"}, \"zaxis\": {\"backgroundcolor\": \"#E5ECF6\", \"gridcolor\": \"white\", \"gridwidth\": 2, \"linecolor\": \"white\", \"showbackground\": true, \"ticks\": \"\", \"zerolinecolor\": \"white\"}}, \"shapedefaults\": {\"line\": {\"color\": \"#2a3f5f\"}}, \"ternary\": {\"aaxis\": {\"gridcolor\": \"white\", \"linecolor\": \"white\", \"ticks\": \"\"}, \"baxis\": {\"gridcolor\": \"white\", \"linecolor\": \"white\", \"ticks\": \"\"}, \"bgcolor\": \"#E5ECF6\", \"caxis\": {\"gridcolor\": \"white\", \"linecolor\": \"white\", \"ticks\": \"\"}}, \"title\": {\"x\": 0.05}, \"xaxis\": {\"automargin\": true, \"gridcolor\": \"white\", \"linecolor\": \"white\", \"ticks\": \"\", \"title\": {\"standoff\": 15}, \"zerolinecolor\": \"white\", \"zerolinewidth\": 2}, \"yaxis\": {\"automargin\": true, \"gridcolor\": \"white\", \"linecolor\": \"white\", \"ticks\": \"\", \"title\": {\"standoff\": 15}, \"zerolinecolor\": \"white\", \"zerolinewidth\": 2}}}, \"title\": {\"text\": \"Movies per Genre\"}, \"xaxis\": {\"title\": {\"text\": \"Genres\"}}, \"yaxis\": {\"title\": {\"text\": \"Number of Movies\"}}},\n",
       "                        {\"responsive\": true}\n",
       "                    ).then(function(){\n",
       "                            \n",
       "var gd = document.getElementById('2e80f276-8868-4373-a362-015fdc85f494');\n",
       "var x = new MutationObserver(function (mutations, observer) {{\n",
       "        var display = window.getComputedStyle(gd).display;\n",
       "        if (!display || display === 'none') {{\n",
       "            console.log([gd, 'removed!']);\n",
       "            Plotly.purge(gd);\n",
       "            observer.disconnect();\n",
       "        }}\n",
       "}});\n",
       "\n",
       "// Listen for the removal of the full notebook cells\n",
       "var notebookContainer = gd.closest('#notebook-container');\n",
       "if (notebookContainer) {{\n",
       "    x.observe(notebookContainer, {childList: true});\n",
       "}}\n",
       "\n",
       "// Listen for the clearing of the current output cell\n",
       "var outputEl = gd.closest('.output');\n",
       "if (outputEl) {{\n",
       "    x.observe(outputEl, {childList: true});\n",
       "}}\n",
       "\n",
       "                        })\n",
       "                };\n",
       "                });\n",
       "            </script>\n",
       "        </div>"
      ]
     },
     "metadata": {},
     "output_type": "display_data"
    }
   ],
   "source": [
    "# Add columns based on new generes\n",
    "genres_dic = {j:[1 if j in i else 0 for i in movies[\"Genre\"]] for j in genres}\n",
    "# Plotting movies per genre\n",
    "data = [go.Bar(\n",
    "            x=list(genres_dic.keys()),\n",
    "            y=[sum(i) for i in genres_dic.values()]\n",
    "    )]\n",
    "fig = go.Figure(data=data)\n",
    "fig.update_traces(marker_color='rgb(158,202,225)', marker_line_color='rgb(8,48,107)',\n",
    "                  marker_line_width=1.5, opacity=0.6)\n",
    "fig.update_layout(\n",
    "    title=\"Movies per Genre\",\n",
    "    xaxis_title=\"Genres\",\n",
    "    yaxis_title=\"Number of Movies\",\n",
    ")\n",
    "\n",
    "iplot(fig)\n",
    "# There is an N/A genre - removing\n",
    "del genres_dic['N/A']"
   ]
  },
  {
   "cell_type": "markdown",
   "metadata": {},
   "source": [
    "### Similarly encoding languages"
   ]
  },
  {
   "cell_type": "code",
   "execution_count": 14,
   "metadata": {},
   "outputs": [
    {
     "name": "stdout",
     "output_type": "stream",
     "text": [
      "187\n"
     ]
    }
   ],
   "source": [
    "# split genres and printing\n",
    "languages = set([j for i in [i.split(\",\") for i in movies['Language']] for j in i])\n",
    "print(len(languages))"
   ]
  },
  {
   "cell_type": "code",
   "execution_count": 15,
   "metadata": {},
   "outputs": [
    {
     "data": {
      "application/vnd.plotly.v1+json": {
       "config": {
        "linkText": "Export to plot.ly",
        "plotlyServerURL": "https://plot.ly",
        "showLink": false
       },
       "data": [
        {
         "marker": {
          "color": "rgb(158,202,225)",
          "line": {
           "color": "rgb(8,48,107)",
           "width": 1.5
          }
         },
         "opacity": 0.6,
         "type": "bar",
         "x": [
          " Pushto",
          " Maori",
          "Zulu",
          " Wolof",
          " Polish",
          " Brazilian Sign Language",
          " Hausa",
          "Marathi",
          " Telugu",
          " Irish",
          " Dari",
          " Punjabi",
          " Dutch",
          " Filipino",
          "Armenian",
          "Bengali",
          " Korean",
          " Ojibwa",
          "Rotuman",
          "Romanian",
          " Malay",
          " Catalan",
          " Maya",
          " Egyptian (Ancient)",
          "Filipino",
          " Serbo-Croatian",
          "Mandarin",
          " Italian",
          "Persian",
          " Hebrew",
          " Sindarin",
          " Dinka",
          "Danish",
          "Hindi",
          " Gujarati",
          " Swiss German",
          "Swiss German",
          "Malay",
          " Yiddish",
          " Sioux",
          "Visayan",
          "Indonesian",
          " Esperanto",
          " Gallegan",
          "Portuguese",
          " Sicilian",
          "Korean",
          " Burmese",
          " Klingon",
          "Latin",
          " German",
          " Finnish",
          "Tupi",
          " Hawaiian",
          " Czech",
          "Norwegian",
          "Georgian",
          " Swedish",
          " Estonian",
          " Navajo",
          " Georgian",
          " English",
          " Awadhi",
          " Arabic",
          " Min Nan",
          " Mohawk",
          " Aboriginal",
          "English",
          "Swedish",
          " Swahili",
          " Icelandic",
          " Sinhalese",
          " Hakka",
          " Japanese",
          " Bosnian",
          " Turkmen",
          " Welsh",
          " Inuktitut",
          " British Sign Language",
          " Sanskrit",
          "Serbo-Croatian",
          " French Sign Language",
          "Tswana",
          " Bambara",
          " Mandarin",
          " Latin",
          "Latvian",
          "Czech",
          " Rajasthani",
          " Khmer",
          "Spanish Sign Language",
          " Tamil",
          " Zulu",
          " Chinese",
          "Japanese",
          " Corsican",
          " Assamese",
          " Thai",
          " None",
          " Spanish",
          "Arabic",
          " Aramaic",
          "Serbian",
          "Kazakh",
          "Dutch",
          " Lingala",
          "Spanish",
          " Frisian",
          "Mongolian",
          " Vietnamese",
          "Tibetan",
          " Tibetan",
          " Xhosa",
          " Scottish Gaelic",
          " Albanian",
          "Catalan",
          "Vietnamese",
          " Hokkien",
          " Lao",
          "Urdu",
          " Afrikaans",
          " American Sign Language",
          "Thai",
          "Telugu",
          "Russian",
          " Russian",
          " Aidoukrou",
          "Finnish",
          " Shoshoni",
          " Slovak",
          " Persian",
          " Shanxi",
          " Eastern Frisian",
          " Urdu",
          " Syriac",
          "Greek",
          "Hopi",
          "Estonian",
          "German",
          " Malayalam",
          " Croatian",
          " Turkish",
          " Cree",
          "Slovenian",
          " North American Indian",
          " Hungarian",
          " Marathi",
          " Greek",
          " Bulgarian",
          " Serbian",
          " Latvian",
          "Hebrew",
          "Flemish",
          " Portuguese",
          "N/A",
          "Dari",
          "Italian",
          " Indonesian",
          " Nahuatl",
          "None",
          " Norwegian",
          " Danish",
          "Turkish",
          "French",
          " Romanian",
          " Romany",
          " Ryukyuan",
          " Neapolitan",
          "Icelandic",
          " Kurdish",
          "Polish",
          "Romany",
          " Tagalog",
          " Parsee",
          " Hindi",
          "Hungarian",
          " Assyrian Neo-Aramaic",
          " French",
          "Kannada",
          "Cantonese",
          " Basque",
          " Cantonese",
          " Bengali",
          " Apache languages",
          " Ukrainian",
          "Tamil",
          " Polynesian"
         ],
         "y": [
          1,
          1,
          4,
          2,
          14,
          1,
          1,
          5,
          2,
          4,
          2,
          7,
          5,
          3,
          1,
          3,
          9,
          1,
          1,
          12,
          4,
          4,
          1,
          1,
          6,
          5,
          91,
          131,
          8,
          18,
          2,
          1,
          26,
          101,
          2,
          3,
          5,
          5,
          8,
          2,
          1,
          8,
          2,
          2,
          49,
          2,
          42,
          2,
          5,
          31,
          164,
          3,
          1,
          2,
          5,
          21,
          5,
          12,
          2,
          2,
          1,
          231,
          1,
          39,
          1,
          1,
          2,
          5615,
          39,
          3,
          4,
          2,
          1,
          64,
          2,
          1,
          2,
          2,
          1,
          1,
          9,
          1,
          1,
          1,
          51,
          30,
          2,
          14,
          1,
          4,
          1,
          1,
          2,
          8,
          210,
          1,
          1,
          12,
          2,
          200,
          47,
          2,
          10,
          1,
          28,
          1,
          299,
          2,
          1,
          15,
          4,
          3,
          2,
          4,
          4,
          9,
          19,
          2,
          1,
          9,
          6,
          12,
          17,
          4,
          111,
          76,
          1,
          9,
          1,
          4,
          7,
          1,
          1,
          7,
          2,
          21,
          1,
          3,
          248,
          2,
          1,
          10,
          1,
          1,
          2,
          10,
          2,
          16,
          3,
          8,
          1,
          29,
          3,
          28,
          376,
          3,
          249,
          3,
          1,
          13,
          9,
          11,
          26,
          441,
          7,
          1,
          1,
          3,
          6,
          3,
          22,
          2,
          6,
          1,
          15,
          14,
          1,
          246,
          1,
          89,
          1,
          31,
          2,
          1,
          4,
          11,
          1
         ]
        }
       ],
       "layout": {
        "template": {
         "data": {
          "bar": [
           {
            "error_x": {
             "color": "#2a3f5f"
            },
            "error_y": {
             "color": "#2a3f5f"
            },
            "marker": {
             "line": {
              "color": "#E5ECF6",
              "width": 0.5
             }
            },
            "type": "bar"
           }
          ],
          "barpolar": [
           {
            "marker": {
             "line": {
              "color": "#E5ECF6",
              "width": 0.5
             }
            },
            "type": "barpolar"
           }
          ],
          "carpet": [
           {
            "aaxis": {
             "endlinecolor": "#2a3f5f",
             "gridcolor": "white",
             "linecolor": "white",
             "minorgridcolor": "white",
             "startlinecolor": "#2a3f5f"
            },
            "baxis": {
             "endlinecolor": "#2a3f5f",
             "gridcolor": "white",
             "linecolor": "white",
             "minorgridcolor": "white",
             "startlinecolor": "#2a3f5f"
            },
            "type": "carpet"
           }
          ],
          "choropleth": [
           {
            "colorbar": {
             "outlinewidth": 0,
             "ticks": ""
            },
            "type": "choropleth"
           }
          ],
          "contour": [
           {
            "colorbar": {
             "outlinewidth": 0,
             "ticks": ""
            },
            "colorscale": [
             [
              0,
              "#0d0887"
             ],
             [
              0.1111111111111111,
              "#46039f"
             ],
             [
              0.2222222222222222,
              "#7201a8"
             ],
             [
              0.3333333333333333,
              "#9c179e"
             ],
             [
              0.4444444444444444,
              "#bd3786"
             ],
             [
              0.5555555555555556,
              "#d8576b"
             ],
             [
              0.6666666666666666,
              "#ed7953"
             ],
             [
              0.7777777777777778,
              "#fb9f3a"
             ],
             [
              0.8888888888888888,
              "#fdca26"
             ],
             [
              1,
              "#f0f921"
             ]
            ],
            "type": "contour"
           }
          ],
          "contourcarpet": [
           {
            "colorbar": {
             "outlinewidth": 0,
             "ticks": ""
            },
            "type": "contourcarpet"
           }
          ],
          "heatmap": [
           {
            "colorbar": {
             "outlinewidth": 0,
             "ticks": ""
            },
            "colorscale": [
             [
              0,
              "#0d0887"
             ],
             [
              0.1111111111111111,
              "#46039f"
             ],
             [
              0.2222222222222222,
              "#7201a8"
             ],
             [
              0.3333333333333333,
              "#9c179e"
             ],
             [
              0.4444444444444444,
              "#bd3786"
             ],
             [
              0.5555555555555556,
              "#d8576b"
             ],
             [
              0.6666666666666666,
              "#ed7953"
             ],
             [
              0.7777777777777778,
              "#fb9f3a"
             ],
             [
              0.8888888888888888,
              "#fdca26"
             ],
             [
              1,
              "#f0f921"
             ]
            ],
            "type": "heatmap"
           }
          ],
          "heatmapgl": [
           {
            "colorbar": {
             "outlinewidth": 0,
             "ticks": ""
            },
            "colorscale": [
             [
              0,
              "#0d0887"
             ],
             [
              0.1111111111111111,
              "#46039f"
             ],
             [
              0.2222222222222222,
              "#7201a8"
             ],
             [
              0.3333333333333333,
              "#9c179e"
             ],
             [
              0.4444444444444444,
              "#bd3786"
             ],
             [
              0.5555555555555556,
              "#d8576b"
             ],
             [
              0.6666666666666666,
              "#ed7953"
             ],
             [
              0.7777777777777778,
              "#fb9f3a"
             ],
             [
              0.8888888888888888,
              "#fdca26"
             ],
             [
              1,
              "#f0f921"
             ]
            ],
            "type": "heatmapgl"
           }
          ],
          "histogram": [
           {
            "marker": {
             "colorbar": {
              "outlinewidth": 0,
              "ticks": ""
             }
            },
            "type": "histogram"
           }
          ],
          "histogram2d": [
           {
            "colorbar": {
             "outlinewidth": 0,
             "ticks": ""
            },
            "colorscale": [
             [
              0,
              "#0d0887"
             ],
             [
              0.1111111111111111,
              "#46039f"
             ],
             [
              0.2222222222222222,
              "#7201a8"
             ],
             [
              0.3333333333333333,
              "#9c179e"
             ],
             [
              0.4444444444444444,
              "#bd3786"
             ],
             [
              0.5555555555555556,
              "#d8576b"
             ],
             [
              0.6666666666666666,
              "#ed7953"
             ],
             [
              0.7777777777777778,
              "#fb9f3a"
             ],
             [
              0.8888888888888888,
              "#fdca26"
             ],
             [
              1,
              "#f0f921"
             ]
            ],
            "type": "histogram2d"
           }
          ],
          "histogram2dcontour": [
           {
            "colorbar": {
             "outlinewidth": 0,
             "ticks": ""
            },
            "colorscale": [
             [
              0,
              "#0d0887"
             ],
             [
              0.1111111111111111,
              "#46039f"
             ],
             [
              0.2222222222222222,
              "#7201a8"
             ],
             [
              0.3333333333333333,
              "#9c179e"
             ],
             [
              0.4444444444444444,
              "#bd3786"
             ],
             [
              0.5555555555555556,
              "#d8576b"
             ],
             [
              0.6666666666666666,
              "#ed7953"
             ],
             [
              0.7777777777777778,
              "#fb9f3a"
             ],
             [
              0.8888888888888888,
              "#fdca26"
             ],
             [
              1,
              "#f0f921"
             ]
            ],
            "type": "histogram2dcontour"
           }
          ],
          "mesh3d": [
           {
            "colorbar": {
             "outlinewidth": 0,
             "ticks": ""
            },
            "type": "mesh3d"
           }
          ],
          "parcoords": [
           {
            "line": {
             "colorbar": {
              "outlinewidth": 0,
              "ticks": ""
             }
            },
            "type": "parcoords"
           }
          ],
          "pie": [
           {
            "automargin": true,
            "type": "pie"
           }
          ],
          "scatter": [
           {
            "marker": {
             "colorbar": {
              "outlinewidth": 0,
              "ticks": ""
             }
            },
            "type": "scatter"
           }
          ],
          "scatter3d": [
           {
            "line": {
             "colorbar": {
              "outlinewidth": 0,
              "ticks": ""
             }
            },
            "marker": {
             "colorbar": {
              "outlinewidth": 0,
              "ticks": ""
             }
            },
            "type": "scatter3d"
           }
          ],
          "scattercarpet": [
           {
            "marker": {
             "colorbar": {
              "outlinewidth": 0,
              "ticks": ""
             }
            },
            "type": "scattercarpet"
           }
          ],
          "scattergeo": [
           {
            "marker": {
             "colorbar": {
              "outlinewidth": 0,
              "ticks": ""
             }
            },
            "type": "scattergeo"
           }
          ],
          "scattergl": [
           {
            "marker": {
             "colorbar": {
              "outlinewidth": 0,
              "ticks": ""
             }
            },
            "type": "scattergl"
           }
          ],
          "scattermapbox": [
           {
            "marker": {
             "colorbar": {
              "outlinewidth": 0,
              "ticks": ""
             }
            },
            "type": "scattermapbox"
           }
          ],
          "scatterpolar": [
           {
            "marker": {
             "colorbar": {
              "outlinewidth": 0,
              "ticks": ""
             }
            },
            "type": "scatterpolar"
           }
          ],
          "scatterpolargl": [
           {
            "marker": {
             "colorbar": {
              "outlinewidth": 0,
              "ticks": ""
             }
            },
            "type": "scatterpolargl"
           }
          ],
          "scatterternary": [
           {
            "marker": {
             "colorbar": {
              "outlinewidth": 0,
              "ticks": ""
             }
            },
            "type": "scatterternary"
           }
          ],
          "surface": [
           {
            "colorbar": {
             "outlinewidth": 0,
             "ticks": ""
            },
            "colorscale": [
             [
              0,
              "#0d0887"
             ],
             [
              0.1111111111111111,
              "#46039f"
             ],
             [
              0.2222222222222222,
              "#7201a8"
             ],
             [
              0.3333333333333333,
              "#9c179e"
             ],
             [
              0.4444444444444444,
              "#bd3786"
             ],
             [
              0.5555555555555556,
              "#d8576b"
             ],
             [
              0.6666666666666666,
              "#ed7953"
             ],
             [
              0.7777777777777778,
              "#fb9f3a"
             ],
             [
              0.8888888888888888,
              "#fdca26"
             ],
             [
              1,
              "#f0f921"
             ]
            ],
            "type": "surface"
           }
          ],
          "table": [
           {
            "cells": {
             "fill": {
              "color": "#EBF0F8"
             },
             "line": {
              "color": "white"
             }
            },
            "header": {
             "fill": {
              "color": "#C8D4E3"
             },
             "line": {
              "color": "white"
             }
            },
            "type": "table"
           }
          ]
         },
         "layout": {
          "annotationdefaults": {
           "arrowcolor": "#2a3f5f",
           "arrowhead": 0,
           "arrowwidth": 1
          },
          "coloraxis": {
           "colorbar": {
            "outlinewidth": 0,
            "ticks": ""
           }
          },
          "colorscale": {
           "diverging": [
            [
             0,
             "#8e0152"
            ],
            [
             0.1,
             "#c51b7d"
            ],
            [
             0.2,
             "#de77ae"
            ],
            [
             0.3,
             "#f1b6da"
            ],
            [
             0.4,
             "#fde0ef"
            ],
            [
             0.5,
             "#f7f7f7"
            ],
            [
             0.6,
             "#e6f5d0"
            ],
            [
             0.7,
             "#b8e186"
            ],
            [
             0.8,
             "#7fbc41"
            ],
            [
             0.9,
             "#4d9221"
            ],
            [
             1,
             "#276419"
            ]
           ],
           "sequential": [
            [
             0,
             "#0d0887"
            ],
            [
             0.1111111111111111,
             "#46039f"
            ],
            [
             0.2222222222222222,
             "#7201a8"
            ],
            [
             0.3333333333333333,
             "#9c179e"
            ],
            [
             0.4444444444444444,
             "#bd3786"
            ],
            [
             0.5555555555555556,
             "#d8576b"
            ],
            [
             0.6666666666666666,
             "#ed7953"
            ],
            [
             0.7777777777777778,
             "#fb9f3a"
            ],
            [
             0.8888888888888888,
             "#fdca26"
            ],
            [
             1,
             "#f0f921"
            ]
           ],
           "sequentialminus": [
            [
             0,
             "#0d0887"
            ],
            [
             0.1111111111111111,
             "#46039f"
            ],
            [
             0.2222222222222222,
             "#7201a8"
            ],
            [
             0.3333333333333333,
             "#9c179e"
            ],
            [
             0.4444444444444444,
             "#bd3786"
            ],
            [
             0.5555555555555556,
             "#d8576b"
            ],
            [
             0.6666666666666666,
             "#ed7953"
            ],
            [
             0.7777777777777778,
             "#fb9f3a"
            ],
            [
             0.8888888888888888,
             "#fdca26"
            ],
            [
             1,
             "#f0f921"
            ]
           ]
          },
          "colorway": [
           "#636efa",
           "#EF553B",
           "#00cc96",
           "#ab63fa",
           "#FFA15A",
           "#19d3f3",
           "#FF6692",
           "#B6E880",
           "#FF97FF",
           "#FECB52"
          ],
          "font": {
           "color": "#2a3f5f"
          },
          "geo": {
           "bgcolor": "white",
           "lakecolor": "white",
           "landcolor": "#E5ECF6",
           "showlakes": true,
           "showland": true,
           "subunitcolor": "white"
          },
          "hoverlabel": {
           "align": "left"
          },
          "hovermode": "closest",
          "mapbox": {
           "style": "light"
          },
          "paper_bgcolor": "white",
          "plot_bgcolor": "#E5ECF6",
          "polar": {
           "angularaxis": {
            "gridcolor": "white",
            "linecolor": "white",
            "ticks": ""
           },
           "bgcolor": "#E5ECF6",
           "radialaxis": {
            "gridcolor": "white",
            "linecolor": "white",
            "ticks": ""
           }
          },
          "scene": {
           "xaxis": {
            "backgroundcolor": "#E5ECF6",
            "gridcolor": "white",
            "gridwidth": 2,
            "linecolor": "white",
            "showbackground": true,
            "ticks": "",
            "zerolinecolor": "white"
           },
           "yaxis": {
            "backgroundcolor": "#E5ECF6",
            "gridcolor": "white",
            "gridwidth": 2,
            "linecolor": "white",
            "showbackground": true,
            "ticks": "",
            "zerolinecolor": "white"
           },
           "zaxis": {
            "backgroundcolor": "#E5ECF6",
            "gridcolor": "white",
            "gridwidth": 2,
            "linecolor": "white",
            "showbackground": true,
            "ticks": "",
            "zerolinecolor": "white"
           }
          },
          "shapedefaults": {
           "line": {
            "color": "#2a3f5f"
           }
          },
          "ternary": {
           "aaxis": {
            "gridcolor": "white",
            "linecolor": "white",
            "ticks": ""
           },
           "baxis": {
            "gridcolor": "white",
            "linecolor": "white",
            "ticks": ""
           },
           "bgcolor": "#E5ECF6",
           "caxis": {
            "gridcolor": "white",
            "linecolor": "white",
            "ticks": ""
           }
          },
          "title": {
           "x": 0.05
          },
          "xaxis": {
           "automargin": true,
           "gridcolor": "white",
           "linecolor": "white",
           "ticks": "",
           "title": {
            "standoff": 15
           },
           "zerolinecolor": "white",
           "zerolinewidth": 2
          },
          "yaxis": {
           "automargin": true,
           "gridcolor": "white",
           "linecolor": "white",
           "ticks": "",
           "title": {
            "standoff": 15
           },
           "zerolinecolor": "white",
           "zerolinewidth": 2
          }
         }
        },
        "title": {
         "text": "Movies per Language"
        },
        "xaxis": {
         "title": {
          "text": "Languages"
         }
        },
        "yaxis": {
         "title": {
          "text": "Number of Movies"
         }
        }
       }
      },
      "text/html": [
       "<div>\n",
       "        \n",
       "        \n",
       "            <div id=\"cbb8ac27-0fe7-4385-b2a7-5c7707d0c210\" class=\"plotly-graph-div\" style=\"height:525px; width:100%;\"></div>\n",
       "            <script type=\"text/javascript\">\n",
       "                require([\"plotly\"], function(Plotly) {\n",
       "                    window.PLOTLYENV=window.PLOTLYENV || {};\n",
       "                    \n",
       "                if (document.getElementById(\"cbb8ac27-0fe7-4385-b2a7-5c7707d0c210\")) {\n",
       "                    Plotly.newPlot(\n",
       "                        'cbb8ac27-0fe7-4385-b2a7-5c7707d0c210',\n",
       "                        [{\"marker\": {\"color\": \"rgb(158,202,225)\", \"line\": {\"color\": \"rgb(8,48,107)\", \"width\": 1.5}}, \"opacity\": 0.6, \"type\": \"bar\", \"x\": [\" Pushto\", \" Maori\", \"Zulu\", \" Wolof\", \" Polish\", \" Brazilian Sign Language\", \" Hausa\", \"Marathi\", \" Telugu\", \" Irish\", \" Dari\", \" Punjabi\", \" Dutch\", \" Filipino\", \"Armenian\", \"Bengali\", \" Korean\", \" Ojibwa\", \"Rotuman\", \"Romanian\", \" Malay\", \" Catalan\", \" Maya\", \" Egyptian (Ancient)\", \"Filipino\", \" Serbo-Croatian\", \"Mandarin\", \" Italian\", \"Persian\", \" Hebrew\", \" Sindarin\", \" Dinka\", \"Danish\", \"Hindi\", \" Gujarati\", \" Swiss German\", \"Swiss German\", \"Malay\", \" Yiddish\", \" Sioux\", \"Visayan\", \"Indonesian\", \" Esperanto\", \" Gallegan\", \"Portuguese\", \" Sicilian\", \"Korean\", \" Burmese\", \" Klingon\", \"Latin\", \" German\", \" Finnish\", \"Tupi\", \" Hawaiian\", \" Czech\", \"Norwegian\", \"Georgian\", \" Swedish\", \" Estonian\", \" Navajo\", \" Georgian\", \" English\", \" Awadhi\", \" Arabic\", \" Min Nan\", \" Mohawk\", \" Aboriginal\", \"English\", \"Swedish\", \" Swahili\", \" Icelandic\", \" Sinhalese\", \" Hakka\", \" Japanese\", \" Bosnian\", \" Turkmen\", \" Welsh\", \" Inuktitut\", \" British Sign Language\", \" Sanskrit\", \"Serbo-Croatian\", \" French Sign Language\", \"Tswana\", \" Bambara\", \" Mandarin\", \" Latin\", \"Latvian\", \"Czech\", \" Rajasthani\", \" Khmer\", \"Spanish Sign Language\", \" Tamil\", \" Zulu\", \" Chinese\", \"Japanese\", \" Corsican\", \" Assamese\", \" Thai\", \" None\", \" Spanish\", \"Arabic\", \" Aramaic\", \"Serbian\", \"Kazakh\", \"Dutch\", \" Lingala\", \"Spanish\", \" Frisian\", \"Mongolian\", \" Vietnamese\", \"Tibetan\", \" Tibetan\", \" Xhosa\", \" Scottish Gaelic\", \" Albanian\", \"Catalan\", \"Vietnamese\", \" Hokkien\", \" Lao\", \"Urdu\", \" Afrikaans\", \" American Sign Language\", \"Thai\", \"Telugu\", \"Russian\", \" Russian\", \" Aidoukrou\", \"Finnish\", \" Shoshoni\", \" Slovak\", \" Persian\", \" Shanxi\", \" Eastern Frisian\", \" Urdu\", \" Syriac\", \"Greek\", \"Hopi\", \"Estonian\", \"German\", \" Malayalam\", \" Croatian\", \" Turkish\", \" Cree\", \"Slovenian\", \" North American Indian\", \" Hungarian\", \" Marathi\", \" Greek\", \" Bulgarian\", \" Serbian\", \" Latvian\", \"Hebrew\", \"Flemish\", \" Portuguese\", \"N/A\", \"Dari\", \"Italian\", \" Indonesian\", \" Nahuatl\", \"None\", \" Norwegian\", \" Danish\", \"Turkish\", \"French\", \" Romanian\", \" Romany\", \" Ryukyuan\", \" Neapolitan\", \"Icelandic\", \" Kurdish\", \"Polish\", \"Romany\", \" Tagalog\", \" Parsee\", \" Hindi\", \"Hungarian\", \" Assyrian Neo-Aramaic\", \" French\", \"Kannada\", \"Cantonese\", \" Basque\", \" Cantonese\", \" Bengali\", \" Apache languages\", \" Ukrainian\", \"Tamil\", \" Polynesian\"], \"y\": [1, 1, 4, 2, 14, 1, 1, 5, 2, 4, 2, 7, 5, 3, 1, 3, 9, 1, 1, 12, 4, 4, 1, 1, 6, 5, 91, 131, 8, 18, 2, 1, 26, 101, 2, 3, 5, 5, 8, 2, 1, 8, 2, 2, 49, 2, 42, 2, 5, 31, 164, 3, 1, 2, 5, 21, 5, 12, 2, 2, 1, 231, 1, 39, 1, 1, 2, 5615, 39, 3, 4, 2, 1, 64, 2, 1, 2, 2, 1, 1, 9, 1, 1, 1, 51, 30, 2, 14, 1, 4, 1, 1, 2, 8, 210, 1, 1, 12, 2, 200, 47, 2, 10, 1, 28, 1, 299, 2, 1, 15, 4, 3, 2, 4, 4, 9, 19, 2, 1, 9, 6, 12, 17, 4, 111, 76, 1, 9, 1, 4, 7, 1, 1, 7, 2, 21, 1, 3, 248, 2, 1, 10, 1, 1, 2, 10, 2, 16, 3, 8, 1, 29, 3, 28, 376, 3, 249, 3, 1, 13, 9, 11, 26, 441, 7, 1, 1, 3, 6, 3, 22, 2, 6, 1, 15, 14, 1, 246, 1, 89, 1, 31, 2, 1, 4, 11, 1]}],\n",
       "                        {\"template\": {\"data\": {\"bar\": [{\"error_x\": {\"color\": \"#2a3f5f\"}, \"error_y\": {\"color\": \"#2a3f5f\"}, \"marker\": {\"line\": {\"color\": \"#E5ECF6\", \"width\": 0.5}}, \"type\": \"bar\"}], \"barpolar\": [{\"marker\": {\"line\": {\"color\": \"#E5ECF6\", \"width\": 0.5}}, \"type\": \"barpolar\"}], \"carpet\": [{\"aaxis\": {\"endlinecolor\": \"#2a3f5f\", \"gridcolor\": \"white\", \"linecolor\": \"white\", \"minorgridcolor\": \"white\", \"startlinecolor\": \"#2a3f5f\"}, \"baxis\": {\"endlinecolor\": \"#2a3f5f\", \"gridcolor\": \"white\", \"linecolor\": \"white\", \"minorgridcolor\": \"white\", \"startlinecolor\": \"#2a3f5f\"}, \"type\": \"carpet\"}], \"choropleth\": [{\"colorbar\": {\"outlinewidth\": 0, \"ticks\": \"\"}, \"type\": \"choropleth\"}], \"contour\": [{\"colorbar\": {\"outlinewidth\": 0, \"ticks\": \"\"}, \"colorscale\": [[0.0, \"#0d0887\"], [0.1111111111111111, \"#46039f\"], [0.2222222222222222, \"#7201a8\"], [0.3333333333333333, \"#9c179e\"], [0.4444444444444444, \"#bd3786\"], [0.5555555555555556, \"#d8576b\"], [0.6666666666666666, \"#ed7953\"], [0.7777777777777778, \"#fb9f3a\"], [0.8888888888888888, \"#fdca26\"], [1.0, \"#f0f921\"]], \"type\": \"contour\"}], \"contourcarpet\": [{\"colorbar\": {\"outlinewidth\": 0, \"ticks\": \"\"}, \"type\": \"contourcarpet\"}], \"heatmap\": [{\"colorbar\": {\"outlinewidth\": 0, \"ticks\": \"\"}, \"colorscale\": [[0.0, \"#0d0887\"], [0.1111111111111111, \"#46039f\"], [0.2222222222222222, \"#7201a8\"], [0.3333333333333333, \"#9c179e\"], [0.4444444444444444, \"#bd3786\"], [0.5555555555555556, \"#d8576b\"], [0.6666666666666666, \"#ed7953\"], [0.7777777777777778, \"#fb9f3a\"], [0.8888888888888888, \"#fdca26\"], [1.0, \"#f0f921\"]], \"type\": \"heatmap\"}], \"heatmapgl\": [{\"colorbar\": {\"outlinewidth\": 0, \"ticks\": \"\"}, \"colorscale\": [[0.0, \"#0d0887\"], [0.1111111111111111, \"#46039f\"], [0.2222222222222222, \"#7201a8\"], [0.3333333333333333, \"#9c179e\"], [0.4444444444444444, \"#bd3786\"], [0.5555555555555556, \"#d8576b\"], [0.6666666666666666, \"#ed7953\"], [0.7777777777777778, \"#fb9f3a\"], [0.8888888888888888, \"#fdca26\"], [1.0, \"#f0f921\"]], \"type\": \"heatmapgl\"}], \"histogram\": [{\"marker\": {\"colorbar\": {\"outlinewidth\": 0, \"ticks\": \"\"}}, \"type\": \"histogram\"}], \"histogram2d\": [{\"colorbar\": {\"outlinewidth\": 0, \"ticks\": \"\"}, \"colorscale\": [[0.0, \"#0d0887\"], [0.1111111111111111, \"#46039f\"], [0.2222222222222222, \"#7201a8\"], [0.3333333333333333, \"#9c179e\"], [0.4444444444444444, \"#bd3786\"], [0.5555555555555556, \"#d8576b\"], [0.6666666666666666, \"#ed7953\"], [0.7777777777777778, \"#fb9f3a\"], [0.8888888888888888, \"#fdca26\"], [1.0, \"#f0f921\"]], \"type\": \"histogram2d\"}], \"histogram2dcontour\": [{\"colorbar\": {\"outlinewidth\": 0, \"ticks\": \"\"}, \"colorscale\": [[0.0, \"#0d0887\"], [0.1111111111111111, \"#46039f\"], [0.2222222222222222, \"#7201a8\"], [0.3333333333333333, \"#9c179e\"], [0.4444444444444444, \"#bd3786\"], [0.5555555555555556, \"#d8576b\"], [0.6666666666666666, \"#ed7953\"], [0.7777777777777778, \"#fb9f3a\"], [0.8888888888888888, \"#fdca26\"], [1.0, \"#f0f921\"]], \"type\": \"histogram2dcontour\"}], \"mesh3d\": [{\"colorbar\": {\"outlinewidth\": 0, \"ticks\": \"\"}, \"type\": \"mesh3d\"}], \"parcoords\": [{\"line\": {\"colorbar\": {\"outlinewidth\": 0, \"ticks\": \"\"}}, \"type\": \"parcoords\"}], \"pie\": [{\"automargin\": true, \"type\": \"pie\"}], \"scatter\": [{\"marker\": {\"colorbar\": {\"outlinewidth\": 0, \"ticks\": \"\"}}, \"type\": \"scatter\"}], \"scatter3d\": [{\"line\": {\"colorbar\": {\"outlinewidth\": 0, \"ticks\": \"\"}}, \"marker\": {\"colorbar\": {\"outlinewidth\": 0, \"ticks\": \"\"}}, \"type\": \"scatter3d\"}], \"scattercarpet\": [{\"marker\": {\"colorbar\": {\"outlinewidth\": 0, \"ticks\": \"\"}}, \"type\": \"scattercarpet\"}], \"scattergeo\": [{\"marker\": {\"colorbar\": {\"outlinewidth\": 0, \"ticks\": \"\"}}, \"type\": \"scattergeo\"}], \"scattergl\": [{\"marker\": {\"colorbar\": {\"outlinewidth\": 0, \"ticks\": \"\"}}, \"type\": \"scattergl\"}], \"scattermapbox\": [{\"marker\": {\"colorbar\": {\"outlinewidth\": 0, \"ticks\": \"\"}}, \"type\": \"scattermapbox\"}], \"scatterpolar\": [{\"marker\": {\"colorbar\": {\"outlinewidth\": 0, \"ticks\": \"\"}}, \"type\": \"scatterpolar\"}], \"scatterpolargl\": [{\"marker\": {\"colorbar\": {\"outlinewidth\": 0, \"ticks\": \"\"}}, \"type\": \"scatterpolargl\"}], \"scatterternary\": [{\"marker\": {\"colorbar\": {\"outlinewidth\": 0, \"ticks\": \"\"}}, \"type\": \"scatterternary\"}], \"surface\": [{\"colorbar\": {\"outlinewidth\": 0, \"ticks\": \"\"}, \"colorscale\": [[0.0, \"#0d0887\"], [0.1111111111111111, \"#46039f\"], [0.2222222222222222, \"#7201a8\"], [0.3333333333333333, \"#9c179e\"], [0.4444444444444444, \"#bd3786\"], [0.5555555555555556, \"#d8576b\"], [0.6666666666666666, \"#ed7953\"], [0.7777777777777778, \"#fb9f3a\"], [0.8888888888888888, \"#fdca26\"], [1.0, \"#f0f921\"]], \"type\": \"surface\"}], \"table\": [{\"cells\": {\"fill\": {\"color\": \"#EBF0F8\"}, \"line\": {\"color\": \"white\"}}, \"header\": {\"fill\": {\"color\": \"#C8D4E3\"}, \"line\": {\"color\": \"white\"}}, \"type\": \"table\"}]}, \"layout\": {\"annotationdefaults\": {\"arrowcolor\": \"#2a3f5f\", \"arrowhead\": 0, \"arrowwidth\": 1}, \"coloraxis\": {\"colorbar\": {\"outlinewidth\": 0, \"ticks\": \"\"}}, \"colorscale\": {\"diverging\": [[0, \"#8e0152\"], [0.1, \"#c51b7d\"], [0.2, \"#de77ae\"], [0.3, \"#f1b6da\"], [0.4, \"#fde0ef\"], [0.5, \"#f7f7f7\"], [0.6, \"#e6f5d0\"], [0.7, \"#b8e186\"], [0.8, \"#7fbc41\"], [0.9, \"#4d9221\"], [1, \"#276419\"]], \"sequential\": [[0.0, \"#0d0887\"], [0.1111111111111111, \"#46039f\"], [0.2222222222222222, \"#7201a8\"], [0.3333333333333333, \"#9c179e\"], [0.4444444444444444, \"#bd3786\"], [0.5555555555555556, \"#d8576b\"], [0.6666666666666666, \"#ed7953\"], [0.7777777777777778, \"#fb9f3a\"], [0.8888888888888888, \"#fdca26\"], [1.0, \"#f0f921\"]], \"sequentialminus\": [[0.0, \"#0d0887\"], [0.1111111111111111, \"#46039f\"], [0.2222222222222222, \"#7201a8\"], [0.3333333333333333, \"#9c179e\"], [0.4444444444444444, \"#bd3786\"], [0.5555555555555556, \"#d8576b\"], [0.6666666666666666, \"#ed7953\"], [0.7777777777777778, \"#fb9f3a\"], [0.8888888888888888, \"#fdca26\"], [1.0, \"#f0f921\"]]}, \"colorway\": [\"#636efa\", \"#EF553B\", \"#00cc96\", \"#ab63fa\", \"#FFA15A\", \"#19d3f3\", \"#FF6692\", \"#B6E880\", \"#FF97FF\", \"#FECB52\"], \"font\": {\"color\": \"#2a3f5f\"}, \"geo\": {\"bgcolor\": \"white\", \"lakecolor\": \"white\", \"landcolor\": \"#E5ECF6\", \"showlakes\": true, \"showland\": true, \"subunitcolor\": \"white\"}, \"hoverlabel\": {\"align\": \"left\"}, \"hovermode\": \"closest\", \"mapbox\": {\"style\": \"light\"}, \"paper_bgcolor\": \"white\", \"plot_bgcolor\": \"#E5ECF6\", \"polar\": {\"angularaxis\": {\"gridcolor\": \"white\", \"linecolor\": \"white\", \"ticks\": \"\"}, \"bgcolor\": \"#E5ECF6\", \"radialaxis\": {\"gridcolor\": \"white\", \"linecolor\": \"white\", \"ticks\": \"\"}}, \"scene\": {\"xaxis\": {\"backgroundcolor\": \"#E5ECF6\", \"gridcolor\": \"white\", \"gridwidth\": 2, \"linecolor\": \"white\", \"showbackground\": true, \"ticks\": \"\", \"zerolinecolor\": \"white\"}, \"yaxis\": {\"backgroundcolor\": \"#E5ECF6\", \"gridcolor\": \"white\", \"gridwidth\": 2, \"linecolor\": \"white\", \"showbackground\": true, \"ticks\": \"\", \"zerolinecolor\": \"white\"}, \"zaxis\": {\"backgroundcolor\": \"#E5ECF6\", \"gridcolor\": \"white\", \"gridwidth\": 2, \"linecolor\": \"white\", \"showbackground\": true, \"ticks\": \"\", \"zerolinecolor\": \"white\"}}, \"shapedefaults\": {\"line\": {\"color\": \"#2a3f5f\"}}, \"ternary\": {\"aaxis\": {\"gridcolor\": \"white\", \"linecolor\": \"white\", \"ticks\": \"\"}, \"baxis\": {\"gridcolor\": \"white\", \"linecolor\": \"white\", \"ticks\": \"\"}, \"bgcolor\": \"#E5ECF6\", \"caxis\": {\"gridcolor\": \"white\", \"linecolor\": \"white\", \"ticks\": \"\"}}, \"title\": {\"x\": 0.05}, \"xaxis\": {\"automargin\": true, \"gridcolor\": \"white\", \"linecolor\": \"white\", \"ticks\": \"\", \"title\": {\"standoff\": 15}, \"zerolinecolor\": \"white\", \"zerolinewidth\": 2}, \"yaxis\": {\"automargin\": true, \"gridcolor\": \"white\", \"linecolor\": \"white\", \"ticks\": \"\", \"title\": {\"standoff\": 15}, \"zerolinecolor\": \"white\", \"zerolinewidth\": 2}}}, \"title\": {\"text\": \"Movies per Language\"}, \"xaxis\": {\"title\": {\"text\": \"Languages\"}}, \"yaxis\": {\"title\": {\"text\": \"Number of Movies\"}}},\n",
       "                        {\"responsive\": true}\n",
       "                    ).then(function(){\n",
       "                            \n",
       "var gd = document.getElementById('cbb8ac27-0fe7-4385-b2a7-5c7707d0c210');\n",
       "var x = new MutationObserver(function (mutations, observer) {{\n",
       "        var display = window.getComputedStyle(gd).display;\n",
       "        if (!display || display === 'none') {{\n",
       "            console.log([gd, 'removed!']);\n",
       "            Plotly.purge(gd);\n",
       "            observer.disconnect();\n",
       "        }}\n",
       "}});\n",
       "\n",
       "// Listen for the removal of the full notebook cells\n",
       "var notebookContainer = gd.closest('#notebook-container');\n",
       "if (notebookContainer) {{\n",
       "    x.observe(notebookContainer, {childList: true});\n",
       "}}\n",
       "\n",
       "// Listen for the clearing of the current output cell\n",
       "var outputEl = gd.closest('.output');\n",
       "if (outputEl) {{\n",
       "    x.observe(outputEl, {childList: true});\n",
       "}}\n",
       "\n",
       "                        })\n",
       "                };\n",
       "                });\n",
       "            </script>\n",
       "        </div>"
      ]
     },
     "metadata": {},
     "output_type": "display_data"
    }
   ],
   "source": [
    "# Add columns based on new generes\n",
    "languages_dic = {j:[1 if j in i else 0 for i in movies[\"Language\"]] for j in languages}\n",
    "# Plotting movies per genre\n",
    "data = [go.Bar(\n",
    "            x=list(languages_dic.keys()),\n",
    "            y=[sum(i) for i in languages_dic.values()]\n",
    "    )]\n",
    "fig = go.Figure(data=data)\n",
    "fig.update_traces(marker_color='rgb(158,202,225)', marker_line_color='rgb(8,48,107)',\n",
    "                  marker_line_width=1.5, opacity=0.6)\n",
    "fig.update_layout(\n",
    "    title=\"Movies per Language\",\n",
    "    xaxis_title=\"Languages\",\n",
    "    yaxis_title=\"Number of Movies\",\n",
    ")\n",
    "\n",
    "iplot(fig)"
   ]
  },
  {
   "cell_type": "markdown",
   "metadata": {},
   "source": [
    "### Above graph is interactive - and I know there are so many English movies!\n",
    "### Hence we will not select languages for our analysis"
   ]
  },
  {
   "cell_type": "code",
   "execution_count": 16,
   "metadata": {},
   "outputs": [
    {
     "data": {
      "text/html": [
       "<div>\n",
       "<style scoped>\n",
       "    .dataframe tbody tr th:only-of-type {\n",
       "        vertical-align: middle;\n",
       "    }\n",
       "\n",
       "    .dataframe tbody tr th {\n",
       "        vertical-align: top;\n",
       "    }\n",
       "\n",
       "    .dataframe thead th {\n",
       "        text-align: right;\n",
       "    }\n",
       "</style>\n",
       "<table border=\"1\" class=\"dataframe\">\n",
       "  <thead>\n",
       "    <tr style=\"text-align: right;\">\n",
       "      <th></th>\n",
       "      <th>imdbID</th>\n",
       "      <th>Title</th>\n",
       "      <th>Ratings</th>\n",
       "      <th>imdbRating</th>\n",
       "      <th>imdbVotes</th>\n",
       "      <th>News</th>\n",
       "      <th>Music</th>\n",
       "      <th>Sci-Fi</th>\n",
       "      <th>Musical</th>\n",
       "      <th>Music</th>\n",
       "      <th>...</th>\n",
       "      <th>Horror</th>\n",
       "      <th>Adventure</th>\n",
       "      <th>Sport</th>\n",
       "      <th>News</th>\n",
       "      <th>Reality-TV</th>\n",
       "      <th>Reality-TV</th>\n",
       "      <th>Western</th>\n",
       "      <th>Game-Show</th>\n",
       "      <th>History</th>\n",
       "      <th>History</th>\n",
       "    </tr>\n",
       "  </thead>\n",
       "  <tbody>\n",
       "    <tr>\n",
       "      <td>7029</td>\n",
       "      <td>tt0258760</td>\n",
       "      <td>Lammbock</td>\n",
       "      <td>[{'Source': 'Internet Movie Database', 'Value'...</td>\n",
       "      <td>7.3</td>\n",
       "      <td>10180</td>\n",
       "      <td>0</td>\n",
       "      <td>0</td>\n",
       "      <td>0</td>\n",
       "      <td>0</td>\n",
       "      <td>0</td>\n",
       "      <td>...</td>\n",
       "      <td>0</td>\n",
       "      <td>0</td>\n",
       "      <td>0</td>\n",
       "      <td>0</td>\n",
       "      <td>0</td>\n",
       "      <td>0</td>\n",
       "      <td>0</td>\n",
       "      <td>0</td>\n",
       "      <td>0</td>\n",
       "      <td>0</td>\n",
       "    </tr>\n",
       "    <tr>\n",
       "      <td>7030</td>\n",
       "      <td>tt0146455</td>\n",
       "      <td>Babylon 5: A Call to Arms</td>\n",
       "      <td>[{'Source': 'Internet Movie Database', 'Value'...</td>\n",
       "      <td>7.2</td>\n",
       "      <td>4976</td>\n",
       "      <td>0</td>\n",
       "      <td>0</td>\n",
       "      <td>1</td>\n",
       "      <td>0</td>\n",
       "      <td>0</td>\n",
       "      <td>...</td>\n",
       "      <td>0</td>\n",
       "      <td>1</td>\n",
       "      <td>0</td>\n",
       "      <td>0</td>\n",
       "      <td>0</td>\n",
       "      <td>0</td>\n",
       "      <td>0</td>\n",
       "      <td>0</td>\n",
       "      <td>0</td>\n",
       "      <td>0</td>\n",
       "    </tr>\n",
       "    <tr>\n",
       "      <td>7031</td>\n",
       "      <td>tt0432047</td>\n",
       "      <td>Sarkar</td>\n",
       "      <td>[{'Source': 'Internet Movie Database', 'Value'...</td>\n",
       "      <td>7.7</td>\n",
       "      <td>14199</td>\n",
       "      <td>0</td>\n",
       "      <td>0</td>\n",
       "      <td>0</td>\n",
       "      <td>0</td>\n",
       "      <td>0</td>\n",
       "      <td>...</td>\n",
       "      <td>0</td>\n",
       "      <td>0</td>\n",
       "      <td>0</td>\n",
       "      <td>0</td>\n",
       "      <td>0</td>\n",
       "      <td>0</td>\n",
       "      <td>0</td>\n",
       "      <td>0</td>\n",
       "      <td>0</td>\n",
       "      <td>0</td>\n",
       "    </tr>\n",
       "    <tr>\n",
       "      <td>7032</td>\n",
       "      <td>tt0109515</td>\n",
       "      <td>Cyber Tracker</td>\n",
       "      <td>[{'Source': 'Internet Movie Database', 'Value'...</td>\n",
       "      <td>3.5</td>\n",
       "      <td>971</td>\n",
       "      <td>0</td>\n",
       "      <td>0</td>\n",
       "      <td>1</td>\n",
       "      <td>0</td>\n",
       "      <td>0</td>\n",
       "      <td>...</td>\n",
       "      <td>0</td>\n",
       "      <td>0</td>\n",
       "      <td>0</td>\n",
       "      <td>0</td>\n",
       "      <td>0</td>\n",
       "      <td>0</td>\n",
       "      <td>0</td>\n",
       "      <td>0</td>\n",
       "      <td>0</td>\n",
       "      <td>0</td>\n",
       "    </tr>\n",
       "    <tr>\n",
       "      <td>7033</td>\n",
       "      <td>tt0485161</td>\n",
       "      <td>Totally Awesome</td>\n",
       "      <td>[{'Source': 'Internet Movie Database', 'Value'...</td>\n",
       "      <td>5.2</td>\n",
       "      <td>1625</td>\n",
       "      <td>0</td>\n",
       "      <td>0</td>\n",
       "      <td>0</td>\n",
       "      <td>0</td>\n",
       "      <td>0</td>\n",
       "      <td>...</td>\n",
       "      <td>0</td>\n",
       "      <td>0</td>\n",
       "      <td>0</td>\n",
       "      <td>0</td>\n",
       "      <td>0</td>\n",
       "      <td>0</td>\n",
       "      <td>0</td>\n",
       "      <td>0</td>\n",
       "      <td>0</td>\n",
       "      <td>0</td>\n",
       "    </tr>\n",
       "  </tbody>\n",
       "</table>\n",
       "<p>5 rows × 61 columns</p>\n",
       "</div>"
      ],
      "text/plain": [
       "         imdbID                      Title  \\\n",
       "7029  tt0258760                   Lammbock   \n",
       "7030  tt0146455  Babylon 5: A Call to Arms   \n",
       "7031  tt0432047                     Sarkar   \n",
       "7032  tt0109515              Cyber Tracker   \n",
       "7033  tt0485161            Totally Awesome   \n",
       "\n",
       "                                                Ratings imdbRating  imdbVotes  \\\n",
       "7029  [{'Source': 'Internet Movie Database', 'Value'...        7.3      10180   \n",
       "7030  [{'Source': 'Internet Movie Database', 'Value'...        7.2       4976   \n",
       "7031  [{'Source': 'Internet Movie Database', 'Value'...        7.7      14199   \n",
       "7032  [{'Source': 'Internet Movie Database', 'Value'...        3.5        971   \n",
       "7033  [{'Source': 'Internet Movie Database', 'Value'...        5.2       1625   \n",
       "\n",
       "       News   Music   Sci-Fi  Musical  Music  ...  Horror  Adventure  Sport  \\\n",
       "7029      0       0        0        0      0  ...       0          0      0   \n",
       "7030      0       0        1        0      0  ...       0          1      0   \n",
       "7031      0       0        0        0      0  ...       0          0      0   \n",
       "7032      0       0        1        0      0  ...       0          0      0   \n",
       "7033      0       0        0        0      0  ...       0          0      0   \n",
       "\n",
       "      News  Reality-TV   Reality-TV   Western   Game-Show  History   History  \n",
       "7029     0           0            0         0           0        0         0  \n",
       "7030     0           0            0         0           0        0         0  \n",
       "7031     0           0            0         0           0        0         0  \n",
       "7032     0           0            0         0           0        0         0  \n",
       "7033     0           0            0         0           0        0         0  \n",
       "\n",
       "[5 rows x 61 columns]"
      ]
     },
     "execution_count": 16,
     "metadata": {},
     "output_type": "execute_result"
    }
   ],
   "source": [
    "# Now we will add encoded generes and languages\n",
    "for k,v in genres_dic.items():\n",
    "    movies[k]=v\n",
    "#for k,v in languages_dic.items():\n",
    "#    movies[k]=v\n",
    "# Dropping rows with no genres listed\n",
    "movies = movies[movies.Genre != \"N/A\"]\n",
    "# We don't need genres column anymore\n",
    "del movies[\"Genre\"]\n",
    "del movies[\"Language\"]\n",
    "\n",
    "# Also converting imdb votes to numeric\n",
    "movies[\"imdbVotes\"] = movies['imdbVotes'].str.replace(\",\", \"\").astype(int)\n",
    "\n",
    "movies.tail()"
   ]
  },
  {
   "cell_type": "markdown",
   "metadata": {},
   "source": [
    "### Using K-means clustering"
   ]
  },
  {
   "cell_type": "code",
   "execution_count": 17,
   "metadata": {},
   "outputs": [],
   "source": [
    "# Here I am selecting ratings, votes, genres and languages to train\n",
    "X = movies.drop(columns=['imdbVotes']).replace([np.inf, -np.inf], np.nan).dropna().iloc[:,3:].to_numpy()\n",
    "# I am selecting 50 clusters based on number of languages, but this can be changed later\n",
    "# I roughly selected the number of clusters, but this can be changed for e.g. based on genres\n",
    "kmeans = KMeans(n_clusters=30, random_state=4).fit(X)"
   ]
  },
  {
   "cell_type": "markdown",
   "metadata": {},
   "source": [
    "### Using DBSCAN"
   ]
  },
  {
   "cell_type": "code",
   "execution_count": 18,
   "metadata": {},
   "outputs": [],
   "source": [
    "dbscan = DBSCAN(min_samples=10).fit(X)"
   ]
  },
  {
   "cell_type": "code",
   "execution_count": 19,
   "metadata": {},
   "outputs": [
    {
     "name": "stdout",
     "output_type": "stream",
     "text": [
      "[-1  0  1  2  3  4  5  6  7  8  9 10 11 12 13 14 15 16 17 18 19 20 21 22\n",
      " 23 24 25 26 27 28 29 30 31 32 33 34 35 36 37 38 39 40 41 42 43 44 45 46\n",
      " 47 48 49 50 51 52 53 54 55 56 57 58 59 60]\n",
      "[345, 244, 3301, 30, 90, 46, 39, 10, 11, 75, 82, 30, 570, 153, 22, 47, 14, 68, 212, 30, 15, 137, 27, 59, 32, 92, 12, 18, 14, 172, 14, 10, 16, 14, 29, 45, 20, 15, 12, 12, 26, 17, 38, 11, 24, 12, 11, 12, 25, 17, 29, 10, 16, 21, 39, 20, 10, 10, 13, 15, 10, 10]\n"
     ]
    }
   ],
   "source": [
    "print(np.unique(dbscan.labels_))\n",
    "dbscan_dic = {i:[] for i in dbscan.labels_}\n",
    "[dbscan_dic[i].append(list(movies[\"Title\"])[c]) for c, i in enumerate(dbscan.labels_)]\n",
    "print([len(i) for i in dbscan_dic.values()])"
   ]
  },
  {
   "cell_type": "markdown",
   "metadata": {},
   "source": [
    "Looks like there are too many outlier movies for dbscan to work."
   ]
  },
  {
   "cell_type": "markdown",
   "metadata": {},
   "source": [
    "### Agglomerative Clustering"
   ]
  },
  {
   "cell_type": "code",
   "execution_count": 20,
   "metadata": {},
   "outputs": [],
   "source": [
    "ac = AgglomerativeClustering(n_clusters = 30).fit(X)"
   ]
  },
  {
   "cell_type": "code",
   "execution_count": 21,
   "metadata": {},
   "outputs": [
    {
     "name": "stdout",
     "output_type": "stream",
     "text": [
      "[ 0  1  2  3  4  5  6  7  8  9 10 11 12 13 14 15 16 17 18 19 20 21 22 23\n",
      " 24 25 26 27 28 29]\n",
      "[563, 428, 224, 123, 355, 312, 260, 218, 125, 171, 256, 147, 270, 349, 174, 152, 480, 173, 290, 93, 73, 168, 391, 135, 127, 102, 147, 109, 108, 57]\n"
     ]
    }
   ],
   "source": [
    "print(np.unique(ac.labels_))\n",
    "ac_dic = {i:[] for i in ac.labels_}\n",
    "[ac_dic[i].append(list(movies[\"Title\"])[c]) for c, i in enumerate(ac.labels_)]\n",
    "print([len(i) for i in ac_dic.values()])"
   ]
  },
  {
   "cell_type": "markdown",
   "metadata": {},
   "source": [
    "### Recommendation Function"
   ]
  },
  {
   "cell_type": "code",
   "execution_count": 22,
   "metadata": {},
   "outputs": [
    {
     "name": "stdout",
     "output_type": "stream",
     "text": [
      "[312, 323, 48, 115, 284, 181, 190, 110, 304, 275, 202, 191, 303, 138, 180, 399, 205, 245, 164, 140, 351, 303, 276, 136, 227, 98, 184, 213, 245, 238]\n"
     ]
    }
   ],
   "source": [
    "comb_dic = {i:[] for i in kmeans.labels_}\n",
    "[comb_dic[i].append(list(movies[\"Title\"])[c]) for c, i in enumerate(kmeans.labels_)]\n",
    "print([len(i) for i in comb_dic.values()])"
   ]
  },
  {
   "cell_type": "code",
   "execution_count": 23,
   "metadata": {},
   "outputs": [],
   "source": [
    "# Simplest function - note that it may give same value as recommendation as it randomly selects the movie\n",
    "# This can be changed later\n",
    "def movie_recommendation(x,model,dic,df):\n",
    "    return random.choice(dic[model.labels_[list(df[\"Title\"]).index(x)]])"
   ]
  },
  {
   "cell_type": "code",
   "execution_count": 24,
   "metadata": {},
   "outputs": [],
   "source": [
    "def all_movie_recommendations(x,model,dic,df):\n",
    "    return dic[model.labels_[list(df[\"Title\"]).index(x)]]"
   ]
  },
  {
   "cell_type": "code",
   "execution_count": 25,
   "metadata": {},
   "outputs": [],
   "source": [
    "#Recommends movies based on the intersection of all three clustering methods\n",
    "def combined_approach(k_rec,d_rec,a_rec):\n",
    "    combo_list = [value for value in k_rec if value in d_rec]\n",
    "    combo_list = [value for value in combo_list if value in a_rec]\n",
    "    return combo_list"
   ]
  },
  {
   "cell_type": "code",
   "execution_count": 26,
   "metadata": {},
   "outputs": [],
   "source": [
    "def compare_techniques(movie):\n",
    "    print(\"Comparing techniques on movie\", movie, \"with genres\", combined[combined.Title == movie].Genre.values)\n",
    "    k_list = all_movie_recommendations(movie,kmeans,comb_dic,movies)\n",
    "    d_list = all_movie_recommendations(movie,dbscan,dbscan_dic,movies)\n",
    "    a_list = all_movie_recommendations(movie,ac,ac_dic,movies)\n",
    "    kmeans_rec = random.choice(k_list)\n",
    "    dbscan_rec = random.choice(d_list)\n",
    "    ac_rec = random.choice(a_list)\n",
    "    combo_rec = random.choice(combined_approach(k_list,d_list,a_list))\n",
    "    print(\"Kmeans recommends\", kmeans_rec, \"with genres\", combined[combined.Title == kmeans_rec].Genre.values)\n",
    "    print(\"DBSCAN recommends\", dbscan_rec, \"with genres\", combined[combined.Title == dbscan_rec].Genre.values)\n",
    "    print(\"AC recommends\", ac_rec, \"with genres\", combined[combined.Title == ac_rec].Genre.values)\n",
    "    print(\"Combo recommends\", combo_rec, \"with genres\", combined[combined.Title == combo_rec].Genre.values)"
   ]
  },
  {
   "cell_type": "code",
   "execution_count": 27,
   "metadata": {},
   "outputs": [
    {
     "name": "stdout",
     "output_type": "stream",
     "text": [
      "312 345 563\n",
      "75\n"
     ]
    }
   ],
   "source": [
    "movie = \"Totally Awesome\"\n",
    "kmeans_rec = all_movie_recommendations(movie,kmeans,comb_dic,movies)\n",
    "dbscan_rec = all_movie_recommendations(movie,dbscan,dbscan_dic,movies)\n",
    "ac_rec = all_movie_recommendations(movie,ac,ac_dic,movies)\n",
    "print(len(kmeans_rec), len(dbscan_rec), len(ac_rec))\n",
    "c = combined_approach(kmeans_rec,dbscan_rec,ac_rec)\n",
    "print(len(c))"
   ]
  },
  {
   "cell_type": "code",
   "execution_count": 28,
   "metadata": {},
   "outputs": [
    {
     "name": "stdout",
     "output_type": "stream",
     "text": [
      "Comparing techniques on movie Totally Awesome with genres ['Comedy']\n",
      "Kmeans recommends Grand Slam with genres ['Comedy']\n",
      "DBSCAN recommends The Telephone Book with genres ['Comedy']\n",
      "AC recommends Church Ball with genres ['Comedy, Sport']\n",
      "Combo recommends Totally Awesome with genres ['Comedy']\n"
     ]
    }
   ],
   "source": [
    "compare_techniques(\"Totally Awesome\")"
   ]
  },
  {
   "cell_type": "code",
   "execution_count": 29,
   "metadata": {},
   "outputs": [
    {
     "name": "stdout",
     "output_type": "stream",
     "text": [
      "Comparing techniques on movie Star Wars: Episode VI - Return of the Jedi with genres ['Action, Adventure, Fantasy, Sci-Fi']\n",
      "Kmeans recommends Chrono Crusade with genres ['Animation, Action, Adventure, Comedy, Drama, Fantasy, Horror, Thriller']\n",
      "DBSCAN recommends Anne Frank Remembered with genres ['Documentary, Biography, War']\n",
      "AC recommends The New Adventures of Batman with genres ['Animation, Action, Adventure, Crime, Sci-Fi']\n",
      "Combo recommends From Russia with Love with genres ['Action, Adventure, Thriller']\n"
     ]
    }
   ],
   "source": [
    "compare_techniques(\"Star Wars: Episode VI - Return of the Jedi\")"
   ]
  },
  {
   "cell_type": "code",
   "execution_count": 30,
   "metadata": {},
   "outputs": [
    {
     "name": "stdout",
     "output_type": "stream",
     "text": [
      "Comparing techniques on movie Good Will Hunting with genres ['Drama, Romance']\n",
      "Kmeans recommends Satyam Shivam Sundaram: Love Sublime with genres ['Drama, Romance']\n",
      "DBSCAN recommends Prague Duet with genres ['Drama, Romance']\n",
      "AC recommends Baghban with genres ['Drama, Romance']\n",
      "Combo recommends Children of a Lesser God with genres ['Drama, Romance']\n"
     ]
    }
   ],
   "source": [
    "compare_techniques(\"Good Will Hunting\")"
   ]
  },
  {
   "cell_type": "markdown",
   "metadata": {},
   "source": [
    "## Visualizations"
   ]
  },
  {
   "cell_type": "code",
   "execution_count": 32,
   "metadata": {},
   "outputs": [
    {
     "data": {
      "text/html": [
       "<div>\n",
       "<style scoped>\n",
       "    .dataframe tbody tr th:only-of-type {\n",
       "        vertical-align: middle;\n",
       "    }\n",
       "\n",
       "    .dataframe tbody tr th {\n",
       "        vertical-align: top;\n",
       "    }\n",
       "\n",
       "    .dataframe thead th {\n",
       "        text-align: right;\n",
       "    }\n",
       "</style>\n",
       "<table border=\"1\" class=\"dataframe\">\n",
       "  <thead>\n",
       "    <tr style=\"text-align: right;\">\n",
       "      <th></th>\n",
       "      <th>News</th>\n",
       "      <th>Music</th>\n",
       "      <th>Sci-Fi</th>\n",
       "      <th>Musical</th>\n",
       "      <th>Music</th>\n",
       "      <th>Film-Noir</th>\n",
       "      <th>Adult</th>\n",
       "      <th>Family</th>\n",
       "      <th>Drama</th>\n",
       "      <th>Documentary</th>\n",
       "      <th>...</th>\n",
       "      <th>Horror</th>\n",
       "      <th>Adventure</th>\n",
       "      <th>Sport</th>\n",
       "      <th>News</th>\n",
       "      <th>Reality-TV</th>\n",
       "      <th>Reality-TV</th>\n",
       "      <th>Western</th>\n",
       "      <th>Game-Show</th>\n",
       "      <th>History</th>\n",
       "      <th>History</th>\n",
       "    </tr>\n",
       "  </thead>\n",
       "  <tbody>\n",
       "    <tr>\n",
       "      <td>0</td>\n",
       "      <td>0</td>\n",
       "      <td>0</td>\n",
       "      <td>0</td>\n",
       "      <td>0</td>\n",
       "      <td>0</td>\n",
       "      <td>0</td>\n",
       "      <td>0</td>\n",
       "      <td>0</td>\n",
       "      <td>0</td>\n",
       "      <td>0</td>\n",
       "      <td>...</td>\n",
       "      <td>0</td>\n",
       "      <td>0</td>\n",
       "      <td>0</td>\n",
       "      <td>0</td>\n",
       "      <td>0</td>\n",
       "      <td>0</td>\n",
       "      <td>0</td>\n",
       "      <td>0</td>\n",
       "      <td>0</td>\n",
       "      <td>0</td>\n",
       "    </tr>\n",
       "    <tr>\n",
       "      <td>1</td>\n",
       "      <td>0</td>\n",
       "      <td>0</td>\n",
       "      <td>0</td>\n",
       "      <td>0</td>\n",
       "      <td>0</td>\n",
       "      <td>0</td>\n",
       "      <td>0</td>\n",
       "      <td>0</td>\n",
       "      <td>0</td>\n",
       "      <td>0</td>\n",
       "      <td>...</td>\n",
       "      <td>0</td>\n",
       "      <td>0</td>\n",
       "      <td>0</td>\n",
       "      <td>0</td>\n",
       "      <td>0</td>\n",
       "      <td>0</td>\n",
       "      <td>0</td>\n",
       "      <td>0</td>\n",
       "      <td>0</td>\n",
       "      <td>0</td>\n",
       "    </tr>\n",
       "    <tr>\n",
       "      <td>2</td>\n",
       "      <td>0</td>\n",
       "      <td>1</td>\n",
       "      <td>0</td>\n",
       "      <td>1</td>\n",
       "      <td>1</td>\n",
       "      <td>0</td>\n",
       "      <td>0</td>\n",
       "      <td>1</td>\n",
       "      <td>0</td>\n",
       "      <td>0</td>\n",
       "      <td>...</td>\n",
       "      <td>0</td>\n",
       "      <td>0</td>\n",
       "      <td>0</td>\n",
       "      <td>0</td>\n",
       "      <td>0</td>\n",
       "      <td>0</td>\n",
       "      <td>0</td>\n",
       "      <td>0</td>\n",
       "      <td>0</td>\n",
       "      <td>0</td>\n",
       "    </tr>\n",
       "    <tr>\n",
       "      <td>4</td>\n",
       "      <td>0</td>\n",
       "      <td>0</td>\n",
       "      <td>0</td>\n",
       "      <td>0</td>\n",
       "      <td>0</td>\n",
       "      <td>0</td>\n",
       "      <td>0</td>\n",
       "      <td>0</td>\n",
       "      <td>0</td>\n",
       "      <td>0</td>\n",
       "      <td>...</td>\n",
       "      <td>0</td>\n",
       "      <td>0</td>\n",
       "      <td>0</td>\n",
       "      <td>0</td>\n",
       "      <td>0</td>\n",
       "      <td>0</td>\n",
       "      <td>0</td>\n",
       "      <td>0</td>\n",
       "      <td>0</td>\n",
       "      <td>0</td>\n",
       "    </tr>\n",
       "    <tr>\n",
       "      <td>5</td>\n",
       "      <td>0</td>\n",
       "      <td>0</td>\n",
       "      <td>0</td>\n",
       "      <td>0</td>\n",
       "      <td>0</td>\n",
       "      <td>0</td>\n",
       "      <td>0</td>\n",
       "      <td>0</td>\n",
       "      <td>1</td>\n",
       "      <td>0</td>\n",
       "      <td>...</td>\n",
       "      <td>0</td>\n",
       "      <td>0</td>\n",
       "      <td>0</td>\n",
       "      <td>0</td>\n",
       "      <td>0</td>\n",
       "      <td>0</td>\n",
       "      <td>0</td>\n",
       "      <td>0</td>\n",
       "      <td>0</td>\n",
       "      <td>0</td>\n",
       "    </tr>\n",
       "    <tr>\n",
       "      <td>...</td>\n",
       "      <td>...</td>\n",
       "      <td>...</td>\n",
       "      <td>...</td>\n",
       "      <td>...</td>\n",
       "      <td>...</td>\n",
       "      <td>...</td>\n",
       "      <td>...</td>\n",
       "      <td>...</td>\n",
       "      <td>...</td>\n",
       "      <td>...</td>\n",
       "      <td>...</td>\n",
       "      <td>...</td>\n",
       "      <td>...</td>\n",
       "      <td>...</td>\n",
       "      <td>...</td>\n",
       "      <td>...</td>\n",
       "      <td>...</td>\n",
       "      <td>...</td>\n",
       "      <td>...</td>\n",
       "      <td>...</td>\n",
       "      <td>...</td>\n",
       "    </tr>\n",
       "    <tr>\n",
       "      <td>7029</td>\n",
       "      <td>0</td>\n",
       "      <td>0</td>\n",
       "      <td>0</td>\n",
       "      <td>0</td>\n",
       "      <td>0</td>\n",
       "      <td>0</td>\n",
       "      <td>0</td>\n",
       "      <td>0</td>\n",
       "      <td>0</td>\n",
       "      <td>0</td>\n",
       "      <td>...</td>\n",
       "      <td>0</td>\n",
       "      <td>0</td>\n",
       "      <td>0</td>\n",
       "      <td>0</td>\n",
       "      <td>0</td>\n",
       "      <td>0</td>\n",
       "      <td>0</td>\n",
       "      <td>0</td>\n",
       "      <td>0</td>\n",
       "      <td>0</td>\n",
       "    </tr>\n",
       "    <tr>\n",
       "      <td>7030</td>\n",
       "      <td>0</td>\n",
       "      <td>0</td>\n",
       "      <td>1</td>\n",
       "      <td>0</td>\n",
       "      <td>0</td>\n",
       "      <td>0</td>\n",
       "      <td>0</td>\n",
       "      <td>0</td>\n",
       "      <td>1</td>\n",
       "      <td>0</td>\n",
       "      <td>...</td>\n",
       "      <td>0</td>\n",
       "      <td>1</td>\n",
       "      <td>0</td>\n",
       "      <td>0</td>\n",
       "      <td>0</td>\n",
       "      <td>0</td>\n",
       "      <td>0</td>\n",
       "      <td>0</td>\n",
       "      <td>0</td>\n",
       "      <td>0</td>\n",
       "    </tr>\n",
       "    <tr>\n",
       "      <td>7031</td>\n",
       "      <td>0</td>\n",
       "      <td>0</td>\n",
       "      <td>0</td>\n",
       "      <td>0</td>\n",
       "      <td>0</td>\n",
       "      <td>0</td>\n",
       "      <td>0</td>\n",
       "      <td>0</td>\n",
       "      <td>1</td>\n",
       "      <td>0</td>\n",
       "      <td>...</td>\n",
       "      <td>0</td>\n",
       "      <td>0</td>\n",
       "      <td>0</td>\n",
       "      <td>0</td>\n",
       "      <td>0</td>\n",
       "      <td>0</td>\n",
       "      <td>0</td>\n",
       "      <td>0</td>\n",
       "      <td>0</td>\n",
       "      <td>0</td>\n",
       "    </tr>\n",
       "    <tr>\n",
       "      <td>7032</td>\n",
       "      <td>0</td>\n",
       "      <td>0</td>\n",
       "      <td>1</td>\n",
       "      <td>0</td>\n",
       "      <td>0</td>\n",
       "      <td>0</td>\n",
       "      <td>0</td>\n",
       "      <td>0</td>\n",
       "      <td>0</td>\n",
       "      <td>0</td>\n",
       "      <td>...</td>\n",
       "      <td>0</td>\n",
       "      <td>0</td>\n",
       "      <td>0</td>\n",
       "      <td>0</td>\n",
       "      <td>0</td>\n",
       "      <td>0</td>\n",
       "      <td>0</td>\n",
       "      <td>0</td>\n",
       "      <td>0</td>\n",
       "      <td>0</td>\n",
       "    </tr>\n",
       "    <tr>\n",
       "      <td>7033</td>\n",
       "      <td>0</td>\n",
       "      <td>0</td>\n",
       "      <td>0</td>\n",
       "      <td>0</td>\n",
       "      <td>0</td>\n",
       "      <td>0</td>\n",
       "      <td>0</td>\n",
       "      <td>0</td>\n",
       "      <td>0</td>\n",
       "      <td>0</td>\n",
       "      <td>...</td>\n",
       "      <td>0</td>\n",
       "      <td>0</td>\n",
       "      <td>0</td>\n",
       "      <td>0</td>\n",
       "      <td>0</td>\n",
       "      <td>0</td>\n",
       "      <td>0</td>\n",
       "      <td>0</td>\n",
       "      <td>0</td>\n",
       "      <td>0</td>\n",
       "    </tr>\n",
       "  </tbody>\n",
       "</table>\n",
       "<p>6580 rows × 56 columns</p>\n",
       "</div>"
      ],
      "text/plain": [
       "       News   Music   Sci-Fi  Musical  Music   Film-Noir  Adult   Family  \\\n",
       "0         0       0        0        0      0           0      0        0   \n",
       "1         0       0        0        0      0           0      0        0   \n",
       "2         0       1        0        1      1           0      0        1   \n",
       "4         0       0        0        0      0           0      0        0   \n",
       "5         0       0        0        0      0           0      0        0   \n",
       "...     ...     ...      ...      ...    ...         ...    ...      ...   \n",
       "7029      0       0        0        0      0           0      0        0   \n",
       "7030      0       0        1        0      0           0      0        0   \n",
       "7031      0       0        0        0      0           0      0        0   \n",
       "7032      0       0        1        0      0           0      0        0   \n",
       "7033      0       0        0        0      0           0      0        0   \n",
       "\n",
       "       Drama  Documentary  ...  Horror  Adventure  Sport  News  Reality-TV  \\\n",
       "0          0            0  ...       0          0      0     0           0   \n",
       "1          0            0  ...       0          0      0     0           0   \n",
       "2          0            0  ...       0          0      0     0           0   \n",
       "4          0            0  ...       0          0      0     0           0   \n",
       "5          1            0  ...       0          0      0     0           0   \n",
       "...      ...          ...  ...     ...        ...    ...   ...         ...   \n",
       "7029       0            0  ...       0          0      0     0           0   \n",
       "7030       1            0  ...       0          1      0     0           0   \n",
       "7031       1            0  ...       0          0      0     0           0   \n",
       "7032       0            0  ...       0          0      0     0           0   \n",
       "7033       0            0  ...       0          0      0     0           0   \n",
       "\n",
       "       Reality-TV   Western   Game-Show  History   History  \n",
       "0               0         0           0        0         0  \n",
       "1               0         0           0        0         0  \n",
       "2               0         0           0        0         0  \n",
       "4               0         0           0        0         0  \n",
       "5               0         0           0        0         0  \n",
       "...           ...       ...         ...      ...       ...  \n",
       "7029            0         0           0        0         0  \n",
       "7030            0         0           0        0         0  \n",
       "7031            0         0           0        0         0  \n",
       "7032            0         0           0        0         0  \n",
       "7033            0         0           0        0         0  \n",
       "\n",
       "[6580 rows x 56 columns]"
      ]
     },
     "execution_count": 32,
     "metadata": {},
     "output_type": "execute_result"
    }
   ],
   "source": [
    "df_pie_visualization = movies.drop(columns=[\"Title\",\"imdbID\",\"Ratings\",\"imdbRating\",\"imdbVotes\"])\n",
    "df_pie_visualization"
   ]
  },
  {
   "cell_type": "code",
   "execution_count": 37,
   "metadata": {},
   "outputs": [],
   "source": [
    "dict_genres = dict()\n",
    "total = 0\n",
    "for column in df_pie_visualization.columns:\n",
    "    count = df_pie_visualization[column].sum()\n",
    "    total += count\n",
    "    dict_genres[column] = count"
   ]
  },
  {
   "cell_type": "code",
   "execution_count": 62,
   "metadata": {},
   "outputs": [
    {
     "name": "stdout",
     "output_type": "stream",
     "text": [
      "0.7225562750539624\n",
      "[0.022664199814986123, 0.06355997533148319, 0.08001850138760407, 0.12068300955905026, 0.020312981806968857, 0.02135368485969781, 0.04459605303731113, 0.024707061362935552, 0.04925994449583719, 0.041666666666666664, 0.046137835337650326, 0.034728646315140305, 0.022355843354918286, 0.020004625346901016, 0.04555966697502312, 0.03746530989824237, 0.0274822695035461]\n",
      "0.8900273581119965\n",
      "[0.03136669156086632, 0.08691858233664171, 0.10603850927010522, 0.15459547850266925, 0.02493767789808096, 0.026067319773472458, 0.05412876896565749, 0.029645358587888953, 0.05875756454036025, 0.04914351803002586, 0.053941329753543966, 0.040235373819929914, 0.025736488405343667, 0.02294043869868988, 0.052070550575490746, 0.04250315678835984, 0.031000550604870173]\n"
     ]
    }
   ],
   "source": [
    "data = []\n",
    "labels = []\n",
    "for key in dict_genres.keys():\n",
    "    labels.append(key)\n",
    "    data.append(dict_genres[key]/total)\n",
    "label_count = len(labels)\n",
    "other = 0\n",
    "i = 0\n",
    "while i < len(data):\n",
    "    if data[i] < .02:\n",
    "        other += data[i]\n",
    "        del data[i]\n",
    "        del labels[i]\n",
    "    else:\n",
    "        i += 1\n",
    "print(sum(data))\n",
    "print(data)\n",
    "for i in range(len(data)):\n",
    "    data[i] = data[i]/sum(data)\n",
    "print(sum(data))\n",
    "print(data)"
   ]
  },
  {
   "cell_type": "code",
   "execution_count": 59,
   "metadata": {},
   "outputs": [
    {
     "data": {
      "image/png": "[encoded data removed]",
      "text/plain": [
       "<Figure size 792x576 with 1 Axes>"
      ]
     },
     "metadata": {},
     "output_type": "display_data"
    }
   ],
   "source": [
    "fig_pie,ax_pie = plt.subplots(figsize=(11,8))\n",
    "plt.pie(data,radius=4.0,labels=labels)\n",
    "plt.axis('equal')\n",
    "plt.tight_layout()\n",
    "plt.show()"
   ]
  }
 ],
 "metadata": {
  "kernelspec": {
   "display_name": "Python 3",
   "language": "python",
   "name": "python3"
  },
  "language_info": {
   "codemirror_mode": {
    "name": "ipython",
    "version": 3
   },
   "file_extension": ".py",
   "mimetype": "text/x-python",
   "name": "python",
   "nbconvert_exporter": "python",
   "pygments_lexer": "ipython3",
   "version": "3.7.0"
  }
 },
 "nbformat": 4,
 "nbformat_minor": 2
}
